{
 "cells": [
  {
   "cell_type": "code",
   "execution_count": 1,
   "metadata": {
    "scrolled": true
   },
   "outputs": [],
   "source": [
    "import pandas as pd\n",
    "import numpy as np\n",
    "import glob\n",
    "\n",
    "from matplotlib import pyplot as plt\n",
    "import seaborn as sns\n",
    "\n",
    "import re\n",
    "import string\n",
    "\n",
    "from tqdm import tqdm\n",
    "\n",
    "\n",
    "import torch\n",
    "import tensorflow as tf\n",
    "import transformers\n",
    "\n",
    "import networkx as nx\n",
    "from node2vec import Node2Vec\n",
    "\n",
    "from sklearn.model_selection import train_test_split\n",
    "from sklearn.linear_model import LogisticRegression\n",
    "from sklearn import metrics\n",
    "from sklearn.metrics import classification_report\n",
    "\n",
    "import gensim"
   ]
  },
  {
   "cell_type": "markdown",
   "metadata": {},
   "source": [
    "## Merging all csv files"
   ]
  },
  {
   "cell_type": "code",
   "execution_count": 2,
   "metadata": {},
   "outputs": [
    {
     "name": "stderr",
     "output_type": "stream",
     "text": [
      "/usr/local/lib/python3.6/dist-packages/IPython/core/interactiveshell.py:3072: DtypeWarning: Columns (20) have mixed types.Specify dtype option on import or set low_memory=False.\n",
      "  interactivity=interactivity, compiler=compiler, result=result)\n",
      "/usr/local/lib/python3.6/dist-packages/IPython/core/interactiveshell.py:3072: DtypeWarning: Columns (0,15,20) have mixed types.Specify dtype option on import or set low_memory=False.\n",
      "  interactivity=interactivity, compiler=compiler, result=result)\n",
      "/usr/local/lib/python3.6/dist-packages/IPython/core/interactiveshell.py:3072: DtypeWarning: Columns (10,20) have mixed types.Specify dtype option on import or set low_memory=False.\n",
      "  interactivity=interactivity, compiler=compiler, result=result)\n"
     ]
    }
   ],
   "source": [
    "filenames = glob.glob(\"russian-troll-tweets/*.csv\")\n",
    "\n",
    "li = []\n",
    "for filename in filenames:\n",
    "    df = pd.read_csv(filename, index_col=None, header=0)\n",
    "    li.append(df)\n",
    "    \n",
    "dfs = pd.concat(li, axis=0, ignore_index=True)"
   ]
  },
  {
   "cell_type": "code",
   "execution_count": 3,
   "metadata": {},
   "outputs": [
    {
     "data": {
      "text/html": [
       "<div>\n",
       "<style scoped>\n",
       "    .dataframe tbody tr th:only-of-type {\n",
       "        vertical-align: middle;\n",
       "    }\n",
       "\n",
       "    .dataframe tbody tr th {\n",
       "        vertical-align: top;\n",
       "    }\n",
       "\n",
       "    .dataframe thead th {\n",
       "        text-align: right;\n",
       "    }\n",
       "</style>\n",
       "<table border=\"1\" class=\"dataframe\">\n",
       "  <thead>\n",
       "    <tr style=\"text-align: right;\">\n",
       "      <th></th>\n",
       "      <th>external_author_id</th>\n",
       "      <th>author</th>\n",
       "      <th>content</th>\n",
       "      <th>region</th>\n",
       "      <th>language</th>\n",
       "      <th>publish_date</th>\n",
       "      <th>harvested_date</th>\n",
       "      <th>following</th>\n",
       "      <th>followers</th>\n",
       "      <th>updates</th>\n",
       "      <th>...</th>\n",
       "      <th>account_type</th>\n",
       "      <th>retweet</th>\n",
       "      <th>account_category</th>\n",
       "      <th>new_june_2018</th>\n",
       "      <th>alt_external_id</th>\n",
       "      <th>tweet_id</th>\n",
       "      <th>article_url</th>\n",
       "      <th>tco1_step1</th>\n",
       "      <th>tco2_step1</th>\n",
       "      <th>tco3_step1</th>\n",
       "    </tr>\n",
       "  </thead>\n",
       "  <tbody>\n",
       "    <tr>\n",
       "      <th>0</th>\n",
       "      <td>2535818742</td>\n",
       "      <td>HAPPKENDRAHAPPY</td>\n",
       "      <td>Bosh situation hasn't changed since Feb. Heat ...</td>\n",
       "      <td>United States</td>\n",
       "      <td>English</td>\n",
       "      <td>9/23/2016 17:08</td>\n",
       "      <td>9/23/2016 17:08</td>\n",
       "      <td>1311</td>\n",
       "      <td>1688</td>\n",
       "      <td>2285</td>\n",
       "      <td>...</td>\n",
       "      <td>Right</td>\n",
       "      <td>1</td>\n",
       "      <td>RightTroll</td>\n",
       "      <td>0</td>\n",
       "      <td>2535818742</td>\n",
       "      <td>779366817752084481</td>\n",
       "      <td>http://twitter.com/happkendrahappy/statuses/77...</td>\n",
       "      <td>NaN</td>\n",
       "      <td>NaN</td>\n",
       "      <td>NaN</td>\n",
       "    </tr>\n",
       "    <tr>\n",
       "      <th>1</th>\n",
       "      <td>2535818742</td>\n",
       "      <td>HAPPKENDRAHAPPY</td>\n",
       "      <td>Youre an IDIOT! Now you say 99% when before yo...</td>\n",
       "      <td>United States</td>\n",
       "      <td>English</td>\n",
       "      <td>9/23/2016 17:08</td>\n",
       "      <td>9/23/2016 17:08</td>\n",
       "      <td>1311</td>\n",
       "      <td>1688</td>\n",
       "      <td>2284</td>\n",
       "      <td>...</td>\n",
       "      <td>Right</td>\n",
       "      <td>1</td>\n",
       "      <td>RightTroll</td>\n",
       "      <td>0</td>\n",
       "      <td>2535818742</td>\n",
       "      <td>779366807446642688</td>\n",
       "      <td>http://twitter.com/happkendrahappy/statuses/77...</td>\n",
       "      <td>https://twitter.com/erecordscity/status/779354...</td>\n",
       "      <td>NaN</td>\n",
       "      <td>NaN</td>\n",
       "    </tr>\n",
       "    <tr>\n",
       "      <th>2</th>\n",
       "      <td>2535818742</td>\n",
       "      <td>HAPPKENDRAHAPPY</td>\n",
       "      <td>Charlotte-Mecklenburg Fraternal Order of Polic...</td>\n",
       "      <td>United States</td>\n",
       "      <td>English</td>\n",
       "      <td>9/23/2016 17:08</td>\n",
       "      <td>9/23/2016 17:08</td>\n",
       "      <td>1311</td>\n",
       "      <td>1688</td>\n",
       "      <td>2286</td>\n",
       "      <td>...</td>\n",
       "      <td>Right</td>\n",
       "      <td>1</td>\n",
       "      <td>RightTroll</td>\n",
       "      <td>0</td>\n",
       "      <td>2535818742</td>\n",
       "      <td>779366828585910272</td>\n",
       "      <td>http://twitter.com/happkendrahappy/statuses/77...</td>\n",
       "      <td>http://www.breitbart.com</td>\n",
       "      <td>NaN</td>\n",
       "      <td>NaN</td>\n",
       "    </tr>\n",
       "    <tr>\n",
       "      <th>3</th>\n",
       "      <td>2535818742</td>\n",
       "      <td>HAPPKENDRAHAPPY</td>\n",
       "      <td>Theodore Roosevelt's son Quentin and his frien...</td>\n",
       "      <td>United States</td>\n",
       "      <td>English</td>\n",
       "      <td>9/23/2016 17:09</td>\n",
       "      <td>9/23/2016 17:09</td>\n",
       "      <td>1311</td>\n",
       "      <td>1688</td>\n",
       "      <td>2290</td>\n",
       "      <td>...</td>\n",
       "      <td>Right</td>\n",
       "      <td>1</td>\n",
       "      <td>RightTroll</td>\n",
       "      <td>0</td>\n",
       "      <td>2535818742</td>\n",
       "      <td>779367073998835712</td>\n",
       "      <td>http://twitter.com/happkendrahappy/statuses/77...</td>\n",
       "      <td>https://twitter.com/HistoryInPics/status/73882...</td>\n",
       "      <td>NaN</td>\n",
       "      <td>NaN</td>\n",
       "    </tr>\n",
       "    <tr>\n",
       "      <th>4</th>\n",
       "      <td>2535818742</td>\n",
       "      <td>HAPPKENDRAHAPPY</td>\n",
       "      <td>.@flashfire451: Are there more cures than term...</td>\n",
       "      <td>United States</td>\n",
       "      <td>English</td>\n",
       "      <td>9/23/2016 17:09</td>\n",
       "      <td>9/23/2016 17:09</td>\n",
       "      <td>1311</td>\n",
       "      <td>1688</td>\n",
       "      <td>2289</td>\n",
       "      <td>...</td>\n",
       "      <td>Right</td>\n",
       "      <td>1</td>\n",
       "      <td>RightTroll</td>\n",
       "      <td>0</td>\n",
       "      <td>2535818742</td>\n",
       "      <td>779367063479521281</td>\n",
       "      <td>http://twitter.com/happkendrahappy/statuses/77...</td>\n",
       "      <td>NaN</td>\n",
       "      <td>NaN</td>\n",
       "      <td>NaN</td>\n",
       "    </tr>\n",
       "  </tbody>\n",
       "</table>\n",
       "<p>5 rows × 21 columns</p>\n",
       "</div>"
      ],
      "text/plain": [
       "  external_author_id           author  \\\n",
       "0         2535818742  HAPPKENDRAHAPPY   \n",
       "1         2535818742  HAPPKENDRAHAPPY   \n",
       "2         2535818742  HAPPKENDRAHAPPY   \n",
       "3         2535818742  HAPPKENDRAHAPPY   \n",
       "4         2535818742  HAPPKENDRAHAPPY   \n",
       "\n",
       "                                             content         region language  \\\n",
       "0  Bosh situation hasn't changed since Feb. Heat ...  United States  English   \n",
       "1  Youre an IDIOT! Now you say 99% when before yo...  United States  English   \n",
       "2  Charlotte-Mecklenburg Fraternal Order of Polic...  United States  English   \n",
       "3  Theodore Roosevelt's son Quentin and his frien...  United States  English   \n",
       "4  .@flashfire451: Are there more cures than term...  United States  English   \n",
       "\n",
       "      publish_date   harvested_date  following  followers  updates  ...  \\\n",
       "0  9/23/2016 17:08  9/23/2016 17:08       1311       1688     2285  ...   \n",
       "1  9/23/2016 17:08  9/23/2016 17:08       1311       1688     2284  ...   \n",
       "2  9/23/2016 17:08  9/23/2016 17:08       1311       1688     2286  ...   \n",
       "3  9/23/2016 17:09  9/23/2016 17:09       1311       1688     2290  ...   \n",
       "4  9/23/2016 17:09  9/23/2016 17:09       1311       1688     2289  ...   \n",
       "\n",
       "  account_type retweet  account_category new_june_2018  alt_external_id  \\\n",
       "0        Right       1        RightTroll             0       2535818742   \n",
       "1        Right       1        RightTroll             0       2535818742   \n",
       "2        Right       1        RightTroll             0       2535818742   \n",
       "3        Right       1        RightTroll             0       2535818742   \n",
       "4        Right       1        RightTroll             0       2535818742   \n",
       "\n",
       "             tweet_id                                        article_url  \\\n",
       "0  779366817752084481  http://twitter.com/happkendrahappy/statuses/77...   \n",
       "1  779366807446642688  http://twitter.com/happkendrahappy/statuses/77...   \n",
       "2  779366828585910272  http://twitter.com/happkendrahappy/statuses/77...   \n",
       "3  779367073998835712  http://twitter.com/happkendrahappy/statuses/77...   \n",
       "4  779367063479521281  http://twitter.com/happkendrahappy/statuses/77...   \n",
       "\n",
       "                                          tco1_step1 tco2_step1 tco3_step1  \n",
       "0                                                NaN        NaN        NaN  \n",
       "1  https://twitter.com/erecordscity/status/779354...        NaN        NaN  \n",
       "2                           http://www.breitbart.com        NaN        NaN  \n",
       "3  https://twitter.com/HistoryInPics/status/73882...        NaN        NaN  \n",
       "4                                                NaN        NaN        NaN  \n",
       "\n",
       "[5 rows x 21 columns]"
      ]
     },
     "execution_count": 3,
     "metadata": {},
     "output_type": "execute_result"
    }
   ],
   "source": [
    "dfs.head()"
   ]
  },
  {
   "cell_type": "code",
   "execution_count": 4,
   "metadata": {},
   "outputs": [
    {
     "name": "stdout",
     "output_type": "stream",
     "text": [
      "<class 'pandas.core.frame.DataFrame'>\n",
      "RangeIndex: 2946207 entries, 0 to 2946206\n",
      "Data columns (total 21 columns):\n",
      " #   Column              Dtype \n",
      "---  ------              ----- \n",
      " 0   external_author_id  object\n",
      " 1   author              object\n",
      " 2   content             object\n",
      " 3   region              object\n",
      " 4   language            object\n",
      " 5   publish_date        object\n",
      " 6   harvested_date      object\n",
      " 7   following           int64 \n",
      " 8   followers           int64 \n",
      " 9   updates             int64 \n",
      " 10  post_type           object\n",
      " 11  account_type        object\n",
      " 12  retweet             int64 \n",
      " 13  account_category    object\n",
      " 14  new_june_2018       int64 \n",
      " 15  alt_external_id     object\n",
      " 16  tweet_id            int64 \n",
      " 17  article_url         object\n",
      " 18  tco1_step1          object\n",
      " 19  tco2_step1          object\n",
      " 20  tco3_step1          object\n",
      "dtypes: int64(6), object(15)\n",
      "memory usage: 472.0+ MB\n"
     ]
    }
   ],
   "source": [
    "dfs.info()"
   ]
  },
  {
   "cell_type": "code",
   "execution_count": 5,
   "metadata": {},
   "outputs": [
    {
     "data": {
      "text/plain": [
       "Right         711668\n",
       "Russian       704917\n",
       "local         459220\n",
       "Left          427141\n",
       "Hashtager     241786\n",
       "news          139006\n",
       "Commercial    121904\n",
       "German         91511\n",
       "Italian        15680\n",
       "?              13539\n",
       "Koch           10894\n",
       "Arabic          6228\n",
       "Spanish         1226\n",
       "French          1117\n",
       "ZAPOROSHIA       175\n",
       "Portuguese       118\n",
       "Ebola             71\n",
       "Ukranian           4\n",
       "Uzbek              2\n",
       "Name: account_type, dtype: int64"
      ]
     },
     "execution_count": 5,
     "metadata": {},
     "output_type": "execute_result"
    }
   ],
   "source": [
    "dfs['account_type'].value_counts()"
   ]
  },
  {
   "cell_type": "code",
   "execution_count": 6,
   "metadata": {},
   "outputs": [],
   "source": [
    "dfs = dfs[['author', 'content', 'account_category']].loc[dfs['account_category'].isin(['RightTroll', 'LeftTroll', 'NewsFeed'])]"
   ]
  },
  {
   "cell_type": "markdown",
   "metadata": {},
   "source": [
    "### Drop NaN"
   ]
  },
  {
   "cell_type": "code",
   "execution_count": 7,
   "metadata": {},
   "outputs": [
    {
     "name": "stdout",
     "output_type": "stream",
     "text": [
      "(1737035, 3)\n"
     ]
    }
   ],
   "source": [
    "dfs.dropna(how='any', subset=['author', 'content'], inplace=True)\n",
    "print(dfs.shape)"
   ]
  },
  {
   "cell_type": "code",
   "execution_count": 8,
   "metadata": {},
   "outputs": [
    {
     "data": {
      "text/plain": [
       "RightTroll    711668\n",
       "NewsFeed      598226\n",
       "LeftTroll     427141\n",
       "Name: account_category, dtype: int64"
      ]
     },
     "execution_count": 8,
     "metadata": {},
     "output_type": "execute_result"
    }
   ],
   "source": [
    "dfs['account_category'].value_counts()"
   ]
  },
  {
   "cell_type": "code",
   "execution_count": 9,
   "metadata": {},
   "outputs": [
    {
     "data": {
      "text/html": [
       "<div>\n",
       "<style scoped>\n",
       "    .dataframe tbody tr th:only-of-type {\n",
       "        vertical-align: middle;\n",
       "    }\n",
       "\n",
       "    .dataframe tbody tr th {\n",
       "        vertical-align: top;\n",
       "    }\n",
       "\n",
       "    .dataframe thead th {\n",
       "        text-align: right;\n",
       "    }\n",
       "</style>\n",
       "<table border=\"1\" class=\"dataframe\">\n",
       "  <thead>\n",
       "    <tr style=\"text-align: right;\">\n",
       "      <th></th>\n",
       "      <th>author</th>\n",
       "      <th>content</th>\n",
       "      <th>account_category</th>\n",
       "    </tr>\n",
       "  </thead>\n",
       "  <tbody>\n",
       "    <tr>\n",
       "      <th>0</th>\n",
       "      <td>HAPPKENDRAHAPPY</td>\n",
       "      <td>Bosh situation hasn't changed since Feb. Heat ...</td>\n",
       "      <td>RightTroll</td>\n",
       "    </tr>\n",
       "    <tr>\n",
       "      <th>1</th>\n",
       "      <td>HAPPKENDRAHAPPY</td>\n",
       "      <td>Youre an IDIOT! Now you say 99% when before yo...</td>\n",
       "      <td>RightTroll</td>\n",
       "    </tr>\n",
       "    <tr>\n",
       "      <th>2</th>\n",
       "      <td>HAPPKENDRAHAPPY</td>\n",
       "      <td>Charlotte-Mecklenburg Fraternal Order of Polic...</td>\n",
       "      <td>RightTroll</td>\n",
       "    </tr>\n",
       "    <tr>\n",
       "      <th>3</th>\n",
       "      <td>HAPPKENDRAHAPPY</td>\n",
       "      <td>Theodore Roosevelt's son Quentin and his frien...</td>\n",
       "      <td>RightTroll</td>\n",
       "    </tr>\n",
       "    <tr>\n",
       "      <th>4</th>\n",
       "      <td>HAPPKENDRAHAPPY</td>\n",
       "      <td>.@flashfire451: Are there more cures than term...</td>\n",
       "      <td>RightTroll</td>\n",
       "    </tr>\n",
       "    <tr>\n",
       "      <th>...</th>\n",
       "      <td>...</td>\n",
       "      <td>...</td>\n",
       "      <td>...</td>\n",
       "    </tr>\n",
       "    <tr>\n",
       "      <th>1737030</th>\n",
       "      <td>_SOLOMONALBERT_</td>\n",
       "      <td>These police are train killers. I don’t shed a...</td>\n",
       "      <td>LeftTroll</td>\n",
       "    </tr>\n",
       "    <tr>\n",
       "      <th>1737031</th>\n",
       "      <td>_SOLOMONALBERT_</td>\n",
       "      <td>#BUT - @FloydMayweather Retires From #Boxing  ...</td>\n",
       "      <td>LeftTroll</td>\n",
       "    </tr>\n",
       "    <tr>\n",
       "      <th>1737032</th>\n",
       "      <td>_SOLOMONALBERT_</td>\n",
       "      <td>No guns allowed to all people. Especially #bla...</td>\n",
       "      <td>LeftTroll</td>\n",
       "    </tr>\n",
       "    <tr>\n",
       "      <th>1737033</th>\n",
       "      <td>_SOLOMONALBERT_</td>\n",
       "      <td>Support the #petition that banns providing #bl...</td>\n",
       "      <td>LeftTroll</td>\n",
       "    </tr>\n",
       "    <tr>\n",
       "      <th>1737034</th>\n",
       "      <td>_SOLOMONALBERT_</td>\n",
       "      <td>Criminals kill people with legally bought guns...</td>\n",
       "      <td>LeftTroll</td>\n",
       "    </tr>\n",
       "  </tbody>\n",
       "</table>\n",
       "<p>1737035 rows × 3 columns</p>\n",
       "</div>"
      ],
      "text/plain": [
       "                  author                                            content  \\\n",
       "0        HAPPKENDRAHAPPY  Bosh situation hasn't changed since Feb. Heat ...   \n",
       "1        HAPPKENDRAHAPPY  Youre an IDIOT! Now you say 99% when before yo...   \n",
       "2        HAPPKENDRAHAPPY  Charlotte-Mecklenburg Fraternal Order of Polic...   \n",
       "3        HAPPKENDRAHAPPY  Theodore Roosevelt's son Quentin and his frien...   \n",
       "4        HAPPKENDRAHAPPY  .@flashfire451: Are there more cures than term...   \n",
       "...                  ...                                                ...   \n",
       "1737030  _SOLOMONALBERT_  These police are train killers. I don’t shed a...   \n",
       "1737031  _SOLOMONALBERT_  #BUT - @FloydMayweather Retires From #Boxing  ...   \n",
       "1737032  _SOLOMONALBERT_  No guns allowed to all people. Especially #bla...   \n",
       "1737033  _SOLOMONALBERT_  Support the #petition that banns providing #bl...   \n",
       "1737034  _SOLOMONALBERT_  Criminals kill people with legally bought guns...   \n",
       "\n",
       "        account_category  \n",
       "0             RightTroll  \n",
       "1             RightTroll  \n",
       "2             RightTroll  \n",
       "3             RightTroll  \n",
       "4             RightTroll  \n",
       "...                  ...  \n",
       "1737030        LeftTroll  \n",
       "1737031        LeftTroll  \n",
       "1737032        LeftTroll  \n",
       "1737033        LeftTroll  \n",
       "1737034        LeftTroll  \n",
       "\n",
       "[1737035 rows x 3 columns]"
      ]
     },
     "execution_count": 9,
     "metadata": {},
     "output_type": "execute_result"
    }
   ],
   "source": [
    "dfs = dfs.reset_index(drop=True)\n",
    "dfs"
   ]
  },
  {
   "cell_type": "markdown",
   "metadata": {},
   "source": [
    "## Taking 200,000 row for each 'account_category'"
   ]
  },
  {
   "cell_type": "code",
   "execution_count": 174,
   "metadata": {},
   "outputs": [],
   "source": [
    "# RightTroll = dfs[dfs['account_category'] == 'RightTroll'][:200_000]\n",
    "# NewsFeed = dfs[dfs['account_category'] == 'NewsFeed'][:200_000]\n",
    "# LeftTroll = dfs[dfs['account_category'] == 'LeftTroll'][:200_000]\n",
    "# filterd_df = pd.concat([RightTroll, NewsFeed, LeftTroll])\n",
    "# filterd_df = filterd_df.reset_index(drop=True)\n",
    "\n",
    "# Using all\n",
    "filterd_df = dfs.copy()"
   ]
  },
  {
   "cell_type": "code",
   "execution_count": 175,
   "metadata": {},
   "outputs": [
    {
     "data": {
      "text/plain": [
       "RightTroll    630\n",
       "LeftTroll     233\n",
       "NewsFeed       54\n",
       "Name: account_category, dtype: int64"
      ]
     },
     "execution_count": 175,
     "metadata": {},
     "output_type": "execute_result"
    }
   ],
   "source": [
    "filterd_df.drop_duplicates(subset=['author'])['account_category'].value_counts()"
   ]
  },
  {
   "cell_type": "code",
   "execution_count": 176,
   "metadata": {},
   "outputs": [
    {
     "data": {
      "text/plain": [
       "RightTroll    711668\n",
       "NewsFeed      598226\n",
       "LeftTroll     427141\n",
       "Name: account_category, dtype: int64"
      ]
     },
     "execution_count": 176,
     "metadata": {},
     "output_type": "execute_result"
    }
   ],
   "source": [
    "filterd_df['account_category'].value_counts()"
   ]
  },
  {
   "cell_type": "code",
   "execution_count": 177,
   "metadata": {},
   "outputs": [
    {
     "data": {
      "text/html": [
       "<div>\n",
       "<style scoped>\n",
       "    .dataframe tbody tr th:only-of-type {\n",
       "        vertical-align: middle;\n",
       "    }\n",
       "\n",
       "    .dataframe tbody tr th {\n",
       "        vertical-align: top;\n",
       "    }\n",
       "\n",
       "    .dataframe thead th {\n",
       "        text-align: right;\n",
       "    }\n",
       "</style>\n",
       "<table border=\"1\" class=\"dataframe\">\n",
       "  <thead>\n",
       "    <tr style=\"text-align: right;\">\n",
       "      <th></th>\n",
       "      <th>author</th>\n",
       "      <th>content</th>\n",
       "      <th>account_category</th>\n",
       "    </tr>\n",
       "  </thead>\n",
       "  <tbody>\n",
       "    <tr>\n",
       "      <th>0</th>\n",
       "      <td>HAPPKENDRAHAPPY</td>\n",
       "      <td>Bosh situation hasn't changed since Feb. Heat ...</td>\n",
       "      <td>RightTroll</td>\n",
       "    </tr>\n",
       "    <tr>\n",
       "      <th>1</th>\n",
       "      <td>HAPPKENDRAHAPPY</td>\n",
       "      <td>Youre an IDIOT! Now you say 99% when before yo...</td>\n",
       "      <td>RightTroll</td>\n",
       "    </tr>\n",
       "    <tr>\n",
       "      <th>2</th>\n",
       "      <td>HAPPKENDRAHAPPY</td>\n",
       "      <td>Charlotte-Mecklenburg Fraternal Order of Polic...</td>\n",
       "      <td>RightTroll</td>\n",
       "    </tr>\n",
       "    <tr>\n",
       "      <th>3</th>\n",
       "      <td>HAPPKENDRAHAPPY</td>\n",
       "      <td>Theodore Roosevelt's son Quentin and his frien...</td>\n",
       "      <td>RightTroll</td>\n",
       "    </tr>\n",
       "    <tr>\n",
       "      <th>4</th>\n",
       "      <td>HAPPKENDRAHAPPY</td>\n",
       "      <td>.@flashfire451: Are there more cures than term...</td>\n",
       "      <td>RightTroll</td>\n",
       "    </tr>\n",
       "    <tr>\n",
       "      <th>...</th>\n",
       "      <td>...</td>\n",
       "      <td>...</td>\n",
       "      <td>...</td>\n",
       "    </tr>\n",
       "    <tr>\n",
       "      <th>1737030</th>\n",
       "      <td>_SOLOMONALBERT_</td>\n",
       "      <td>These police are train killers. I don’t shed a...</td>\n",
       "      <td>LeftTroll</td>\n",
       "    </tr>\n",
       "    <tr>\n",
       "      <th>1737031</th>\n",
       "      <td>_SOLOMONALBERT_</td>\n",
       "      <td>#BUT - @FloydMayweather Retires From #Boxing  ...</td>\n",
       "      <td>LeftTroll</td>\n",
       "    </tr>\n",
       "    <tr>\n",
       "      <th>1737032</th>\n",
       "      <td>_SOLOMONALBERT_</td>\n",
       "      <td>No guns allowed to all people. Especially #bla...</td>\n",
       "      <td>LeftTroll</td>\n",
       "    </tr>\n",
       "    <tr>\n",
       "      <th>1737033</th>\n",
       "      <td>_SOLOMONALBERT_</td>\n",
       "      <td>Support the #petition that banns providing #bl...</td>\n",
       "      <td>LeftTroll</td>\n",
       "    </tr>\n",
       "    <tr>\n",
       "      <th>1737034</th>\n",
       "      <td>_SOLOMONALBERT_</td>\n",
       "      <td>Criminals kill people with legally bought guns...</td>\n",
       "      <td>LeftTroll</td>\n",
       "    </tr>\n",
       "  </tbody>\n",
       "</table>\n",
       "<p>1737035 rows × 3 columns</p>\n",
       "</div>"
      ],
      "text/plain": [
       "                  author                                            content  \\\n",
       "0        HAPPKENDRAHAPPY  Bosh situation hasn't changed since Feb. Heat ...   \n",
       "1        HAPPKENDRAHAPPY  Youre an IDIOT! Now you say 99% when before yo...   \n",
       "2        HAPPKENDRAHAPPY  Charlotte-Mecklenburg Fraternal Order of Polic...   \n",
       "3        HAPPKENDRAHAPPY  Theodore Roosevelt's son Quentin and his frien...   \n",
       "4        HAPPKENDRAHAPPY  .@flashfire451: Are there more cures than term...   \n",
       "...                  ...                                                ...   \n",
       "1737030  _SOLOMONALBERT_  These police are train killers. I don’t shed a...   \n",
       "1737031  _SOLOMONALBERT_  #BUT - @FloydMayweather Retires From #Boxing  ...   \n",
       "1737032  _SOLOMONALBERT_  No guns allowed to all people. Especially #bla...   \n",
       "1737033  _SOLOMONALBERT_  Support the #petition that banns providing #bl...   \n",
       "1737034  _SOLOMONALBERT_  Criminals kill people with legally bought guns...   \n",
       "\n",
       "        account_category  \n",
       "0             RightTroll  \n",
       "1             RightTroll  \n",
       "2             RightTroll  \n",
       "3             RightTroll  \n",
       "4             RightTroll  \n",
       "...                  ...  \n",
       "1737030        LeftTroll  \n",
       "1737031        LeftTroll  \n",
       "1737032        LeftTroll  \n",
       "1737033        LeftTroll  \n",
       "1737034        LeftTroll  \n",
       "\n",
       "[1737035 rows x 3 columns]"
      ]
     },
     "execution_count": 177,
     "metadata": {},
     "output_type": "execute_result"
    }
   ],
   "source": [
    "filterd_df"
   ]
  },
  {
   "cell_type": "markdown",
   "metadata": {},
   "source": [
    "# U2H & U2M"
   ]
  },
  {
   "cell_type": "markdown",
   "metadata": {},
   "source": [
    "### Creating 'hashtags' and 'mentions'  columns"
   ]
  },
  {
   "cell_type": "markdown",
   "metadata": {},
   "source": [
    "### temp_df with 'author' and 'content'"
   ]
  },
  {
   "cell_type": "code",
   "execution_count": 178,
   "metadata": {},
   "outputs": [
    {
     "data": {
      "text/html": [
       "<div>\n",
       "<style scoped>\n",
       "    .dataframe tbody tr th:only-of-type {\n",
       "        vertical-align: middle;\n",
       "    }\n",
       "\n",
       "    .dataframe tbody tr th {\n",
       "        vertical-align: top;\n",
       "    }\n",
       "\n",
       "    .dataframe thead th {\n",
       "        text-align: right;\n",
       "    }\n",
       "</style>\n",
       "<table border=\"1\" class=\"dataframe\">\n",
       "  <thead>\n",
       "    <tr style=\"text-align: right;\">\n",
       "      <th></th>\n",
       "      <th>author</th>\n",
       "      <th>content</th>\n",
       "    </tr>\n",
       "  </thead>\n",
       "  <tbody>\n",
       "    <tr>\n",
       "      <th>0</th>\n",
       "      <td>HAPPKENDRAHAPPY</td>\n",
       "      <td>Bosh situation hasn't changed since Feb. Heat ...</td>\n",
       "    </tr>\n",
       "    <tr>\n",
       "      <th>1</th>\n",
       "      <td>HAPPKENDRAHAPPY</td>\n",
       "      <td>Youre an IDIOT! Now you say 99% when before yo...</td>\n",
       "    </tr>\n",
       "    <tr>\n",
       "      <th>2</th>\n",
       "      <td>HAPPKENDRAHAPPY</td>\n",
       "      <td>Charlotte-Mecklenburg Fraternal Order of Polic...</td>\n",
       "    </tr>\n",
       "    <tr>\n",
       "      <th>3</th>\n",
       "      <td>HAPPKENDRAHAPPY</td>\n",
       "      <td>Theodore Roosevelt's son Quentin and his frien...</td>\n",
       "    </tr>\n",
       "    <tr>\n",
       "      <th>4</th>\n",
       "      <td>HAPPKENDRAHAPPY</td>\n",
       "      <td>.@flashfire451: Are there more cures than term...</td>\n",
       "    </tr>\n",
       "  </tbody>\n",
       "</table>\n",
       "</div>"
      ],
      "text/plain": [
       "            author                                            content\n",
       "0  HAPPKENDRAHAPPY  Bosh situation hasn't changed since Feb. Heat ...\n",
       "1  HAPPKENDRAHAPPY  Youre an IDIOT! Now you say 99% when before yo...\n",
       "2  HAPPKENDRAHAPPY  Charlotte-Mecklenburg Fraternal Order of Polic...\n",
       "3  HAPPKENDRAHAPPY  Theodore Roosevelt's son Quentin and his frien...\n",
       "4  HAPPKENDRAHAPPY  .@flashfire451: Are there more cures than term..."
      ]
     },
     "execution_count": 178,
     "metadata": {},
     "output_type": "execute_result"
    }
   ],
   "source": [
    "temp_df = filterd_df[['author', 'content']]\n",
    "temp_df.head()"
   ]
  },
  {
   "cell_type": "markdown",
   "metadata": {},
   "source": [
    "### 'hashtags' column"
   ]
  },
  {
   "cell_type": "markdown",
   "metadata": {},
   "source": [
    "- #### Collecting hashtags from content"
   ]
  },
  {
   "cell_type": "code",
   "execution_count": 179,
   "metadata": {},
   "outputs": [
    {
     "data": {
      "text/html": [
       "<div>\n",
       "<style scoped>\n",
       "    .dataframe tbody tr th:only-of-type {\n",
       "        vertical-align: middle;\n",
       "    }\n",
       "\n",
       "    .dataframe tbody tr th {\n",
       "        vertical-align: top;\n",
       "    }\n",
       "\n",
       "    .dataframe thead th {\n",
       "        text-align: right;\n",
       "    }\n",
       "</style>\n",
       "<table border=\"1\" class=\"dataframe\">\n",
       "  <thead>\n",
       "    <tr style=\"text-align: right;\">\n",
       "      <th></th>\n",
       "      <th>author</th>\n",
       "      <th>content</th>\n",
       "      <th>hashtags</th>\n",
       "    </tr>\n",
       "  </thead>\n",
       "  <tbody>\n",
       "    <tr>\n",
       "      <th>0</th>\n",
       "      <td>HAPPKENDRAHAPPY</td>\n",
       "      <td>Bosh situation hasn't changed since Feb. Heat ...</td>\n",
       "      <td>[]</td>\n",
       "    </tr>\n",
       "    <tr>\n",
       "      <th>1</th>\n",
       "      <td>HAPPKENDRAHAPPY</td>\n",
       "      <td>Youre an IDIOT! Now you say 99% when before yo...</td>\n",
       "      <td>[]</td>\n",
       "    </tr>\n",
       "    <tr>\n",
       "      <th>2</th>\n",
       "      <td>HAPPKENDRAHAPPY</td>\n",
       "      <td>Charlotte-Mecklenburg Fraternal Order of Polic...</td>\n",
       "      <td>[]</td>\n",
       "    </tr>\n",
       "    <tr>\n",
       "      <th>3</th>\n",
       "      <td>HAPPKENDRAHAPPY</td>\n",
       "      <td>Theodore Roosevelt's son Quentin and his frien...</td>\n",
       "      <td>[]</td>\n",
       "    </tr>\n",
       "    <tr>\n",
       "      <th>4</th>\n",
       "      <td>HAPPKENDRAHAPPY</td>\n",
       "      <td>.@flashfire451: Are there more cures than term...</td>\n",
       "      <td>[]</td>\n",
       "    </tr>\n",
       "  </tbody>\n",
       "</table>\n",
       "</div>"
      ],
      "text/plain": [
       "            author                                            content hashtags\n",
       "0  HAPPKENDRAHAPPY  Bosh situation hasn't changed since Feb. Heat ...       []\n",
       "1  HAPPKENDRAHAPPY  Youre an IDIOT! Now you say 99% when before yo...       []\n",
       "2  HAPPKENDRAHAPPY  Charlotte-Mecklenburg Fraternal Order of Polic...       []\n",
       "3  HAPPKENDRAHAPPY  Theodore Roosevelt's son Quentin and his frien...       []\n",
       "4  HAPPKENDRAHAPPY  .@flashfire451: Are there more cures than term...       []"
      ]
     },
     "execution_count": 179,
     "metadata": {},
     "output_type": "execute_result"
    }
   ],
   "source": [
    "temp_df['hashtags'] = filterd_df['content'].str.findall(r'#.*?(?=\\s|$)')\n",
    "temp_df.head()"
   ]
  },
  {
   "cell_type": "markdown",
   "metadata": {},
   "source": [
    "### 'mentions' column"
   ]
  },
  {
   "cell_type": "markdown",
   "metadata": {},
   "source": [
    "- #### Collecting mentions from content"
   ]
  },
  {
   "cell_type": "code",
   "execution_count": 180,
   "metadata": {},
   "outputs": [
    {
     "data": {
      "text/html": [
       "<div>\n",
       "<style scoped>\n",
       "    .dataframe tbody tr th:only-of-type {\n",
       "        vertical-align: middle;\n",
       "    }\n",
       "\n",
       "    .dataframe tbody tr th {\n",
       "        vertical-align: top;\n",
       "    }\n",
       "\n",
       "    .dataframe thead th {\n",
       "        text-align: right;\n",
       "    }\n",
       "</style>\n",
       "<table border=\"1\" class=\"dataframe\">\n",
       "  <thead>\n",
       "    <tr style=\"text-align: right;\">\n",
       "      <th></th>\n",
       "      <th>author</th>\n",
       "      <th>content</th>\n",
       "      <th>hashtags</th>\n",
       "      <th>mentions</th>\n",
       "    </tr>\n",
       "  </thead>\n",
       "  <tbody>\n",
       "    <tr>\n",
       "      <th>0</th>\n",
       "      <td>HAPPKENDRAHAPPY</td>\n",
       "      <td>Bosh situation hasn't changed since Feb. Heat ...</td>\n",
       "      <td>[]</td>\n",
       "      <td>[]</td>\n",
       "    </tr>\n",
       "    <tr>\n",
       "      <th>1</th>\n",
       "      <td>HAPPKENDRAHAPPY</td>\n",
       "      <td>Youre an IDIOT! Now you say 99% when before yo...</td>\n",
       "      <td>[]</td>\n",
       "      <td>[]</td>\n",
       "    </tr>\n",
       "    <tr>\n",
       "      <th>2</th>\n",
       "      <td>HAPPKENDRAHAPPY</td>\n",
       "      <td>Charlotte-Mecklenburg Fraternal Order of Polic...</td>\n",
       "      <td>[]</td>\n",
       "      <td>[]</td>\n",
       "    </tr>\n",
       "    <tr>\n",
       "      <th>3</th>\n",
       "      <td>HAPPKENDRAHAPPY</td>\n",
       "      <td>Theodore Roosevelt's son Quentin and his frien...</td>\n",
       "      <td>[]</td>\n",
       "      <td>[]</td>\n",
       "    </tr>\n",
       "    <tr>\n",
       "      <th>4</th>\n",
       "      <td>HAPPKENDRAHAPPY</td>\n",
       "      <td>.@flashfire451: Are there more cures than term...</td>\n",
       "      <td>[]</td>\n",
       "      <td>[@flashfire451:]</td>\n",
       "    </tr>\n",
       "  </tbody>\n",
       "</table>\n",
       "</div>"
      ],
      "text/plain": [
       "            author                                            content  \\\n",
       "0  HAPPKENDRAHAPPY  Bosh situation hasn't changed since Feb. Heat ...   \n",
       "1  HAPPKENDRAHAPPY  Youre an IDIOT! Now you say 99% when before yo...   \n",
       "2  HAPPKENDRAHAPPY  Charlotte-Mecklenburg Fraternal Order of Polic...   \n",
       "3  HAPPKENDRAHAPPY  Theodore Roosevelt's son Quentin and his frien...   \n",
       "4  HAPPKENDRAHAPPY  .@flashfire451: Are there more cures than term...   \n",
       "\n",
       "  hashtags          mentions  \n",
       "0       []                []  \n",
       "1       []                []  \n",
       "2       []                []  \n",
       "3       []                []  \n",
       "4       []  [@flashfire451:]  "
      ]
     },
     "execution_count": 180,
     "metadata": {},
     "output_type": "execute_result"
    }
   ],
   "source": [
    "temp_df['mentions'] = filterd_df['content'].str.findall(r'@.*?(?=\\s|$)')\n",
    "temp_df.head()"
   ]
  },
  {
   "cell_type": "markdown",
   "metadata": {},
   "source": [
    "# Graph requirements\n",
    "\n",
    "- U2H\n",
    " + dictionary contains {'author' : list of all his unique hashtags}\n",
    " + List of unique authors\n",
    " + List of unique hashtags\n",
    " \n",
    "- U2M\n",
    " + dictionary contains {'author' : list of all his unique mentions}\n",
    " + List of unique authors\n",
    " + List of unique mentions"
   ]
  },
  {
   "cell_type": "markdown",
   "metadata": {},
   "source": [
    "## U2H"
   ]
  },
  {
   "cell_type": "markdown",
   "metadata": {},
   "source": [
    "#### - Creating dictionary contains {'author' : list of all his unique hashtags}"
   ]
  },
  {
   "cell_type": "code",
   "execution_count": 181,
   "metadata": {},
   "outputs": [
    {
     "name": "stderr",
     "output_type": "stream",
     "text": [
      "100%|██████████| 1737035/1737035 [01:35<00:00, 18196.97it/s]\n"
     ]
    }
   ],
   "source": [
    "hashtags_dic = dict()\n",
    "for i in tqdm(range(temp_df.shape[0]), position=0):\n",
    "    hashtags_dic.setdefault(temp_df.iloc[i, 0], []).append(temp_df.iloc[i, 2])"
   ]
  },
  {
   "cell_type": "code",
   "execution_count": 182,
   "metadata": {},
   "outputs": [
    {
     "name": "stdout",
     "output_type": "stream",
     "text": [
      "author:  HAPPKENDRAHAPPY\n",
      "\n",
      "hashtags:  [[], [], [], [], [], [], [], [], [], ['#ThingsMoreTrustedThanHillary'], ['#ThingsMoreTrustedThanHillary'], ['#ThingsMoreTrustedThanHillary'], ['#ThingsMoreTrustedThanHillary'], ['#ThingsMoreTrustedThanHillary'], ['#ThingsMoreTrustedThanHillary'], ['#ThingsMoreTrustedThanHillary'], ['#UNGA'], [], ['#ThursdayThoughts', '#life'], [], [], ['#win'], ['#CleanYourOwn'], [], ['#TrumpsArmy', '#TrumpTrain', '#Trump', '#NeverHillary', '#CrookedHillary', '#VoteTrump', '#USA', '#MAGA', '#MASA', '#MakeAmericaGreatAgain', '#military', '#Vets', '#military'], [], ['#HobokenTrainCrash', '#Islamist'], ['#NewJersey', '#HobokenTrainCrash'], [], [], [], [], [], [], [], [], ['#Benghazi', '#ClintonScandals'], [], [], ['#BlackLivesMatter'], [], [], [], [], [], [], [], [], ['#Hillary', '#ThursdayThoughts'], [], [], [], ['#debatenight', '#SamanthaBee'], ['#DebateNight', '#TrumpPence16', '#Trump'], [], [], ['#1'], ['#CometLanding'], [], [], ['#ClintonScandals'], [], ['#thefive'], [], ['#DumbGenieWishes', '#Trump'], ['#DumbGenieWishes'], ['#DumbGenieWishes'], ['#imagination', '#ShortRead:'], [], [], [], ['#quote'], ['#20'], ['#WakeUpAmerica'], [], ['#MAGA'], ['#CAIR'], ['#tcot', '#ccot', '#gop', '#MAGA', '#TrumpIsComing'], [], [], ['#Burma:', '#Rohingya', '#UN'], [], [], [], [], ['#CR4U', '#fantasy', '#Romance'], [], ['#akwx', '#climate'], [], [], [], [], [], [], [], [], [], ['#akwx'], ['#ParisAttacks'], [], ['#romance', '#CR4U'], [], [], [], [], [], [], [], ['#Iowa', '#CruzCrew', '#CruzinToCaucus', '#CruzToVictory', '#IowaCaucus'], ['#CruzCrew', '#PJNET'], [], ['#RT', '#TCOT', '#TEAPARTY', '#CCOT'], ['#copolitics', '#nra', '#tcot', '#ccot', '#pjnet', '#p2'], [], ['#CruzCrew', '#PJNET'], [], ['#CruzCrew', '#PJNET\"'], [], [], ['#SHOTShow'], [], [], ['#TrumpPressConference', '#ObamaFarewell'], [], [], [], ['#BeKInder'], [], ['#BYNR', '#ArtKNB'], [], [\"#FirstAmendmentMatters'\"], [], [], ['#rantfortoday', '#ccot'], [], [], [], ['#infosec', '#security'], ['#1A'], [], [], [], ['#JesusOurHope'], ['#ASMSG', '#CR4U'], ['#rantfortoday', '#ccot'], [], ['#HillaryClinton', '#Wikileaks'], ['#rantfortoday', '#ccot'], [], ['#MLK', '#MLKDAY', '#MLK2017', '#MLKday2017'], [], ['#MLK', '#MLKDAY', '#MLK2017', '#MLKday2017'], ['#tcot', '#UniteBlue', '#p2'], [], [], ['#MAGA'], [], [], ['#svitlodarsk.', '#OSCE', '#Donbass'], [], [], [], ['#Republicans'], ['#MyStory', '#SeekingAllahFindingJesus'], [], [], [], ['#BB4SP'], [], ['#TonyBennett', '#MyWay.', '#Trump'], [], [], ['#tcot'], [], [], [], [], [], [], [], [], [], ['#Trump', '#tcot', '#ccot', '#tlot'], [], [], [], [], ['#ASMSG', '#CR4U', '#kidlit'], [], [], [], [], [], [], [], [], [], [], [], [], [], [], ['#GamerGate'], [], [], ['#Gitmo'], [], [], ['#MLK'], ['#MLK', '#MLKJrDay', '#MLKDay', '#MLKJr', '#MLKday2017', '#Kaep', '#BLM', '#BlackLivesMatter', '#BlackTwitter'], ['#MLKDAY', '#facesofobamacare', '#MOTIVATIONMONDAY', '#disruptj20'], [], [], [], ['#BlackTwitter'], [], [], [], [], ['#MAGA'], [], [], [], [], [], ['#martinlutherkingday', '#MLKDAY', '#MLKday2017'], ['#oreillyfactor', '#TuckerCarlsonTonight', '#Hannity'], [], [], [], [], [], [], [], [], ['#Democrats,', '#FREE', '#NoSocialism.'], [], ['#SnowFlakes', '#DUMBASSES'], [], [], [], [], [], [], [], ['#POTUS', '#Bush', '#Trump'], ['#WomenForTrump', '#Trump�'], ['#SanClemente'], ['#quote'], [], ['#Cruz2016'], [], [], [], [], ['#tcot'], ['#Trump:'], [], [], [], ['#CruzNotNaturalBorn'], [], [], [], [], [], [], [], [], [], ['#Heroes'], ['#Inauguration'], [], [], [], [], ['#Aleppo'], ['#Reina.', '#Police'], [], [], ['#ISIS', '#ReinaNightClubAttack'], ['#Istanbul'], ['#Christmas'], [], [], [], [], [], [], [], [], ['#ThanksObama'], ['#InaugurationDay'], [], ['#InaugurationDay'], ['#Inauguration'], [], [], [], ['#alpolitics'], [], ['#Hillary'], [], [], [], [], ['#WomensMarch'], [], [], [], [], ['#ClimateSCAM'], ['#InaugurationDay2017.'], ['#firstdance', '#POTUS!'], [], [], [], [], [], [], [], [], [], ['#Inauguration'], ['#JCPOA'], [], [], ['#WomensMarch.', '#PickOne'], ['#Inauguration', '#MAGA', '#MediaBuzz'], ['#TopTweets!', '#womensmarch', '#pjnet'], [], [], [], [], [], [], [], [], [], [], [], ['#alternativefact'], ['#WomensMarch'], [], ['#MSM'], ['#UnitedNations'], [], [], ['#FREE', '#CR4U'], ['#WomensMarchOnWashington', '#Madonna', '#MichaelMoore', '#AshleyJudd'], [], [], [], [], [], [], [], [], [], [], [], [], [], ['#TedCruz', '#Iowa', '#IowaCaucus', '#cnn', '#foxnews', '#msnbc', '#wsj', '#nyt', '#npr', '#nbc', '#prnewsire', '#ap', '#Cruzcrew'], [], [], [], ['#tcot'], [], [], ['#POTUS2016,', '#IAcaucus', '#NHPrimary', '#CruzCrew', '#PJNET'], ['#CruzCrew', '#PJNET'], [], ['#TedCruz', '#TCOT', '#CruzCrew', '#PJNET'], [], ['#NewRelease', '#pdf1', '#CR4U'], [], [], ['#BuildTheWall'], ['#alternativefacts'], ['#ThankYouTrump', '#AmericaFirst', '#LawAndOrder', '#AllActionNoTalk'], [], [], [], [], [], [], [], ['#Liberals', '#Trump'], [], [], [], [], [], [], [], [], [], ['#TMB', '#WhatILearnedToday'], [], [], [], [], ['#MarchforLife'], [], [], [], [], [], ['#MAGA', '#KAG', '#TCOT', '#LNYHBT', '#DrainTheSwamp', '#BuildTheWall', '#WALL', '#ThankYouTrump'], [], [], ['#euthanasia'], [], ['#MuslimBan'], [], ['#MuslimBan'], [], ['#MarchforLife2017', '#defundplannedparenthood'], ['#interiordesign', '#decoration'], [], [], [], [], [], ['#Leadership', '#RiseUp', '#MuslimBan', '#NoBanNoWall'], [], ['#mediabuzz'], [], ['#BarackHusseinInsaneObama'], ['#MAGA'], [], [], [], ['#MuslimBan', '#IslamistheProblem'], ['#MuslimBan'], [], [], [], [], [], [], [], [], [], [], ['#Liberals☭'], [], [], ['#tcot', '#ccot', '#gop', '#maga'], [], [], [], [], [], [], [], [], [], ['#BREAKING:'], [], ['#CR4U'], [], [], [], [], [], ['#QuebecShooting'], ['#teachersbelike'], ['#Whatilearnedtoday'], [], ['#CatholicSchoolsWeek'], ['#generalstrike'], [], [], [], ['#SpecialReport', '#First100'], ['#CRYMORE'], [], [], ['#NoSanctuaryCities'], ['#Trump45'], [], [], ['#Istanbul', '#Fatih'], [], [], [], [], ['#Hannity'], [], ['#Scientology', '#Abortion', '#prolife'], ['#NowPlaying'], ['#NowPlaying'], [], [], ['#TrumpRiots', '#TrumpRiot', '#BLMKidnapping'], [], ['#BLMKidnapping', '#BlackLivesMatter', '#BLM'], ['#TeaParty'], [], ['#MAGA', '#TCOT', '#LNYHBT', '#DrainTheSwamp'], [], [], [], ['#WakeupAmerica', '#CashinIn'], [], [], [], [], [], [], [], [], [], ['#WhatILearnedToday'], ['#WhatILearnedToday'], ['#WhatILearnedToday'], [], ['#WhatILearnedToday'], [], [], [], ['#fridayreads'], ['#LiveByFaith'], [], [], [], [], ['#tcot', '#RedNationRising', '#TeaParty', '#PJNet'], [], [], ['#tcot', '#tlot', '#libertarian'], ['#Cologne'], [], [], [], [], ['#DemocratLiesMatter', '#2A', '#SheLies'], ['#IslamIsTheProblem', '#BanCAIR', '#tcot', '#p2'], ['#GoBucks'], ['#CharlieHebdo'], ['#tcot'], ['#WhiteGenocide'], ['#CharlieHebdo'], [], [], ['#JeSuisCharlie'], [], [], [], [], [], ['#MAGA'], ['#POTUS'], [], [], [], [], [], [], [], [\"#HateCrime'\"], [], [], [], [], [], [], [], ['#AllenWestRepublicDaily!', '#aca'], [], [], [], [], [], [], ['#WikiLeaks'], ['#BoycottHollywood', '#MerylStreep'], [], ['#ArtKNB'], ['#MerylStreep', '#BLM'], ['#MerylStreep', '#PresidentElectTrump', '#boycottgoldenglobes'], [], [], [], [], [], ['#LUV', '#TrumpTrain!!', '#SundayMorning', '#EVERYMorning!!)'], [], [], ['#POTUS', '#Trump', '#Debate', '#MAGA', '#MSNBC'], [], [], [], [], ['#DonaldTrump', '#HillaryClinton'], ['#Benghazi', '#debates'], ['#debate', '#NeverHillary'], ['#BigLeagueTruth', '#Debates'], [], [], [], [], ['#fbm15?'], ['#AccidentalStressTest'], [], [], [], ['#tcot', '#p2'], ['#TYTLIVE'], [], ['#Bernie2016'], ['#UniteBlue'], [], ['#tcot', '#p2'], [], [], ['#ClimateChange'], ['#NationalComingOutDay'], [], ['#GlennFord'], ['#kingdom'], [\"#MME'\"], ['#1u', '#Fightfor15'], ['#GunViolence.'], [], [], [], [], ['#tcot', '#p2'], [], [], [], [\"#FeelTheBern'\"], ['#progressive', '#news'], ['#UniteBlue'], ['#ConAgra'], ['#NationalComingOutDay'], ['#Seriously?'], ['#DustinGlover', '#blacklivesmatter', '#justiceorelse', '#millionmanmarch'], [], [], ['#photo'], [], ['#photo'], ['#1', '#photo'], [], ['#Republican', '#RWNJs.'], ['#FeelTheBern', '#LabelGMOS'], [], ['#NRA', '#gunsense', '#hardball'], ['#Congress', '#RaisetheCaps', '#CutsHurt'], ['#UniteBlue'], ['#tcot', '#p2'], [], ['#Bernie2016', '#FeelTheBern'], ['#SundayFunday'], [], [], ['#DebateWithBernie', '#FeelTheBern', '#Bernie2016', '#AllowDebate'], [], ['#travel', '#Spain'], ['#UniteBlue'], [], [], ['#UniteBlue'], ['#UniteBlue'], ['#UniteBlue'], ['#UniteBlue'], ['#UniteBlue'], ['#UniteBlue'], [], ['#nurses', '#FeelTheBern'], ['#TPP'], ['#UniteBlue'], ['#FeelTheBern'], ['#UniteBlue'], ['#RightToKnow', '#Conagra'], ['#BernieBlackout'], [], [], ['#PP....'], [], [], [], ['#DemDebate'], [], [], [], [], [], ['#PP.'], [], [], [], [], [], ['#FeelTheBern'], [], ['#UniteBlue'], [], [], ['#ABWisdom'], [], ['#FeelTheBern'], ['#FeelTheBern'], ['#moral', '#conscience', '#Despicable!'], [], [], ['#money', '#abortions,', '#law', '#babies', '#Yemen.'], [], [], [], [], ['#FeelTheBern'], [], ['#israel..you'], ['#NationalComingOutDay'], [], ['#Marr'], [], [], [], ['#Bernie2016'], ['#UniteBlue'], ['#RightToKnow', '#FeelTheBern'], ['#DebateGate', '#DWScheats'], [], ['#p2'], ['#UniteBlue'], [], ['#FeelTheBern', '#Sanders2016'], [], ['#AndThatsWhenTheCopsArrived', '#UnexpectedPubeNames'], ['#BernieSanders'], ['#StuffHappens'], ['#AndThatsWhenTheCopsArrived'], ['#AndThatsWhenTheCopsArrived'], [], [], ['#AndThatsWhenTheCopsArrived'], ['#GOP'], ['#UniteBlue'], ['#FeeltheBern'], ['#AndThatsWhenTheCopsArrived'], ['#Bernie2016'], ['#BernieInBoulder', '#feelthebern', '#bernie2016', '#robinhoodtax'], ['#FeelTheBern', '#Sanders2016'], ['#Bernie2016'], [], ['#GOP', '#Right'], ['#FeelTheBern'], ['#AndThatsWhenTheCopsArrived'], ['#FeelTheBern', '#dekalb'], [], [], ['#UniteBlue'], ['#UniteBlue'], ['#Palestine', '#Israel:'], ['#UniteBlue'], ['#UniteBlue'], ['#Bernie2016'], ['#UniteBlue'], ['#UniteBlue'], ['#UniteBlue'], ['#UniteBlue'], ['#UniteBlue'], ['#FeelTheBern'], [], [], [], ['#UniteBlue'], [], ['#FeelTheBern'], ['#Gun', '#guncontrol'], [], [], ['#FFS', '#FeelTheBern'], [], [], [], ['#LGBT'], [], [], [], [], [], ['#unbelievable'], [], [], [], [], ['#DNC', '#GOP', '#CCOT', '#TCOT'], [], ['#tcot'], [], ['#tcot', '#teaparty', '#ocra', '#ccot'], [], [], ['#SisterPatriots', '#tcot'], ['#CruzCrew', '#TedCruz', '#pjnet', '#Iowa', '#IowaTweets'], [], [], ['#tcot'], [], [], ['#cdnpoli', '#elxn42'], ['#BB4SP'], [], [], [], ['#tcot'], [], [], [], [], [], [], ['#BillClinton', '#Bimbos', '#BillPimpingForHillary', '#Cigars'], ['#Solar', '#Light', '#Africa', '#Health', '#Climate'], [], ['#uspoli', '#elxn42', '#cdnpoli', '#eu', '#uk', '#gop', '#climate', '#bcpoli', '#toronto'], ['#8217;s+Oregon+Visit+With+1+Brutal+Sentence+That+Hits+Him+Where+It+Hurts'], ['#ColumbusDay'], [], [], [], [], ['#RT', '#tcot', '#ccot', '#Christianity', '#TeaParty'], [], ['#RT', '#tcot', '#Catholics', '#CatholicPriests'], [], ['#tcot'], [], ['#CruzCrew'], ['#FeelTheBern'], ['#atheist'], [], ['#bloodonhishands', '#tcot'], ['#NationalComingOutDay'], [], [\"#Reid's\", '#KochBrothers,', '#Democrats', '#inners', '#p2', '#PJNet'], ['#FreeJason'], ['#MvilleSocialAction'], ['#uncavl'], [], [], ['#gal', '#violent'], [], ['#Israel', '#CCOT', '#PJNET', '#Palestine', '#Bible'], ['#LosAngeles', '#Houston', '#VoteYesOn1!!', '#HOUequality'], [], [], ['#fire', '#Manchester'], [], [], [], ['#StrongerIn'], [], ['#SanFrancisco', '#Houston', '#VoteYesOn1!!', '#HOUequality'], ['#BB4SP'], [], ['#backtheblue', '#CollegeParkTX'], [], [], ['#tcot'], [], [], [], [], ['#Gunsense', '#CocksNotGlocks'], ['#corporatists'], [], [], ['#radiocanada.', '#Gatineau'], [], [], ['#BoycottRalphLauren'], [], [], [], ['#ankarabombing'], [], ['#AbolishColumbusDay', '#NDNZ'], [], [], [], [], [], [], [], ['#UniteBlue'], [], ['#confessyourunpopularopinion'], [], ['#tcot'], [], [], ['#WMATA.'], ['#BackTheBlue'], ['#ClimateChange', '#tcot'], [], [], [], [], [], [], [], [], ['#SupportTomWatson.'], ['#BrianTerry,', '#Obama', '#Fast&Furious.'], [], [], [], [], [], [], ['#TamirRice'], [], ['#CocksNotGlocks'], [], ['#WakeUpAmercia', '#tcot', '#ccot', '#PJNET'], [], [], ['#budget16'], ['#ColumbusDay'], [], [], [], [], [], ['#rednationrising', '#ccot', '#ycot', '#pjnet', '#WakeUpAmerica'], [], ['#FightFor15'], [], [], [], [], ['#NO', '#tcot'], ['#tcot'], [], ['#Seattle', '#Houston', '#VoteYesOn1!!', '#HOUequality', '#⃣2⃣8⃣'], [], [], [], [], [], [], [], [], [], [], ['#tcot'], [], ['#demdebatequestions'], ['#dsonvisit'], [], [], ['#DsonVisit'], ['#10thA', '#10thA', '#lnyhbt', '#tcot'], ['#tcot'], ['#Military', '#TCOT'], [], [], ['#News', '#TCOT'], [], [], ['#IndigenousPeoplesDay', '#AbolishColumbusDay'], [], [], ['#FNPolitics'], [], ['#abolish', '#tcot'], [], [], [], [], [], [], [], ['#CrookedHillary'], [], [], [], [], [], [], [], ['#dota2'], [], [], [\"#NextFakeTrumpVictim'\"], [], [], ['#NextFakeTrumpVictim'], [], ['#tcot', '#p2'], ['#tcot'], [], ['#StopIslam'], ['#Utah.'], [], ['#NeverHillary‼️'], [], [], [], ['#PodestaEmails'], [], [], ['#RNC', '#NeverForget'], ['#Vets'], ['#WomenWhoVoteTrump'], [], ['#WomenWhoVoteTrump'], ['#TiSA'], [\"#TPP's\", '#TiSA.', '#PodestaEmails:'], [], [], [], [], [], ['#debates'], ['#TrumpDrSeuss', '#TermLimits', '#VoteTrumpPence16'], [], [], ['#2016_Election'], [], ['#tcot', '#trump2016', '#trumptrain', '#GOP'], ['#MissNebraska', '#TeenUSA', '#Trump', '#democRATS', '#karma', \"#'\"], ['#MAGA', '#HillaryBecause'], ['#NeverHillary'], ['#democRATS', '#morals', '#Trump'], ['#democRATS', '#morals', '#Trump'], [], ['#wikileaks', '#obama', '#FBI', '#DOJ'], [], [], [], ['#Vote2016', '#CrookedHillary'], [], ['#tcot', '#UniteBlue', '#p2'], ['#democRATS', '#KKK', '#hilLIARy', '#Sanger', '#Byrd', '#TrumpPence16', '#MAGA'], ['#democRATS', '#KKK', '#hilLIARy', '#Sanger', '#Byrd', '#NeverHillary', '#TrumpPence16', '#MAGA'], [], ['#WikiLeaks'], [], [], [], [], ['#HillaryGropedMe'], ['#HillaryGropedMe'], ['#HillaryGropedMe'], [], [], [], [], [\"#FeelTheBern'\"], ['#New', '#Ohio#Pennsylvania', '#NorthCarolina'], [], [], [], ['#Trump2016'], [], [], [], [], [], ['#SundayMorning', '#RedNationRising�', '#PJNET', '#Conservative', '#Maryland'], ['#ThingsISayPrettyOften'], ['#Trump,', '#Clinton,'], [], ['#TCOT', '#CCOT', '#MakeDCListen', '#TeaParty', '#Conservatives'], ['#freejulian'], [], ['#PodestaEmails11'], [], [], [], ['#mustread', '#feedly'], [], [], ['#QuestionMadness', '#prolife'], [], [\"#Hillary's\", '#Guns!', '#MAGA', '#Colorado', '#Florida', '#Ohio', '#Prepper'], [], [], [], [], [], ['#Trump'], [], [], [], [], [], ['#VoteWednesday'], [], [], [], [], [], ['#IStayHappyBy'], [], [], [], [], [], [], ['#Debate', '#RETWEET', '#debatenight', '#SCOTUS', '#LockHerUp'], ['#debate'], [], [], [], [], [], ['#PodestaEmails'], ['#NotAboveTheLaw', '#Bill'], [], ['#debatenight'], ['#debate'], ['#debatenight'], ['#debatenight', '#Debate'], ['#debatenight'], [], ['#Obama', '#DNC', '#DEMS', '#GOP', '#CCOT', '#TCOT', '#TLOT', '#PJNET'], ['#nastywoman'], ['#Trump'], [], [], [], [], ['#CORRUPTION', '#ClintonFoundation.', '#podestaemails14'], [], [], ['#Trump'], ['#PodestaEmails14', '#DDoS'], [], [], [], [], ['#AlSmithDinner'], [], [], [], [], [], ['#ClintonFoundation', '#PodestaEmails15'], ['#tcot'], ['#wikileaks.', '#RIP��'], [], [], [], ['#Gettysburg'], [], [], [], ['#PJNET'], ['#Hannity'], [], [], [], ['#DrainTheSwamp'], [], ['#DrainTheSwamp', '#cubs'], [], [], ['#Clinton', '#SethRich'], [], [], ['#PodestaEmails16'], [], [], ['#Wikileaks', '#Podesta', '#MAGA', '#Ohio', '#Cleveland', '#p2'], [], [], [], [], [], ['#CNN'], ['#MAGA', '#TrumpPence16', '#TrumpTrain', '#AmericaFirst'], [], [], [], ['#TrumpPence16', '#MAGA'], [], [], ['#economy', '#feedly'], ['#VoterFraud', '#MAGA', '#DebateNight'], ['#TRUMP', '#DNC', '#Hillary'], [], [], ['#voteTrump', '#…'], [], ['#VoterFraud', '#MAGA', '#tiot'], ['#Integrity.', '#PodestaEmails18'], [], ['#VoteTrump', '#PodestaEmails18'], ['#podesta18'], [], ['#TrumpAHorrorMovie', '#trumptrain', '#NeverHillary', '#LockHerUp', '#ohioVotes', '#FloridaKeys', '#Ohio'], [], ['#podesta18'], [], [], ['#Trump', '#MAGA', '#Florida', '#Tampa', '#Orlando', '#Colorado', '#Ohio', '#FeelTheBern', '#p2'], ['#Trump'], [], [], [], [], ['#NBA'], [], ['#Treason'], ['#Trump’s', '#TTT16', '#Election2016'], ['#PodestaEmails19'], ['#RejectedTrumpTVshows.'], [], ['#Trump', '#LockHimUp', '#DrainTheSwamp'], [], [], ['#TheDonald'], ['#Halloween', '#MAGA'], ['#BlackAmerica', '#liberals', '#Tampa', '#Orlando', '#Miami', '#FtLauderdale', '#Florida', '#FL', '#MAGA', '#TCOT', '#p2'], ['#TCOT', '#Trump', '#FoxNews', '#FOX', '#LessHillaryMoreFun'], [], [], [], [], [], [], [], ['#VoteFlipping', '#Trump', '#CrookedHillary', '#Texas!'], [], [], [], [], [], ['#NeverTrumpOrHillary'], [], [], ['#TrumpUp'], [], ['#DrainTheSwamp'], ['#throwbackthursday'], [], [], [], ['#rantfortoday', '#ccot'], [], [], [], [], [], [], [], [], ['#Benghazi'], ['#hillarysemail'], [], ['#FBI', '#HillarysEmails'], ['#HillarysEmails'], ['#HillarysEmails'], [], [], [], [], ['#CR4U', '#Romance', '#MG', '#YA'], [], [], [], [], ['#GoHillary\"'], [], ['#tcot'], [], ['#Draintheswamp'], [], ['#MAGA'], [], [], ['#PodestaEmails24', '#PodestaEmails'], ['#NeverHillary'], ['#POTUS.'], ['#HillaryForPrision', '#imwither', '#StrongerTogether'], ['#rantfortoday'], [], ['#NYTimes'], ['#HillaryForPrison', '#MAGA'], [], [], [], ['#ISIL', '#PJNET'], [], [], ['#thanks'], ['#Reweet'], ['#GeorgeSoros', '#VotingMachines', '#Tampa', '#Orlando', '#Miami', '#FtLauderdale', '#Florida', '#FL', '#MAGA'], [], ['#UK', '#usmarines', '#USArmy', '#USNavy', '#uscoastguard', '#USAirForce', '#vets', '#veterans'], [], [], ['#usmarines', '#USArmy', '#USNavy', '#uscoastguard', '#USAirForce', '#vets', '#veterans', '#VetsAgainstTrump', '#veteransunitedproblems'], [], [], [], [], ['#Latest', '#Colorado:', '#Michigan:', '#Wisconsin'], [], [], [], [], [], ['#VoteTrump', '#MAGA'], ['#rantfortoday'], ['#rantfortoday', '#ccot'], ['#Hillary', '#Trump', '#AmercaFirst'], [], [], [], [], [], [], [], [\"#Clinton's\", '#Trump'], [], [], [], [], [], ['#VPDebate', '#BigLeagueTruth'], [], [], ['#Treason'], ['#Hannity'], [], [], ['#HurricaneMatthew'], [], ['#WakeUpAmerica', '#DonaldTrump', '#MakeAmericaGreatAgain'], [], [], [], [], ['#ccot'], [], [], [], ['#tcot', '#ccot', '#gop', '#maga'], [], [], [], [], [], [], [], [], ['#Russia', '#Syrian'], [], [], ['#DNC', '#GOP', '#CCOT', '#TCOT', '#TLOT', '#PJNET', '#DEMS', '#WEATHER'], [], ['#Republicans'], ['#MyStory', '#SeekingAllahFindingJesus'], [], [], [], [], [], ['#Painful', '#Truth'], [], ['#weather', '#Matthew', '#severe'], [], ['#Hillary', '#Hillary2016', '#MakeAmericaGreatAgain', '#HillarysAmerica'], ['#Matthew'], ['#Matthew.'], [], [\"#Matthew's\"], [], [], ['#CivilizationJihad', '#WakeUpAmerica'], [], [], [], [], [], ['#Matthew'], [], ['#ClintonFoundation', '#RedNationRising', '#Matthew'], [], [], [], [], [], [], ['#HypocriteDems', '#TrumpTaxes'], ['#tcot'], [], [], ['#RedNationRising'], [], [], [], ['#TeamZucker'], ['#TheGreenFairy', '#DanFrank', '#TeamZucker'], ['#ClintonFoundation', '#Haiti', '#RedCross', '#HurricaneMatthew'], ['#CrookedHillary', \"#MAGA3X'\"], [], ['#Trump', '#NH', '#Hillary', '#Unable'], [], [], [], ['#billclintonisarapist'], [], [], [], ['#PodestaEmails'], [], [], [], ['#Hillary', '#trump'], ['#TrumpTapes'], [], [], ['#help'], [], [], [], [], [], [], ['#VoteTrump'], [], [], [], [], [], [], [], [], [], [], [], ['#PodestaEmails25'], [], [], [], [], [], [], ['#whatilearnedtoday'], [], [], ['#Putin', '#Russia', '#NotMyPresident', '#MAGA'], [], [], [], ['#TrumpProtest', '#TrumpPresident'], ['#ElectionNight', '#Trump', '#TrumpsFirstOrder', '#RedNationRising', '#MolonLabe'], ['#WakeupAmerica', '#CashinIn'], [], [], [], [], [], [], [], ['#TrumpRiot', '#ThankYou'], [], ['#trumpriot', '#generationsnowflake'], [], [], [], [], [], [], [], [], [], [], [], [], [], ['#tsa', '#travel'], ['#PJNET', '#LockHerUp'], [], [], [], [], ['#Vietnam', '#Veterans'], [], ['#MAGA'], [], [], [], ['#Trump', '#Obama', '#Clinton'], ['#MAGA'], [], [], [], [], [], [], [], [], [], [], [], [], ['#RealLifeMagicSpells'], ['#RealLifeMagicSpells'], [], [], [], [], [], ['#FeelTheBern'], [], ['#CR4U', '#ChristRomance'], [], [], [], [], [], [], [], [], [], [], [], ['#DemnDebate', '#FightFor15?', '#DemDebate'], ['#DemnDebate', '#DemDebate'], ['#DemDebate', '#demndebate'], ['#DemnDebate', '#DemDebate'], ['#fail'], [\"#Facepalm'\"], [], ['#pjnet'], ['#Pepsi', '#BoycottPepsi'], [], ['#Russia', '#Putin', '#CyberSecurity', '#CyberAttack'], [], ['#Syria', '#USA'], [], [], [], [], ['#Snowflakes', '#Trump'], [], ['#Trump', '#Trump2016'], [], [], ['#DrainTheMediaSwamp', '#MAGA'], [], [], ['#tcot', '#ccot', '#gop', '#maga'], ['#amreading'], [], ['#GamerGate'], ['#SOROS'], ['#Gamergate'], ['#GamerGate'], [], [], [], [], [], [], ['#Republicans'], ['#IRS', '#bergdahl', '#Border', '#IranDeal', '#ISIS', '#VA', '#DOJ', '#Paris'], [], [], ['#BlackLivesMatter', '#Racist', '#WakeupAmerica', '#tcot'], [], [], [], ['#Paris', '#ParisAttacks'], [], [], [], ['#VPDebate', '#BigLeagueTruth'], [], [], ['#Texas', '#BlackGold'], [], [], [], [], [], ['#TCOT', '#LNYHBT', '#TGDN', '#DrainTheSwamp', '#MAGA', '#BuildTheWall'], ['#USFA'], ['#Nintendo', '#retrogaming', '#supernintendo'], [], [], [\"#draintheswamp'\"], [], [], ['#Soros', '#Nazi', '#US,'], [], ['#OptOutside'], ['#KooimanForAmbassador'], [], [], ['#TCOT', '#LNYHBT', '#TGDN', '#MAGA', '#DrainTheSwamp', '#BuildTheWall'], [], ['#TCOT', '#LNYHBT', '#TGDN', '#MAGA', '#DrainTheSwamp', '#BuildTheWall'], ['#HappyBirthdayMickey'], [], ['#NoHillary2016'], [], ['#MAGA'], [], [], [], ['#Pence', '#Hamilton'], [], ['#tcot'], [], ['#PodestaEmails26', '#WednesdayWisdom', '#FeelTheBern', '#JillNotHill', '#MAGA'], [], [], ['#PodestaEmails26'], ['#OBAMA', '#HILLARY', '#FIGHTTerrorism', '#tcot'], [], ['#MAGA', '#CrookedHillary!', '#Merica'], [], ['#MosulOps'], [], [], ['#tcot', '#UniteBlue', '#p2'], [], ['#Hillary', '#Tampa', '#Orlando', '#Miami', '#FtLauderdale', '#MAGA'], ['#VoteFraud', '#Tampa', '#Orlando', '#Miami', '#FtLauderdale', '#Florida', '#MAGA'], ['#Virginia', '#VoterFraud', '#Tampa', '#Orlando', '#Miami', '#FtLauderdale', '#FL', '#MAGA'], [], ['#2A', '#guns'], [], ['#PJNET'], [], [], ['#MAGA', '#tcot'], [], [], [], [], ['#WhatILearnedToday'], ['#NextMedalOfFreedomRecipient', '#WhatILearnedToday'], ['#WhatILearnedToday'], ['#whatilearnedtoday'], [], [], [], [], [], [], ['#MAGA', '#TrumpTrain', '#tcot', '#lnyhbt', '#gop'], [], [], ['#IAmThankfulFor'], [], ['#thanksgiving'], ['#Haifa', '#Israel'], [], ['#supermoon'], [], ['#clownshow'], [], [], ['#Dogsgiving'], ['#recount2016', '#POTUS.'], [], [], ['#Trump2016', '#2A'], [], [], [], [], [], ['#BlackFridayProblems'], [\"#ATL's\"], [], [], ['#atlhawks'], ['#fullblack', '#StayInTheFight'], ['#Republicans'], ['#MyStory', '#SeekingAllahFindingJesus'], [], ['#HypocriteDems', '#TrumpTaxes'], [], [], [], ['#TeamZucker'], ['#billclintonisarapist'], [], [], [], [], [], ['#trail', '#hiking', '#AppalachianTrail', '#appalachiantrail2015', '#trailjournals'], ['#sick', '#Resistance'], ['#Trump'], [], ['#Brilliant.'], ['#AllenWestRepublicDaily!'], [], [], ['#Huma', '#Shariah'], [], [], [], [], ['#Pizzagate,', '#Twittergate:'], [], [\"#pizzagate.'\"], [], ['#tcot', '#pjnet', '#p2'], [], ['#OBAMATRADE', '#TPP'], ['#Peru', '#travel', '#photography', '#Adventure', '#earthXplr'], [], ['#tcot', '#WakeUpAmerica', '#lnyhbt', '#teaparty', '#ccot'], [], [], [], ['#2A', '#Guns'], [], ['#chokinghazard'], [], [], ['#BB4SP'], ['#PJNET', '#TCOT', '#CCOT', '#CTOT'], [], [], [], [], [], [], [], [], [], [], [], ['#BLM?'], [], ['#TrumpStrong', '#Patriots'], ['#TrumpStrong', '#Patriots', '#NeverRomney'], ['#Ohio'], [], [], ['#BoycottStarWars', '#BoycottRogueOne'], [], [], ['#BoycottStarWars', '#Hollywood'], [], [], ['#ImpeachObama'], [], [], [], [], [], [], ['#TruthWins'], [], [], ['#DrainTheSwamp', '#Hannity'], [], [], [], [], [], [], ['#HillarysIndictment'], [], [], [], [], [], [], ['#ImWithHer', '#FeelTheBern', '#MAGA'], ['#BackTheBlue', '#K9', '#WeeSeeYou', '#BlueLivesMatter', '#PJNET'], [], ['#USArmy'], ['#ImWithYou', '#MAGA'], [], [], [], ['#Chicago', '#CubsWin', '#108', '#CurseBroken', '#WorldSeries'], [], ['#TobiasBeecher'], [], ['#TobiasBeecher'], [], [], [], [], ['#BetterWay'], ['#wednesdaywisdom'], [], ['#Trump.'], ['#OhioState'], ['#KeithScott'], [], [], ['#Russia’s', '#Lukoil'], [], [], ['#NEVERhillary', '#TCOT', '#LNYHBT', '#TGDN', '#MAGA'], ['#sjspecialist', '#PJNET'], [], ['#SpiritCooking', \"#HandCuffHillary'\"], [], [], ['#Hillary'], ['#MAGA'], ['#SheShouldBeInStripes'], [], ['#PodestaEmails28', '#CrookedHillary'], [], ['#Hillary', '#Hillary2016', '#ImWithHer', '#BlackLivesMatter', '#FeelTheBern', '#BernieSanders', '#BernieSandersMatters', '#JillStein', '#JillStein2016'], [], [], [], ['#TRUMPTRAIN', '#az', '#fl', '#pa', '#nv'], ['#fraud', '#pa'], ['#Ohio', '#Pennsylvania', '#NorthCarolina', '#Virginia', '#Nevada', '#Colorado', '#Florida', '#Arizona', '#Michigan', '#Wisconsin', '#NewHampshire', '#Iowa', '#Maine', '#Utah'], ['#election.'], [], [], [], [], [], [], ['#VoterFraud', '#SpiritCooking', '#PodestaEmails30'], [], ['#MSM', '#Trump', '#JesseJackson', '#BlacksForTrump', '#Tampa', '#Orlando', '#Miami', '#FtLauderdale', '#FL'], [], [], ['#RememberWhenTrump', '#SpiritCooking'], [], [], [], ['#MAGA3X', '#MakeAmericaGreatAgain', '#TrumpTrain', '#Reno', '#CaliforniaForTrump', '#DrainTheSwamp'], ['#DaylightSavingTime'], [], [], [], ['#SundayMorning'], ['#Pray4OurCountry'], [], [], ['#rigged'], [], [], [], ['#RememberWhenTrump'], ['#HillaryLiar'], [], ['#DNCLeak2', '#ElectionFinalThoughts', '#VoteTrump'], ['#dncleak2'], [], [], ['#FBI'], ['#DNCLeak2'], ['#ICYMI-'], [], ['#MAGA!', '#RallyForRiley', '#ICYMI,'], ['#PodestaEmails'], ['#TrumpWinsBecause', '#Election2016'], ['#ccot'], ['#BENGHAZI'], [], [], ['#CorruptClintonMachine', '#SayNo2Hillary'], ['#JudgeJeannine', '#Hannity', '#JamesComey'], [], ['#TrumpInReno', '#Reno'], [], [], [], ['#kidlit', '#ASMSG', '#CR4U'], [], ['#rantfortoday', '#ccot'], ['#PhillyVotes'], ['#Prolife'], [], ['#govote', '#election2016', '#theendisnear', '#hillaryforprison2016', '#dumptrump…', '#TrumpForPresident'], ['#Michigan', '#Trump2016', '#hillaryforprison2016', '#TrumpForPresident'], [], ['#maga', '#TrumpForPresident'], ['#Trump2k16', '#TrumpForPresident'], ['#TrumpWinsBecause', '#TrumpForPresident'], ['#imvotingbecause'], ['#Hillary', '#HillaryForPrison2016', '#HRC', '#TrumpForPresident'], ['#trump2k16', '#NFLisrigged', '#TrumpForPresident'], ['#HillaryForPrison2016', '#TrumpForPresident'], ['#TrumpTrain', '#', '#TrumpForPresident'], ['#Trump2k16', '#TrumpForPresident'], ['#Hillary4Prison', '#TrumpForPresident'], [\"#CorruptHillary'\"], ['#TrumpPence16', '#AmericaFirst', '#TrumpForPresident'], ['#Trump', '#Election2016', '#ElectionFinalThoughts', '#VoteTrump', '#TrumpForPresident'], [], ['#MAGA', '#PJNET'], ['#iVoted', '#ElectionDay', '#ElectionNight'], ['#ElectionDay'], [], [], [], ['#Jesus', '#RenewUS', '#PJNET'], ['#ElectionDay', '#myvote2016', '#voted'], [], [], [], ['#ElectionDay', '#Vote2016', '#myvote2016', '#voted', '#poll', '#Miami', '#SouthFlorida', '#Florida', '#SOFLO', '#FortLauderdale', '#Vote'], ['#IdBeMorePopularIf'], ['#ElectionDay'], ['#ElectionDay', '#2A:'], [], [], [], ['#ElectionDay', '#TrumpPence16'], ['#Trump'], [], ['#IdBeMorePopularIf'], ['#Comey', '#NeverHillary', '#snarkileaks', '#wikileaks', '#FBI', '#TrumpForPresident'], ['#LockHerUp', '#TrumpForPresident'], ['#ImVotingBecause', '#HillaryForPrison2016', '#TrumpForPresident'], ['#MAGA', '#TrumpForPresident'], ['#TrumpPence16', '#Trump2k16', '#TrumpTrain', '#TrumpForPresident'], ['#TrumpPence16', '#Maga', '#TrumpForPresident'], ['#SOROS'], [], ['#ElectionDay', '#myvote2016', '#politics', '#news', '#Poll'], [], [], [], ['#HillaryForPrison2016', '#FBIDirectorComey', '#TrumpForPresident'], ['#Trump2016', '#TrumpPence16', '#LockHerUp', '#TrumpForPresident'], ['#draintheswamp', '#HillaryForPrison2016', '#TrumpPence16', '#VoteTrum…', '#TrumpForPresident'], ['#MakeAmericaGreatAgain', '#TrumpPence16', '#TrumpTrain', '#HillaryForPrison2016', '#TrumpForPresident'], ['#MAGA', '#VoteTrumpPence16', '#NeverHillary', '#Hillary4Prison', '#VoteTrumpSaveAmerica', '#VoteTrump', '#TrumpForPresident'], ['#VoteTrumpPence16', '#HillaryForPrison2016', '#TrumpForPresident'], ['#capitalism', '#trump2k16', '#TrumpForPresident'], ['#Trump2k16', '#Hillary4Prison', '#TrumpForPresident'], [], [], [], [], ['#MAGA', '#GoCubsGo', '#WorldSeriesChampions', '#VoteTrump', '#TrumpForPresident'], ['#MAGA', '#TrumpTrain', '#Trumplandslide', '#podestaemails33', '#DNCLeaks2…', '#TrumpForPresident'], ['#trump2k16', '#MakeAmericaGreatAgain', \"#TrumpForPresident'\"], ['#TREXIT', '#MAGA', '#TRUMPTRAIN', '#HillaryForPrison2016', '#VoteTrump', '#WeThePeople', '#TrumpForPresident'], ['#NeverHillary', '#HillaryForPrison', '#TrumpForPresident'], ['#ObamaCare'], ['#ElectionFinalThoughts', '#ElectionDay'], [], [], ['#MAGA'], ['#PostVotingStressRelief'], [], ['#TrumpPence16'], ['#IVOTED'], [], ['#Periscope:'], [], ['#WrightState', '#VoteTrump!', '#TheChalkening'], ['#ElectionDay', '#MAGA'], [], ['#USA:', \"#Soros'\", '#ElectionDay', '#Pennsylvania.'], [], [], [], [], [], [], [], [], [], [], [], [], [], [], [], ['#StopESEA', '#PJNET', '#RedNationRising'], [], [], [], ['#Putin!!!'], ['#TwitterRally'], ['#COP21'], ['#PJNET'], ['#CruzCrew', '#PJNET', '#WakeUpAmerica', '#TCOT'], ['#ESEA', \"#CommonCore's\", '#StopESEA', '#PJNET'], [], ['#StopESEA', '#PJNET', '#RedNationRising'], ['#StopESEA', '#PJNET'], ['#ItReallyOffendsMeWhen...\"'], ['#FlagBurning', '#FirstAmendment'], ['#PublishConf'], [], ['#FlagBurning.'], [], [], [], [], [], [], [], ['#tcot', '#tcot', '#news'], [], ['#tcot'], [], [], [], [], [], [], [], [], [], [], [], [], ['#FakeNews'], [], [], [], ['#ArmyNavyGameDay'], [], [], [], [], [], [], ['#2A', '#NRA', '#PJNET'], [], ['#insane'], ['#tcot'], ['#TCOT', '#TLOT', '#TPOT', '#JOBS', '#ECONOMY', '#DEBT', '#1A', '#2A', '#P2', '#LIBERTY', '#TRANSPARENCY', '#PJNET'], ['#Trump'], ['#PATRIOT', '#TCOT', '#TLOT', '#CHOICE', '#LIBERTY', '#PJNET'], [], [], ['#FAKENEWS'], [], [], ['#RussianHackers'], ['#FakeNewsAlert', '#FakeNews', '#DrainTheMediaSwamp', '#MAGA'], [], [], [], [], [], [], ['#FakeNews...'], [], [], [], [], ['#alaska', '#akleg', '#moodys'], ['#CopyFollowers'], [], ['#Trump’s', '#AnimalFarm,'], [], [], [], [], [], ['#WellsFargo'], [], [], ['#WIRecount'], [], [], ['#Newsmax'], [], ['#backtheblue'], [], ['#Shameful'], [], ['#tcot'], ['#TeamUnidoS♥'], ['#TeamUnidoS�'], [], [], [], [], [], [], [], [], ['#InformTheElectors'], [], [], [], ['#LieOfTheYear'], ['#LieOfTheYear'], [], [], [], ['#2a', '#merica', '#gungirl'], [], [], ['#StopCISA', '#StopOmnibus'], [], [], ['#LAUSD'], [], ['#tcot', '#gop'], [], ['#tcot', '#pjnet', '#2a', '#rkba', '#WakeUpAmerica'], ['#VegasGOPDebate'], ['#VegasGOPDebate'], ['#GOPDebate', '#VegasGOPDebate'], ['#VegasGOPDebate'], ['#MakeAmericaGreatAgain', '#VegasGOPDebate'], ['#Trump,', '#Carson', '#GOPDebate', '#VegasGOPDebate'], ['#GOPDebate', '#VegasGOPDebate'], ['#VegasGOPDebate'], ['#VegasGOPDebate'], [], ['#ICYMI:', '#data'], [], [], [], ['#MAGA', '#Swemolia'], ['#maga'], [], ['#FreeAssange'], ['#NFLBoycott'], [], [], [], [], ['#NoAbortion'], ['#VegasGOPDebate'], ['#Clinton.', '#VegasGOPDebate'], ['#GOPDebate', '#VegasGOPDebate'], ['#GOPDebate', '#VegasGOPDebate'], ['#GOPDebate', '#TedCruz', '#GOPDebate', '#VegasGOPDebate'], ['#GOPDebate', '#GOPs', '#VegasGOPDebate'], ['#GOPDebate', '#VegasGOPDebate'], ['#GOPDebate', '#VegasGOPDebate'], ['#GOPDebate', '#VegasGOPDebate'], ['#GOPDebate', '#VegasGOPDebate'], ['#GOPDebate', '#VegasGOPDebate'], ['#GOPDebate', '#GOP', '#VegasGOPDebate'], ['#GOPDebate', '#Trump,', '#refugees', '#VegasGOPDebate'], ['#GOPDebate', '#VegasGOPDebate'], ['#GOPDebate', '#GOP', '#VegasGOPDebate'], ['#GOPDebate', '#VegasGOPDebate'], ['#GOPDebate', '#VegasGOPDebate'], ['#GOPDebate', '#VegasGOPDebate'], ['#GOPDebate', '#VegasGOPDebate'], ['#GOPDebate', '#Trump,', '#Carson', '#GOPDebate', '#VegasGOPDebate'], ['#GOPDebate', '#VegasGOPDebate'], ['#GOPDebate', '#Sanders', '#Trump', '#GOPDebate', '#VegasGOPDebate'], ['#GOPDebate', '#VegasGOPDebate'], ['#ISIS', '#PJNET'], ['#ThingsThatShouldBeLeftIn2016', '#MAGA'], ['#congratulations', '#monicacrowley'], [], [], [], [], [], ['#Dem', '#ElectoralCollege', '#MAGA', '#Brexit', '#FakeNews'], [], [], [], ['#breakingnews'], [], [], [], [], [], [], [], [], [], [], ['#MAGA', '#TCOT', '#LNYHBT', '#DrainTheSwamp'], [], [], [], [], [], [], [], [], ['#MAGA'], [], [\"#mong'\"], [], ['#Delusional'], [], [], [], [], ['#SundayMorning'], ['#MuslimRefugee!', '#AmericaFirst��', '#MuslimBan'], [], [], ['#liberals', '#PresidentElectTrump', '#tcot', '#ccot'], [], [], [], [], ['#unpresidented'], [], [], [], [], [], [], [], [], [], ['#MAGA'], [], [], [], [], [], [], [], [], [], [], [], [], [], ['#MAGA'], ['#DEMDebate', '#DamnDebate'], ['#DEMDebate', '#DamnDebate'], [], ['#kidlit', '#ASMSG', '#CR4U'], [], [], [], ['#rantfortoday', '#ccot'], [], ['#tcot', '#ccot', '#gop', '#maga'], [], [], ['#ACAWorks4Women?', '#ObamaCare', '#Poll'], [], [], [], ['#pray'], [], [], [], ['#tcot'], [], [], [], [], [], [], ['#ProLife'], [], [], [], [], [], [], [], [], ['#TRUMPleaks', '#MAGA', '#TCOT', '#LNYHBT', '#DrainTheSwamp', '#BuildTheWall'], [], [], [], [], [], [], [\"#GetAClue'\"], [], ['#shortstories', '#Christmas', '#cozy'], ['#BooksforChristmas', '#CR4U'], [], [], [], ['#ShelterontheHill'], ['#2A', '#RooseveltFieldMall', '#tcot', '#GardenCityShooting'], ['#2A', '#rooseveltfield', '#GardenCityShooting'], ['#RooseveltFieldMall', '#GardenCityShooting'], [], [], [], [], [], ['#tcot', '#ccot', '#gop', '#maga'], [], [], [], [], ['#twilightzone'], ['#KimDavis.'], [], [], ['#PJNET'], [], [], ['#tcot', '#tlot', '#SGP', '#PJNET', '#p2'], [], [], [], ['#Christian', '#Kurdistan,', '#Iraq', '#MerrryChristmas'], [], [], [], [], [], [], ['#UNSC', '#Israel.', '#Chanukah'], [], ['#prayerworks', '#MAGA'], [], [], ['#Hanukkah'], [], [], [], ['#g8m'], [], [], [], [], [], [], [], [], ['#Washington', '#TwitterKurds'], [], [], [], [], [], [], [], [], [], [], [], [], ['#Afghanistan'], [], [], ['#Russia'], [], [], ['#rantfortoday'], ['#rantfortoday', '#ccot'], ['#rantfortoday'], [], [], [], [], [], ['#FakeNews'], [], [], [], [], [], [], [], [], [], [], ['#tcot', '#ProLife'], [], [], ['#ShortRead:'], [], ['#HolySpirit'], [], [], [], [], [], [\"#Traitors'\"], [], [], [], ['#AmYisraelChai'], [], ['#tcot'], ['#ShortRead:'], [], [], [], [], [], [], ['#OAS2014', '#LIBERTY', '#CONSTITUTION', '#PJNET'], ['#TamirRice'], [], [], [], [], ['#Trump'], [], [], [], ['#Jesus'], [], [], ['#MAGA'], [], ['#MAGA'], [], [\"#thief.'\"], [], [], [], [], ['#prayersforcalifornia', '#Prayers4California'], ['#SanBernardino', '#Prayers4California'], ['#Prayers4California'], ['#guncontrol', '#Prayers4California'], ['#Prayers4California'], ['#Prayers4California'], ['#guncontrol', '#Prayers4California'], ['#Prayers4California'], ['#Prayers4California'], ['#Prayers4California'], ['#Prayers4California'], ['#Prayers4California'], ['#2A', '#Prayers4California'], ['#Prayers4California', '#tcot'], ['#Prayers4California'], ['#Prayers4California'], [], [], [], [], [], ['#New', '#Ohio#Pennsylvania', '#NorthCarolina'], [], ['#kidlit', '#ASMSG', '#CR4U'], [], [], [], ['#SATIRE', '#WakeUpAmerica'], [], [], ['#PRAYERS�'], [], [], [], [], [], [], [], [], [], [], ['#BlackLivesMatter', '#tcot', '#tlot'], ['#WorstPresidentEver'], [], [], [], [], [], ['#tcot'], [], [], [], ['#ukpoli'], ['#tcot'], ['#IStandWithIsrael', '#IsraelForever'], [], ['#TrumpsArmy', \"#TeamTrump'\"], [], [\"#IAcaucus'\"], ['#2A', '#NRA', '#PJNET', '#tgdn', '#tcot', '#ccot', '#teaparty', '#ocra', '#RedNationRising'], [], ['#WarOnWomen', '#tcot', '#PJNET'], [], [], [], ['#TwilightZoneMarathon'], ['#TwilightZoneMarathon', '#Trump', '#CorruptHillary'], [], [], [], [\"#NewYear's\"], [], ['#MAGA', '#TCOT', '#LNYHBT', '#DrainTheSwamp'], ['#akleg'], ['#CaliforniaDemocrats'], ['#ThankYouThomasSowell'], [], [], ['#Guns4NY'], ['#Guns4NY', '#2A'], ['#Guns4NY'], ['#Guns4NY'], ['#Guns4NY'], [], ['#OddThingsToBeProudAbout'], [], [], [], [], ['#HillaryForPrison', '#LockHerUp'], ['#StopSantuaryCities'], [], [], [], ['#NoDAPL'], ['#Recount2016'], [], [], [], [], [], [], [], [], [], ['#addoway'], [], [], [], [], [], [], [], ['#AbolishDOE', '#COSProject', '#PJNET', '#mepolitics'], [], [], [], [], [], [], [], [], ['#video'], ['#MAGA', '#Trump', '#mondaymotivation'], ['#BenCarson', '#TRUMP', '#MAGA', '#tcot'], [], [], ['#MAGA', '#TCOT', '#LNYHBT', '#TGDN', '#NASA'], [], ['#BringBackWorf', '#CasualFridays?'], [], [], [], [], ['#WhatILearnedToday'], ['#WhatILearnedToday', '#ItsNotAssaultIfNothingHappenedPumpkin'], ['#WhatILearnedToday'], [], [], [], [], [], [], [], [], [], [], [], [], [], [], [], ['#Kindle', '#series', '#FREE', '#Romance,', '#Christianfic', '#CR4U'], [], [], [], [], [], [], [], [], [], [], [], [], [], [], [], [], [], [], [], [], [], ['#REDFriday'], [], ['#Saudi', '#Yemen'], [], ['#GaysForTrump'], ['#MAGA'], ['#SupremeCourt', '#SCOTUS', '#NeilGorsuch'], ['#SCOTUS', '#SupremeCourt', '#NeilGorsuch'], ['#SCOTUS.', '#NeilGorsuch'], ['#SCOTUS', '#Poll', '#SCOTUSnominee', '#JusticeGorsuch'], [], [], [], ['#Russia', '#Putin'], [], ['#FOXNewsWorld'], [], ['#USA��@AFP'], [], [], [], [], [], [], [\"#recount'\"], [], [], [], [], ['#USFA'], [], ['#Crusadesarecoming', '#MAGA', '#TrumpIsThePresident', '#dealwithit'], [], [], [], [], [], [], [], ['#MarcusTulliusCicero:', '#quote'], [], [], [], ['#iHQ'], [], [], [], [], [], [], [], [], [], [], [], [], [], [], [], [], [], [], [], [], [], [], [], [], [], [], [], [], [], [], [], [], [], [], [], [], [], [], [], [], [], [], [], [], [], [], [], [], [], [], [], [], [], ['#iHQ'], [], [], [], [], [], [], [], [], ['#SavingPrivateRyan', '#CaptainMiller:', '#movie', '#quote', '#quotes', '#TomHanks', '#StevenSpielberg'], [], [], [], [], ['#Gladiator', '#Maximus:', '#movie', '#quote', '#quotes', '#RussellCrowe', '#RidleyScott'], [], [], [], [], [], [], [], [], [], [], [], [], [], [], [], [], [], [], [], [], [], [], [], [], [], [], [], [], [], [], [], ['#risk'], [], [], [], [], ['#TheFollowing', '#JoeCarroll:', '#tvquotes', '#quote', '#quotes', '#JamesPurefoy'], [], [], [], [], [], [], [], ['#StephenKing', '#MrMercedes:', '#book', '#quote', '#quotes'], [], [], ['#EricChurch'], [], [], [], [], [], [], [], [], [], [], ['#Sharialaw=supremacist', '#cville', '#VApol'], ['#PresidentTrump'], [], [], ['#kids', '#scifi', '#CR4U'], [], [], ['#MAGA', '#TRUMP', '#POTUS45', '#hesmypresident', '#winning', '#ThankYouTrump', '#MakeAmericaGreatAgain', '#9thcircut'], [], [], [], [], [], [], [], [], [], ['#Constitution', '#America', '#NinthCircuit', '#MuslimBrotherhood'], ['#InspySusp', '#CR4U', '#AmazonKU'], [], ['#DPRK'], [], ['#truth'], [], [], ['#Israel'], [], [], [], [], [], [], [], [], ['#AvecMarine'], [], ['#ISIS'], [], [], [], ['#rantfortoday'], [], [], [], ['#tcot', '#pjnet', '#p2'], [], [], [], ['#fakenews'], [], ['#DayWithoutLatinos', '#MAGA', '#TrumpTrain', '#FakeNewsCNN', '#TapperDirtFile'], [], ['#CongressDoYourJOB', '#ConfirmGorsuch'], ['#CongressDoYourJOB'], ['#AmericaFirst'], ['#Diaspora'], ['#CongressDoYourJOB'], ['#SecDef', '#NATO', '#DefMin'], [], [], [], ['#Iran', '#IRGC', '#FreeIran'], [], [], [], ['#rantfortoday'], ['#TrumpImpeachmentParty'], ['#WednesdayWisdom', '#TCOT'], [], [], [], [], ['#JebWeCan', '#ILoveHillary'], ['#JebWeCan', '#ILoveHillary', '#IloveObama'], [], [], [], [], [], ['#rantfortoday'], ['#Wellington', '#NewZealand'], [], ['#MILO', '#MAGA', '#KAG', '#TCOT', '#LNYHBT', '#DrainTheSwamp', '#BuildTheWall'], [], ['#BREAKING', '#Dow'], [], [], ['#TrumpPressConference'], [], ['#democrats', '#illegalimmigration', '#liberals'], [], ['#democrats', '#illegalimmigration', '#liberals'], [], [], ['#tsa', '#travel'], [], [], [], ['#CIA'], [], ['#GoDaddy', '#H-1B'], [], ['#.'], ['#flynn'], ['#RT', '#TCOT', '#CCOT'], ['#RT', '#TCOT', '#CCOT'], ['#tcot', '#tlot', '#ccot', '#teaparty', '#cruzcrew'], ['#FCA', '#CCOT', '#SupportCoachKennedy', '#PJNET'], ['#ccot\"#ISIS', '#Muslim', '#Islam'], ['#CCOT', '#Democrats', '#Independents', '#politics'], [], ['#Communism'], [], [], [], ['#assclown', '#cuba'], [], [], [], ['#tcot', '#ccot', '#gop'], ['#tcot'], [], ['#ManUP!'], ['#BenCarson2016', '#PJNET', '#tcot'], ['#tcot', '#ccot'], [], [], [], [], ['#FakeStreamMedia'], ['#Peace'], [], [], [], ['#WorldTradeCenter', '#Quran.', '#MuslimBan'], [], ['#Swanigan', '#Purdue'], [], ['#Benghazi', '#PJNET'], ['#PJnet'], ['#Communist', '#Commies', '#UniteBlue', '#Tcot'], ['#TedCruz', '#CruzCrew', '#PJNET'], ['#ObamaCare?', '#PJNET', '#CCOT'], ['#2A', '#NRA', '#PJNET', '#teaparty', '#tcot', '#ccot', '#tgdn'], ['#SCPrimary', '#CruzCrew', '#PJNET'], [], [], [], [], [], ['#God'], [], [], ['#swedenincident', '#iamamuslimtoo'], [], ['#Obama', '#Syria', '#Libya', '#Israel', '#SaudiArabia', '#Iraq', '#Somalia', '#Yemen'], ['#tcot', '#p2'], [], ['#DavidParry', '#Trump,'], ['#Islam', '#America', '#SaudiArabia'], [], [], [], [], [], [], [], [], [], [], [], [], [], [], [], [], [], [], [], [], [], [], [], [], [], [], [], [], ['#iHQ'], [], [], [], [], [], [], [], [], [], [], [], [], [], [], [], [], [], [], ['#JasonAldean'], [], [], [], [], [], [], [], [], [], [], [], [], [], [], ['#SusanCollins�', '#LisaMakowsky�', '#BetsyDeVos', '#NEA☠'], ['#PressOn'], [], [], [], ['#Milo'], [], [], [\"#wakeupAmerica'\"], ['#BrownShirts'], [], [], ['#Benghazi', '#PJNET'], [], ['#SCOTUS', '#ccot', '#gop', '#lnyhbt', '#ocra', '#orpuw', '#pjnet', '#tcot', '#teaparty', '#tlot'], ['#PJNET'], [], ['#CruzCrew', '#PJNET'], ['#PJNET'], [], ['#iamamuslimtoo'], ['#swedenincident', '#iamamuslimtoo'], [], ['#rantfortoday'], [], [], [], [], ['#mondaymotivation', '#ProLife'], [], [], [], ['#InMemoryOfMalcolmX'], ['#Tucker'], [], [], [], [], [], [], [], ['#rantfortoday'], [], ['#McCain', '#MAGA'], [], [], [], [], [], [], ['#PJNET'], [], ['#HappyBirthdayGeorgeWashington'], ['#PJNET'], ['#2A', '#NRA', '#PJNET', '#tcot', '#tgdn', '#teaparty'], ['#HappyBirthdayGeorgeWashington'], ['#HappyBirthdayGeorgeWashington'], ['#Benghazi', '#PJNET'], ['#HappyBirthdayGeorgeWashington'], ['#HappyBirthdayGeorgeWashington'], ['#HappyBirthdayGeorgeWashington'], ['#…'], ['#C…'], ['#TeaParty', '#tcot', '#tlot', '#pjnet'], ['#VeryFakeNews'], [], [], ['#banislam', '#stopChristiangenocide'], [], [], [], [], [], [], ['#WakeupAmerica', '#CashinIn'], [], ['#TCOT', '#LNYHBT', '#MAGA', '#DrainTheSwamp', '#BuildTheWall'], ['#MAGA', '#KAG', '#TCOT', '#LNYHBT', '#DrainTheSwamp', '#BuildTheWall'], ['#MAGA', '#KAG', '#TCOT', '#LNYHBT', '#DrainTheSwamp', '#BuildTheWall'], ['#TCOT', '#LNYHBT', '#MAGA', '#DrainTheSwamp', '#BuildTheWall'], [], [], [], [], [], [], [], [], [], ['#cnnleaks'], [], [], [], [], [], ['#Isis', '#Israeli', '#Golan'], [], ['#AttorneyGeneral'], [], ['#ukraine', '#notheyarenotmuslim'], ['#Traitor', '#RetireMcCain', '#MAGA'], ['#Trump2016\"'], [], [], [], [], [], [], ['#Cruz'], [], [], ['#NVcaucus'], [], [], ['#CCCP2017', '#cpac', '#cpac2017', '#taxreturns'], ['#pedogGate', '#PizzaGate'], [], [], [], [], [], [], ['#tcot', '#tlot', '#PJNET'], ['#PJNET'], ['#tcot', '#tlot', '#ClimateC…'], ['#Benghazi', '#PJNET'], ['#Assimilate', '#PJnet'], ['#Catholic', '#tcot', '#pjnet'], ['#RT', '#CCOT', '#TEAPARTY', '#TCOT'], ['#PJNET'], ['#Cru…'], ['#TedCruz', '#…'], ['#PJNET'], ['#pjnet', '#tcot', '#ccot'], ['#TedCruz', '#CruzCrew', '#PJNET'], ['#pjnet', '#tcot', '#ccot'], ['#TCOT', '#PJNET'], [], [], [], [], [], [], ['#NBC', '#CNN', '#FakeNewsMedia'], ['#iamwarrior12', '#usnavy', '#americanpatriots', '#badassshirts'], ['#taharrush', '#FGM', '#BeatThemLightly', '#Sweden'], ['#capitalism.'], [], ['#WitchOfBenghazi'], ['#WitchOfBenghazi!'], [], [], [], [], [], [], ['#NationalReview'], ['#CruzCrew', '#TimeForTruth', '#MakeDCListen', '#TrusTed', '#CruzRising'], [], ['#GOPDebate'], ['#GOPDebate'], ['#chemtrails'], ['#GOPDebate'], [], ['#OpChemtrails', '#Chemtrails'], [], ['#2A', '#GOPDebate'], [], [], ['#CR4U'], [], ['#Inspiration', '#Latina'], [], [], [], [], [], [], [], [], [], ['#AlanDulles', '#MKUltra', '#CIA', '#OperationMockingbird', '#MSM', '#WakeUpAmerica', '#Jesus'], [], [], [], ['#HoHoWhatsThis?', '#WhatILearnedToday', '#TheFlakies'], ['#WhatILearnedToday'], ['#WhatILearnedToday'], ['#TheFlakies', '#Whatilearnedtoday'], ['#WeWonAwwwwwwwwwww', '#WhatILearnedToday'], [], [\"#Egypt's\"], [], ['#Point2Ponder:'], [], ['#Mcmaster', '#MichaelFlynn'], ['#Oscars'], [], [], ['#Tucker'], [], [], [], ['#PaynePoll'], ['#BYNR'], [], [], [], [], [], [], [], [], [], [], ['#FirstWorldProblems', '#GrowTheHellUp'], [], [], [], ['#OscarsSoWhite', '#OscarHasNoColor', '#Oscars'], ['#OscarsSoWhite', '#OscarHasNoColor', '#Oscars'], ['#OscarHasNoColor', '#Oscars'], ['#OscarsSoWhite.', '#OscarHasNoColor', '#Oscars'], ['#OscarsSoWhite', '#OscarHasNoColor'], ['#OscarHasNoColor'], ['#OscarHasNoColor'], ['#OscarHasNoColor'], ['#OscarRacism', '#NoBigDeal?', '#OscarHasNoColor'], ['#OscarsSoWhite.', '#OscarHasNoColor'], ['#OscarHasNoColor'], ['#OscarHasNoColor', '#Oscars'], ['#oscarsoblack', '#OscarHasNoColor'], ['#OscarsSoWhite', '#OscarHasNoColor'], ['#OscarHasNoColor', '#Oscars'], ['#OscarHasNoColor', '#Oscars'], ['#OscarSoWhite', '#OscarSoBlack', '#OscarSoAsia', '#OscarHasNoColor', '#Oscars'], ['#OscarHasNoColor', '#Oscars'], ['#OscarHasNoColor', '#Oscars'], ['#OscarHasNoColor', '#Oscars'], ['#OscarHasNoColor', '#Oscars'], ['#OscarHasNoColor', '#Oscars'], ['#OscarsSoWhite', '#OscarHasNoColor', '#Oscars'], ['#OscarHasNoColor', '#Oscars'], ['#OscarHasNoColor', '#Oscars'], ['#OscarHasNoColor', '#Oscars'], ['#OscarsSoWhite', '#OscarHasNoColor', '#Oscars'], ['#OscarHasNoColor'], ['#OscarsSoWhite', '#OscarHasNoColor'], ['#OscarHasNoColor'], ['#OscarsSoWhite', '#OscarHasNoColor'], ['#OscarHasNoColor'], [], [], ['#auspol', '#qt'], ['#British_MP', '#Saudi_Arabia', '#Yemen'], [], ['#روحانی', '#امیدکوکبی'], [], [], ['#CCOT'], ['#TCOT'], ['#RT', '#CCOT', '#TCOT', '#TEAPARTY'], ['#tcot', '#USlatino'], ['#Buzzfeed', '#UniteBlue', '#Tcot'], [], ['#SanctuaryCities'], [], [], [], ['#prolife', '#tcot'], ['#Seattle'], [], [], [], [], [], ['#RT', '#TCOT', '#CCOT'], ['#2A', '#NRA', '#ORPUW', '#PJNET', '#tgdn', '#tcot', '#ccot', '#teaparty'], ['#crookedcruz', '#NewHampshireForTrump', '#TrumpIsRight', '#TrumpWillWin', '#TrumpTrain', '#TrumpArmy', '#tcot', '#pjnet', '#ccot', '#nra', '#2A'], ['#ccot\"#islam', '#isis', '#ccot', '#Quran'], ['#CCOT', '#TeaParty', \"#NHprimary'\"], ['#tcot', '#PJNET'], ['#GUNGRABBER', '#CA'], [], ['#7News'], [], ['#BowlingGreenMassacre:'], [], ['#mondaymotivation'], [], ['#VIRGINIA', '#'], ['#Chicago'], [], [], [], ['#GoGators', '#ChompChomp'], [], [], ['#BoycottStarbucks'], ['#liberals'], [], ['#iFlyAlaska', '#fb'], [], ['#irony', '#fail', '#p2'], [], ['#auspol'], [], ['#WakeUpAmerica', '#PJNET', '#TCOT', '#BlueLivesMatter'], ['#FoxNews', '#teap…'], ['#WakeUpAmerica'], ['#PatriotsMarchOnDC', '#tcot', '#ccot', '#2A'], ['#PJNET', '#tcot', '#TeaParty', '#RedNationRising', '#Christian', '#Catholic'], ['#REDNATIONRISING', '#WAKEUPAMERICA'], ['#Wake…'], ['#tcot', '#ccot', '#gop'], ['#GayMarriage', '#SSM', '#UniteBlue', '#Tcot'], [], ['#Brotherhood.', '#RiseUp'], [], [], [], [], [], [], ['#Trump', '#Immigrationban', '#MAGA', '#Australia'], ['#Stonewall'], [], [], [], [], [], ['#twisted147'], ['#RaisedRight'], ['#wakeupamerica', '#tcot', '#pjnet', '#ccot', '#teaparty'], ['#BB4SP'], [], ['#No'], ['#TedCruz', '#CruzCrew', '#PJNET'], [], ['#TCOT', '#PJNET', '#Oathkeepers'], ['#TedCruz', '#CarlyFiorina', '#CruzCrew', '#PJNE…'], ['#SocialJustice', '#Tcot', '#UniteBlue', '#Liberals'], ['#tcot', '#ccot', '#gop'], ['#ccot\"#Muslim', '#isis', \"#Islam's\"], ['#MondayMorning', '#ProLife'], [], [], [], ['#BOYCOTTHOLLYWOOD:', '#SuperBowl'], ['#GOAT', '#Saints', '#SuperBowl'], [], [], [], [], [], [], ['#Falcons.'], ['#MuslimBrotherhood', '#Obama', '#DHS', '#Trump'], [\"#AmericaFirst.'\"], [], [], ['#Democrats'], ['#NASCARPICS', '#NASCAR'], [], [\"#WhatILearnedToday'\"], ['#WhatILearnedToday'], ['#WhatILearnedToday'], ['#WhatILearnedToday'], [], [], [], [], ['#Latvia', '#Baltics'], [], [], [], [], ['#BREAKING:'], ['#First100Days'], ['#SCOTUS', '#TheFive', '#RonaldReagan', '#MondayMotivation'], ['#Banghazi', '#FoxNews', '#oreillyfactor', '#TheFive'], [], [], [], ['#ConfirmSessions'], ['#SchoolChoice.'], [], [], [], [], ['#HoldTheFloor'], ['#CorettaScottKing'], ['#JeffSessions', '#tcot'], ['#CorettaScottKing', '#Warren'], [], ['#NewHampshireForTrump', '#MakeAmericaGreatAgain', '#Trump2016', '#TeamTrump', '#TrumpTrain', '#TrumpArmy', '#AltRight', '#CCoT', '#TCoT'], ['#tcot', '#pjnet', '#p2', '#ccot'], ['#Buzzfeed', '#UniteBlue', '#Tcot'], ['#SupremeCourt', '#SCOTUS', '#tcot', '#PJNET'], ['#WhatILearnedToday'], [], [], ['#WhatILearnedToday'], [], [], [], [], ['#8217;s'], [], [], [], [], [], [], [], [], ['#DearWhitePeople', '#Netflix'], ['#CreepyBillClinton'], [], [], [], [], [], [], [], [], [], [], ['#Russia'], ['#NewTrump'], ['#NSA', '#FISA'], [], ['#novelines', '#CR4U', '#ChristRomance'], ['#IARTG', '#EARTG', '#ian1'], [], [], [], ['#ICE', '#JointAddress'], ['#p2', '#tcot'], ['#phosphorus!', '#phosphorusdisaster'], ['#AmericanFalls', '#phosphorusdisaster'], ['#phosphorusdisaster'], ['#phosphorus', '#phosphorusdisaster'], ['#phosphorusdisaster'], ['#phosphorusdisaster'], ['#phosphorusdisaster'], ['#phosphorusdisaster'], ['#AmericanFalls', '#phosphorus!', '#phosphorusdisaster'], ['#phosphorusdisaster'], ['#phosphorusdisaster'], ['#phosphorusdisaster'], ['#phosphorusdisaster'], ['#phosphorusdisaster'], ['#phosphorusdisaster'], ['#phosphorus', '#phosphorusdisaster'], ['#phosphorusdisaster'], ['#phosphorusdisaster'], ['#phosphorusdisaster'], ['#phosphorusdisaster'], ['#phosphorusdisaster'], ['#phosphorusdisaster'], ['#phosphorusdisaster'], ['#phosphorusdisaster'], ['#government', '#phosphorusdisaster'], ['#phosphorusdisaster'], ['#phosphorusdisaster'], ['#phosphorusdisaster'], ['#phosphorusdisaster'], ['#phosphorus', '#phosphorusdisaster'], ['#phosphorusdisaster'], ['#phosphorusdisaster'], ['#phosphorusdisaster'], ['#phosphorusdisaster'], ['#phosphorusdisaster'], ['#phosphorusdisaster'], ['#phosphorusdisaster'], ['#phosphorusdisaster'], ['#TedCruz', '#Trump', '#ObamaCare', '#NeverTrump', '#CruzCrew'], [], ['#BokoHaram'], [], [], ['#TCOT', '#2A', '#CruzCrew', '#PJNET'], ['#SpringFever', '#obx', '#outerbanks', '#obxphotos', '#sunrise'], ['#Trump', '#Nevertrump', '#PJNET'], [], [], [], [], [], ['#DemDebate', '#DemDebateMiami'], ['#DemDebateMiami'], ['#DemDebate', '#DemDebateMiami'], ['#DemDebate?If', '#DemDebateMiami'], ['#DemDebate?', '#DemDebateMiami'], ['#DemDebate?', '#DemDebate', '#DemDebateMiami'], ['#DemDebate', '#DemDebateMiami'], [], [], [], [], [], ['#resistanceradio?', '#FakeNews'], [], ['#WhatILearnedToday'], ['#WhatILearnedToday', '#QuoteOfTheDay:'], [], [], [], ['#Breaking', '#Russian', '#Obama', '#ccot', '#tcot', '#libtards', '#PJNET'], ['#CCOT', '#Internet', '#PJnet', '#Students', '#College'], ['#COSProject', '#PJNET'], ['#Benghazi', '#Obamacare', '#NSA', '#IRS', '#NDAA', '#PressSpying', '#tcot', '#tgdn', '#PJNET', '#ccot'], [], [], ['#txlege'], [], [], [], ['#SubmarineDay,'], ['#IDIOTS.'], [], ['#POTUS', '#RepealAndReplace'], [], [], [], [], [], ['#Texas'], [], [], [], [], ['#racists'], [], [], ['#NoCyberCensorship'], ['#NoCyberCensorship', '#Malaysia', '#cybercensorship', '#freedomofexpression'], ['#NoCyberCensorship', '#CyberCensorship'], ['#NoCyberCensorship'], ['#NoCyberCensorship'], ['#NoCyberCensorship'], ['#NoCyberCensorship'], ['#NoCyberCensorship'], ['#NoCyberCensorship', '#freedomofspeech', '#Allrise', '#cyberabuse', '#film'], ['#NoCyberCensorship'], ['#NoCyberCensorship'], ['#NoCyberCensorship,'], ['#NoCyberCensorship!'], ['#Censorship.', '#NoCyberCensorship'], ['#NoCyberCensorship'], ['#NoCyberCensorship'], ['#NoCyberCensorship'], ['#PeoplePower'], [], [], [], [], [], [], [], [], [], ['#AllLivesMatter'], [], [], [], [], ['#PVV'], [], [], [], ['#WhatILearnedToday'], ['#morningjoe'], ['#WhatILearnedToday', '#HoHoWhatsThis'], [], [], [], [], [], [], [], [], [], ['#kellyanneMicrowave', '#Snowflakes'], [], ['#tcot', '#ccot', '#UN', '#Israel'], ['#kellyanneMicrowave'], ['#ReligionOfPeace', '#muslims.', '#Islam'], [], [], [], [], [], [], ['#tards', '#FakeNews'], [], [], ['#minnesota', '#pennsylvania'], [], [], [], [], [], [], [], [], [], [], ['#conservative', '#gop'], ['#ThursdayThoughts', '#tcot'], ['#Atlanta', '#NRA', '#2A', '#NRAAM2017'], [], [], ['#tcot', '#news', '#variety'], [], [], [], ['#13Hours', '#Benghazi', '#PJNET'], ['#Prayer'], ['#WakeUpAmerica', '#CruzCrew', '#TrusTed', '#TCOT', '#PJNET'], ['#TedCruz', '#CruzCrew', '#PJNET'], ['#cruzcrew', '#TrusTED', '#CruztoVictory', '#PJNET'], ['#DefundPP', '#PPSellsBabyParts', '#WakeUpAmerica', '#PJNET', '#TCOT', '#CCOT'], [], [], [], ['#DPRK'], [], [], [], [], [], [], [], [], ['#ICERaids', '#MAGA'], [], [], [], [], [], [], [], [], ['#TheStrain', '#EldritchPalmer:', '#quote', '#quotes', '#horror'], [], [], [], [], [], [], [], [], [], [], [], [], [], [], [], [], [], [], [], [], [], [], [], [], [], [], [], [], [], [], [], [], [], [], [], [], [], [], [], ['#tired'], [], [], [], [], [], [], [], [], [], [], [], [], [], [], [], [], [], [], [], [], [], [], [], [], [], [], [], [], [], [], [], [], [], [], [], [], [], [], [], ['#SupremeSacrificeDay'], ['#SupremeSacrificeDay'], ['#SupremeSacrificeDay'], ['#SupremeSacrificeDay'], ['#SupremeSacrificeDay'], ['#SupremeSacrificeDay!', '#Potter'], ['#SupremeSacrificeDay.', '#Gratitude.', '#Military', '#Soldiers'], ['#supremesacrificeday', '#quoteoftheday', '#BlueMagic'], ['#SupremeSacrificeDay'], [], [], ['#MAGA'], [], ['#travelban', '#KeepAmericaSafe'], ['#JihadiAsshole'], ['#KasichIsADickHead'], [], [], ['#PleaseRetweet'], [], [], [], ['#MAGA'], [], [], [], ['#AGENDA21', '#SUSTAINA…'], [], [], ['#WikiLeaks', '#corruption', '#RT'], [], [], ['#POLICESTATE'], [], [\"#boycottStarbucks'\"], [], [], ['#IDF:'], [], ['#2A', '#UnitedWeStand', '#GunPorn'], ['#JunkieUS'], ['#JunkieUS'], ['#JunkieUS'], ['#JunkieUS'], ['#JunkieUS'], [], ['#tcot'], [], ['#breaking-news'], [], ['#Leftist', '#SJW', '#migrant', '#Paris,'], [], [], ['#ChooseCruz', '#TedCruz'], [], ['#IAN1', '#BYNR'], ['#WhatILearnedToday'], ['#WhatILearnedToday'], ['#WhatILearnedToday', '#NonHumanBeings'], ['#Sessions', '#FastAndFurious'], [], [], [], ['#ImpeachSessions'], ['#NA', '#Cr4u', '#IAN1'], [], [], ['#trumpaddress', '#prolife'], ['#MakeAMovieFat'], ['#MakeAMovieFat'], ['#MakeAMovieFat'], ['#MakeAMovieFat'], ['#MakeAMovieFat'], [], [], ['#CNN'], ['#MNpol', '#WIright'], [], [], ['#ComeyHearing'], [], [], [], [], [], [], ['#MakeFranceGreatAgain!', '#LePen2017', '#AuNomDuPeuple'], [], [], ['#Trump'], [], [], [], ['#Russia', '#SaudiArabia', '#Iran'], ['#SPLC'], [], ['#COMEY'], [], [], ['#PrayForTheWorld', '#Brussels', '#IslamIsTheProblem', '#auspol'], ['#IslamIsTheProblem', '#prayforBrussels'], ['#IslamIsTheProblem', '#Brussels'], ['#IslamIsTheProblem', '#PrayforBrussels'], ['#IslamKills', '#StopIslam'], ['#SyrianRefugees', '#IslamKills', '#Brussels'], ['#IslamKills'], ['#IslamKills'], ['#IslamKills'], ['#IslamKills'], ['#Brussels', '#IslamKills'], ['#StopIslam', '#IslamKills'], ['#Brussels', '#IslamKills', '#prayforbrussels'], ['#IslamKills\"'], ['#IslamKills', '#Brussels'], ['#IslamKills', '#PrayForBrussels', '#Brussels'], ['#IslamKills'], ['#Brussels', '#IslamKills'], ['#SyrianRefugees', '#IslamKills', '#StopIslam'], ['#Brussels', '#IslamKills'], ['#IslamKills'], ['#IslamKills'], ['#IslamKills', '#StopIslam'], ['#IslamKills', '#Brussels'], ['#IslamKills', '#PrayForBrussels', '#StopIslam'], ['#IslamKills', '#StopIslam'], ['#IslamKills'], ['#IslamKills'], ['#IslamKills'], ['#IslamKills', '#PrayForBrussels', '#StopIslam'], ['#IslamKills'], ['#StopIslam', '#IslamKills'], ['#refugees', '#Cologne.', '#IslamKills', '#Brussels'], ['#IslamKills', '#prayforbrussels', '#prayforbelgium', '#StopIslam'], ['#IslamKills', '#PrayForBrussels'], ['#StopIslam', '#IslamKills'], ['#IslamKills', '#Brussels'], [], ['#StopIslam', '#IslamKills'], [], [], [], [], ['#UPDATE', '#MASA', '#TRUMP'], [], [], [], [], [], ['#Chicago'], [], ['#SchoolChoice', '#HomeSchool'], [], ['#SmokeAndMirrors', '#Trump2016', '#TrumpTrain.'], [], [], ['#tcot', '#news', '#variety'], ['#HumanRights', '#UniteBlue', '#Tcot'], [], [], [], ['#MakeSexAwkwardIn5Words'], ['#Trump’s', '#Hillary’s'], [], ['#UK', '#comingtoCanada', '#islam', '#religionofpeace', '#sharialaw'], [], [], ['#MAGA'], [], [], ['#LockHerUp'], [], ['#ConfirmGorsuch', '#SCOTUS'], [], [], ['#KillTheBill'], [], [], ['#deport'], [], [], ['#Yazidi', '#Lalish'], [], [], ['#wakeupAmerica', '#tcot', '#ccot', '#cashinin'], ['#RyanCare', '#FreedomCaucus'], [], ['#StepsToReverseClimateChange', '#StepsToReverseGlobalism'], ['#StepsToReverseClimateChange'], [], [], [], ['#CupCakes', '#offended', '#HollywoodElite', '#NannyState'], [], [], [], [], [], [], ['#akleg', '#Alaska'], ['#FoodTruck'], [], [], [], [], ['#CNNsotu'], [], [], ['#Marines', '#WhiteHouse', '#MAGA'], [], ['#NotHappening'], [], [], [], [], [], [], ['#Vimeo'], ['#joy', '#jesustweets', '#Latina'], [], [], ['#WeThePeople', '#GOP(e)', '#WakeUpAmerica', '#tcot'], ['#WeThePeople', '#tcot', '#WakeUpAmerica', '#GOP(e)', '#ccot', '#pjnet'], ['#WakeUpAmerica.', '#COSProject', '#PJ…'], ['#WakeUpAmerica', '#Fifty50'], ['#CruzCrew!', '#PrayForTed'], [], [], [], ['#Muslim', '#MuslimWomensDay', '#MuslimBan', '#NoBanNoWall'], [], [], [], ['#MAGA', '#Trump', '#AmericaFirst'], [], [], [], [], ['#FullRepeal', '#PJNET'], [], [], [], ['#tcot', '#ccot', '#gop', '#maga'], [], [], [], [], ['#MAGA', '#PJNET', '#travelban'], ['#rootandbranch', '#justwords', '#liar'], [], [], [], [], ['#AHCA'], ['#CR4U'], [], [], [], [], [], [], [], ['#MaverickMcCainWarMonger'], [], [], [], [], [], ['#TGIF', '#sweetromance', '#CR4U', '#IAN1'], [], ['#WhatILearnedToday'], ['#CR4U'], ['#ScottHarvath'], [], ['#Politics', '#religioninthemedia', '#MAGA'], [], [], [], ['#InvestigateShadowGovernment'], [], ['#FBI'], [], ['#ThursdayThoughts', '#prolife'], [], [], [], [], [], [], [], [], [], [], [], [], [], ['#MarioWoods.', '#BlackLivesMatter'], ['#STAYWOKE'], ['#BlackLivesMatter'], ['#BlackLivesMatter', '#stopkillingus'], ['#BlackLivesMatter'], ['#staywoke'], ['#BlackLivesMatter'], ['#changetheworld.', '#inspiring', '#mlk', '#justice', '#blacklivesmatter'], [], ['#BlackLivesMatter?⏩@LorettaLynch'], ['#DrainTheSwamp'], [], [], ['#TuckerCarlsonTonight'], [], [], ['#BrokenArrow', '#GunsSaveLives', '#2A'], [], [], [], [], ['#FakeNews'], [], [], [], [], [], ['#Feminists'], [], ['#rudeflightattendants'], [], ['#JewishCommunityCenters'], [], [], [], ['#ObamaGate'], [], [], [\"#obamagate'\"], ['#Wiretaps,', '#SlushFunds', '#American', '#ObamaGate?'], [], [], ['#TheResistance', '#RussiaGate', '#TrumpRussia', '#MAGA', '#Trump'], [], ['#veryfakenews'], ['#FAIL'], [], [], [], [], ['#GOPe�', '#twoword', '#Trump', '#neverromney', '#NeverMitt', '#AlwaysTrump'], ['#tcot', '#WakeUpAmerica', '#ccot'], ['#TCOT'], [], [], [], ['#UK', '#usmarines', '#USArmy', '#USNavy', '#uscoastguard', '#USAirForce', '#vets', '#veterans'], [], [], ['#Hillary', '#Trump', '#AmercaFirst'], [], [], [], [], [], ['#Latest', '#Colorado:', '#Michigan:', '#Wisconsin'], [], ['#usmarines', '#USArmy', '#USNavy', '#uscoastguard', '#USAirForce', '#vets', '#veterans', '#VetsAgainstTrump', '#veteransunitedproblems'], [], ['#VoteTrump', '#MAGA'], ['#rantfortoday'], [], ['#rantfortoday', '#ccot'], [], [], [], [], [], [], ['#Tyrrany', '#TrumpsArmy'], ['#ObamaWiretappedTrump'], [], [], [], ['#COMSEC', '#OPSEC'], ['#SaturdayNight'], [], [], [], [], ['#ObamaGate'], [], [], ['#FBI', '#CIA', '#Intel', '#Comey'], ['#Trump.', '#ObamasAmerica', '#RedNationRising'], [], [], [], [], [], [], [], [], [], ['#NakedAndAfraid'], ['#HillaryClinton', '#FLorida', '#Michigan'], [], [], ['#IslamistheProblem', '#StopRapeJihad', '#IslamisaCult', '#NoMuslims'], ['#twitchy', '#feedly'], [], ['#HarryReid'], [], [], [], [], ['#ChuckSchumer', '#ElizabethWarren', '#NancyPelosi', '#STHUPChuck', '#MAGA'], [], ['#Unite4USA'], ['#ReadTheBill', '#Obamacare', '#RepealAndReplace', '#readthebill', '#POTUS'], ['#morningjoe'], [], [], [], [], [], [], [], [], [], [], [], [], [], [], ['#AllenWestRepublicDaily!', '#tcot', '#russiagate'], ['#g8m'], [], [], [], ['#MAGA', '#TCOT', '#LNYHBT', '#DrainTheSwamp', '#BuildTheWall', '#IWD2017'], [], [], [], [], ['#adaywithoutwomen..These'], ['#EU'], ['#TrumpTrain', '#MAGA'], [], [], [], [], ['#OTNN', '#weshowup', '#daywithoutawoman'], ['#DumpRyan'], [], [], ['#KFC'], ['#DayWithoutAWoman'], [], [], [], [], [], [], [], [], [], [], ['#saturdaymorning', '#ProLife'], ['#tcot'], [], ['#SCOTUS', '#ConfirmGorsuch', '#PJNET'], ['#notgreatjobtitles:'], ['#Turkey', '#Iran'], ['#hackers.'], [], [], ['#rantfortoday', '#ccot'], ['#unitedAIRLINES', '#flight3411'], ['#rantfortoday', '#ccot'], [], ['#TheFive'], [], [], [], [], ['#SyriaStrikes'], [], [], [], [], [], [], ['#rantfortoday', '#ccot'], ['#rantfortoday', '#ccot'], [], [], [], [], [], [], ['#SeemsLikeAMispricing'], ['#fail'], [], [], ['#United', '#UnitedFail'], [], [], [], ['#Faith'], ['#Trump'], ['#thanks'], ['#rantfortoday', '#ccot'], [], ['#rantfortoday', '#ccot'], [], ['#abortion.', '#UnbornLivesMatter', '#PJNET'], [], [], [], [], [], ['#African', '#MuslimMigrants', '#Milan', '#Italy.', \"#EU's\", '#bloodyHELL.'], [], ['#WhoKilledSethRich', '#CrimeAndPunishment', '#LawEnforcement'], ['#Iranian', '#iranElection', '#Iran'], [], ['#Russia', '#Ivanka'], [], ['#BreakingNews'], ['#rantfortoday'], [], [], [], [], [], [], ['#DefundPBS'], [], [], ['#COMEY'], [], [], [], [], [], [\"#MAGA'\"], ['#rantfortoday'], [], [], [], ['#MOAB'], [], ['#MOAB', '#ObamasLegacy', '#DemocratLiesMatter', '#VoteGOP', '#MAGA'], [], [], [], [], [], ['#thanks'], [], [], [], [], ['#Romance', '#FREE', '#CR4U'], [], ['#JailbirdLERNER'], ['#CR4U', '#Romance', '#MG', '#YA'], [], [\"#CashinIn'\"], ['#libertymatters'], ['#obama', '#JVteam', '#ISIS', '#radical', '#islam'], [], [], ['#Gators'], [], [], [], [], [], [], [], ['#Soros’s'], ['#TheTenCommandments,'], [], [], [], [], [], ['#ResurrectionSunday'], [], [], [], ['#wednesdaywisdom', '#TrumpandthePress', '#CNN', '#MSNBC', '#NYTimes'], [], [], [], [], ['#MOAB'], ['#TheDemocrats'], [], [], [], [], [], [], [], ['#BostonMarathon', '#morningjoe', '#MotivationalMonday', '#banislam', '#MAGA', '#ObamaFail'], [], [], ['#ResurrectionSunday'], [], ['#PresidentTrump', '#SundayFutures', '#MAGA'], [], [], ['#GA06', '#DrainTheSwamp', '#BobGray4Congress'], [], [], [], [], [], [], [], [], [], [], [], [], [], [], ['#CR4U'], [], [], [], [], [], [], [], [], ['#PBGrp'], [], [], ['#ObamAlinsky.', '#SusanRice'], [], ['#Trump'], ['#CR4U'], [], [], ['#Flipthe6th...'], [], [], [], ['#Wrestlemania.'], [], ['#Dems'], [], ['#resist', '#WomensRights', '#MAGA', '#Islam', '#idsconf'], ['#kellyanneconway', '#judgejeanine', '#standwithtrump', '#ripmsm'], ['#DebatTF1', '#World4Marine'], [], [], [], [], [], [], [], [], [], [], [], [], [], [], ['#targetpractice'], [], ['#TheFive', '#banislam', '#MAGA'], [], [], ['#BuildTheWall', '#MAGA', '#banislam', '#wednesdaywisdom'], [], [], [], [], [], [], ['#Oreilly', '#tcot'], ['#Breaking'], ['#science'], [], [], [], [], [], [], [], ['#FakeMurderCharges'], [], [], ['#smolensk'], [], [], ['#NewRelease', '#KindleUnlimited', '#CR4U'], [], [], [], ['#TEAPARTY'], [], ['#ShariaLaw', '#Delaware👉State', '#MuslimPrayer,#Imam', '#PledgeOfAllegiance', '#BanSharia'], [], [], [], [], ['#ourfuture', '#shareCare', '#leadingwithheart'], [], [], [], [], [], ['#CR4U'], [], [], [], [], [], ['#Progressive/#Liberals,', '#TrumpRussia', '#SundayMorning'], [], [], [], [], ['#EarthDay'], ['#EarthDay', '#AdoptThePlanet:'], ['#Antifa', '#EricClanton'], [], [], [], [], [], ['#2A', '#NRA', '#MAGA', '#PJNET'], [], [], ['#readlocal'], [], [], [], ['#TheFive', '#FoxNews'], ['#Paris', '#FridayFeeling'], ['#FrenchElections:'], [], [], [], [], ['#AndrewMcCabe'], [], [], [], [], [], [], ['#MAGA', '#WomensRights', '#ISIS'], [], [], [], [], [], [], [], [], ['#MELANIATRUMP', '#HappyBirthdayMelania'], [], ['#trumprussia', '#resist'], [], [], [], [], [], [], [], [], [], [], ['#Cleveland'], [], ['#UnhingedDemocRATS', '#Hypocrites', '#governmentshutdown'], [], ['#VoteKarenGA6', '#MAGA', '#MolonLabe', '#TCOT', '#GaGOP', '#LEO'], [], [], [], ['#adhd', '#trumprussia'], [], [], [], [], [], [], ['#Macedonia'], [], [], [], [], ['#obama', '#Left'], ['#MAGA', '#KAG', '#TCOT', '#LNYHBT', '#NUCLEAR'], [], [], [], [], [], [], ['#PJNET'], [], ['#filmmatters'], ['#MAGA'], [], [], [], [], ['#Yankees'], [], ['#NFLDraft!', '#GoGators', '#GatorMade'], [], [], [], ['#NFLDraft!', '#GoGators', '#GatorMade'], [], ['#Gators'], ['#Saints', '#SaintsDraft'], ['#FridayFeeling'], [], ['#MELANIA'], [], [], [], [], ['#abortion'], [], ['#SusanRice', '#EvelynFarkas'], ['#SusanRice'], ['#MondayBlogs', '#MS'], [], [], [], [], ['#SusanRice', '#obamaSpyRing'], ['#ISIS', '#NATO', '#Turkey'], [], [], [], ['#ISIS', '#ISIL'], [], [], [], [], [], [], ['#BREAKING', '#Iraq', '#Hatra', '#Mosul', '#PMU.'], [], ['#HISTORY?', '#PJNET'], [], ['#AmericanFreedomLawCenter', '#AFLC', '#March2017'], ['#OSU', '#Bears', '#Titans'], [], ['#virginia', '#abortion'], [], [], [], ['#tcot', '#ccot', '#gop', '#maga'], [], [], [], [], [], [], ['#Boeing', '#Iran'], [], ['#Obamacare', '#Democrats☭.'], [], ['#FreeOurPoliticalPrisoners', '#WeDemandBundyRanchTrialDismissalNow', \"#WhyIsThisBeingAllowedToHappen'\"], ['#SusanRiceUnmasked', '#SusanRice', '#ObamaGate'], [], [\"#TrumpForceOne'\"], [], ['#OBAMA', '#HILLARY....2', '#ArrestObama', '#ArrestHillary', '#Try4Treason'], ['#MAGA', '#AmericaFirst'], [], ['#RT', '#tcot', '#BillWarnerPhD'], [], ['#rantfortoday', '#ccot'], [], [], [], [], [], [], ['#GODSPEED'], [], ['#p2', '#tcot'], [], ['#SusanRice'], [], [], ['#AllBite18'], [], [], [], [], ['#Trump', '#NYPrimary', '#PAPrimary', '#MDPrimary', '#DEPrimary', '#CTPrimary'], [], ['#VoteTrump', '#TheTrumpTrain'], [], [], ['#CCOT', '#PJNET', '#tyranny'], ['#kidlit', '#ASMSG', '#CR4U'], ['#FF'], ['#FF'], ['#AllenWestRepublicDaily!', '#maga'], ['#SyriaStrikes', '#homeland'], [], [], [], [], [], ['#Trump', '#Syria', '#Assad', '#Russia'], [], [], [], ['#Inspirational', '#CR4U', '#tw4rw'], [], [], [], [], [], [], [], ['#onlyinAlaska'], [], ['#thanks'], [], [], ['#Journey', '#RockHall2017'], ['#FireKushner'], [], [], [], [], [], ['#CR4U', '#Romance', '#MG', '#YA'], [], [], [], ['#gadistrict6', '#gagop', '#gapol', '#ga06', '#ga6th', '#MAGA'], [], ['#SanctuaryCiities', '#CommonSense', '#MAGA'], ['#automation'], [], [], ['#TGDN'], [\"#LiberalLogic'\"], [], [], [], [], ['#thanks'], ['#Poland'], [], [], ['#MayDay2017'], [], [], [], [], [], ['#1stAmendment,'], [], [], [], ['#TrumpEffect'], [], [], [], [], ['#God', '#R…'], ['#PJNet', '#TEAParty', '#tcot'], ['#tcot', '#COS…'], ['#C…'], ['#TedCruz.', '#CruzCre…'], ['#2ndAmendmentDay'], ['#2ndAmendmentDay'], ['#2ndAmendmentDay'], ['#2ndAmendmentDay'], ['#RenewUS', '#PJNET'], ['#2ndAmendmentDay'], ['#HonorForTheBrave'], ['#HonorForTheBrave', '#BlueLivesMatter'], ['#HonorForTheBrave'], ['#HonorForTheBrave'], ['#HonorForTheBrave'], ['#HonorForTheBrave'], ['#HonorForTheBrave'], ['#HonorForTheBrave'], ['#MilitarySpouseAppeciationDay', '#Military', '#Veteran', '#HonorForTheBrave'], [], [], ['#JordanEdwards'], [], [], ['#tcot', '#ampat'], [], [], [], [], [], [], [], ['#Opcrewcut'], [], [], ['#Trump', '#Putin', '#KimJongUn,', '#Merkel.'], [], [], [], ['#news'], ['#money'], ['#breaking', '#LA'], ['#news'], ['#money'], ['#local'], ['#local', '#Memphis'], ['#local'], ['#hockey'], ['#science'], ['#sports'], ['#politics'], ['#politics'], ['#RedNationRising', '#tcot', '#PJNET'], ['#2ADefender', '#2A', '#RedNationRising', '#tcot', '#pjnet'], ['#TeaParty', '#TedCruz.', '#TCOT', '#CCOT', '#CruzCrew', '#PJNET'], ['#TedCruz', '#TrusTED', '#CruzCrew', '#PJNET'], ['#pjnet'], ['#ThinBlueLine.', '#WakeUpAmerica', '#PJ…'], ['#…'], [], [], ['#MakeMeABenzac', '#sweeps'], ['#Hillary2016'], [], ['#WakeUpAmerica', '#JunkScience', '#CoastGuard.'], [], [], [], ['#tcot'], [], [], ['#LetsGoMagic', '#SportsRoadhouse'], [], ['#FlashbackFriday'], [], [], ['#iacaucus'], ['#Obama', '#ClimateChange', '#JunkScience', '#TCOT', '#PJNET��'], [], [], ['#FF'], ['#Hastert', '#Clinton', '#OrgyIsland.'], ['#FIFACongress', '#FIFAelection', '#FIFA', '#Blatter', '#FIFAgate', '#FIFAcorruption'], [], [], [], ['#ff'], ['#climatechange', '#remarkable'], [], [], [], ['#ClimateChange', '#JunkScience', '#PJNET'], [], ['#WakeUpAmerica', '#FreeAmirNow', '#PJNET'], [], ['#Hancock', '#K9', '#PETA', '#dog.', '#Lucas:'], [], [], ['#MakeMeABenzac', '#sweeps', '#GettingHypeAtDigiFest'], ['#NBA'], ['#Hastert'], [], ['#FlashbackFriday'], [], [], ['#CruzCrew', '#TedCruz'], ['#1010Means', '#Economy', '#PJNet', '#RaiseTheWag…'], ['#WashingtonCartel', '#TedCruz', '#CruzCrew', '#PJNet'], ['#CruzCrew', '#PJNET'], ['#tcot', '#pjnet'], [], ['#COMEY:', '#FineSTAIN:'], [], [], [], [], [], [], [], [], [], [], ['#Pathetic.'], [], ['#Hungary', '#maga', '#ukip'], [], ['#Jesus'], [], [], ['#WeThePeople', '#tcot', '#WakeUpAmerica', '#ccot', '#HillaryClinton', '#GOP(e)'], [], ['#rantfortoday', '#ccot'], ['#rantfortoday', '#ccot'], ['#CR4U'], [], ['#AHCA?'], ['#thanks'], ['#CR4U', '#ChristRomance'], [], [], [], [], [], ['#MrPresident', '#BuildTheWall'], [], ['#Shandong'], ['#LetMyPeopleGo', '#FreeKozlovskyy'], ['#kurds'], [], [], ['#SenWarrensIndianName'], ['#rantfortoday', '#ccot'], ['#rantfortoday', '#ccot'], ['#rantfortoday', '#ccot'], ['#rantfortoday', '#ccot'], [], ['#Fightfor15', '#PJNET', '#TCOT'], [], [], [], ['#bestselling', '#series', '#BYNR', '#amreading', '#ChristRomance'], [], [], [], [], [], [], ['#LORD', '#Amen', '#IAmChristian�✝'], [], [], ['#Trump2016'], ['#HappyBirthdayHarryTruman'], ['#HappyBirthdayHarryTruman'], ['#HappyBirthdayHarryTruman'], ['#HappyBirthdayHarryTruman'], ['#sports'], ['#local'], ['#news'], ['#showbiz'], ['#news'], ['#sports'], ['#business'], ['#news'], ['#news'], ['#news'], ['#health'], ['#local', '#SanDiego'], ['#news'], ['#news'], ['#local'], ['#Texas', '#news'], ['#money'], ['#local', '#news'], ['#business'], ['#tech'], ['#news'], ['#news'], ['#Chicago', '#news'], ['#news'], ['#health'], ['#politics'], ['#news'], ['#news'], ['#Miami', '#local'], ['#news', '#Chicago'], ['#FloridaMan', '#pizza', '#RoommieProblems'], ['#TB', '#Tenessee'], [], ['#Business', '#Honolulu', '#808', '#News'], [], ['#News', '#Maui', '#Ocean', '#808'], [], ['#NBAFinals', '#DubNation'], ['#News', '#Honolulu'], [], ['#Health'], [], [], [], [], ['#TopVideo'], ['#TopNews'], [], [], [], [], ['#FinancialCrisis'], ['#TopBlogs'], ['#WorldVideo'], ['#Products'], [], [], ['#WorldNews'], [], ['#TopVideo'], ['#WorldNews'], [], [], ['#TopNews'], ['#TopVideo'], ['#Republicans'], [], ['#Celebrities'], [], ['#2016Election'], ['#2016Election'], ['#2016Election'], ['#2016Election'], [], ['#sports'], ['#money'], ['#local', '#Memphis'], ['#hockey'], ['#NewYork'], ['#local'], ['#sports'], ['#sports'], ['#news'], ['#Atlanta', '#Falcons’'], ['#national'], ['#health'], ['#news'], ['#health'], ['#local', '#news'], ['#breaking', '#LA'], ['#business'], ['#DylannRoof', '#RainbowDash'], ['#DylannRoof'], ['#DylannRoof'], ['#DylannRoof'], ['#DylannRoof'], ['#SurveillanceDay'], ['#SurveillanceDay'], ['#PatriotAct'], ['#SurveillanceDay'], ['#PatriotAct'], ['#money'], ['#news'], ['#sports'], ['#local', '#news'], ['#crime'], ['#news'], ['#NewYork'], ['#local'], ['#politics'], ['#sports'], ['#baseball'], ['#news'], ['#Texas', '#news'], ['#health'], ['#business', '#news'], ['#politics'], ['#news'], ['#local', '#news'], ['#politics'], ['#tech'], ['#politics'], ['#local', '#news'], ['#news'], ['#health'], [], [], [], [], [], [], [], ['#Bennifer'], [], [], [], [], [], ['#GhostFleet'], [], [], [], [], [], ['#BenAffleck', \"#JenniferGarner's\"], [], ['#TCOT', '#PJNET'], [], [], ['#surveillance', '#fashion:'], [], [], [], [], [], [], [], [], ['#HowToKeepYourGirlHappy'], [], [], ['#fox5atl'], ['#selfie.'], [], [], ['#USAvGER'], [], [], [], ['#Blackhawks'], ['#fox5atl'], [], [], ['#tcot'], [], ['#HugYourCatDay!'], [], [], [], [], [], [], [], [], [], [], [], [], [], [], [], [], [], ['#Anti-Veterans', '#KaysJewelers', '#JaredGalleria', '#JEWELERS', '#JoeSpagnola1634'], [], [], [], ['#USA'], [], [], ['#blacklivesmatter'], ['#ThisIsACoup'], ['#BestSeller', '#students', '#bullying'], [], [], [], [], [], [], [], [], [], ['#IBDeditorials'], [], [], ['#Sinister2'], [], [], [], [], ['#ComicCon2015', '#SupermanVsBatman'], ['#PlutoFlyby'], ['#news'], ['#business', '#news'], ['#politics'], ['#sports'], ['#sports'], ['#business'], ['#news'], ['#celebs'], ['#local'], ['#politics'], ['#news'], ['#local', '#news'], ['#news'], ['#Texas'], ['#local'], ['#politics'], ['#news', '#Chicago'], ['#sports'], ['#local', '#news'], ['#news'], ['#sports'], ['#politics'], ['#news'], ['#news'], ['#politics'], ['#news'], ['#money'], ['#politics'], ['#breaking'], ['#politics'], ['#news'], ['#local', '#Atlanta'], ['#news'], ['#news'], ['#breaking', '#LA'], ['#entertainment'], ['#news'], ['#sports'], ['#politics'], [], ['#TopNews'], [], [], ['#US', '#news'], ['#TopNews'], ['#business'], ['#Syria', '#Christian,'], ['#US', '#news'], ['#business'], ['#world', '#news'], ['#politics'], ['#tech'], ['#business'], ['#US', '#news'], ['#TopNews'], ['#Wisconsin', '#NationalGuard', '#ChattanoogaShooting'], ['#profits:'], ['#immigration'], ['#IfICouldTalkToGod'], ['#sports'], ['#politics'], ['#sports'], ['#news'], ['#breaking'], ['#tech'], ['#Cleveland', '#sports'], ['#local', '#SanDiego'], ['#health'], ['#news'], ['#sports'], ['#politics'], [], [], [], ['#ChangeTheWorldIn5Words'], [], ['#Benghazi'], ['#Prolife'], [], ['#prolife', '#PJNET', '#abortion'], ['#PJNET'], ['#TrusTed', '#CruzCrew', '#PJNET', '#CCOT'], ['#PJNET'], [], ['#HumaAbedin:'], [], ['#ConservativesUnite!', '#AbsouteTruth', '#DNCBooedGodOnTelevision', '#Blasphemous', '#pjnet'], ['#WomensEmpowerment?', '#sad'], [], [], ['#NRA', '#2A', '#PJNET'], [], ['#PJNET'], ['#PJNET'], ['#2A', '#PJNET'], [], [], [], [], ['#tcot', '#gop', '#ccot'], ['#HillaryClinton'], ['#PJNET'], [], ['#PJNET', '#CCOT'], [], [], [], ['#DemPlatform', '#Climate', '#PJNET', '#ClimateChange'], ['#Latinos', '#…'], [], [], ['#TCOT'], ['#ImWithHer'], ['#PJNET'], ['#ImWithHer'], ['#abortion', '#prolife', '#Texas', '#DefundPP', '#PJNET'], ['#ImWithHer', '#IHateMyCountryAndWantItDestroyed'], ['#Benghazi'], [], [], [], [], [], ['#BadCharitiesToDonateTo'], ['#news'], ['#news'], ['#local', '#Atlanta'], ['#news'], ['#politics'], [], [], ['#MAGA', '#TrumpPence2016', '#America1st', '#ImNotWithHer', '#ClintonCorruption', '#HillarysUnfit'], ['#Hillary', '#IMNOTWITHHER', '#neverhillary'], [], [], ['#ISIS', '#targets', '#iceisis', '#opiceisis'], [], ['#COSProject', '#PJNET'], ['#ISIS', '#WakeUpAmerica', '#PresidentTrump', '#NeverHillary', '#tco...'], ['#Benghazi'], ['#Benghazi'], ['#SyrianRefugees', '#Orlando', '#Hillary'], ['#TrumpBecause'], ['#TrumpBecause', '#Trump2016'], ['#TrumpBecause', '#ImmigrationAction'], ['#TrumpBecause', '#TrumpForPresident'], ['#TrumpBecause', '#MakeAmericaGreatAgain', '#Trump2016'], ['#TrumpBecause', '#Bush!'], ['#TrumpBecause'], ['#TrumpBecause'], ['#TrumpBecause', '#Trump.', '#Trump2016'], [], [], [], [], [], ['#GOPDebate', '#BenCarson', '#TedCruz', '#tcot', '#GOP', '#MarcoRubio', '#JebBush'], ['#tcot', '#USlatino'], ['#RenewUS', '#PJNET', '#CCOT', '#TCOT'], ['#tcot', '#C…'], ['#trump', '#bitcoin', '#tcot', '#trump2016', '#teaparty', '#libertarian'], ['#Politico', '#Politics', '#UniteBlue', '#Tcot'], ['#sports'], ['#local', '#news'], ['#sports'], ['#news'], ['#news'], ['#news'], ['#sports'], ['#health'], ['#sports'], ['#NewYork'], ['#local'], ['#news'], ['#news'], ['#local'], ['#Cleveland', '#news'], ['#local', '#SanDiego'], ['#local'], ['#news'], ['#breaking', '#LA'], ['#health'], ['#local'], ['#health'], ['#baseball'], ['#sports'], ['#tech'], ['#ga'], ['#ReleaseClintonsMedicalRecords'], ['#HillaryForPrison'], ['#ISIS', '#GameofThrones'], [], [], ['#Orlando,', '#PJNET'], [], [], [], [], ['#Saudi', \"#Iraq's\"], ['#ks01)'], ['#WeAreTheMedia', '#tcot', '#ccot', '#PJNET'], ['#tcot', '#PJNET'], ['#PJNET'], ['#PJNET'], [], ['#VoteTrump', '#NeverHillary'], ['#NeverHillary'], ['#AlwaysTrump'], ['#ImOnlyAwakeBecause', '#NeverHillary'], [], [], [], ['#ReasonIAmNotPresident'], ['#ReasonIAmNotPresident'], ['#ReasonIAmNotPresident'], ['#ReasonIAmNotPresident'], ['#ReasonIAmNotPresident'], [], [], [], [], ['#Elizabeth'], [], ['#Elizabeth', '#njtransit', '#NYCExplosion', '#StCloud', '#Hillary?', '#Hillary', '#Trump', '#Change'], ['#Elizabeth'], ['#Elizabeth', '#realdonaldtrump'], ['#Elizabeth'], [], ['#Elizabeth'], ['#Bombs', '#Elizabeth,', '#nj', '#NYC', '#NYCExplosion'], ['#Elizabeth,', '#NJ:'], ['#Elizabeth'], [], ['#WhatILearnedToday', '#NoTruthToTheRumor', '#ThatEffinDog'], [], ['#Chelsea'], [], ['#NeverHillary'], [], [], [], [], [], ['#WhatILearnedToday'], [], [], ['#CNCNet', '#rednationrising', '#pjnet', '#tcot', '#2a'], [], [], [], [], [], [], [], [], [], [], [], [], [], [], [], [], ['#Chelsea', '#Orlando', '#CrossroadsMall', '#SanBernadino'], [], [], ['#tcot', '#WakeUpAmerica', '#ORPUW', '#ccot'], ['#TrumpPence16'], ['#COSProject', '#PJNET'], [], [], [], [], [], [], ['#rantfortoday', '#ccot'], [], [], [], [], ['#BREAKING:'], [], [], ['#Police'], ['#Waterbording'], ['#thanks'], [], [], [], [], ['#DC', '#yestoIANA', '#ICANN', '#1A', '#islam'], [], [], [], [], ['#NeverHillary', '#securetheborder'], [], ['#HillarysMigrants.'], ['#TREASON'], [], [], [], [], [], ['#POLICE'], [], [], [], [], ['#Blacks4Trump'], [], [], [], [], [], [], [], [], [], [], ['#DickingBimbos'], [], [], [], [], [], [], [], [], ['#Elizabeth'], [], ['#HillaryClinton'], [], [], [], [], ['#MyAttitudeRightNow', '#Trump'], [], [], [], ['#MAGA', '#NoGlobalism', '#NeverHillary', '#Trump', '#trumptrain', '#WakeUpAmerica'], ['#FF'], [], [], [], [], ['#FF'], ['#FF'], [], ['#MakeAmericaGreatAgain'], [], [], ['#FF'], [], [], [], ['#OutNumbered', '#SOCIALIST☭'], ['#Alien'], [], []]\n",
      "\n",
      "# hashtags: 5444\n"
     ]
    }
   ],
   "source": [
    "print(\"author: \", list(hashtags_dic.keys())[0])\n",
    "print(\"\\nhashtags: \", list(hashtags_dic.values())[0])\n",
    "print(\"\\n# hashtags:\", len(list(hashtags_dic.values())[0]))"
   ]
  },
  {
   "cell_type": "markdown",
   "metadata": {},
   "source": [
    "#### - Flatting the hashtags lists for each author"
   ]
  },
  {
   "cell_type": "code",
   "execution_count": 183,
   "metadata": {},
   "outputs": [],
   "source": [
    "for i, (k, v) in enumerate(hashtags_dic.items()):\n",
    "    hashtags_dic[k] = set([item for sublist in list(hashtags_dic.values())[i] for item in sublist])"
   ]
  },
  {
   "cell_type": "code",
   "execution_count": 184,
   "metadata": {},
   "outputs": [
    {
     "name": "stdout",
     "output_type": "stream",
     "text": [
      "author:  HAPPKENDRAHAPPY\n",
      "\n",
      "hashtags:  {'#Pathetic.', '#ukraine', '#pizza', '#rkba', '#1010Means', '#VoteTrumpSaveAmerica', '#MSNBC', '#Elizabeth', '#StopCISA', '#NeverMitt', '#infosec', '#ASMSG', '#CatholicPriests', '#PodestaEmails25', '#Colorado:', '#TobiasBeecher', '#Lucas:', '#tco...', '#veterans', '#fakenews', '#HappyBirthdayGeorgeWashington', '#iamamuslimtoo', '#Christmas', '#nbc', '#Rohingya', '#DrainTheMediaSwamp', '#governmentshutdown', '#Constitution', '#Russian', '#CCoT', '#variety', '#TheStrain', '#WarOnWomen', '#SubmarineDay,', '#MichaelMoore', '#prolife', '#assclown', '#violent', '#ICE', '#Netflix', '#Resistance', '#prayforBrussels', '#Scientology', '#Democrats', '#Hannity', '#Conagra', '#Merkel.', \"#FeelTheBern'\", '#backtheblue', '#NoBigDeal?', '#trump2016', '#filmmatters', '#Dems', '#Left', '#KochBrothers,', '#Tcot', '#InvestigateShadowGovernment', '#HOUequality', '#JamesComey', '#fbm15?', '#Washington', '#Christian,', '#conscience', '#abortion', '#UPDATE', '#facesofobamacare', '#FloridaMan', '#Paris', '#KooimanForAmbassador', '#amreading', '#Trump,', '#RoommieProblems', '#Gunsense', '#Republican', '#pedogGate', '#American', '#kellyanneMicrowave', '#Sinister2', '#crookedcruz', '#Utah.', '#RedNationRising', '#news', '#MissNebraska', '#Painful', '#trump2k16', '#dsonvisit', '#cnnleaks', '#Christianfic', '#alternativefact', '#martinlutherkingday', '#World4Marine', '#PJ…', '#targets', '#TrumpBecause', '#OscarSoWhite', '#CruzinToCaucus', '#ThatEffinDog', '#neverhillary', '#p2', '#VoteGOP', '#JebBush', '#LUV', '#DefundPBS', '#thanks', '#NO', '#PJNET\"', '#tgdn', '#HISTORY?', '#StrongerIn', '#UnexpectedPubeNames', '#Kurdistan,', '#Climate', '#Products', '#americanpatriots', '#capitalism', '#NoCyberCensorship', '#Warren', '#AlwaysTrump', '#SanClemente', '#ILoveHillary', '#RNC', '#AndThatsWhenTheCopsArrived', '#NASCARPICS', '#FF', '#StepsToReverseGlobalism', '#Baltics', '#Arizona', '#Mosul', '#WeWonAwwwwwwwwwww', '#WeThePeople', '#Texas!', '#Golan', '#OptOutside', '#NYTimes', '#MAGA3X', '#TrumpandthePress', '#corporatists', '#cruzcrew', '#nj', '#Liberals☭', '#Cruzcrew', '#IowaTweets', '#Ivanka', '#VA', '#Cruz2016', '#NeverHillary', '#Republicans', '#BoycottPepsi', '#New', '#TRUMPTRAIN', '#rootandbranch', '#ClintonFoundation.', '#movie', '#appalachiantrail2015', '#RussianHackers', '#KKK', '#ks01)', '#ReligionOfPeace', '#Gatineau', '#ECONOMY', '#Shameful', '#EldritchPalmer:', \"#TrumpForPresident'\", '#swedenincident', '#SSM', '#ohioVotes', '#CTOT', '#CyberSecurity', '#JointAddress', '#DefundPP', '#NBAFinals', '#MELANIATRUMP', '#BernieSandersMatters', '#security', '#FtLauderdale', '#CRYMORE', '#YA', '#IStayHappyBy', '#MLK2017', '#BetsyDeVos', '#TrumpImpeachmentParty', '#AllBite18', '#justwords', '#BringBackWorf', '#ProLife', '#Vets', '#trailjournals', '#TrumpEffect', '#DEPrimary', '#CashinIn', '#WIright', \"#JenniferGarner's\", '#RaisedRight', '#SheShouldBeInStripes', \"#MAGA'\", '#rednationrising', '#DylannRoof', '#NewRelease', '#Burma:', '#BB4SP', '#LockHimUp', '#ColumbusDay', '#mondaymotivation', '#BlueLivesMatter', '#DNCLeak2', '#Politico', '#Israeli', '#dota2', '#FreeAssange', '#Trump.', '#Trump', '#PressSpying', '#ReasonIAmNotPresident', '#AllLivesMatter', '#MerrryChristmas', '#sweetromance', '#sweeps', '#JesusOurHope', '#TomHanks', '#LNYHBT', '#onlyinAlaska', '#HILLARY....2', '#Sweden', '#addoway', '#Matthew', '#uspoli', '#Assimilate', '#MakeAmericaGreatAgain', '#BernieSanders', '#gagop', '#tired', '#InaugurationDay2017.', '#SouthFlorida', '#KimDavis.', '#election.', '#MLKJr', \"#NextFakeTrumpVictim'\", '#FOX', '#JunkieUS', '#chemtrails', '#sports', '#AGENDA21', '#nra', '#NextFakeTrumpVictim', '#fl', '#WakeUpAmercia', '#FloridaKeys', '#EARTG', '#teaparty', '#HappyBirthdayMelania', '#dncleak2', '#Change', '#GatorMade', '#Censorship.', '#Fightfor15', '#TRANSPARENCY', '#VoteTrump', '#Africa', '#SCOTUS.', '#Clinton,', '#SanBernardino', '#CharlieHebdo', '#JudgeJeannine', '#Benghazi', '#ChristRomance', '#Internet', '#ObamaCare', '#MDPrimary', '#TopTweets!', '#VoteYesOn1!!', '#PledgeOfAllegiance', '#DsonVisit', '#CCOT', '#10thA', '#FineSTAIN:', '#JillStein', '#ICYMI,', '#TeamUnidoS�', '#bullying', '#SaudiArabia', '#BernieBlackout', '#automation', '#Trump:', '#iacaucus', '#gunsense', '#ap', '#McCain', '#POTUS2016,', '#HillaryForPrision', '#millionmanmarch', '#GoDaddy', '#CTPrimary', '#hardball', '#GOPs', '#cubs', '#Vimeo', '#ConfirmGorsuch', '#DC', '#PodestaEmails:', '#TeamUnidoS♥', '#capitalism.', '#Democrats☭.', '#KFC', '#BuildTheWall', '#AmericaFirst', '#NRA', '#JasonAldean', '#unbelievable', '#bloodyHELL.', '#ElizabethWarren', '#trumpaddress', '#abortions,', '#CR4U', '#InspySusp', '#snarkileaks', '#Delaware👉State', '#God', '#TrumpPence16', '#MOTIVATIONMONDAY', '#SisterPatriots', '#Hollywood', '#Wrestlemania.', '#insane', '#myvote2016', '#SamanthaBee', '#RonaldReagan', '#Miami', '#DustinGlover', '#mlk', '#Integrity.', '#RememberWhenTrump', '#FlagBurning', '#Commies', '#ShortRead:', '#IDIOTS.', '#WeDemandBundyRanchTrialDismissalNow', '#Falcons.', '#DemPlatform', '#KindleUnlimited', '#WMATA.', '#United', '#religionofpeace', '#bcpoli', '#FortLauderdale', '#ImNotWithHer', '#MyStory', '#TEAParty', '#2A:', '#1u', '#libertymatters', '#inspiring', '#idsconf', '#justice', '#vets', '#AHCA', '#IdBeMorePopularIf', '#BrianTerry,', '#GrowTheHellUp', '#UNGA', '#gadistrict6', '#InaugurationDay', '#MILO', '#cybercensorship', '#abolish', '#MuslimPrayer,#Imam', '#Russia’s', '#March2017', '#NoAbortion', '#TeaParty', \"#FirstAmendmentMatters'\", '#moral', '#LieOfTheYear', '#quotes', '#IslamIsTheProblem', '#ankarabombing', '#TEAPARTY', '#GunsSaveLives', '#NEA☠', '#liar', '#Hillary', '#fridayreads', '#HolySpirit', '#TrumpIsRight', '#…', '#Peace', '#CyberCensorship', '#Nevertrump', '#txlege', '#FNPolitics', '#firstdance', '#MAGA', '#IRS', '#NannyState', '#K9', '#Kaep', '#GoCubsGo', '#Blackhawks', '#TrumpStrong', '#Jesus', '#twisted147', '#TMB', '#SundayMorning', '#TREXIT', '#AttorneyGeneral', '#TRUMPleaks', '#RiseUp', '#earthXplr', '#PodestaEmails28', '#StayInTheFight', '#MuslimBan', '#CopyFollowers', \"#thief.'\", '#PizzaGate', '#climate', '#CommonSense', \"#CashinIn'\", '#prayerworks', '#RaisetheCaps', '#OscarSoAsia', '#Unite4USA', '#uscoastguard', '#wsj', '#GaysForTrump', '#Economy', '#WIRecount', '#USArmy', '#AllActionNoTalk', '#CrookedHillary', '#NoDAPL', '#ccot\"#ISIS', '#BigLeagueTruth', '#MLK', '#GOAT', '#Try4Treason', '#ThisIsACoup', '#StopIslam', '#AmericaFirst��', '#prayforbrussels', '#bestselling', '#MarcoRubio', '#ocra', '#FakeNews', '#prnewsire', '#phosphorusdisaster', '#UnbornLivesMatter', '#FreeKozlovskyy', '#TTT16', '#AbolishDOE', '#NotAboveTheLaw', '#BENGHAZI', '#remarkable', \"#HandCuffHillary'\", '#yestoIANA', '#LisaMakowsky�', '#BREAKING:', '#7News', '#BREAKING', '#WeAreTheMedia', '#rudeflightattendants', '#ImmigrationAction', '#ClimateSCAM', '#TrumpUp', '#CocksNotGlocks', '#GamerGate', '#moodys', '#Hanukkah', '#FightFor15', '#Trump45', '#CyberAttack', '#BlackFridayProblems', '#NinthCircuit', '#COP21', '#Israel.', '#ObamaFarewell', '#PickOne', '#Bimbos', '#refugees', '#cpac', '#TrumpsFirstOrder', '#Business', '#RT', '#CrossroadsMall', '#MichaelFlynn', '#GOPe�', '#ccot\"#islam', '#ThingsMoreTrustedThanHillary', '#HillarysIndictment', '#OddThingsToBeProudAbout', '#DaylightSavingTime', '#HowToKeepYourGirlHappy', '#POTUS.', '#Newsmax', '#draintheswamp', '#SeemsLikeAMispricing', '#StephenKing', '#freejulian', \"#TrumpForceOne'\", '#WhoKilledSethRich', '#Christianity', '#Islamist', '#npr', '#MASA', '#PP.', '#DemDebate?If', '#ukpoli', '#POLICE', '#Florida', '#ccot', '#debatenight', '#AuNomDuPeuple', '#Tenessee', '#GOP', '#⃣2⃣8⃣', '#rigged', '#pennsylvania', '#H-1B', '#ConfirmSessions', '#PJNE…', \"#HateCrime'\", '#FoodTruck', '#FoxNews', '#tvquotes', '#Catholic', '#TrumpPresident', '#Virginia', '#NSA', '#surveillance', '#poll', '#radical', '#Liberals', '#GlennFord', '#bloodonhishands', '#BlackTwitter', '#NHPrimary', '#Shariah', '#MakeSexAwkwardIn5Words', '#Conservative', '#kidlit', '#JOBS', '#Milan', '#illegalimmigration', '#StCloud', '#DemDebate', '#Trump2016\"', '#BLMKidnapping', '#WomenWhoVoteTrump', '#WEATHER', '#Macedonia', '#libertarian', '#ArmyNavyGameDay', '#NationalComingOutDay', '#RedNationRising�', '#GoHillary\"', '#unitedAIRLINES', '#govote', '#sad', '#AppalachianTrail', '#OSU', '#photo', '#Isis', '#tcot', '#African', '#Nevada', '#aca', '#Christian', '#feelthebern', '#changetheworld.', '#Turkey', '#Traitor', '#hillaryforprison2016', '#BlackAmerica', '#Sharialaw=supremacist', '#BowlingGreenMassacre:', '#interiordesign', '#SenWarrensIndianName', '#KeithScott', '#help', '#Vietnam', '#clownshow', '#freedomofspeech', '#UNSC', '#tards', '#WorstPresidentEver', '#StopOmnibus', '#Yazidi', '#Obamacare', '#iranElection', '#DanFrank', '#fox5atl', '#WikiLeaks', '#ImpeachSessions', '#PJnet', '#resistanceradio?', '#alternativefacts', '#migrant', '#Michigan:', '#DayWithoutLatinos', '#BlackGold', '#ycot', '#NDAA', '#cpac2017', \"#TPP's\", '#CA', '#novelines', '#Chanukah', '#BoycottHollywood', '#Lalish', '#NYCExplosion', '#POTUS', '#supremesacrificeday', '#ImWithYou', '#PodestaEmails15', '#Islam', '#ccot\"#Muslim', '#BoycottStarbucks', '#daywithoutawoman', '#obx', '#ElectionFinalThoughts', '#MLKday2017', '#RidleyScott', '#uncavl', '#Faith', '#Quran.', '#NewHampshire', '#SavingPrivateRyan', '#MakeFranceGreatAgain!', '#ClintonFoundation', '#Flipthe6th...', '#PVV', '#bitcoin', '#GUNGRABBER', '#ga', '#Reno', '#DickingBimbos', '#dumptrump…', \"#'\", '#BillPimpingForHillary', '#TCOT', '#Gladiator', '#SaturdayNight', '#wednesdaywisdom', '#guns', '#JVteam', '#Iraq', '#PhillyVotes', '#OscarSoBlack', '#feedly', '#Seriously?', '#HoHoWhatsThis?', '#TedCruz', '#Madonna', '#OBAMATRADE', '#AllowDebate', '#Trumplandslide', '#NoSocialism.', '#resist', '#808', '#sjspecialist', '#profits:', '#PrayForTheWorld', '#Hungary', '#taxreturns', '#Soldiers', '#JesseJackson', '#NeilGorsuch', '#gal', '#NH', '#Celebrities', '#Dogsgiving', '#teap…', '#MuslimMigrants', '#Clinton.', '#HRC', '#ScottHarvath', '#TheDemocrats', '#ICYMI:', '#FreeIran', '#Boeing', '#RETWEET', '#OscarHasNoColor', '#SpiritCooking', '#Bush!', '#VPDebate', '#JusticeGorsuch', '#NBC', '#Sessions', '#MarchforLife', '#News', '#DemDebate?', '#imvotingbecause', '#RepealAndReplace', '#democrats', '#Sanger', '#SchoolChoice', '#HappyBirthdayHarryTruman', '#TrumpWillWin', '#TamirRice', '#ISIL', \"#Matthew's\", '#Fifty50', '#Afghanistan', '#JEWELERS', '#SundayFutures', '#EU', '#Cigars', '#svitlodarsk.', '#GODSPEED', '#Potter', '#Banghazi', '#BoycottRogueOne', '#Right', '#business', '#WrightState', '#ian1', '#Prolife', '#TrumpWinsBecause', '#akleg', '#Twittergate:', '#P2', '#fullblack', '#data', '#IStandWithIsrael', '#NewYork', '#IndigenousPeoplesDay', '#JordanEdwards', '#Seattle', '#Cologne', '#Pence', '#Russia', '#UnhingedDemocRATS', '#AndrewMcCabe', '#TeenUSA', '#trumpriot', '#IMNOTWITHHER', '#LawEnforcement', '#government', '#ChuckSchumer', '#SOCIALIST☭', '#NASCAR', '#Brussels', '#USFA', '#BLM', '#PodestaEmails', \"#IAcaucus'\", '#NakedAndAfraid', '#iamwarrior12', '#VoteTrump!', '#StopSantuaryCities', '#local', '#BokoHaram', '#video', '#Light', '#Blasphemous', '#ImOnlyAwakeBecause', '#freedomofexpression', '#ClintonCorruption', '#Whatilearnedtoday', '#RejectedTrumpTVshows.', '#SATIRE', '#sharialaw', '#pdf1', '#VotingMachines', '#HomeSchool', '#BreakingNews', '#Buzzfeed', '#FirstWorldProblems', '#America1st', '#risk', '#gapol', '#FirstAmendment', '#DearWhitePeople', '#AshleyJudd', '#ClimateC…', '#climatechange', '#OscarsSoWhite', '#supernintendo', '#iVoted', '#Bernie2016', '#NorthCarolina', '#GettingHypeAtDigiFest', '#Cleveland', '#Guns!', '#SanctuaryCities', \"#AmericaFirst.'\", '#abortion.', '#Hypocrites', '#TiSA', '#Haiti', '#HILLARY', '#1', '#TrumpTrain.', '#PMU.', '#stopkillingus', '#TB', '#DemocratLiesMatter', '#KimJongUn,', '#BOYCOTTHOLLYWOOD:', '#phosphorus', '#Nazi', '#gop', '#hilLIARy', '#BenCarson', '#FlashbackFriday', '#Dem', '#defundplannedparenthood', '#MLKDAY', '#NoCyberCensorship,', '#judgejeanine', '#MELANIA', '#film', '#GunViolence.', '#WitchOfBenghazi', '#military', '#progressive', '#uk', '#COSProject', '#AccidentalStressTest', '#HillarysUnfit', '#kids', '#WakeupAmerica', '#FGM', '#TruthWins', '#nurses', '#unpresidented', '#imwither', '#SCOTUS', '#JailbirdLERNER', '#WhatILearnedToday', '#sick', '#hackers.', '#LEO', '#IslamistheProblem', '#ICERaids', '#GA06', '#Pennsylvania', '#Houston', '#CaptainMiller:', '#islam', '#series', '#weather', '#Gitmo', '#HoldTheFloor', '#Chicago', '#Periscope:', '#Alien', '#homeland', '#DEMDebate', '#tsa', '#BrownShirts', '#AmazonKU', '#oscarsoblack', '#FISA', '#COS…', '#VoteFraud', '#Communist', '#POTUS45', '#SundayFunday', '#FakeStreamMedia', '#DonaldTrump', '#Politics', '#Purdue', '#ripmsm', '#IRGC', '#MerylStreep', '#Soros’s', '#Australia', '#HoHoWhatsThis', '#Amen', '#LGBT', '#LePen2017', '#photography', '#TrumpRiots', '#WitchOfBenghazi!', '#WorldNews', '#NeverTrumpOrHillary', '#GeorgeSoros', '#MLKDay', '#FLorida', '#VoteKarenGA6', '#notheyarenotmuslim', '#adaywithoutwomen..These', '#cyberabuse', '#ReinaNightClubAttack', '#FOXNewsWorld', '#Blacks4Trump', '#mediabuzz', '#maga', \"#recount'\", '#AmericanFreedomLawCenter', '#Bible', '#CNNsotu', '#SUSTAINA…', '#Pennsylvania.', '#GhostFleet', '#NoGlobalism', '#morals', '#PodestaEmails18', '#gungirl', '#TheChalkening', '#Falcons’', '#BanCAIR', '#VIRGINIA', '#ObamasLegacy', '#Gun', '#RealLifeMagicSpells', '#Iranian', '#WhiteHouse', '#PaynePoll', '#USlatino', \"#obamagate'\", '#FreedomCaucus', '#MondayMorning', '#IARTG', '#JewishCommunityCenters', '#racists', '#Spain', '#CasualFridays?', '#staywoke', '#RetireMcCain', '#MKUltra', '#IWD2017', '#MondayBlogs', '#wakeupamerica', '#ChooseCruz', '#TwilightZoneMarathon', '#Gettysburg', '#ISIS', '#1stAmendment,', \"#GetAClue'\", '#MSM', '#TrumpPressConference', '#QuebecShooting', '#FIFA', '#TYTLIVE', '#Adventure', '#deport', '#Poland', '#OTNN', '#SCPrimary', '#ClintonScandals', '#NoTruthToTheRumor', '#BetterWay', '#debates', '#toronto', '#isis', '#TrumpTrain!!', '#Syria', '#QuestionMadness', '#democRATS', '#2A', \"#Reid's\", '#Breaking', '#ThanksObama', '#VApol', '#baseball', '#nyt', '#DNCBooedGodOnTelevision', '#Maga', '#SnowFlakes', '#CORRUPTION', '#Latvia', '#LA', '#HillaryForPrison', '#Oreilly', '#hiking', '#debate', '#9thcircut', '#NoHillary2016', '#hockey', '#OhioState', '#ElectoralCollege', '#VeryFakeNews', '#Border', '#TapperDirtFile', '#2ADefender', '#BestSeller', '#VoterFraud', '#Catholics', '#OrgyIsland.', '#PBGrp', '#MyAttitudeRightNow', '#MuslimBrotherhood', '#ga06', '#Ohio#Pennsylvania', '#NationalGuard', '#eu', '#NFLisrigged', '#usnavy', '#saturdaymorning', '#WorldTradeCenter', '#theendisnear', '#Inauguration', '#Bill', '#Reina.', '#SurveillanceDay', '#voteTrump', \"#TeamTrump'\", '#Milo', '#stopChristiangenocide', '#generalstrike', '#HillaryGropedMe', '#America', '#bergdahl', '#ItReallyOffendsMeWhen...\"', '#OPSEC', '#StopRapeJihad', '#dekalb', '#fraud', \"#Islam's\", \"#WhatILearnedToday'\", '#امیدکوکبی', '#israel..you', '#TheFive', '#Honolulu', '#WorldVideo', '#Israel', '#alaska', '#dog.', '#SeekingAllahFindingJesus', '#Point2Ponder:', '#NewTrump', '#TrumpsArmy', '#PodestaEmails19', '#Election2016', '#hesmypresident', '#tiot', '#Comey', '#Opcrewcut', '#Brilliant.', '#UnitedNations', '#Guns', '#TrusTED', '#akwx', '#phosphorus!', '#NancyPelosi', '#Abortion', '#LIBERTY', '#Police', '#severe', '#RaiseTheWag…', '#taharrush', '#election2016', '#NYPrimary', '#SusanRiceUnmasked', '#WakeUpAmerica.', '#STHUPChuck', '#Debates', '#flight3411', '#Manchester', '#ObamasAmerica', '#MarchforLife2017', '#ObamaCare?', '#FAKENEWS', '#ElectionDay', '#alpolitics', '#recount2016', '#quoteoftheday', '#OscarRacism', '#SanBernadino', '#AmYisraelChai', '#breaking', '#OpChemtrails', '#Dow', '#NEVERhillary', '#DumbGenieWishes', '#Gators', '#Allrise', '#NFLBoycott', '#dealwithit', '#TGIF', '#FullRepeal', '#euthanasia', '#GoGators', '#ShelterontheHill', '#monicacrowley', '#Leadership', '#Communism', '#USAirForce', '#Stonewall', '#KAG', '#DamnDebate', '#DEMS', '#ImpeachObama', '#CreepyBillClinton', '#Congress', '#R…', '#Prepper', '#Truth', '#POLICESTATE', '#CIA', '#Immigrationban', '#PP....', '#WomensMarchOnWashington', '#USA��@AFP', '#NVcaucus', '#CAIR', '#BostonMarathon', '#TwitterRally', '#ObamaGate?', '#demdebatequestions', '#SupportTomWatson.', '#BYNR', '#JoeSpagnola1634', '#PJNET��', '#WomensEmpowerment?', '#PresidentTrump', '#8217;s', \"#Egypt's\", '#imagination', \"#ATL's\", '#BenAffleck', \"#Clinton's\", '#NASA', '#inners', '#religioninthemedia', '#flynn', '#DEBT', '#FreeAmirNow', '#voted', '#SupportCoachKennedy', '#8217;s+Oregon+Visit+With+1+Brutal+Sentence+That+Hits+Him+Where+It+Hurts', '#cdnpoli', '#UniteBlue', '#SOFLO', '#TPOT', '#UnitedWeStand', '#HillaryClinton', '#Marr', '#scifi', '#NJ:', '#ConAgra', '#CorruptClintonMachine', '#IAmChristian�✝', '#CNN', '#law', '#ThingsISayPrettyOften', '#LetsGoMagic', '#USNavy', '#ReleaseClintonsMedicalRecords', '#congratulations', '#IslamKills\"', '#MayDay2017', '#SchoolChoice.', '#TeamZucker', '#ComicCon2015', '#Delusional', '#wakeupAmerica', '#IloveObama', '#DefMin', '#Podesta', '#Inspiration', '#iceisis', '#JunkScience', '#NoBanNoWall', '#Feminists', '#irony', '#HumaAbedin:', '#Halloween', '#TPP', '#Independents', '#Saints', '#FridayFeeling', '#Reweet', '#FakeMurderCharges', \"#WhyIsThisBeingAllowedToHappen'\", '#BrokenArrow', '#tech', '#retrogaming', '#Michigan', '#RenewUS', '#IVOTED', '#SpecialReport', \"#CommonCore's\", '#BanSharia', '#PrayforBrussels', '#win', '#Matthew.', '#mepolitics', '#AnimalFarm,', '#russiagate', '#VoteTrum…', '#COMSEC', '#WeeSeeYou', \"#MAGA3X'\", '#WALL', '#InMemoryOfMalcolmX', '#kingdom', '#FL', '#PPSellsBabyParts', '#Romance', '#SayNo2Hillary', '#winning', '#Putin', '#Shandong', '#CruzToVictory', '#MarcusTulliusCicero:', '#MaverickMcCainWarMonger', '#Nintendo', '#REDNATIONRISING', '#NotMyPresident', '#Brotherhood.', '#TonyBennett', '#WorldSeries', '#trail', '#Memphis', '#SportsRoadhouse', '#DPRK', '#life', '#MvilleSocialAction', '#ArrestHillary', '#BoycottStarWars', '#WakeUpAmerica', '#iFlyAlaska', '#SanctuaryCiities', '#EarthDay', '#virginia', '#billclintonisarapist', '#twoword', '#Veterans', '#StepsToReverseClimateChange', '#Military', \"#NHprimary'\", '#BillWarnerPhD', '#Vote2016', '#AvecMarine', '#orpuw', '#cuba', '#TimeForTruth', '#ThankYouThomasSowell', '#TheGreenFairy', '#njtransit', '#FFS', '#IsraelForever', '#opiceisis', '#Veteran', '#JeffSessions', '#DNC', '#weshowup', '#CoastGuard.', '#DebateGate', '#TrumpTapes', '#ICYMI-', '#RockHall2017', '#TheTrumpTrain', '#ChompChomp', '#DHS', '#SPLC', '#KeepAmericaSafe', '#JeSuisCharlie', '#CarlyFiorina', '#book', '#DrainTheSwamp', '#Cru…', '#PressOn', '#lnyhbt', '#ACAWorks4Women?', '#Soros', '#FreeOurPoliticalPrisoners', '#CruztoVictory', '#JaredGalleria', '#ICANN', '#StuffHappens', '#Sanders2016', '#SanFrancisco', '#Istanbul', '#decoration', '#confessyourunpopularopinion', '#Gamergate', '#RallyForRiley', '#readlocal', '#ShariaLaw', '#Pepsi', '#FBI', '#TGDN', '#FIFAgate', '#FBIDirectorComey', '#auspol', '#merica', '#CometLanding', '#TheFollowing', '#AbsouteTruth', '#CubsWin', '#Poll', '#TeamTrump', '#Draintheswamp', '#HillarysMigrants.', '#Blatter', '#Intel', '#C…', '#radiocanada.', '#FeelTheBern', '#Ohio', '#FIFAelection', '#foxnews', '#TrumpIsComing', '#IBDeditorials', '#RyanCare', '#PlutoFlyby', '#liberals', '#OperationMockingbird', '#g8m', '#CaliforniaForTrump', '#BernieInBoulder', '#fashion:', '#AmericanFalls', '#PrayForBrussels', '#AFLC', '#CHOICE', '#TREASON', '#SyrianRefugees', '#NeverHillary‼️', '#SusanCollins�', '#USAvGER', '#ElectionNight', '#DDoS', '#Trump�', '#IAmThankfulFor', '#RedCross', '#FastAndFurious', '#First100', '#Alaska', '#guncontrol', '#pjnet', \"#Soros'\", '#Marines', '#DebateNight', '#NA', '#Snowflakes', '#WellsFargo', '#breakingnews', '#HillaryForPrison2016', '#WomensMarch.', '#veryfakenews', '#No', '#Gratitude.', '#LosAngeles', '#SusanRice', '#demndebate', '#Orlando,', '#MrPresident', '#WomenForTrump', '#CorettaScottKing', '#Maryland', \"#Facepalm'\", '#Carson', '#GardenCityShooting', '#quote', '#UN', '#FeeltheBern', '#HobokenTrainCrash', '#Yemen.', '#joy', '#LawAndOrder', '#Latest', '#ThinBlueLine.', '#hillarysemail', '#SGP', '#OAS2014', '#securetheborder', '#twilightzone', '#NoSanctuaryCities', '#Saudi_Arabia', '#MolonLabe', '#StopESEA', '#Oscars', '#Journey', '#chokinghazard', '#روحانی', '#PeoplePower', '#Chelsea', '#CivilizationJihad', '#Paris,', '#Putin!!!', '#BenCarson2016', '#PRAYERS�', '#Wikileaks', \"#EU's\", '#Pizzagate,', '#MakeDCListen', '#Students', '#prayforbelgium', '#BooksforChristmas', '#HarryReid', '#SupremeCourt', '#AltRight', '#Assad', '#COMEY', '#TCoT', '#libtards', '#Malaysia', '#TheFlakies', '#NFLDraft!', '#MotivationalMonday', '#pray', '#SlushFunds', '#2016Election', '#TedCruz.', '#Latina', '#Chemtrails', '#Huma', '#MuslimRefugee!', '#CorruptHillary', '#AbolishColumbusDay', '#ResurrectionSunday', '#showbiz', '#BackTheBlue', '#CurseBroken', '#economy', '#DumpRyan', '#MS', '#Obama', '#TrumpForPresident', '#ukip', '#BlueMagic', '#WomensMarch', '#readthebill', '#entertainment', '#PodestaEmails11', '#FlagBurning.', '#shortstories', '#Ocean', '#IslamisaCult', '#HugYourCatDay!', '#romance', '#NowPlaying', '#Hillary’s', '#SCOTUSnominee', '#VoteTrumpPence16', '#Clinton', '#TrumpPence2016', '#Bush', '#DWScheats', '#badassshirts', '#ItsNotAssaultIfNothingHappenedPumpkin', '#AlanDulles', '#LetMyPeopleGo', \"#Hillary's\", '#MAGA!', '#StrongerTogether', '#FAIL', '#Utah', '#thefive', '#Wellington', '#CruzCre…', '#SethRich', '#PJNET', '#TheDonald', '#BarackHusseinInsaneObama', '#GoBucks', '#ThingsThatShouldBeLeftIn2016', '#Wake…', '#EvelynFarkas', '#ESEA', '#CruzRising', '#NYC', '#LabelGMOS', '#MNpol', '#Leftist', '#AdoptThePlanet:', '#Aleppo', '#Somalia', '#SyriaStrikes', '#USA:', '#FakeNewsAlert', \"#Iraq's\", '#Kindle', '#fail', '#KillTheBill', '#Cr4u', \"#wakeupAmerica'\", '#corruption', '#InformTheElectors', '#MyWay.', '#JamesPurefoy', '#StevenSpielberg', '#BlackLivesMatter', '#Health', '#Muslim', '#US', '#MosulOps', '#fantasy', '#108', '#Palestine', '#SmokeAndMirrors', '#CupCakes', '#Swanigan', '#FIFAcorruption', '#Hastert', '#Saudi', '#podestaemails14', '#NBA', '#TrumpRussia', '#targetpractice', '#CongressDoYourJOB', '#EricClanton', '#Mcmaster', '#PostVotingStressRelief', '#WhiteGenocide', '#CatholicSchoolsWeek', '#CleanYourOwn', '#SpringFever', '#JoeCarroll:', '#ComeyHearing', '#bernie2016', '#ORPUW', '#Maui', '#Maine', '#Despicable!', '#ConservativesUnite!', '#QuoteOfTheDay:', '#DemnDebate', '#GaGOP', '#FREE', '#Latinos', '#PJNet', '#TrumpAHorrorMovie', '#Racist', '#Anti-Veterans', '#Vote', '#BeKInder', '#BadCharitiesToDonateTo', \"#CorruptHillary'\", '#LockHerUp', '#minnesota', '#BoycottRalphLauren', '#SanDiego', '#ThankYouTrump', '#JillNotHill', '#money', '#BLM?', '#British_MP', '#FrenchElections:', '#generationsnowflake', '#DebatTF1', '#NeverForget', '#', '#ImVotingBecause', '#STAYWOKE', '#Merica', \"#Traitors'\", '#Quran', '#Hillary?', '#AlSmithDinner', '#CCCP2017', '#Swemolia', '#MakeMeABenzac', '#MOAB', '#13Hours', '#CNCNet', '#Crusadesarecoming', '#PublishConf', '#TLOT', '#Titans', '#Trump’s', '#TRUMP', '#NDNZ', '#Recount2016', '#tw4rw', '#WashingtonCartel', '#Diaspora', '#HonorForTheBrave', '#neverromney', '#UK', \"#NewYear's\", '#FakeNewsCNN', '#SecDef', '#ObamAlinsky.', '#LessHillaryMoreFun', '#Israel:', '#SOROS', '#Democrats,', '#TrumpIsThePresident', '#ff', '#Bennifer', '#Prayers4California', '#TrumpDrSeuss', '#RIP��', '#HypocriteDems', '#SupermanVsBatman', '#national', '#students', '#UnitedFail', '#travel', '#BlackLivesMatter?⏩@LorettaLynch', '#Hatra', '#MuslimWomensDay', '#GameofThrones', '#Romance,', '#RightToKnow', '#budget16', '#.', '#MakeAMovieFat', '#MilitarySpouseAppeciationDay', '#health', '#Prayer', '#Trump2016', '#Sanders', '#Trump2k16', '#atlhawks', '#standwithtrump', '#BillClinton', '#NeverRomney', '#Guns4NY', '#Treason', '#Oathkeepers', '#oreillyfactor', '#HillarysEmails', '#1A', '#SheLies', '#leadingwithheart', '#Orlando', '#nastywoman', '#babies', '#outerbanks', '#rantfortoday', '#usmarines', '#nv', '#DebateWithBernie', '#teachersbelike', '#RooseveltFieldMall', '#HappyBirthdayMickey', '#adhd', '#TwitterKurds', '#WAKEUPAMERICA', '#POTUS!', '#RussellCrowe', '#OutNumbered', '#TuckerCarlsonTonight', '#CollegeParkTX', '#US,', '#VegasGOPDebate', '#Pray4OurCountry', '#REDFriday', '#Unable', '#College', '#FightFor15?', '#MarioWoods.', '#Elizabeth,', '#HillaryBecause', '#KasichIsADickHead', '#IfICouldTalkToGod', '#SaintsDraft', '#IranDeal', '#Brexit', '#BobGray4Congress', '#JebWeCan', '#TheResistance', \"#draintheswamp'\", '#TopNews', '#shareCare', '#NeverTrump', '#Heroes', '#TrusTed', '#TrumpProtest', '#NUCLEAR', '#trump', '#SupremeSacrificeDay', '#TrumpArmy', '#Wiretaps,', '#ABWisdom', '#DOJ', '#PrayForTed', '#iHQ', '#HollywoodElite', '#NoMuslims', '#DayWithoutAWoman', '#throwbackthursday', '#ManUP!', '#ImWithHer', '#CruzNotNaturalBorn', '#CutsHurt', '#TrumpTrain', '#LAUSD', '#muslims.', '#politics', '#2016_Election', '#Patriots', '#FakeNews...', '#ParisAttacks', '#disruptj20', '#Fatih', '#FCA', '#IAN1', '#tyranny', '#20', '#Wisconsin', '#NationalReview', '#TrumpTaxes', '#FIFACongress', '#Fast&Furious.', '#BeatThemLightly', '#LORD', '#obama', '#fb', '#Hamilton', '#SupremeSacrificeDay!', '#CONSTITUTION', '#comingtoCanada', '#CruzCrew', '#NoCyberCensorship!', '#Inspirational', '#HillarysAmerica', '#FireKushner', '#prayersforcalifornia', '#trumptrain', '#PodestaEmails30', '#PETA', '#kellyanneconway', '#NewZealand', '#robinhoodtax', '#2ndAmendmentDay', '#SuperBowl', '#cville', '#NewHampshireForTrump', '#msnbc', '#FIGHTTerrorism', '#IHateMyCountryAndWantItDestroyed', '#womensmarch', '#Colorado', '#immigration', '#banislam', '#ObamaFail', '#WomensRights', '#AllenWestRepublicDaily!', '#GOPDebate', '#podesta18', '#justiceorelse', '#Hillary2016', '#thanksgiving', '#SupremeSacrificeDay.', \"#LiberalLogic'\", '#pa', '#DavidParry', '#obxphotos', '#Bombs', '#az', '#LiveByFaith', '#ourfuture', '#NotHappening', '#world', '#FakeNewsMedia', '#veteransunitedproblems', '#TopVideo', '#PATRIOT', \"#mong'\", '#obamaSpyRing', '#Yankees', '#2a', '#CrimeAndPunishment', '#Bears', '#Conservatives', '#whatilearnedtoday', '#supermoon', \"#pizzagate.'\", '#twitchy', '#Haifa', '#Byrd', '#Cologne.', '#CruzCrew!', '#PatriotAct', '#ClimateChange', '#BlacksForTrump', '#Donbass', '#morningjoe', '#travelban', '#sunrise', '#Italy.', '#COMEY:', '#SocialJustice', '#copolitics', '#Hillary4Prison', '#IslamKills', '#DubNation', '#MG', '#GayMarriage', '#NextMedalOfFreedomRecipient', '#PodestaEmails16', '#science', '#NewJersey', '#Waterbording', '#CrookedHillary!', '#PodestaEmails26', '#ArtKNB', '#TheTenCommandments,', '#TermLimits', '#celebs', '#conservative', '#WorldSeriesChampions', '#elxn42', '#RWNJs.', '#IDF:', '#ThankYou', '#PAPrimary', '#MondayMotivation', '#crime', '#TrumpRiot', '#MediaBuzz', '#NRAAM2017', '#OSCE', '#truth', '#Debate', '#EricChurch', '#MLKJrDay', '#horror', '#realdonaldtrump', '#ObamaWiretappedTrump', '#Tyrrany', '#wikileaks.', '#ChattanoogaShooting', '#karma', '#IAcaucus', '#EVERYMorning!!)', '#Maximus:', '#OBAMA', '#TrumpInReno', '#ChangeTheWorldIn5Words', '#Atlanta', '#NonHumanBeings', '#ArrestObama', '#VoteFlipping', '#AmercaFirst', '#podestaemails33', '#Libya', '#kurds', '#Hancock', '#JihadiAsshole', '#offended', '#cozy', '#HurricaneMatthew', '#qt', '#breaking-news', '#DNCLeaks2…', '#PleaseRetweet', '#tlot', '#IowaCaucus', '#MrMercedes:', '#Iran', '#RussiaGate', '#JillStein2016', '#PodestaEmails24', '#smolensk', '#PatriotsMarchOnDC', '#Tucker', '#FinancialCrisis', '#USA', '#WednesdayWisdom', '#fire', '#SJW', '#DUMBASSES', '#blacklivesmatter', '#boycottgoldenglobes', '#Texas', '#Cruz', '#ThursdayThoughts', '#SHOTShow', '#Tampa', '#OscarsSoWhite.', '#Progressive/#Liberals,', '#AHCA?', '#HillaryLiar', '#DemDebateMiami', '#trumprussia', '#ObamaGate', \"#MME'\", '#atheist', '#cashinin', '#ampat', '#HumanRights', '#First100Days', '#GOP(e)', '#PodestaEmails14', '#TiSA.', '#jesustweets', '#VoteWednesday', '#wikileaks', '#cnn', '#Syrian', '#KaysJewelers', \"#boycottStarbucks'\", '#Peru', '#Solar', '#CaliforniaDemocrats', '#GunPorn', '#Antifa', '#Lukoil', '#NATO', '#selfie.', '#TopBlogs', '#Yemen', '#VetsAgainstTrump', '#RainbowDash', '#ReadTheBill', '#mustread', '#PresidentElectTrump', '#notgreatjobtitles:', '#ga6th', '#rooseveltfield', '#FreeJason', '#Iowa', '#JCPOA'}\n",
      "\n",
      "# hashtags: 1900\n"
     ]
    }
   ],
   "source": [
    "print(\"author: \", list(hashtags_dic.keys())[0])\n",
    "print(\"\\nhashtags: \", list(hashtags_dic.values())[0])\n",
    "print(\"\\n# hashtags:\", len(list(hashtags_dic.values())[0]))"
   ]
  },
  {
   "cell_type": "markdown",
   "metadata": {},
   "source": [
    "#### - Creating a list with all unique hashtags"
   ]
  },
  {
   "cell_type": "code",
   "execution_count": 185,
   "metadata": {},
   "outputs": [],
   "source": [
    "hashtags_list = [item for sublist in list(temp_df['hashtags']) for item in sublist]"
   ]
  },
  {
   "cell_type": "code",
   "execution_count": 186,
   "metadata": {},
   "outputs": [
    {
     "name": "stdout",
     "output_type": "stream",
     "text": [
      "1209966\n",
      "101922\n"
     ]
    }
   ],
   "source": [
    "print(len(hashtags_list))\n",
    "unique_hashtags_list = set(hashtags_list)\n",
    "print(len(unique_hashtags_list))"
   ]
  },
  {
   "cell_type": "markdown",
   "metadata": {},
   "source": [
    "## U2M"
   ]
  },
  {
   "cell_type": "markdown",
   "metadata": {},
   "source": [
    "#### - Creating dictionary contains {'author' : list of all his unique mentions}"
   ]
  },
  {
   "cell_type": "code",
   "execution_count": 187,
   "metadata": {
    "scrolled": true
   },
   "outputs": [
    {
     "name": "stderr",
     "output_type": "stream",
     "text": [
      "100%|██████████| 1737035/1737035 [01:34<00:00, 18391.11it/s]\n"
     ]
    }
   ],
   "source": [
    "mentions_dic = dict()\n",
    "for i in tqdm(range(temp_df.shape[0]), position=0):\n",
    "    mentions_dic.setdefault(temp_df.iloc[i, 0], []).append(temp_df.iloc[i, 3])"
   ]
  },
  {
   "cell_type": "code",
   "execution_count": 188,
   "metadata": {},
   "outputs": [
    {
     "name": "stdout",
     "output_type": "stream",
     "text": [
      "author:  HAPPKENDRAHAPPY\n",
      "\n",
      "hashtags:  [[], [], [], [], ['@flashfire451:'], [], [], [], [], [], [], [], [], [], [], [], [], ['@FoxNews'], [], [], [], ['@PowerATL!'], ['@HillaryClinton'], [], [], [], [], [], [], ['@CoraSherlock'], ['@1_Hoof_Hearted', '@Merry__Can', '@CloydRivers'], ['@RMKitchens', '@1_Hoof_Hearted', '@NBCNews'], ['@ReportUnited', '@1_Hoof_Hearted'], ['@ReportUnited', '@1_Hoof_Hearted'], [], [], ['@HillaryClinton'], ['@maddow!'], [], [], [], [], [], ['@dailycaller'], ['@greeneyes0084', '@BobMacAZ', '@HillaryClinton'], [], ['@YouTube'], [], [], ['@JoeSchoffstall'], [], ['@RobHoey'], [], ['@EvilHillaryPics'], ['@kevkid79', '@worldnetdaily'], ['@Crossbowman1', \"@mayday2744'\"], [], [\"@ESA_Rosetta's\"], [], [], [], ['@POTUS'], [], [], [], [], [], [], [], [], [], [], [], [], [], ['@CNN'], ['@ShidelerK'], [], [], ['@worldnetdaily'], [], ['@SenatorSessions'], ['@TocRadio'], [], [], [], [], [], [], [], ['@MrGrantReynolds.'], [], [], ['@ProgressOutlook'], ['@realDonaldTrump'], ['@PolishMark', '@ProgressOutlook', '@realDonaldTrump'], [], [], [], [], [], ['@jasonsarnold', '@CatherineDifron', '@imstephdotcom'], ['@GOP'], [], ['@conservativebyt'], [], ['@tedcruz'], ['@ChuckNellis'], [], ['@ChuckNellis:'], [], ['@FallenAngelMovi'], [], [], ['@ChuckNellis:'], [], ['@', '@ChuckNellis:'], ['@Behind__News'], [], [], [], [], [], [], [], [], [], [], ['@onisha'], ['@TXRandy14'], ['@TXRandy14'], ['@roycan79', '@BobMacAZ'], [], [], ['@SheriffClarke?'], [], [], ['@gcluley'], ['@solos4242?', '@glennbeck'], ['@MichaelCohen212', \"@seanhannity'\"], ['@ShepNewsTeam'], [], [], ['@StephanyTullis'], [], [], ['@Wikileaks,'], [], [], [], ['@barackobama'], [], [], [], [], [], ['@FaustoCepeda'], ['@rivin1'], ['@'], ['@Alexey__Kovalev,'], [], [], [], [], [], [], [], [], [], [], [], [], [], [], [], [], [], [], [], [], [], ['@ChuckNellis'], ['@worldnetdaily'], [], [], [], [], [], [], [], ['@censor_net'], [], [], [], [], [], [], [], [], [], [], ['@lushsux'], [], ['@USADailyInfo'], [], [], ['@USADailyInfo'], ['@youngcons'], ['@ksmcardle22:'], [], [], [], ['@stranahan', '@BreitbartNews'], ['@CNN'], ['@YouTube'], [], [], [], [], ['@realDonaldTrump'], [], [], ['@WSJ'], [], [], ['@realDonaldTrump'], [], [], [], [], [], ['@youngcons'], [], [], [], [], [], [], ['@USADailyInfo'], ['@transition2017', '@nikkihaley'], [], [], ['@DJTrump45'], ['@AaronHenager1', '@PolitiBunny', '@MarkRuffalo'], [], ['@davis1087', '@repjohnlewis'], ['@realDonaldTrump'], ['@SaveSCHospital'], [], [], [], [], ['@ObligedFriend', '@Pudingtane', '@MittRomney', '@glennbeck', '@BrewOnThis', '@BaggaBrigade', '@saskamare'], [], [], [], ['@realDonaldTrump:', '@Dbargen'], ['@ChuckNellis'], [], [], [], [], [], [], [], [], [], ['@Acosta', '@maddow', '@TheView'], [], ['@cmdorsey'], [], [], ['@joyreaper', '@realDonaldTrump', '@Lrihendry', '@LindaSuhler', '@SunnyJL52', '@pojoranch', '@BoldSpirit', '@RichardWeaving', '@Nottinghams1', '@jjauthor'], [], [], ['@Merreee1', '@PantherAR15', '@Phoenixsolveusa', '@BrotherVet', '@mike_truman', '@BobMacAZ', '@RedStateBlonde'], [], [], ['@nuriyalcin'], [], [], ['@amberinzaman'], [], ['@BarackObama'], [], [], [], ['@DailyCaller', '@rlbaldwinartist:'], [], ['@KelseyRandolp13'], [], [], [], ['@realDonaldTrump'], [], [], [], ['@oreillyfactor'], [], ['@thebloomgroup'], [], ['@Republican__Man', '@POTUS'], [], [], [], ['@realDonaldTrump'], [], [], [], [], [], [], [], [], [], ['@CBC'], [], [], [], ['@20committee'], [], [], [], ['@Potus'], ['@luchadora41', '@timesofisrael', '@UN'], ['@lsarsour'], [], [], ['@realDonaldTrump'], ['@PeriwinkleDsgns', '@whotnaught', '@retiredfirecapt'], ['@oliviaacamille', '@realDonaldTrump'], [], [], [], [], [], [], [], [], [], [], [], [], ['@KTruth.com.'], [], [], ['@Madonna', '@SecretService', '@POTUS'], [], [], [], [], [], [], [], [], [], [], [], [], [], [], [], ['@DavidLimbaugh'], ['@amandacarpenter'], [], [], [], [], ['@kimmie99', '@RobertCLaity', '@saskamare', '@LRbullies', '@WayneBogda'], ['@GeneMcVay'], ['@Shooters_Wife:'], ['@ProudInfidel33:'], [], ['@cruzgrassroots:'], [], [], [], [], ['@CNN'], [], ['@POTUS'], [], ['@WhiteHouse'], [], ['@IngrahamAngle'], [], [], [], [], ['@NewtTrump', '@StephenBannon'], [], [], ['@POTUS', '@mike_pence', '@KellyannePolls:'], ['@POTUS', '@mike_pence', '@KellyannePolls:'], [], ['@POTUS', '@mike_pence', '@KellyannePolls:'], ['@StephensonCoach', '@tjeckovich32'], [], ['@DocThompsonShow'], [], [], ['@POTUS', '@March_for_Life.'], [], [], [], [], ['@Reuters'], [], [], ['@POTUS'], [], ['@POTUS'], ['@LifeNewsHQ'], [], [], ['@xatzisotiris', '@PositiveImpactd'], [], [], [], [], [], [], [], [], [], [], [], [], [], [], ['@SenJohnMcCain', '@LindseyGrahamSC'], [], ['@POTUS'], [], [], ['@realDonaldTrump', '@POTUS'], [], ['@ACLU'], [], [], ['@worldnetdaily'], ['@worldnetdaily'], ['@worldnetdaily'], ['@megynkelly!'], ['@yidwithlid'], [], ['@NancyPelosi☭'], ['@NancyPelosi'], ['@MMFlint'], [], [], ['@RobHoey'], ['@DrSarcoma', '@marty_walsh', '@rplenge'], [], [], [], [], ['@hrkbenowen'], [], [], ['@Potus', '@GregAbbott_TX'], ['@CleanReads4U'], ['@luchadora41'], [], ['@DrZuhdiJasser,'], [], [], [], [], ['@DocThompsonShow', '@rc_kris', '@KAL79'], [], [], [], ['@POTUS', '@VP', '@Reince', '@SecretService', '@FBI', '@georgesoros'], [], [], ['@'], [], [], ['@SheepMomma', '@SunnyHiller', '@sweetatertot2'], ['@POTUS'], [], [], [], ['@jrossman12', '@TheVeni1', '@tlamb775', '@CNNTURK_ENG', '@rcadyn'], [], ['@mirawhoney', '@gahome1', '@HouseCracka', '@MegynKelly'], [], [], [], [], ['@FDRLST'], [], [], ['@USADailyInfo'], [], [], [], [], ['@SenSchumer', '@realdonaldtrump'], [], ['@Tyler2ONeil'], [], ['@creepingsharia'], [], ['@ericbolling', '@FoxandFriends'], ['@AG_Conservative'], ['@realDonaldTrump'], ['@MM19551991'], [], [\"@brianstelter's\"], ['@Bavilabo'], [], ['@Bavilabo'], ['@youtube'], ['@DocThompsonShow'], [], ['@DocThompsonShow'], [], [], [], [], ['@CityofFranklin.'], [], [], [], [], [], [], [], ['@blove65'], [], [], [], [], [], ['@nhdogmom'], [], ['@SStantis'], [], ['@OSUCoachMeyer:'], ['@Westxgal', '@JohnKerry'], [], ['@TheEconomist', '@andreaskluth'], [], ['@UnitedWe_Stay', '@ClassySnobbb'], [], [], [], [], [], ['@GretchenInOK', '@SenSchumer', '@SenGillibrand'], [], [], ['@BarackObama☭«'], [], [], [], [], ['@thefurynews'], ['@BreitbartNews'], [], ['@shortwave8669', '@colourfulphilip', '@hboulware', '@Communism_Kills'], [], [], [], [], ['@trscoop:', '@seanhannity)'], [], [], ['@NCPA'], ['@oneretrocupcake', '@AmyMek'], [], ['@HillaryClinton'], [], [], [], [], [], [], [], [], [], [], [], [], [], ['@realDonaldTrump'], [], [], ['@GOP', '@TedCruz.', '@LevinTV', '@marklevinshow'], ['@JesseLehrich,', '@HillaryClinton.'], [], [], [], [], [], [], ['@realDonaldTrump'], ['@HillaryClinton'], [], [], ['@100percFEDUP'], [], ['@cookeintl.'], [], [], ['@Libertea2012', '@rcarr57'], [], [], ['@NoMoreDon8', '@MALDEF', '@LULAC', '@LCLAA', '@Minorities4Bern', '@BrosForBernie', '@andersoncooper', '@MHPshow', '@MSNBC', '@CNN'], [], [], [], [], [], [], [], ['@NRDC_AF', '@sierraclub', '@NextGenClimate'], [], [], [], [], ['@THEMMEXCHANGE', '@gaiasedibles', '@JamieGoswick', '@InhaleMerc', '@bud_breakfast', '@JoeHodas', '@DrGrow', '@Starbuds303', '@MarijuanaHeroes', '@co_harvest'], [], ['@FlakeforSenate'], [], [], ['@Bournemouthecho'], [], [], [], ['@fineartamerica'], [], ['@MrEdgarBass', '@AlisonSpalding2', '@maddow', '@MSNBC'], [], [], ['@TheGOPJesus'], ['@tyleroakley'], [], [], [], ['@NancyPelosi'], [], ['@fineartamerica'], [], [], [], [], [], ['@dailykos'], [], [], [], [], [], [], [], [], ['@DivineChocUSA!'], ['@'], [], ['@silviosirias'], [], ['@CBSSunday'], ['@supertascha):', '@CBSSunday'], [], [], [], [], [], [], [], ['@BernieSanders'], ['@pgoeltz', '@TheGOPJesus', '@VirginiaInCal', '@kavn', '@GrainOfSands', '@truthglow', '@8extremes'], [], ['@Maddow', '@MSNBC'], ['@BernieSanders:', \"@HillaryClinton's…\"], [], [], [], [], [], [], [], [], ['@8:30.'], [], [], [], [], [], [], [], [], [], [], [], [], [], [], ['@holmogorov'], [], [], [], [], ['@CA4Bernie', '@CAForBernie', '@SanDiego4Bernie', '@SenSanders', '@People4Bernie', '@tates5a', '@Sanders4Potus'], [], [], ['@Salon'], [], [], [], [], [], [], [], [], [], ['@maggieatlas', '@MallikarjunJkti', '@kitcat_1961', '@KlippetyKlop', '@changeingyou', '@karecki1', '@Oyekuise'], [], ['@alternet'], ['@alternet'], [], [], [], [], ['@mostawesomeblog', '@ghostcat56'], ['@ghostcat56'], [], [], [], ['@HuffPostPol'], [], [], [], [], [], [], [], ['@BernieSanders:', \"@HillaryClinton's\"], [], [], [], [], ['@Pheramuse', '@CharisseMSRD'], [], [], ['@nbcnews'], ['@YoungPPL4Bernie', '@rebelmouse'], ['@YoungPPL4Bernie', '@BlackWomen4Bern'], [], [], [], [], [], ['@sharethis'], [], [], ['@ZaidJilani', '@AlterNet'], [], [], [], [], [], [], [], [], [], ['@dailykos'], [], ['@sharethis'], [], [], [], [], [], [], [], [], ['@'], [], [], [], [], [], ['@'], [], [], ['@forbes'], [], [], [], [], [], [], [], [], [], [], [], [], [], [], [], [], [], [], [], [], ['@val_hudson', '@tom_watson'], [], [], [], [], ['@wallaceme'], [], ['@tgradous'], [], [], [], [], [], [], [], [], [], [], [], ['@WildBillUSA'], [], ['@FrPNicholson'], ['@dailygalaxy'], [], [], [], [], [], [], [], [], [], [], [], [], [], ['@'], [], [], [], ['@Britannica'], [], [], ['@FoxNews'], ['@manchesterfire', '@cllrilindley]'], [], [], [], ['@karren_brady', '@MyStephanomics', '@darcyelizbet'], [], [], [], [], ['@ChickfilA'], [], [], [], [], [], [], ['@OnlyGoodUpdates'], [], [], [], [], [], ['@svdate', '@tedcruz'], [], [], [], [], ['@JeanneEdson', '@andygrammer'], [], ['@DailyCaller'], [], [], ['@ITV', '@emmerdale'], [], [], [], [], ['@DailyCaller'], [], ['@Pharrell:'], [], [], [], [], [], ['@WMATARU'], [], [], [], ['@mashable'], [], [], ['@DailyCaller'], ['@ThabitiAnyabwil,', '@BHAcademic,', '@BHpub.'], [], ['@theonlywayisjam'], ['@tom_watson'], [], ['@LadyGrayse'], [], ['@DailyCaller'], [], ['@cutie_zhie:'], [], [], [], [], ['@RBoydBarrett):'], [], ['@tedcruz'], [], ['@thejournal_ie', '@rtenews', '@MOReganIT', '@minihanmary', '@oconnellhugh'], [], [], [], [], [], [], [], [], [], [], [], [], [], [], [], [], [], ['@DCClothesline'], [], ['@TGowdySC'], ['@RealJTP'], ['@Massier_Tobias'], [], ['@DWStweets'], [], [], [], [], [], [], [], [], [], ['@DickinsonAdmit'], [], [], [], ['@bpolitics'], [], [], [], [], [], [], [], [], [], [], [], [], [], [], [], [], [], [], ['@LifeZette', \"@realDonaldTrump's\"], [], [], [], [], [], ['@wjmcgurn:And', '@WSJ'], ['@moonduckTV'], [], [], ['@crankybecky', '@osPatriot'], ['@nytimes'], [], [], [], [], [], [], [], ['@Evan_McMullin', '@Evan_McMullin'], ['@nautilus55', '@mega2e', '@nytimes', '@mikiebarb'], [], [], [], [], ['@HillaryClinton'], [], [], ['@RealDonaldTrump'], ['@JessieJaneDuff', '@BobMacAZ'], [], [], [], [], [], [], ['@alexburnsNYT', '@butitsjustreal'], [], [], [], [], [], ['@peta'], [], [], ['@JennaVAtion', '@txGirl4ever_', '@AddieEgan', '@TinaCatalone', '@FemalesForTrump', '@GSDDoglover'], ['@realDonaldTrump'], ['@HillaryClinton'], [], ['@CNN', '@CBSNews', '@ABCnews', '@MSNBC', '@NBCNews', '@MSNBC', '@FoxNews'], ['@McConnellPress'], ['@HillaryClinton'], ['@RealJamesWoods'], [], [], [], [], [], [], [], ['@POTUS', '@HillaryClinton'], ['@HillaryClinton'], [], [], ['@thelibrepublic'], [], [], [], [], [], [], [], [], [], [], ['@wikileaks', '@HillaryClinton', '@'], [], ['@MeetThePress', '@FLOTUS', '@realDonaldTrump'], ['@washingtonpost'], [], [], ['@'], [], ['@politicsillustr'], [], ['@politicsillustr'], ['@marklevinshow', '@LevinTV', '@CR', '@c5hardtop1999'], [], [], [], [], ['@ConstitutionNat'], ['@rightsidenews'], [], [], ['@wordpressdotcom'], ['@po_st'], [], ['@Drudge'], [], [], [], [], [], [], [], [], [], [], [], [], [], [], [], [], ['@wikileaks'], [], ['@cmdorsey'], ['@HillaryClinton', '@realDonaldTrump'], ['@donholt99', '@ABC'], ['@HillaryClinton'], ['@HillaryClinton'], ['@HillaryClinton'], [], [], [], [], ['@CNN', '@ChrisStirewalt', '@FoxNews'], ['@FoxNews', '@HillaryClinton', '@realDonaldTrump'], [], ['@scrowder'], [], [], [], ['@wikileaks', '@BlackCatUnloads', '@PVeritas_Action'], [], [], [], [], ['@HillaryClinton!'], [], [], [], [], [], [], [], [], ['@ABC', '@NBCNews', '@CBSNews', '@FoxNews', '@CNN', '@MSNBC'], [], ['@JulieRoginsky☭', '@FoxNews,'], [], ['@realDonaldTrump'], [], [], [], ['@ihatethemedia'], [], [], [], [], [], [], [], ['@MichelleKOrts10', '@CatholicsPress'], [\"@thehill's\"], [], [], [], [], [], [], [], ['@realDonaldTrump:'], [], ['@KnowWeCan:'], ['@PatrickBuchanan:'], [], ['@TheRickWilson'], ['@crewser61'], ['@PRyan'], [], [], ['@Evan_McMullin'], [], [], [], [], [], [], [], [], [], [], [], [], ['@Johnson4POTUS', '@Evan_McMullin', '@joannesmoot'], [], [], [], ['@FEC', '@HillaryClinton', '@Project_Veritas', \"@wikileaks'\"], [], [], [], [], [], [], [], [], ['@WSJ'], [], [], [], ['@FBI'], [], [], [], [], ['@gop', '@realDonaldTrump'], [], [], [], [], [], [], ['@BreitbartNews,'], [], [], [], [], ['@jcruz821', '@4chansbest'], [], ['@TheUnitedStites'], ['@HillaryClinton'], [], [], ['@WeSearchR', '@TRUNEWS'], [], [], [], ['@realDonaldTrump'], [], ['@NewtGingrich', '@MegynKelly'], ['@tomhanks'], [], [], ['@newtgingrich', '@megynkelly,'], [], ['@Evan_McMullin.', '@RinainDC', '@TheRickWilson', '@Joel_Searby'], [], [], [], [], [], ['@KevinPriceLive'], [], [], ['@redrivergrl', '@IngrahamAngle'], [], [], [], [], [], ['@jaketapper'], [], [], [], [], [], [], [], [], ['@real_Til', '@BrianMbsusa2'], [], ['@HouseGOP', '@UCBerkeley'], [], ['@HillaryClinton'], [], [], [], [], [], [], [], [], [], [], ['@nickgillespie', '@reason.'], ['@OhioCoastie', '@shortwave8669', '@BenHowe'], ['@greenapplebooks.'], [], [], [], ['@YouTube'], [], [], [], [], [], [], [], ['@EricHolder,'], [], [], [], [], [], ['@USADailyInfo'], [], ['@tponews', '@mitchellvii'], [], [], [], ['@KevinHorton15'], [], [], [], ['@realDonaldTrump'], [], [], [], [], ['@ChrisSnyderFox'], ['@IngrahamAngle:'], ['@HillaryClinton'], [], ['@realDonaldTrump'], [], [], ['@charlescwcooke', '@realjpbook'], [], [], [], [], [], [], [], [], [], ['@KurtSchlichter', '@realjpbook'], ['@Franklin_Graham'], [], ['@CNNPolitics'], ['@mitchellvii'], [], [], [], [], ['@mike_pence', '@realDonaldTrump'], [], ['@megynkelly'], [], ['@seanhannity'], [], [], [], ['@NikeNChillemi'], [], [], [], [], [], [], [], [], [], [], [], [], [], ['@bpolitics'], [], [], [], [], [], ['@shortwave8669', '@AviWoolf'], [], [], [], [], [], [], ['@youngcons'], ['@luchadora41', '@GulfDogs', '@smokie_tx', '@angrymom80'], [], ['@exjon'], [], [], [], [], ['@chuckwoolery', '@sseagalofficial', '@Conservative_VW', '@LouDobbs'], [], [], [], [], [], [], [], [\"@JamesRosenFNC's\", '@reihan', '@jackfowler'], [], [], [], [], [], [], [], [], [], ['@DCExaminer'], ['@brunelldonald:'], ['@FreedomOutpost'], [], ['@HillaryClinton'], [], [], ['@somethinggd'], [], [], ['@kelseyjharkness', '@DailySignal'], ['@'], ['@BillZucker', '@ArenaScreen', \"@mrdanfrank's\", '@greenfairymovie'], ['@BillZucker'], [], ['@FreeBeacon', '@JaredWyand'], ['@skype_directory', '@JaredWyand'], [], [], [], ['@bpolitics'], [], [], [], [], [], [], [], ['@Pudingtane'], ['@wikileaks'], ['@FoxNews'], ['@bpolitics'], [], ['@TerryMcAuliffe', '@timkaine', '@realDonaldTrump'], [], ['@GavinNewsom', '@CRPAFFC'], [], [], [], [], [], ['@conservativebyt'], [], [], [], [], [], ['@theipatriot'], ['@itsJustJill', '@carold501', '@EricaRN4USA', '@cgpb'], [], [], ['@realDonaldTrump'], [], [], [], [], [], [], [], [], ['@youtube'], [], [], ['@realDonaldTrump'], [], ['@loretta_stiles', '@Chuck4Justice', '@MarianDClough', '@TenNamesLater'], [], [], ['@ericbolling', '@FoxandFriends'], [], [], [], [], ['@Rositabonita48', '@cgpb', '@Larryputt', '@dovewan', '@larryvance47', '@presbo', '@viola_tamez', '@freedmeto', '@Scarlett210'], [], [], [], [], [], [], [], [], [], ['@AP_Politics'], ['@Grubhub'], ['@Telegraph', '@monisha_rajesh', '@DHSgov', '@FBI', '@SecretService', '@CIA'], [], ['@forbes'], ['@KevinJacksonTBS.'], [], [], [], ['@bhendrick', '@tsa_tsu', '@TSA_DZA'], [], [], [], [], [], [], [], ['@HillaryClinton,'], [], ['@SandraTXAS'], [], ['@realDonaldTrump', '@mike_pence', '@newtgingrich', '@seanhannity'], ['@realDonaldTrump'], [], [], [], [], [], ['@YahooNews'], ['@StephenBannon'], ['@MomWifeGrammy', '@realDonaldTrump'], [], [], [], [], [], [], [], [], [], [], [], [], ['@BigStick2013', '@Larryputt'], [], [], ['@BigStick2013'], [], ['@Olivianuzzi'], ['@Nottinghams1', '@Mikeproudvet', '@ABCWorldNews'], [], [], [], [], [], [], [], [], [], [], [], ['@benshapiro'], ['@20committee'], ['@asamjulian'], [], [], [], ['@nypost'], [], [], [], ['@realDonaldTrump'], [], [], [], [], [], [], [], [], [], [], ['@PCollectibles'], [], [], [], [], ['@OneAngryGamerHD'], [], ['@FoxNews', '@BeachinFree'], [], [], ['@reading_im', '@Westxgal'], ['@sunbeltgirl', '@oneJesusloves'], [], [], [], [], [], [], [], [], [], [], ['@Franklin_Graham'], [], ['@mike_pence', '@realDonaldTrump'], ['@ChrisSnyderFox'], [], [], [], [], [], [], ['@BreitbartNews'], ['@afBranco'], [], [], ['@WKRN'], ['@BilldeBlasio'], ['@BilldeBlasio'], ['@BilldeBlasio'], ['@BilldeBlasio'], [], [], ['@tlamb775'], ['@realDonaldTrump'], [], ['@MinuteMenNews'], ['@MikeLester'], [], ['@sdutBreen'], [], [], ['@tedcruz:'], [], [], [], [], [], [], ['@bob_owens', '@KurtSchlichter'], [], [], [], [], [], ['@wikileaks'], [], [], [], [], [], [], [], [], [], [], [], [], [], ['@BearingArmsCom'], ['@RealBenCarson'], [], [], ['@tedcruz.'], [], [], [], [], [], ['@DocThompsonShow', '@britlikeslimes'], [], ['@DocThompsonShow'], ['@DocThompsonShow'], [], ['@GmanFan44'], [], [], [], [], [], [], ['@FiveRights', '@OCAmericans'], [], [], [], [], [], [], [], ['@HillaryClinton', '@StateDept', '@realDonaldTrump', '@CNN', '@cnnbrk', '@CNNPolitics'], ['@HillaryClinton', '@SenatorSessions'], [], [], [], ['@SATXPolice'], [], [], [], [], [], [], [], ['@lakefront'], ['@ajc', '@CVivlamoreAJC', '@24Bazemore', '@BradThor'], ['@DrJillStein', '@realDonaldTrump', '@HillaryClinton'], [], ['@24Bazemore', '@BradThor!'], ['@bradthor'], [], [], [], ['@HillaryClinton'], [], [], [], ['@BillZucker', '@ArenaScreen', \"@mrdanfrank's\", '@greenfairymovie'], [], ['@brunelldonald:'], [], [], ['@sue51684'], [], ['@AT_Conservancy', '@AppMtnClub'], [], ['@realDonaldTrump'], [], [], [], [], [], ['@securefreedom'], ['@ollove412'], [], [], [], [], [], ['@BrittPettibone', '@ChedzarMurphy'], ['@Khanoisseur', '@rabiasquared'], [], [], [], [], [], [], [], [], [], [], [], ['@stevechenevey.'], [], [], [], [], ['@dailycaller'], [], [], ['@FoxNews', '@TTStar5', '@SandraLindsey', '@Trans1110'], [], [], [], [], [], [], ['@DanaWinters93'], [], [], [], [], [], [], [], ['@HamillHimself', '@Disney'], [], ['@TuckerCarlson'], [], [], [], ['@jlrowe', '@HouseGOP', '@Senate_GOPs'], ['@TheBlaze'], [], [], ['@dailycaller'], [], [], [], [], [], [], [], [], [], [], ['@USADailyInfo'], ['@mcuban'], [], ['@1SG50', '@carold501', '@GLCmom', '@PuterPrsn', '@ConchoQueen', '@Redone68', '@KrisAnneHall', '@WAGNERGIRLE'], ['@mcuban'], [], [], [], [], ['@POTUS'], ['@JAmy208:'], [], [], [], [], [], [], ['@Cubs', '@Brewers'], ['@realDonaldTrump→'], [], [], [], ['@greeneyes0084', '@SenSanders'], [], [], ['@wordpressdotcom'], ['@SpeakerRyan'], [], [], ['@alysenwonderlnd', '@kbsquared1961', '@Reince', '@transition2017', '@MittRomney'], ['@SCT_no_hyphen', '@OhioStResLife'], [], [], [], [], [], [], ['@Tyler2ONeil', '@pjmedia_com'], [], ['@sjspecialist', '@Nottinghams1'], ['@Nottinghams1'], [], [], [], [], [], [], [], [], [], [], [], [], [], [], [], [], ['@TheDemocrats'], ['@comcastcares', '@comcast'], [], [], ['@youtube'], ['@BreitbartNews'], [], [], [], [], [], [], [], [], [], [], [], [], ['@dailycaller'], [], [], ['@FBI'], [], [], [], [], [], [], [], [], ['@BreitbartNews'], ['@wikileaks'], ['@0hour', '@Sentinel2NO'], [], ['@michellemalkin'], [], ['@Mike_Pence'], [], [], [], [], [], [], ['@HillaryClinton', '@POTUS'], ['@ConstitutionNat'], [], [], [], [], ['@realDonaldTrump'], [], [], [], [], ['@AllenWest'], [], [], [], [], [], ['@realDonaldTrump', '@calidhd', '@BellaBadaBing', '@darren_williger'], ['@realDonaldTrump'], [], [], [], [], [], [], [], [], [], [], ['@UnivisionNews', '@electionland'], [], [], [], [], [], [], [], [], [], ['@kellyjclauss:'], [], [], [], ['@nytimes'], [], [], [], [], [], [], [], [], ['@oreillyfactor', '@megynkelly'], ['@retiredfirecapt', '@DixieRebelForce', '@belvedere'], [], [], [], [], [], [], [], ['@BARACKOBAMA'], [], [], [\"@realDonaldTrump's\"], ['@RealDonaldTrump', '@HillaryClinton.'], ['@realDonaldTrump'], [], [], [], [], [], [], ['@DaveRamsey'], [], [], [], [], [], [], [], ['@SyarifShahferi'], [], ['@realDonaldTrump'], ['@VP', '@JoeBiden’s'], [], [], ['@JamesOKeefeIII'], [], [], ['@yesimright1'], [], [], [], [], [], ['@_JacksonRogers_', '@OldRowOfficial', '@realDonaldTrump'], [], ['@jaketapper?'], ['@TarekFatah'], [], [], ['@mitchellvii'], [], [], [], [], [], [], [], [], [], ['@StephenASmith', '@Kaepernick7'], ['@RealJamesWoods'], [], ['@repgarrett'], ['@WreathsAcross'], ['@HillelNeuer'], [], [], ['@tedcruz'], [], ['@RepMarkMeadows'], [], ['@Raul_Labrador'], [], ['@justinamash'], ['@RepRodBlum'], [], [], ['@'], [], [], [], ['@Adjustedwell', '@DrJillStein'], [], [], [], ['@Outofnames', '@BobMacAZ', '@LakesPlace', '@McClatchyDC'], [\"@Evan_McMullin's\"], ['@RickBulow1974', '@SweetFreedom29'], [], [], ['@USADailyInfo'], ['@Nottinghams1', '@TSewBiz', '@CarmineZozzora', '@JamesPaine33248', '@nytimes'], ['@CNN'], [], [], [], [], [], [], ['@Harlan', '@JasonDunn67'], [], [], ['@BillKristol'], [], [], [], [], [], [], [], [], [], ['@petehegseth:'], ['@IBDEditorials'], [], [], ['@realDonaldTrump', '@Maddog5827'], [], [], [], ['@christianhlines'], [], [], [], [], ['@realDonaldTrump'], ['@realDonaldTrump'], [], [], [], ['@support'], [], [], ['@NBCNightlyNews'], [], [], [], [], [], [], [], [], [], ['@TheChrisSuprun'], [], ['@Kohls'], ['@SenWarren'], [], [], [], ['@WI_Elections'], [], ['@ABC', '@4EVRUSA', '@ABCInvestigates'], ['@Newsmax_Media'], [], [], [], [], [], [], ['@Kimberlynh24', '@mike_hblmal03', '@aleksEDM7', '@Linda_Hermoxita', '@TwitWhizz', '@yoma525i'], ['@AdryMMP', '@Kimberlynh24', '@mike_hblmal03', '@aleksEDM7', '@Linda_Hermoxita', '@TwitWhizz', '@HabrahamVlogs'], [], ['@SInow'], [], ['@marklevinshow'], ['@dsamuelsohn'], [], ['@DCClothesline'], [], [], ['@NFL', '@NBA.'], [], [], [], [], [], [], ['@marcorubio,', '@tedcruz', '@realDonaldTrump'], [], ['@LSUJEFF', \"@FRANCE24'\"], ['@NRO'], [], [], ['@YouTube'], [], [], [], [], [], [], [], [], [], [], [], [], [], [], ['@Behind__News'], [], [], [], ['@conservativebyt'], [], ['@upsidetrader', '@jmegown52302', '@THEHOTSAUCEBOSS'], [], ['@wikileaks'], [], [], ['@Harlan', \"@realDonaldTrump's\"], [], [], [], [], [], [], [], [], [], [], [], [], [], [], [], [], [], [], [], [], [], [], [], [], [], [], [], [], ['@KLSouth', '@MonicaCrowley'], [], ['@Eckjulian', '@Stevenwhirsch99'], ['@WillLeak'], [], ['@Russia', '@SenatorReid', '@FBI', '@HillaryClinton', '@BarackObama', '@FBI'], [], [], ['@BarackObama', '@JudicialWatch', '@NPR'], ['@JasonButtrill'], [], ['@AllenWestRepub'], [], ['@AllenWestRepub'], [], [], ['@youtube'], [], [], ['@Reuters'], ['@USADailyInfo'], ['@jpj1779'], [], ['@USADailyInfo'], ['@USADailyInfo'], [], [], [], [], [], [], [], ['@Salon'], [], [], ['@AlexStanek'], ['@DeplorableNews'], [], [], [], ['@DSTdyme'], ['@realDonaldTrump'], [], [], ['@realDonaldTrump'], [], ['@BarackObama'], [], [], [], [], [], [], [], [], [], [], [], [], [], [], [], ['@realDonaldTrump'], ['@JaredWyand', '@dbat_m'], ['@Crossbowman1', \"@mayday2744'\"], [], [], [], ['@immigrant4trump'], [], ['@USADailyInfo'], [], ['@realDonaldTrump', '@mike_pence'], [], [], [], [], ['@FoxNews', '@sand3633', '@MeghanMcCain'], [], ['@DanScavino', '@sand3633', '@Interior', '@YellowstoneNPS', '@vine'], [], ['@CNN'], [], [], ['@EricTrump'], ['@POTUS', '@FLOTUS', '@realDonaldTrump'], [], [], [], ['@perrystonevoe', '@kenfryer', '@indigenous01', '@DesignsonTruth', '@AACONS'], [], [], [], [], [], [], [], ['@amlookout'], [], [], ['@AllianceDefends'], [], [], [], [], ['@worldnetdaily', '@FBI', '@CIA'], ['@TimAlberta'], [], [], [], [], [], [], [], [], [], ['@SebGorka', '@duchess1201', '@foxandfriends'], ['@PzFeed'], [], [], [], ['@JoseD89344985', '@BobMacAZ'], [], [], [], [], [], ['@FemalesForTrump', '@realDonaldTrump'], ['@dxrpi', '@Patriot_MM'], ['@TheView'], [], [], [], [], [], [], ['@KimStrassel:', '@WSJ'], [], ['@tedcruz'], [], [], ['@3tags_org'], [], [], [], [], [], [], [], [], ['@chicagotribune', '@SteveChapman13'], [], [], [], ['@youngcons'], ['@POTUS,'], [], ['@realDonaldTrump'], ['@laurenduca'], [], [], [], [], ['@Bease11'], [], ['@f396'], [], [], [], ['@CharlieDaniels', '@Loriisright'], [], [], [], [], [], [], [], [], [], [], [], [], [], [], [], [], ['@guardiannews'], [], [], ['@ForeignAffairs'], [], [], [], [], [], [], [], [], [], ['@realDonaldTrump'], [], [], [], [], ['@ScottAdamsSays'], [], [], [], [], [], [], [], [], [], [], [], [], [], [], ['@AuburnTigers)'], [], [], ['@PolitixGal', '@mmmoonie', '@S51Bill'], [], ['@JohnKerry'], ['@Conservatexian'], [], [], [], [], [], [], ['@cristinalaila1', '@SisConvinceMe'], [], ['@FlyFisher_AKY'], ['@zippy‼'], [], [], [], ['@PatVPeters'], ['@steingal2', '@leo80475770'], ['@HouseCracka'], ['@ABC', '@CBS', '@NBC', '@CNN'], [], [], [], [], [], [], [], [], [], ['@tony4NY'], ['@LaurenJonesGOP_', '@cmdorsey', '@TomFitton'], ['@realDonaldTrump', '@GOP', '@RNC'], [], [], [], [], [], [], [], [], [], [], [], [], [], [], [], [], [], [], [], ['@gatewaypundit'], [], [], [], [], [], ['@peta'], [], ['@theclobra'], ['@CNN'], ['@ihatethemedia', \"@opedanderson'\"], ['@RobHoey'], ['@aravosis'], [], ['@tgradous', '@pjamesjp1', '@LLMajer', '@AOTR_Host'], [], [], [], ['@EboniKWilliams', '@RichLowry:', '@realDonaldTrump.', \"@KatrinaPierson'\"], [], [], ['@Michael_0000'], [], [], [], [], [], [], [], [], [], [], [], [], ['@realDonaldTrump'], [], [], [], ['@netanyahu'], [], ['@RealJamesWoods', '@mhoward48'], ['@YahooNews'], ['@jensan1332', '@tedcruz'], [], [], [], [], [], [], [], [], ['@ODMP'], ['@BrotherVet', '@Merreee1', '@DawnRachel13', '@GenesSmile', '@kdstarbux'], [], [], [], ['@eSaagar'], [], [], [], [], ['@Ukrainolution'], [], [], [], [], [], [], [], [], [], [], [], ['@agent_it', '@DHecei', '@workbench59', '@ShowoffByDesign', '@roycan79', '@TrumpDynastyUSA', '@mama_sees'], [], ['@conservativebyt'], [], ['@CNN'], [], ['@HillaryClinton'], [], ['@JewhadiTM', '@jmpalmieri'], ['@LindaSuhler'], ['@justanavywife', '@2ALAW', '@realDonaldTrump'], [], [], [], [], [], ['@'], ['@realDonaldTrump', '@RealBenCarson'], [], ['@BlackrobePrecha', '@luchadora41', '@Rev_4_congress'], [], [], [], [], [], ['@pattonoswalt'], ['@', '@sandiegoairport'], [], [], ['@AleteiaEn'], ['@abusedtaxpayer', '@vivelafra', '@AlecBaldwin', '@nbc', '@realDonaldTrump', '@nbcsnl'], ['@abusedtaxpayer'], [], ['@POTUS.'], [], [], [], ['@abusedtaxpayer', '@thehill'], ['@AndrewCFollett'], [], [], [], [], [], [], [], [], ['@DocThompsonShow'], [], [], [], [], [], ['@PrisonPlanet'], [], [], [], [], ['@kawalpeet'], ['@ali', '@LMBigSur'], [], [], ['@kaylacramer98', '@animalvid', '@22Words'], [], [], [], [], ['@BreitbartNews'], [], [], [], ['@Macys', '@PPact,'], [], [], [], [], [], [], ['@DCExaminer'], ['@alflafalf'], [], [], [], [], ['@realDonaldTrump:'], [], [], [], [], [], [], ['@tedcruz'], ['@chuckschumer'], [], [], ['@MikeBPR', '@Joe4AmericaPAC'], [], ['@OCAmericans', '@BluegillRises', '@TheLastRefuge2', '@NolteNC'], [], [], [], ['@luchadora41'], ['@AFP'], [], [], ['@clairecmc'], [], [], ['@NYJooo'], ['@CkconboyKevin', '@Cernovich', '@HillaryClinton'], [], [], ['@HillaryClinton'], [], [], [\"@Reince's\"], [], [], [], [], [], [], [], [], [], [], [], [], [], [], [], [], [], [], [], [], [], [], [], [], [], [], [], [], [], [], [], [], [], [], [], [], [], [], [], [], [], [], [], [], [], [], [], [], [], [], [], [], [], [], [], [], [], [], [], [], [], [], [], [], [], [], [], [], [], [], [], [], [], [], [], [], [], [], [], [], [], [], [], [], [], [], [], [], [], [], [], [], [], [], [], [], [], [], [], [], [], [], [], [], [], [], [], [], [], [], [], [], [], [], [], [], [], [], [], [], [], [], [], [], [], [], [], [], [], [], [], [], [], [], [], [], [], [], [], [], ['@POTUS'], ['@wordpressdotcom'], [], [], ['@JamesOKeefeIII', '@FergusCullen'], [], [], [], [], ['@scrowder'], [], [], [], [], ['@usheraldnews'], [], [], [], [], [], [], [], [], [], [], [], [], [], [], [], [], ['@laelli03'], [], [], [], [], ['@BI_Defense'], [], [], [], [], [], [], [], [], [], ['@AnnCoulter'], [], [], ['@PressSec', '@SeanSpicer', '@Reince', '@KellyAnnePolls'], [], [], [], [], [], [], ['@USNATO'], [], [], [], ['@UANI'], ['@Fox', '@CBS', '@NBC', '@CNN'], [], [], [], [], ['@ChuckNellis', '@WEdwarda', '@ATHudd', '@A_M_Perez', '@tigw9598', '@thecombatfarmer', '@DonnaChaffins'], ['@realDonaldTrump:'], ['@tregp', '@theblaze'], [], [], [], [], ['@TheOTGWisconsin'], [], ['@nytimes', '@washingtonpost'], [], [], [], [], [], [], ['@cmdorsey', '@SparklyMarkley', '@SenSchumer', '@jeffsessions', '@EricHolder'], [], [], ['@usa_news_24'], [], [], ['@ConservaVideos'], ['@voteforali,', '@bob_owens'], ['@ConservaVideos'], [], [], ['@endianstonemas', '@Lisagaye57', '@NwoReport'], [], ['@JonStreet', '@theblaze'], [], ['@rushlimbaugh'], [], ['@TheDanielMarch):'], ['@YvetteFelarca'], [], [], ['@FallenAngelMovi'], [], ['@fredtkennedy:', '@tedcruz.'], ['@DataGenesis:'], [], ['@Fingersflying:'], [], ['@GinaEPA', '@EPA', '@POTUS'], [], [], ['@HotNostrilsrFun', '@DTyler51', '@Patriotic_Me', '@tlrc88', '@WayneDupreeShow'], ['@POTUS'], ['@Brendy438', '@Wild_Phil', '@USAlivestrong', '@blondygirl1'], [], ['@NBC/@WSJ', '@TedCruz'], ['@JohnKStahlUSA:'], [], ['@firstcircle12:'], ['@AmyMek:', '@DartonState'], [], ['@JYoung3804', '@MarshallFarts5', '@ZaffodB', '@gamblor5555', '@MrFuckBringer'], [], [], [], [], ['@CNN', '@MSNBC', '@washingtonpost', '@CBS', '@ABC', '@nbc', '@nytimes', '@BuzzFeed'], [], ['@CBPRGV'], ['@USADailyInfo'], [], [], ['@brhodes'], [], [\"@realDonaldTrump's\"], ['@gerfingerpoken2:', '@IBDEditorials'], [], [], ['@gcustomer99:'], [], ['@2AFight:'], ['@smartgirls4gop:', '@kingattax:'], ['@StephenBannon', '@LouiseMensch'], ['@StephenBannon'], [], ['@LouiseMensch'], ['@PutinRF_Eng', \"@BarackObama's\", '@LouiseMensch'], [], [], [], [], [], [], [], [], [], [], ['@saintjosephs'], [], [], [], [], [], [], [], [], [], [], [], [], [], [], [], [], [], [], [], [], [], [], [], [], [], [], [], [], [], [], [], [], [], [], [], [], [], [], [], [], [], [], [], [], [], [], [], [], [], [], [], [], [], [], [], [], [], [], [], [], [], [], [], [], [], [], [], [], ['@Cernovich'], ['@KGBVeteran', '@DJTsavesAmerica'], [], ['@arquitetinha', '@TomiLahren'], [], ['@gerfingerpoken2:'], ['@2AFight:'], [], [], ['@dansch2002:', '@gregghoulden:'], ['@Shooters_Wife:'], ['@GOP', '@GOHConservative'], [], [], [], ['@ConservaVideos'], [], ['@GeorgeHWBush'], [], ['@ConservaVideos'], ['@LadyLiberTea'], [], ['@chrisenloe', '@theblaze'], ['@CPAC', '@ACUConservative'], [], [], ['@FoxNews'], [], [], ['@20committee', '@LouiseMensch'], [], ['@benshapiro'], [], [], [], ['@PaulRizzo504', '@Aliotta10', '@FoxBusiness'], [], ['@JulieBishopMP', '@WhiteHouse'], [], [], ['@jessicav_cis:'], ['@'], [], ['@olivialeeross1', '@ConservBabes', '@FairfaxGOP', '@lindafanaras', '@NsEllenna', \"@GatorBuc2'\"], [], [], ['@ggeett37aaa:'], ['@2AFight:'], [], [], [], [], [], [], ['@Shooters_Wife:', '@phil200269:'], ['@TeriGRight:', '@frickenchamps:'], [], [], [], ['@jimmylemons'], [], [], [], [], ['@realDonaldTrump', '@SenJohnMcCain'], [], ['@YahooNews'], ['@ericbolling', '@FoxandFriends'], ['@realDonaldTrump', '@GOP', '@RNC'], ['@afBranco'], ['@TStig822'], ['@aug_RickMcKee'], [], [], [], ['@mpidailymag'], ['@mpidailymagazin'], [], [], [], [], [], ['@andersoncooper', '@donlemon', '@ChrisCuomo', '@jaketapper', '@ErinBurnett', '@DanaBashCNN', '@wolfblitzer'], ['@JamesOKeefeIII'], [], [], [], [], [], [], ['@jeffsessions', '@POTUS', '@VP'], [], [], [], ['@mikeliberation:'], ['@cullystimson', '@DailySignal'], [], [], [], ['@MacTXPress'], ['@jerryscar', '@mikepfingston2', '@LilMissPrepper'], [], ['@gjjq2704', '@realdonaldtrump'], [], [], [], [], ['@marcorubio'], [], ['@AdamFerrise'], [], ['@PurpleCarib', '@PresidentTrump_', '@IraBlacker', '@POTUS', '@VP:'], ['@Reince45', '@POTUS'], [], ['@100percFEDUP'], [], ['@3tags_org'], ['@WSCP2:'], ['@gerfingerpoken:', '@IBDEditorials'], [], ['@AwakeDeborah:', '@nbcnews'], ['@FallenAngelMovi'], [], ['@ChgocadChic:', '@JosephEach:', '@tedcruz'], ['@theironwillofUS:', '@bcwilliams92:'], [], [], ['@theironwillofUS:', '@Jopup1:'], [], ['@DataGenesis:'], [], [], ['@POTUS', '@VP', '@GOP:'], ['@CNN'], [], [], [], [], [], [], [], [], [], [], [], [], ['@thr'], [], [], ['@AaronBlake'], ['@tedcruz'], [], [], [], ['@anonymous5595', '@beforeitsnews'], [], [], [], ['@realDonaldTrump'], ['@tedcruz'], [], [], [], [], ['@Janeteckles'], [], [], [], [], [], [], [], ['@jaketapper', '@RRMGOP', '@cnn'], [], [], [], [], [], ['@DocThompsonShow'], [], ['@DocThompsonShow'], ['@DocThompsonShow', \"@rc_kris'\"], ['@DocThompsonShow'], ['@POTUS', '@realDonaldTrump', '@VP,', '@HHSGov', '@KellyannePolls.'], ['@StateDept.'], [], [], ['@ChuckNellis'], [], ['@realDonaldTrump'], [], [], ['@TuckerCarlson'], [], ['@captainkudzu'], ['@captainkudzu'], [], [], [], [], ['@BreitbartNews'], [], [], ['@GaTo_Q'], [], [], [], [], [], ['@JohnSmith_USSR', '@osPatriot'], [], ['@KazmierskiR', '@IvankaTrump', '@realDonaldTrump'], [], [], [], [], [], ['@TheAcademy'], [], [], [], [], [], [], [], [], [], [], [], [], [], [], [], [], [], [], [], [], [], [], [], [], [], [], ['@linmitdan', '@z3n_digital', '@DaWoggly', '@iDGiam', '@randlight'], ['@MarkDiStef', '@michellegrattan'], [], [], ['@BasimaFaysal', '@A_Zulvica', '@NulliusnVerba', \"@XrkXes'\"], [], ['@BasimaFaysal', '@AlnicoII'], [], ['@Fingersflying:'], ['@yueyuea:'], ['@FallenAngelMovi'], ['@GarzaVillanueva:', '@GOP...'], [], ['@vwcares,'], [], [], ['@POTUS', '@realDonaldTrump'], [], [], ['@SenatorCollins', '@lisamurkowski', '@POTUS'], [], ['@kguazzo'], ['@7295murphy'], ['@aonorat', '@7295murphy'], ['@Mary_Hagist', '@7295murphy'], ['@FallenAngelMovi'], [], [], [], ['@PabloCRUZin16'], ['@GregAbbott_TX:', '@TexasGOP'], ['@UCBerkeley'], [], [], [], ['@ChelseaClinton'], ['@'], ['@indiaknight', '@FBI', '@SecretService'], [], [], ['@POTUS', '@realDonaldTrump'], [], [], [], ['@GatorsFB'], ['@WhiteHouse'], [], [], [], ['@'], ['@AlaskaAir.'], ['@kattshine:'], ['@FullFrontalSamB'], [], [], [], [], ['@ToddyLittman:'], ['@realDonaldTrump'], ['@PolitiBunny'], [], [], ['@Shooters_Wife:', '@Shooters_Wife:'], [], [], [], ['@AtlantaFalcons'], [], [], [], [], ['@timkaine'], ['@luchadora41'], [], [], ['@20committee', '@BraddJaffy'], [], ['@TheDemocrats'], [], [], ['@c0nvey'], [], [], [], [], ['@AOL'], ['@rxpatriot46:'], ['@Poisonillusion', '@ReneeMarcelle0'], [], ['@'], [], [], ['@PeterTownsend7:'], [], [], [], [], [], [], [], [], [], [], ['@Die__Trying_:', '@POTUS', '@GOP?', '@ScottErnst0331', '@RebellionReport'], [], [], [], ['@Lrihendry', '@BetsyDeVos'], ['@slone', '@washingtonpost', '@sarahhalzack'], [], [], [], ['@wordpressdotcom'], ['@rc_kris', '@DocThompsonShow'], ['@DocThompsonShow', '@rc_kris,'], ['@DocThompsonShow.'], ['@DocThompsonShow'], [], [], [], [], [], [], [], [], [], [], ['@marthamaccallum.'], [], [], [], [], [], [], [], [], [], [], [], [], [], [], [], ['@POTUS'], [], [], [], ['@dhotle:'], ['@DocThompsonShow'], [], [], ['@DocThompsonShow', '@rc_kris', '@KAL79'], [], [], ['@POTUS'], [], [], [], [], [], [], ['@SenatorSessions!'], [], ['@marcorubio', '@SenateGOP', '@SenJohnMcCain'], [], [], [], ['@nia4_trump', '@perrisgirl1', '@ICEgov'], [], [], [], [], ['@StefanMolyneux'], [], [], [], [], [], [], [], ['@FLOTUS'], [], [], [], ['@Floridan53:', '@genuinedavid'], [], [], ['@TheDemocrats'], [], [], [], [], [], [], [], [], [], [], [], [], [], [], [], [], [], [], [], [], [], [], [], [], [], [], [], [], [], [], [], [], [], [], [], [], [], [], [], ['@noltenc?'], ['@IBDeditorials'], [], [], ['@TeriGRight:'], [], [], [], [], [], [], [], [], [], [], [], [], [], [], ['@POTUS', '@realDonaldTrump'], [], [], ['@VicenteFoxQue'], [], ['@CNN', '@MSNBC.'], [], ['@DocThompsonShow'], ['@robynwalensky', '@DocThompsonShow'], ['@100percFEDUP'], [], [], ['@DBTheChristian:'], [], ['@dansch2002:', '@C_A_Landoll:'], ['@2AFight:'], [], [], ['@chucknorris'], ['@sarah_ca1831', '@SenFeinstein'], [], [], [], [], [], [], ['@AnnCoulter'], [], ['@BarackObama', '@ObamaMalik'], [], [], ['@GStarkeyBooks', '@Lupita_ets', '@Green_Star1', '@Ber_TheWoods', '@KinderEric', '@swhotmess', '@FirebaughNorman', '@10thAmendment', '@gatman7'], [], ['@Holmesdonna1', '@10thAmendment', '@WDFx2EU', '@Donnam8470Donna', '@MoveOn', '@BernieSanders', '@POTUS', '@twitter'], [], [], [], [], ['@Holmesdonna1', '@10thAmendment', '@WDFx2EU', '@Donnam8470Donna', '@MoveOn', '@BernieSanders', '@POTUS', '@twitter'], [], [], [], [], [], [], [], [], [], [], [], [], [], [], [], [], [], [], ['@UsamaDakdok', '@NdTimesNAmerica', '@luchadora41', '@LSUJEFF'], [], [], ['@BennettJonah', '@20committee'], [], [], ['@realalexjones'], ['@Charlie2749', '@Senwarren'], [], [], [], [], [], [], [], [], ['@ColoradoGirl2A', '@thro_e', '@SFCGrambo', '@GeorgiaDirtRoad', '@KevinHower2', '@CaliGirl4Trump', '@nikkitur', '@Mrs_TxWolf', '@BrotherVet', '@tgradous', '@RoyalTXGirl'], [], ['@rc_kris', '@RealKrisCruz'], ['@RGanley'], ['@DocThompsonShow'], [], [], [], [], ['@realDonaldTrump!'], ['@conservativebyt'], ['@conservativebyt'], ['@FreeBeacon', '@OCAmericans', '@ChrisCuomo', '@HashtagGriswold', \"@SeanHannity'\"], ['@nytimes'], [], [], [], [], [], [], [], [], [], [], ['@EternaLEnVy1991'], ['@CNN', '@cnnbrk'], [], ['@BreitbartNews'], ['@luchadora41', '@YogaArmy', '@CassidyJonesAdv'], [], [], [], ['@Behind__News'], [], ['@realDonaldTrump'], ['@DrNinaRadcliff'], [], [\"@Everytown's\"], [], ['@theconservativ', '@SmallgGay', '@Paceset9999'], [], [], [], [], [], [], ['@youngcons'], [], ['@gerfingerpoken:'], [], [], ['@gcustomer99:'], ['@bonniebo40:', '@sunbeltgirl', '@TeriGRight', '@tedcruz'], ['@jstines3:'], [], [], [], [], [], [], [], ['@NPR', '@PBS'], [], [], [], [], [], [], [], [], [], [], [], [], [], [], [], [], [], [], [], [], [], [], [], [], [], [], [], [], [], [], [], [], [], [], [], [], [], [], [], [], [], [], [], [], [], [], [], [], [], [], [], [], [], [], [], [], [], [], [], [], [], [], [], [], [], [], [], [], [], [], [], [], [], [], [], [], [], [], [], [], [], [], [], [], [], [], [], [], [], [], [], [], [], [], [], [], [], [], [], [], ['@bluemagic1985'], [], [], [], [], ['@congressdotgov'], [], [], [], [], [], [], [], ['@thehill'], [], [], ['@RedRightRepub'], ['@GatestoneInst'], [], [], [], [], [], [], ['@MStuart1970', '@ABC', '@shushwalshe'], [], [], [], [], [], ['@TomiLahren', '@RealJamesWoods'], [], [], [], [], [], [], [], ['@wyndanser2', '@desimartin123', '@corockymtns', '@Kotcha301'], [], [], [], [], [], [], [], [], ['@Amzn99'], [], ['@DocThompsonShow'], ['@DocThompsonShow', '@KAL79', '@rc_kris'], ['@DocThompsonShow', '@rc_kris'], ['@ABDsBB', '@nytimes', '@marruffosc'], [], [], [], [], [], [], ['@politicususa'], [], [], [], [], [], [], [], ['@dailycaller'], [], ['@UofStThomasMN'], ['@100percFEDUP'], [], [], [], [], [], [], [], [], ['@MLP_officiel'], ['@YouTube', '@SpeakerRyan', '@SenJohnMcCain'], [], ['@FBI'], [], [], [], [], [], [], [], [], [], ['@TonyAbbottMHR', '@realDonaldTrump'], [], ['@joelogue2'], [], [], [], [], [], [], [], ['@HillaryClinton'], [], [], [], [], [], ['@JordanSargeantx:'], [], [], [], ['@HillaryClinton'], [], [], [], ['@astroalycia:'], [], [], [], [], [], [], [], [], ['@DutchLittleOne:'], [], [], [], [], [], ['@LifeZette'], [], [], [], [], [], ['@YouTube'], ['@USAirForce', '@RepMcSally'], [], [], [], ['@GreatGrany5'], [], [], ['@realDonaldTrump'], [], [], [], [], [], [], [], [], [], ['@RJGatorEsq'], [], [], [], [], [], ['@FreedomCaucus'], ['@realDonaldTrump'], [], [], [], [], [], [], [], [], ['@AP', '@20committee', '@PaulManafort.'], [], [], [], [], [], [], [], [], [], [], [], [], [], ['@POLITICOEurope'], ['@conservativebyt'], [], [], [], [], [], [], [], [], [], ['@RickSantorum'], ['@RickSantorum:'], [], [], [], [], ['@nay652_naomi', '@rossw04', '@CUBASIKASTRONO', '@seanhannity', '@SpreadButter'], [], [], [], [], [], [], ['@JohnSWright49', '@LordOfTheStars', '@georgeginis'], [], [], [], ['@Stonewall_77:'], ['@Stonewall_77:'], ['@sdv92:', '@Lacy0902:'], ['@infowars:', \"@HillaryClinton's\"], [], [], [], ['@youngcons'], [], [], ['@USATODAY'], [], [], ['@weaselzippers'], ['@DrNinaRadcliff'], ['@weaselzippers'], ['@washingtonian', '@mkhammer'], ['@tedcruz:'], [], [], ['@AmyMek'], [], ['@3lectric5heep'], ['@ConservaVideos'], ['@ConservaVideos'], ['@ConservaVideos'], [], ['@SenateMajLdr'], ['@youngcons'], [], [], [], [], [], [], [], [], ['@POTUS'], [], ['@drs2222)'], [], [], [], [], ['@MiamiDadePD'], [], [\"@Sun_Jetzu's\"], [], [], ['@DocThompsonShow', \"@rc_kris'\"], [], ['@BradThor'], [], ['@smokie_tx', '@luchadora41', '@nygrlahart', '@kimmiegirl2010'], [], ['@SenSchumer', '@creepingsharia'], ['@marklevinshow', '@dbongino'], [], [], [], [], [], ['@realDonaldTrump.'], [], ['@fishstickz', '@saralathm', '@miliafisher', \"@johnpodesta's\"], [], [], [], [], [], [], ['@CodaStory'], [], [], [], ['@NLGnews:'], ['@CHRISMARTIN'], [], [], [], ['@nuffsaidNY:'], ['@Ruptly:'], [], ['@remroum'], ['@angelacarwile:', '@cristinalaila1', '@TRUCKITRICH', '@LorettaLynch'], [], ['@bi_contributors'], ['@realDonaldTrump', '@KellyannePolls'], [], [], [], [], [], [], ['@REINCE', '@PRyan', '@FreedomCaucus'], [], ['@WSJ'], [], [], [], [], [], [], [], ['@delta'], [], [], ['@GOP', '@POTUS'], ['@sandycis', '@reg1776'], [], [], [], [], ['@PhilipRucker'], [], [], [], [], ['@SenFranken', '@SenSchumer', '@NancyPelosi', '@CNN', '@nytimes', '@FBI'], ['@CNN'], [], [], [], ['@GGNJ2000'], ['@NBCDFW'], ['@realDonaldTrump', '@CLewandowski_', '@DanScavino'], ['@BlissTabitha', '@Stonewall_77', '@CarmineZozzora', '@jjauthor', '@LeahR77', '@WEdwarda', '@Snitfit'], [], [], [], [], ['@realDonaldTrump'], [], [], [], ['@HillaryClinton'], [], ['@IngrahamAngle:'], ['@charlescwcooke', '@realjpbook'], ['@realDonaldTrump'], [], ['@ChrisSnyderFox'], [], [], [], [], [], [], [], [], [], [], [], [], [], [], [], ['@WSJ', '@POTUS'], ['@USADailyInfo'], ['@20committee', '@LouiseMensch'], [], [], [], [], [], [], [], [], [], [], [], ['@POTUS', '@realDonaldTrump', '@potus44', '@jasoninthehouse'], [], [], [], ['@people'], [], ['@RobHoey'], [], [], [], [], [], [], [], ['@MittRomney', '@realDonaldTrump', '@DRUDGE_REPORT'], [], [], [], [], [], [], [], ['@GemMar333', '@POTUS'], [], [], [], [], [], ['@LindaSC1964', '@grose65511', '@dogtasha'], [], [], [], [], [], ['@RobHoey'], [], [], [], [], [], [], [], [], [], ['@KatiePavlich'], [], [], [], [], [], [], ['@realDonaldTrump'], [], [], [], [], ['@TheMaverick21'], ['@SpeakerRyan', '@whiteshot', '@Patriotancestry'], [], [], [], [], ['@RobHoey'], ['@RobHoey'], [], [], [], [], [], [], [], [], [], [], [], ['@jstines3:'], [], ['@W_K_Martin_III', '@TX_1', '@tlamb775', '@SenRichardBlack', '@POTUS', '@realDonaldTrump'], [], [], [], [], ['@united'], [], [], ['@bobbeckel', '@CAIRNational'], [], [], [], [], ['@potus', '@USNavy'], [], [], [], ['@AlFranken'], [], [], [], [], [\"@WashingtonPost's\", '@EllenMcCarthy', '@CNN', '@BrianStelter,'], ['@benshapiro'], [], [], [], ['@SenatorTimScott'], [], [], [], [], ['@united,'], [], [], [], [], [], ['@MyFreedomNews', '@CatherineCace', '@ScrumpTheTexan'], [], ['@jaketapper', '@MariaBartiromo'], [], [], ['@TimBurt:'], [], [], [], [], ['@MariaBartiromo', '@FoxBusiness.'], [], [], [], [], [], [], [], [], [], [], [], [], [], [], [], ['@PBS', '@POTUS', '@BetsyDeVos'], [], [], ['@POTUS'], [], [], [], [], ['@cmdorsey', '@ChelseaClinton'], ['@cmdorsey'], [], [], [], ['@glennbeck', '@TheBlaze'], [], [], [], [], ['@yidwithlid'], [], ['@youtube.'], ['@wwd'], ['@lovequotess17', '@war74786862'], [], [], [], [], [], [], [], [], [], ['@ericbolling'], [], [], [], [], [], ['@BarracudaMama'], ['@BarracudaMama'], ['@BarracudaMama'], ['@BarracudaMama'], ['@BarracudaMama'], [], [], [], [], [], ['@POTUS', '@realDonaldTrump'], ['@redrightvideos'], ['@redrightvideos'], [], [], [], ['@CNN'], [], [], [], [], [], [], [], [], [], [], [], [], [], [], [], [], ['@MamaMiaNOSharia', '@gpatriotradio', '@Tommythespider', '@patpacer', '@indigenous01'], [], [], [], ['@SebGorka', '@MariaBartiromo'], [], [], ['@BobGrayGA'], [], [], [], ['@CharlieDaniels'], [], [], [], ['@KevinNR'], [], [], [], ['@realDonaldTrump'], [], ['@FrankDCamp'], [], [], [], [], [], [], [], [], [], [], [], ['@ucdavis'], [], [], [], ['@SaraBGauldin,'], [], [], ['@Ossoff'], [], [], [], ['@Yankees'], [], [], ['@MRNRadio', '@KevinHarvick'], [], [], [], [], [], ['@GovernorPerry', '@BeerRightNowATX'], ['@SalenaZito'], [], ['@dailycaller'], ['@dailycaller'], ['@dailycaller'], [], ['@TitanicQueen', '@OkKelly22'], [], [], [], ['@MailOnline'], [], ['@FoxBusiness'], [], [], [], [], ['@RedRightRepub'], [], ['@eeb1', '@sassysassyred', '@FOXLA', '@FoxNewsOnIine', '@foxnewspolitics'], [], ['@DVC_updates'], [], ['@MikePenceVP'], [], [], [], [], [], [], [], [], ['@usembassyjkt!'], ['@POTUS', '@realdonaldtrump', '@clintlorance'], ['@nytimes,'], [], [], [], [], [], [], [], [], ['@jasoninthehouse'], [], [], ['@newtgingrich'], [], [], [], [], ['@Bonnieg22', '@osPatriot', '@GeraldoRivera', '@FoxNews'], ['@SallyKohn'], [], [], [], [], [], [], [], [], [], [], ['@JackPosobiec'], [], [], ['@FaceTheNation', '@BernieSanders'], [], ['@astro_kimbrough', '@Thom_astro'], ['@LeahR77'], [], [], [], [], [], [], [], [], [\"@BradThor's\", '@AtriaMysteryBus', '@EmilyBestler', '@rootbeerphoto'], ['@TheRealBookSpy', '@BradThor', '@BNNorcross', '@Geobkseller'], [], [], [], [], [], [], [], [], [], [], [], ['@CounterMoonbat', '@janiejoMT'], [], [], [], ['@HaiderAlAbadi'], [], [], ['@HaiderAlAbadi'], [], ['@CR'], [], [], ['@BradThor'], [], ['@realDonaldTrump', '@FLOTUS', '@FLOTUS,'], [], [], [], [], [], ['@RobHoey'], [], [], [], [], [], [], [], [], ['@NancyPelosi', '@MaxineWaters', '@chuckschumer'], [], [], [], [], [], [], ['@OG_BDN0tail', '@LiquidKuroKy,', \"@FearDotA's\"], [], ['@CNNPolitics'], [], ['@voxdotcom', '@voxdotcom'], ['@EliLake', '@weeklystandard', '@Heminator'], [], [], [], [], [], ['@DineshDSouza', '@Amyloukingery', '@realDonaldTrump'], ['@AndrewCFollett'], ['@RepMaryFranson'], ['@HoustonTexans.'], [], ['@bfraser747', '@realDonaldTrump'], [], [], ['@gabriella_akat:'], [], ['@J_Davis_40'], ['@POTUS'], [], [], [], [], [], ['@AllenWestRepub'], ['@CalebBrantleyFB', '@Browns'], ['@AllenWestRepub'], ['@youtube'], [], ['@dc_wilson954', '@Colts'], [], ['@Saints.'], ['@AlexAnzalone34)!'], [], [], ['@FLOTUS', '@childrenshealth'], [], [], [], ['@bob_owens'], ['@nytimes', '@jestei'], [], [], [], ['@BigDreamer0323'], [], [], ['@NYCMayor', '@DanJGross', '@EricFPhillips'], ['@NYCMayor', '@EricFPhillips'], [], ['@POTUS', '@VP', '@KellyannePolls'], [], [], [], [], [], [], [], [], [], [], [], [], [], ['@MorningsMaria', '@FoxBusiness', '@RandPaul', '@USAGSessions'], [], [], ['@DJTJohnMiller', '@osPatriot', '@TuckerCarlson'], [], [], [], ['@realDonaldTrump?'], [], [], [], [], [], [], [], [], ['@creepingsharia'], ['@SpeakerRyan', '@GOP', '@HouseGOP,'], [], ['@mollie1776', '@sallytca', '@greta', '@WilkowMajority', '@KenIvoryUT', '@AmericanLandsCn', '@gehrig38', '@IngrahamAngle', '@KrisAnneHall', '@POTUS', '@marklevinshow', '@HouseJudiciary', '@POTUS', '@JeffSessions'], [], ['@mediaite'], ['@KamalaHarris', '@SenJeffMerkley'], [], [], [], [], ['@PoliticalIslam'], [], [], [], [], [], [], [], [], [], [], ['@Bpshow'], [], [], [], [], [], [], [], [], [], [], [], [], [], [], [], [], ['@Michaelbeck,', '@joelmt', '@Dannerism', '@talkradio200', '@photog357', '@Mrs_ESTMR', '@servative', '@tamij', '@CCC6'], ['@pianogirl5059', '@MelissaRNMBA', '@mepoiu', '@genuke1', '@raskus1', '@MariaBonanno', '@RPrena', '@lindarutter', '@lrcinkSuzanne'], [], [], [], ['@mrclassicalmusi'], [], [], [], [], [], [], [], [], [], [], [], [], ['@YouTube'], [], [], [], [], ['@mike_felan', '@DianeHelp4pets', '@barbandaaron'], ['@ChristopherCza6', '@RichardUSA', '@Cory_1077', '@ChristieC733', '@Patriot_Drew', '@CarmineZozzora', '@DrMartyFox'], [], [], [], [], [], [], [], [], [], [], [], ['@TheMuslimIssue'], ['@BobGrayGA'], [], ['@GovAbbott'], ['@BBC'], [], ['@CNN!'], [], ['@EP_President', '@alexstubb', '@EP_President'], ['@RedRightRepub'], ['@RedRightRepub'], ['@RedRightRepub'], [], ['@XimenaTrump', '@raaji7', '@MilfordScarian1'], ['@marcorubio'], [], [], [], [], [], ['@realDonaldTrump', '@GOP'], [], [], [], ['@CNN'], [], [], ['@real_trump_news', '@Diannam67', '@seanhannity'], [], [], [], [], ['@AboutTheChild:', '@searchwithGod:'], [], ['@PatriotGinger2:', '@jjauthor:'], ['@cantontweet:', '@bcwilliams92:', '@tedcruz'], ['@SuperCzech01:', '@DanMartin_cards:'], [], [], [], [], ['@CLichovsky:', '@ChristianInst:'], [], [], [], [], [], [], [], [], [], [], ['@morningmika', '@JesseRodriguez'], [], [], [], [], [], [], [], [], [], [], ['@DLoesch'], [], ['@DeptofDefense'], ['@pisorgpl'], [], [], [], [], [], [], [], [], [], [], [], [], [], [], [], [], [], [], ['@RNRIllinois:'], ['@SandraALTX:'], ['@TeriGRight:'], ['@BikinInMaine:', '@cruzgrassroots:', '@rushlimbaugh'], ['@catwahler:'], ['@Shooters_Wife:', '@LEOSupporter:'], ['@MariaDAngeles4:', '@JosephEach:', '@tedcruz'], [], ['@Lrihendry', '@cwatson34', '@ouchinagirl', '@WeThePeople1st'], ['@DigiTour', '@BenzacAcne'], ['@HillaryClinton', '@HillaryforNH'], [], ['@ChristiChat:', '@POTUS'], ['@EncounterBooks'], [], [], [], [], [], ['@OrlandoMagicCEO'], [], [], ['@lenadunham!)'], ['@usatoday'], ['@MacIverWisc'], ['@POTUS'], [], ['@PoliceFirstNow', '@DrewFlorio', '@BettinaVLA', '@GovernorPerry', '@USATODAY'], ['@TweetRyanReeves', '@LadidaIbanez', '@zullnero', '@NotAHuntley'], [], [], ['@PoliceFirstNow', '@BettinaVLA', '@DrewFlorio', '@GovernorPerry', '@USATODAY'], [], [], ['@MikeRumbo66', '@BettinaVLA', '@theMblaze', '@cleflore23', '@WEdwarda', '@evil_bun_bun', '@Johnny_Petrini', '@AnewTrackrecord', '@conservateach'], [], [], ['@PoliceFirstNow', '@DrewFlorio', '@BettinaVLA', '@GovernorPerry', '@USATODAY'], [], ['@DrMartyFox:'], [], ['@ChristiChat:'], [], [], [], [], ['@DigiTour'], [], [], [], [], ['@'], [], ['@TeriGRight:', '@JosephEach:'], ['@JLenardDetroit:'], [], ['@JosephEach:', '@peddoc63:'], ['@mikandynothem:', '@JudgeJeanine'], ['@JakeTapper'], [], [], [], [], ['@FBI', '@TheJusticeDept'], [], [], [], [], [], [], [], [], [], ['@GarySinise'], [], [], [], ['@Stonewall_77:'], ['@USADaily'], [], [], [], ['@WhiteHouse'], [], ['@ThatsCuteAsFuck', '@ProudPatriot33', '@Based_America'], ['@onisha'], [], ['@benunc'], [], [], [], ['@realDonaldTrump', '@LouDobbs'], ['@POTUS', '@VP', '@KellyannePolls', '@DiamondandSilk', '@SheriffClarke', '@seanhannity', '@LouDobbs', '@TuckerCarlson', '@therealroseanne', '@ErinBSullivan'], [], [], ['@PutinRF_Eng'], ['@YahooNews'], [], [], [], [], [], [], ['@IraqiNews_com'], [], [], [], [], [], [], [], [], [], [], ['@RobHoey'], [], [], ['@sharethis'], [], [], [], [], [], [], [], [], [], [], [], [], [], [], [], [], [], [], [], [], [], [], [], [], [], [], [], [], [], [], [], [], [], [], [], [], [], [], ['@SmartAsset'], [], [], [], [], [], [], [], [], [], [], [], [], [], [], [], [], [], [], [], [], [], [], [], [], [], [], [], [], [], [], [], [], [], [], [], [], [], [], [], ['@MartinEveRRest', '@Jenn_Abrams'], [], [], [], [], [], [], [], [], [], [], [], [], [], [], [], [], [], [], [], ['@'], [], [], [], [], [], [], [], [], [], [], [], [], [], [], [], [], [], [], [], [], [], [], [], [], [], [], [], [], [], [], [], ['@Humoritarian'], [], [], [], [], ['@samschech'], [], [], [], ['@AP.'], [], [], ['@AP'], [], [], [], [], [], [], [], [], [], [], [], [], [], [], [], ['@CNNSitRoom'], [], [], [], [], [], [], [], [], ['@matthewwalther'], [], ['@jebbush'], [], [], [], ['@karindarnell', '@dayaruci'], [], [], [], [], [], [], [], [], ['@LiveFreeorDie3', '@Pieter_Gericke', '@c5hardtop1999', '@CarmineZozzora'], ['@ChuckTodd', '@RickSantorum'], [], ['@PatDollard', '@atestafyr'], ['@PatDollard:'], [], ['@YouTube'], ['@YouTube'], [], ['@FNInsiders'], [], [], ['@RedNationRising', '@kin2souls', '@LindseyGrahamSC'], ['@YouTube'], [], ['@RealNinjetta', '@EelPieLtd', '@Marble300', '@GovernorPerry', '@tedcruz'], ['@SIGNETGROUP', '@CohenMilstein', '@RedNationRising'], [], ['@YouTube'], [], [], [], ['@Montel_Williams'], [], [], [], ['@jt_dudenhoffer', '@LyndaG1963'], ['@Patriotress', '@RedNationRising'], ['@YouTube'], ['@MaxAbrahms', '@hedgemastermb'], ['@Lrihendry', '@PJStrikeForce'], ['@RedNationRising'], [], ['@YouTube'], ['@YouTube'], [], [], ['@YouTube'], [], [], ['@RedNationRising'], ['@YouTube'], ['@50cent'], [], [], [], [], [], [], [], [], [], [], [], [], [], [], [], [], [], [], [], [], [], [], [], [], [], [], [], [], [], [], [], [], [], [], [], [], [], [], [], [], [], ['@Humoritarian'], [], [], [], [], [], [], ['@realDonaldTrump'], [], [], [], [], [], [], [], [], ['@ScottWalker'], ['@50cent'], ['@realDonaldTrump'], [], [], [], [], [], [], [], [], [], [], [], [], [], [], [], ['@realDonaldTrump'], [], [], [], [], [], [], [], [], [], [], [\"@HillaryClinton's\", '@IBDeditorials'], [], [], [], [], [], [], [], ['@IBDeditorials'], [], ['@Greta'], [], [], ['@becasilverstein', '@DriverBrian', '@GaryByrneAuthor', '@RoarkHoward_'], [], [], [], [], [], [], [], [], [], [], [], [], [], ['@jstines3', '@PJNET_Team'], [], ['@IBDEditorials'], [], [], [], [], ['@Jenn_Abrams'], ['@kimkomando'], [], [], [], [], [], [], [], [], [], ['@Politweecs'], ['@Politweecs'], [], [], [], [], [], [], ['@jstines3:', '@'], ['@CarmineZozzora', '@Chinookpilot6', '@PrisonPlanet'], [], [], [], [], [], [], [], [], ['@realDonaldTrump'], [], [], [], ['@Clever_Dove'], ['@Politweecs'], ['@Politweecs'], ['@Politweecs'], ['@Clever_Dove'], ['@dcagle:'], ['@GarzaVillanueva:', '@GOP...'], ['@RenewUSTweets:', '@maroulakiz'], ['@sunbeltgirl:', '@Stonewall_77:'], [], [], [], [], [], [], [], [], [], [], [], [], [], [], [], [], [], [], [], [], [], [], [], [], [], [], [], [], [], [], [], ['@Politweecs', '@MarissaImStrong'], [], [], [], ['@YouTube'], ['@TruthRevoltOrg'], [], [], [], [], [], ['@bcwilliams92:'], ['@CleverFounder:'], ['@Politweecs'], ['@realDonaldTrump'], [], [], [], [], [], ['@TheFix'], [], [], [], [], [], [], [], [], [], [], [], [], ['@FoxNews'], [], ['@OAnotherSwiftie'], [], [], ['@nytimes'], ['@FBI:', '@FiOS1NewsNJ'], [], [], [\"@DocThompsonShow's\"], [], [], [], [], [], ['@HillaryClinton'], [], [], [], ['@DocThompsonShow'], [], [], [], [], [], ['@HillaryClinton', '@TheLastRefuge2', '@PrisonPlanet', '@PoliticalShort'], [], [], ['@jimmylemons'], [], ['@LyndaG1963', '@psussex64', '@HillaryClinton'], [], [], [], [], ['@ABCBetterWorld'], ['@CNN'], [], [], [], ['@Amyloukingery'], ['@realDonaldTrump', '@grinnedreaper2'], ['@RobHoey'], [], ['@mccraw_birkie5:'], [], [], [], [], [], [], ['@HillaryClinton,'], [], [], [], [], [], ['@DavidRutz'], [], ['@HillaryClinton', '@BarackObama'], [], ['@michaelbeck'], ['@usacsmret', '@yidwithlid'], [], [], [], [], [], [], ['@20committee'], ['@michellemalkin', '@RichardRSmithJr', '@ABC'], [], [], [], [], [], [], [], ['@US_Threepers', '@Phishie_Philly'], [], [], ['@SebGorka:'], [], [], ['@turkbox420', '@PpollingNumbers', '@kevkid79'], [\"@DonaldJTrump016's\"], [], [], ['@realdonaldtrump', '@HillaryClinton'], [], [], [], [], [], [], [], [], [], ['@LadyLiberTea'], ['@Disciple4Lif:'], [], ['@Disciple4Lif:'], [], [], [], [], [], [], [], [], [], [], [], [], [], [], [], ['@TXflutegal', '@TXPrairieRose', '@luchadora41', '@isusan66', '@Jim_Jordan', '@robportman', '@SenSherrodBrown', '@Ohio_Politics'], [], [], ['@AllenWestRepub'], ['@AllenWestRepub'], ['@eavesdropann', '@oldgrandman', '@SoldierJohn', '@CaptainJDavis', '@tamij', '@sue51684', '@MamaMiaNOSharia', '@whiteshot'], ['@luchadora41', '@jjliberty', '@whiteshot', '@eavesdropann', '@beachkatie', '@lilindian', '@blondygirl1', '@faultlineusa'], [], [], ['@RealClearNews'], [], ['@dannerism', '@tamij', '@Mrs_ESTMR', '@photog357', '@CCC6', '@michaelbeck', '@joelmt', '@strongthought', '@retATC', '@servative'], ['@indigenous01'], [], [], ['@OutnumberedFNC', '@ericmtyson', '@julieroginsky☭', '@EboniKWilliams.'], [], ['@wsbtv'], []]\n",
      "\n",
      "# hashtags: 5444\n"
     ]
    }
   ],
   "source": [
    "print(\"author: \", list(mentions_dic.keys())[0])\n",
    "print(\"\\nhashtags: \", list(mentions_dic.values())[0])\n",
    "print(\"\\n# hashtags:\", len(list(mentions_dic.values())[0]))"
   ]
  },
  {
   "cell_type": "markdown",
   "metadata": {},
   "source": [
    "#### - Flatting the mentions lists for each author"
   ]
  },
  {
   "cell_type": "code",
   "execution_count": 189,
   "metadata": {},
   "outputs": [],
   "source": [
    "for i, (k, v) in enumerate(mentions_dic.items()):\n",
    "    mentions_dic[k] = set([item for sublist in list(mentions_dic.values())[i] for item in sublist])"
   ]
  },
  {
   "cell_type": "code",
   "execution_count": 190,
   "metadata": {
    "scrolled": true
   },
   "outputs": [
    {
     "name": "stdout",
     "output_type": "stream",
     "text": [
      "author:  HAPPKENDRAHAPPY\n",
      "\n",
      "hashtags:  {'@DTyler51', '@DaWoggly', '@gregghoulden:', '@svdate', '@JoseD89344985', '@BlackrobePrecha', '@sdv92:', '@Tommythespider', '@HillaryClinton', '@andygrammer', '@seanhannity', \"@Reince's\", '@SalenaZito', '@GaryByrneAuthor', '@TweetRyanReeves', '@timesofisrael', '@A_M_Perez', '@ErinBurnett', '@SStantis', '@TenNamesLater', '@barbandaaron', '@Bournemouthecho', '@electionland', '@politicususa', '@LSUJEFF', '@SenateMajLdr', '@alexstubb', '@HillaryforNH', '@pjamesjp1', '@MinuteMenNews', '@JAmy208:', '@ACUConservative', '@PeterTownsend7:', '@hrkbenowen', '@darcyelizbet', '@chuckwoolery', '@DanScavino', '@noltenc?', '@CarmineZozzora', '@FLOTUS', '@WeThePeople1st', '@redrightvideos', '@PBS', '@MMFlint', '@realDonaldTrump→', '@wjmcgurn:And', '@GSDDoglover', '@GatorsFB', '@ATHudd', '@MariaBonanno', '@support', '@voxdotcom', '@bonniebo40:', \"@FearDotA's\", '@JoeHodas', '@Johnny_Petrini', '@kingattax:', '@Senwarren', '@presbo', '@GrainOfSands', '@julieroginsky☭', '@Chinookpilot6', '@SyarifShahferi', '@DawnRachel13', '@michaelbeck', '@ShidelerK', '@jstines3:', '@SheriffClarke?', '@NRO', '@LouDobbs', '@Marble300', '@oliviaacamille', '@joannesmoot', '@youtube', '@USADaily', '@CatholicsPress', '@ChelseaClinton', '@sarah_ca1831', '@SInow', '@AlFranken', '@MALDEF', '@cruzgrassroots:', '@MarijuanaHeroes', '@BHAcademic,', '@GOP...', '@mike_truman', '@CNNPolitics', '@EricTrump', '@jjauthor', '@phil200269:', '@joelogue2', '@DSTdyme', '@yesimright1', '@BaggaBrigade', '@TeriGRight:', '@RJGatorEsq', '@washingtonpost', '@rabiasquared', '@smartgirls4gop:', '@UsamaDakdok', '@SATXPolice', '@McConnellPress', '@charlescwcooke', '@MOReganIT', '@JosephEach:', '@retiredfirecapt', '@TocRadio', '@AtriaMysteryBus', '@MSNBC.', '@RBoydBarrett):', '@wikileaks', '@AnewTrackrecord', '@worldnetdaily', '@BluegillRises', '@iDGiam', '@DonnaChaffins', '@Fingersflying:', '@grose65511', '@BernieSanders', '@SparklyMarkley', '@silviosirias', '@SpreadButter', '@theonlywayisjam', '@Pudingtane', '@PRyan', '@TheUnitedStites', '@OAnotherSwiftie', '@ouchinagirl', '@BlackCatUnloads', '@DrewFlorio', '@AllenWest', '@Macys', '@KellyannePolls', '@SenFeinstein', '@infowars:', '@realalexjones', '@BrewOnThis', '@donholt99', '@jcruz821', '@RichLowry:', '@lilindian', '@sand3633', '@Bpshow', '@cutie_zhie:', '@SenatorReid', '@ihatethemedia', '@Russia', '@MallikarjunJkti', '@TheEconomist', '@jjauthor:', '@talkradio200', '@BARACKOBAMA', '@alysenwonderlnd', '@OhioStResLife', '@glennbeck', '@ThabitiAnyabwil,', '@roycan79', '@Jim_Jordan', '@LyndaG1963', '@SecretService', '@IraqiNews_com', '@mpidailymagazin', \"@DonaldJTrump016's\", '@Telegraph', '@tedcruz:', '@Massier_Tobias', '@reihan', '@WI_Elections', '@JeffSessions', '@NsEllenna', '@Outofnames', '@Behind__News', '@FNInsiders', '@JohnKerry', '@LMBigSur', '@BigStick2013', '@Joe4AmericaPAC', '@Phishie_Philly', '@saralathm', '@tsa_tsu', '@exjon', '@carold501', '@corockymtns', '@tlamb775', '@LifeNewsHQ', '@Patriotic_Me', '@BernieSanders:', '@WayneDupreeShow', '@retATC', '@Geobkseller', '@gcluley', '@servative', '@holmogorov', '@SebGorka:', '@TGowdySC', '@ABDsBB', '@SeanSpicer', '@AP', '@TheVeni1', '@Saints.', '@DBTheChristian:', '@TwitWhizz', '@DHSgov', '@ABCnews', '@mcuban', '@securefreedom', '@CatherineCace', '@zippy‼', '@MarkDiStef', '@MikePenceVP', '@usacsmret', '@TheChrisSuprun', '@FoxBusiness', '@jasoninthehouse', '@bhendrick', '@txGirl4ever_', '@rootbeerphoto', '@CounterMoonbat', '@matthewwalther', '@PCollectibles', '@DivineChocUSA!', '@GregAbbott_TX:', '@DanaBashCNN', '@yueyuea:', '@MaxAbrahms', '@ScottErnst0331', '@evil_bun_bun', '@CalebBrantleyFB', \"@HillaryClinton's\", '@DCClothesline', '@raskus1', '@AwakeDeborah:', '@michellemalkin', '@GOHConservative', '@Thom_astro', '@TonyAbbottMHR', '@tigw9598', '@sseagalofficial', '@amandacarpenter', '@kimmiegirl2010', '@rlbaldwinartist:', '@NYJooo', '@Cory_1077', '@kellyjclauss:', '@marruffosc', '@realdonaldtrump', '@FDRLST', '@foxnewspolitics', '@Brendy438', '@PhilipRucker', '@DrNinaRadcliff', '@MamaMiaNOSharia', '@Britannica', '@RNRIllinois:', '@oneretrocupcake', '@rc_kris,', '@3lectric5heep', '@Larryputt', \"@KatrinaPierson'\", '@lindarutter', '@SheepMomma', '@oconnellhugh', '@CodaStory', '@OldRowOfficial', '@GenesSmile', '@FBI', '@dayaruci', '@Jopup1:', '@100percFEDUP', '@BillKristol', '@youtube.', '@CoraSherlock', '@jaketapper', '@Harlan', '@greenapplebooks.', '@ScottAdamsSays', '@nikkitur', '@DrGrow', '@abusedtaxpayer', '@Yankees', '@SallyKohn', '@TheGOPJesus', '@BarackObama', '@usheraldnews', '@SoldierJohn', '@Conservatexian', '@brhodes', '@IBDEditorials', '@W_K_Martin_III', '@StefanMolyneux', '@DrJillStein', '@22Words', '@ITV', '@_JacksonRogers_', '@DJTrump45', '@Interior', '@AllianceDefends', '@TXPrairieRose', '@DavidRutz', '@FrankDCamp', '@jestei', '@Evan_McMullin.', '@GavinNewsom', '@indiaknight', '@WillLeak', '@UCBerkeley', '@PositiveImpactd', '@0hour', '@LouiseMensch', '@thefurynews', '@MarissaImStrong', '@RickSantorum', '@TedCruz.', '@karecki1', '@LiveFreeorDie3', '@4chansbest', '@LindaSC1964', '@robynwalensky', '@Stonewall_77', '@LevinTV', '@karren_brady', '@kbsquared1961', '@GretchenInOK', '@olivialeeross1', '@Mike_Pence', '@WSJ', '@whiteshot', '@Franklin_Graham', '@50cent', '@BettinaVLA', '@SenJeffMerkley', '@photog357', '@CkconboyKevin', '@agent_it', '@Donnam8470Donna', '@FullFrontalSamB', '@Evan_McMullin', '@weeklystandard', '@dsamuelsohn', '@Reince45', '@CaliGirl4Trump', '@f396', '@CVivlamoreAJC', '@oldgrandman', '@oneJesusloves', '@OrlandoMagicCEO', '@lushsux', '@LEOSupporter:', '@MittRomney', '@oreillyfactor', '@NewtTrump', '@hboulware', '@mccraw_birkie5:', '@darren_williger', '@VirginiaInCal', '@fineartamerica', '@gatewaypundit', '@MilfordScarian1', '@IvankaTrump', '@sandycis', '@newtgingrich', '@reg1776', '@UofStThomasMN', '@rxpatriot46:', '@FiOS1NewsNJ', '@PJNET_Team', '@trscoop:', '@SenFranken', '@sjspecialist', '@BobMacAZ', '@THEMMEXCHANGE', '@HouseCracka', '@YoungPPL4Bernie', '@BilldeBlasio', '@Lrihendry', '@POTUS.', '@Patriot_MM', '@LCLAA', '@CR', '@ShowoffByDesign', '@SandraTXAS', '@cristinalaila1', '@CBPRGV', '@DJTJohnMiller', '@solos4242?', '@LordOfTheStars', '@AlecBaldwin', '@laelli03', '@comcastcares', '@kelseyjharkness', '@MariaDAngeles4:', '@GreatGrany5', '@JulieRoginsky☭', '@dc_wilson954', '@KimStrassel:', '@OutnumberedFNC', '@united,', '@SenateGOP', '@LULAC', '@DataGenesis:', '@freedmeto', '@TruthRevoltOrg', '@Phoenixsolveusa', '@Lisagaye57', '@immigrant4trump', '@truthglow', '@potus44', '@AlexAnzalone34)!', '@mitchellvii', '@SebGorka', '@KinderEric', '@gcustomer99:', '@RichardRSmithJr', '@GOP:', '@AP.', '@WildBillUSA', '@Nottinghams1', '@HabrahamVlogs', '@Cubs', '@mikandynothem:', '@PaulRizzo504', '@Merry__Can', '@DanaWinters93', '@SandraALTX:', '@SenJohnMcCain', '@EricaRN4USA', '@Browns', '@BikinInMaine:', '@CassidyJonesAdv', '@LindseyGrahamSC', '@nbc', '@ucdavis', '@WDFx2EU', '@KevinJacksonTBS.', '@JewhadiTM', '@jimmylemons', '@chucknorris', '@Ruptly:', '@AnnCoulter', \"@BradThor's\", '@georgesoros', '@calidhd', '@samschech', '@ICEgov', '@CleverFounder:', '@usa_news_24', '@dhotle:', '@rossw04', '@AT_Conservancy', '@MariaBartiromo', '@DocThompsonShow.', '@chrisenloe', '@nypost', '@JasonButtrill', '@DickinsonAdmit', '@fishstickz', '@perrisgirl1', '@SheriffClarke', '@Politweecs', '@sarahhalzack', '@nia4_trump', '@JohnSmith_USSR', \"@brianstelter's\", '@ABCInvestigates', '@linmitdan', '@nikkihaley', '@mirawhoney', '@alternet', '@USAlivestrong', '@nuriyalcin', '@greta', '@ABCWorldNews', '@BradThor!', '@TX_1', '@washingtonian', '@LadyLiberTea', '@RoyalTXGirl', '@astro_kimbrough', '@ChrisStirewalt', '@DanJGross', '@DWStweets', '@GarzaVillanueva:', '@Grubhub', '@RealBenCarson', '@theconservativ', '@FrPNicholson', '@michellegrattan', '@mikeliberation:', '@NBCNightlyNews', '@NBCNews', '@tregp', '@PressSec', '@ThatsCuteAsFuck', '@somethinggd', '@ChristiChat:', '@pgoeltz', '@Reince', '@Chuck4Justice', '@Olivianuzzi', '@MichaelCohen212', '@DanMartin_cards:', '@FoxNews', '@FergusCullen', '@Eckjulian', '@PurpleCarib', '@FreedomOutpost', '@delta', '@Wikileaks,', '@MHPshow', '@LadyGrayse', '@ChuckNellis', '@PPact,', '@isusan66', '@NBA.', '@CBC', '@nuffsaidNY:', '@slone', '@cllrilindley]', '@psussex64', '@justinamash', '@marklevinshow', '@BillZucker', '@NoMoreDon8', '@ForeignAffairs', '@ZaffodB', '@KTruth.com.', '@lindafanaras', '@AuburnTigers)', '@RoarkHoward_', '@ToddyLittman:', '@ABCBetterWorld', '@viola_tamez', '@MacTXPress', '@catwahler:', '@ajc', '@FoxNews,', '@FlyFisher_AKY', '@CBSSunday', '@Holmesdonna1', '@PolishMark', '@PutinRF_Eng', '@jjliberty', '@Ohio_Politics', '@KevinPriceLive', '@MegynKelly', '@drs2222)', '@TheDanielMarch):', '@EelPieLtd', '@ChristieC733', '@Sentinel2NO', '@TimAlberta', '@SenRichardBlack', '@TedCruz', '@People4Bernie', '@PVeritas_Action', '@Stonewall_77:', '@rcadyn', '@nbcnews', '@ProgressOutlook', '@marthamaccallum.', '@ObamaMalik', '@JYoung3804', '@ObligedFriend', '@ali', '@SenSanders', '@EternaLEnVy1991', '@VP:', '@randlight', '@aleksEDM7', '@kimmie99', '@Amyloukingery', '@Raul_Labrador', '@andreaskluth', '@MyStephanomics', '@DaveRamsey', '@HashtagGriswold', '@Oyekuise', '@JoeBiden’s', '@RandPaul', '@dailykos', '@DutchLittleOne:', '@Snitfit', '@Redone68', '@faultlineusa', '@20committee', '@4EVRUSA', '@weaselzippers', '@ErinBSullivan', '@beachkatie', '@USAirForce', '@pattonoswalt', '@RealJTP', '@RenewUSTweets:', '@TheDemocrats', '@wallaceme', '@stevechenevey.', '@Trans1110', '@FoxNewsOnIine', '@CatherineDifron', '@Libertea2012', '@LLMajer', '@saintjosephs', '@rushlimbaugh', '@wwd', '@HuffPostPol', '@StephanyTullis', '@indigenous01', '@jerryscar', '@c5hardtop1999', '@PabloCRUZin16', '@AlaskaAir.', '@morningmika', '@NewtGingrich', '@RealKrisCruz', '@supertascha):', '@WSCP2:', '@PolitixGal', '@BrianStelter,', '@KnowWeCan:', '@RickSantorum:', '@Patriotress', '@Starbuds303', '@Amzn99', '@KrisAnneHall', '@EboniKWilliams', '@kaylacramer98', '@TheJusticeDept', '@Project_Veritas', '@JesseLehrich,', '@CIA', '@yoma525i', '@georgeginis', '@EPA', '@KatiePavlich', '@RPrena', '@SIGNETGROUP', '@IraBlacker', '@DiamondandSilk', '@conservativebyt', '@PatriotGinger2:', '@DavidLimbaugh', '@TheBlaze', '@BlissTabitha', '@amlookout', '@realDonaldTrump:', '@cleflore23', '@PeriwinkleDsgns', '@guardiannews', '@davis1087', '@conservateach', '@EllenMcCarthy', '@ReneeMarcelle0', '@wolfblitzer', '@GulfDogs', '@NPR', '@realDonaldTrump.', '@dannerism', '@SenGillibrand', '@politicsillustr', '@DixieRebelForce', '@GmanFan44', '@duchess1201', '@YahooNews', '@SenSchumer', '@PJStrikeForce', '@nbcsnl', '@tom_watson', '@GeorgeHWBush', '@BetsyDeVos', '@March_for_Life.', '@SaveSCHospital', '@petehegseth:', '@8:30.', '@co_harvest', '@BearingArmsCom', '@TuckerCarlson', '@usatoday', '@WKRN', '@US_Threepers', '@cmdorsey', '@SenSherrodBrown', '@kdstarbux', '@CleanReads4U', '@UANI', '@astroalycia:', '@mostawesomeblog', '@swhotmess', '@MarianDClough', '@J_Davis_40', '@nygrlahart', '@GovAbbott', '@BigDreamer0323', '@BNNorcross', '@forbes', '@upsidetrader', '@Green_Star1', '@RealJamesWoods', '@janiejoMT', '@turkbox420', '@24Bazemore', '@joyreaper', '@AFP', '@marcorubio', '@RepRodBlum', '@thejournal_ie', '@pisorgpl', '@kenfryer', '@Charlie2749', '@ericmtyson', '@ConservBabes', '@USAGSessions', '@MoveOn', '@emmerdale', '@blondygirl1', '@gjjq2704', '@KevinHorton15', '@benshapiro', '@KGBVeteran', '@Michael_0000', '@alexburnsNYT', '@firstcircle12:', '@cantontweet:', '@ChrisSnyderFox', '@rivin1', '@thelibrepublic', '@lakefront', '@gabriella_akat:', '@Maddog5827', '@DartonState', '@AaronBlake', '@UN', '@realDonaldTrump', \"@johnpodesta's\", '@jackfowler', '@Paceset9999', '@DrMartyFox:', '@Kimberlynh24', '@LifeZette', '@PuterPrsn', '@GemMar333', \"@Sun_Jetzu's\", '@stranahan', '@osPatriot', '@CBSNews', '@amberinzaman', '@DJTsavesAmerica', '@mike_pence', '@BasimaFaysal', '@KellyAnnePolls', '@RNC', '@TTStar5', '@Newsmax_Media', '@InhaleMerc', '@tomhanks', '@NYCMayor', '@JohnKStahlUSA:', '@angrymom80', '@kimkomando', '@SenWarren', '@Disney', \"@thehill's\", '@SCT_no_hyphen', '@ggeett37aaa:', '@BenHowe', '@USADailyInfo', '@rightsidenews', '@HillaryClinton,', '@UnitedWe_Stay', '@PantherAR15', '@nytimes', '@BarackObama☭«', '@PowerATL!', '@Cernovich', '@kattshine:', '@HillaryClinton.', '@ChrisCuomo', '@DeptofDefense', '@gerfingerpoken2:', '@AleteiaEn', '@potus', '@ScottWalker', '@Patriotancestry', '@nay652_naomi', '@reason.', '@XimenaTrump', '@mrclassicalmusi', \"@XrkXes'\", '@kawalpeet', '@MartinEveRRest', '@PatVPeters', '@StephensonCoach', '@ChgocadChic:', '@laurenduca', '@CohenMilstein', '@RedNationRising', '@mepoiu', '@Lupita_ets', '@HouseGOP', '@Michaelbeck,', '@AlisonSpalding2', '@YouTube', '@c0nvey', '@OhioCoastie', '@Sanders4Potus', '@BrotherVet', '@mega2e', '@mashable', '@LindaSuhler', '@Heminator', '@DCExaminer', '@THEHOTSAUCEBOSS', '@workbench59', '@ReportUnited', '@NdTimesNAmerica', '@PoliceFirstNow', '@sweetatertot2', '@nautilus55', '@2AFight:', '@DianeHelp4pets', '@BrianMbsusa2', '@tlrc88', '@RepMaryFranson', '@MikeBPR', '@realDonaldTrump!', '@GGNJ2000', '@jt_dudenhoffer', '@thr', '@SanDiego4Bernie', '@CharisseMSRD', '@FEC', '@mhoward48', '@gpatriotradio', '@congressdotgov', '@NwoReport', '@WreathsAcross', '@Crossbowman1', '@smokie_tx', '@frickenchamps:', '@FairfaxGOP', '@gerfingerpoken:', '@OneAngryGamerHD', '@cookeintl.', '@BHpub.', \"@mrdanfrank's\", '@EP_President', '@nytimes,', '@Tyler2ONeil', '@Lacy0902:', '@itsJustJill', '@britlikeslimes', '@AlexStanek', '@MSNBC', '@mediaite', '@Merreee1', '@anonymous5595', '@thehill', '@HouseGOP,', '@POTUS', '@eeb1', '@twitter', '@arquitetinha', '@MStuart1970', '@HillelNeuer', '@therealroseanne', '@mikepfingston2', '@Jenn_Abrams', '@skype_directory', '@Conservative_VW', '@JLenardDetroit:', '@JakeTapper', '@AviWoolf', '@BI_Defense', '@Dbargen', '@C_A_Landoll:', '@Acosta', '@megynkelly,', '@whotnaught', '@wyndanser2', '@ACLU', '@loretta_stiles', '@bobbeckel', '@MrEdgarBass', '@eSaagar', '@comcast', '@greeneyes0084', '@KellyannePolls:', '@DVC_updates', '@benunc', '@USNavy', '@Bease11', '@RedRightRepub', '@bfraser747', '@pianogirl5059', '@dailycaller', '@JamieGoswick', '@AlnicoII', '@AdryMMP', '@WilkowMajority', '@real_trump_news', '@rcarr57', '@DigiTour', '@CAIRNational', '@EboniKWilliams.', '@AmyMek', '@LiquidKuroKy,', '@jstines3', '@SweetFreedom29', '@mike_felan', '@TheMaverick21', '@lovequotess17', '@PatrickBuchanan:', '@z3n_digital', '@WAGNERGIRLE', '@Drudge', '@YogaArmy', '@Scarlett210', '@KAL79', '@ChuckTodd', '@10thAmendment', '@pjmedia_com', '@USATODAY', '@dxrpi', '@FaustoCepeda', '@HaiderAlAbadi', '@GLCmom', '@sdutBreen', '@Rositabonita48', '@2ALAW', '@AdamFerrise', '@AlterNet', '@Mrs_ESTMR', '@RepMarkMeadows', '@RinainDC', '@belvedere', '@MelissaRNMBA', '@Stevenwhirsch99', '@netanyahu', '@transition2017', '@ConchoQueen', '@bcwilliams92:', '@Based_America', '@PrisonPlanet', '@NBC', '@JonStreet', '@shushwalshe', '@bob_owens', '@Mikeproudvet', '@TXflutegal', '@xatzisotiris', '@RealClearNews', '@sunbeltgirl', '@NBC/@WSJ', '@KamalaHarris', '@FoxBusiness.', '@FoxandFriends', '@animalvid', '@Aliotta10', '@PaulManafort.', '@butitsjustreal', '@EliLake', '@eavesdropann', '@RobHoey', '@AmyMek:', '@BreitbartNews', '@SuperCzech01:', '@dailygalaxy', '@TheRealBookSpy', \"@SeanHannity'\", '@TSA_DZA', '@manchesterfire', '@aug_RickMcKee', '@tedcruz.', '@TXRandy14', '@MailOnline', '@maggieatlas', '@maddow', '@TeriGRight', '@BeerRightNowATX', '@reading_im', '@VP,', '@marcorubio,', '@TheFix', '@cullystimson', '@KevinNR', '@gaiasedibles', '@BuzzFeed', '@crankybecky', \"@FRANCE24'\", '@tamij', '@BobGrayGA', '@RichardUSA', '@PzFeed', '@FallenAngelMovi', '@tgradous', '@marty_walsh', '@gehrig38', '@MarkRuffalo', '@kevkid79', '@UnivisionNews', '@HoustonTexans.', '@SaraBGauldin,', '@CNN', '@pojoranch', '@EncounterBooks', '@justanavywife', '@ghostcat56', '@RealNinjetta', '@LadidaIbanez', '@FiveRights', '@dansch2002:', '@jmpalmieri', '@ODMP', '@desimartin123', '@JoeSchoffstall', '@LakesPlace', '@BBC', '@McClatchyDC', '@CNNTURK_ENG', '@miliafisher', '@bi_contributors', '@NCPA', '@mkhammer', '@sunbeltgirl:', '@tjeckovich32', '@KazmierskiR', '@DRUDGE_REPORT', '@WayneBogda', \"@realDonaldTrump's\", '@ChickfilA', '@flashfire451:', '@crewser61', '@mollie1776', '@aravosis', '@rtenews', '@Janeteckles', '@SteveChapman13', '@AaronHenager1', '@BoldSpirit', \"@BarackObama's\", '@Communism_Kills', \"@Evan_McMullin's\", '@KLSouth', '@MyFreedomNews', '@onisha', '@ScrumpTheTexan', '@HillaryClinton!', '@ZaidJilani', '@DocThompsonShow', '@KellyannePolls.', '@theironwillofUS:', \"@mayday2744'\", '@POTUS,', '@sandiegoairport', '@RebellionReport', '@ConstitutionNat', '@AllenWestRepub', '@DeplorableNews', '@DriverBrian', '@Kotcha301', '@GOP', '@gamblor5555', '@tponews', '@donlemon', '@lenadunham!)', '@FlakeforSenate', '@saskamare', '@StateDept.', '@Khanoisseur', '@kguazzo', '@leo80475770', '@RMKitchens', '@bpolitics', '@REINCE', '@voteforali,', '@TerryMcAuliffe', '@Mrs_TxWolf', '@NancyPelosi☭', '@Salon', '@NulliusnVerba', '@megynkelly!', '@yidwithlid', '@MrGrantReynolds.', '@real_Til', '@chuckschumer', '@vine', '@FreedomCaucus', '@PpollingNumbers', '@3tags_org', '@TheAcademy', '@MikeRumbo66', '@WhiteHouse', '@Ossoff', '@Bavilabo', '@TimBurt:', '@KurtSchlichter', '@gop', '@RRMGOP', '@BlackWomen4Bern', '@MeetThePress', '@Rev_4_congress', '@vivelafra', '@sierraclub', '@becasilverstein', '@genuke1', '@Dannerism', '@steingal2', '@NancyPelosi', '@larryvance47', '@RedStateBlonde', '@1_Hoof_Hearted', '@JohnSWright49', '@Disciple4Lif:', '@mama_sees', '@GOP?', \"@GatorBuc2'\", \"@seanhannity'\", '@moonduckTV', '@cwatson34', '@imstephdotcom', '@monisha_rajesh', '@ArenaScreen', '@theclobra', '@captainkudzu', '@tyleroakley', \"@opedanderson'\", '@NikeNChillemi', '@wsbtv', '@sharethis', '@JudicialWatch', '@strongthought', '@PresidentTrump_', '@AOL', '@JesseRodriguez', '@Pheramuse', '@asamjulian', '@colourfulphilip', '@PatDollard', '@rplenge', \"@rc_kris'\", '@JeanneEdson', '@TrumpDynastyUSA', '@DineshDSouza', '@repgarrett', '@WeSearchR', '@OnlyGoodUpdates', '@MM19551991', '@Westxgal', '@BreitbartNews,', '@rebelmouse', '@OkKelly22', '@Madonna', '@NRDC_AF', '@BellaBadaBing', '@chicagotribune', '@beforeitsnews', '@jrossman12', '@NLGnews:', '@kavn', '@VP', '@1SG50', '@Ukrainolution', '@POLITICOEurope', '@timkaine', '@theMblaze', '@AboutTheChild:', '@SunnyJL52', '@LilMissPrepper', '@hedgemastermb', '@Diannam67', '@greenfairymovie', '@searchwithGod:', '@PoliticalShort', '@gatman7', '@cnnbrk', '@dovewan', '@GaTo_Q', '@TarekFatah', '@CCC6', '@ollove412', '@JessieJaneDuff', '@AddieEgan', '@TitanicQueen', '@ChuckNellis:', '@SunnyHiller', '@vwcares,', '@barackobama', '@GregAbbott_TX', '@rc_kris', '@JordanSargeantx:', '@DailyCaller', '@lrcinkSuzanne', '@mike_hblmal03', '@SenatorSessions!', '@Montel_Williams', '@ChristopherCza6', '@HamillHimself', '@clintlorance', '@bradthor', \"@HillaryClinton's…\", '@dbongino', '@NBCDFW', '@NextGenClimate', '@FreeBeacon', '@CityofFranklin.', '@CUBASIKASTRONO', '@TheLastRefuge2', '@sue51684', '@MRNRadio', '@Senate_GOPs', '@NotAHuntley', '@blove65', '@JaredWyand', '@PolitiBunny', '@TheRickWilson', '@angelacarwile:', '@alflafalf', '@brunelldonald:', '@sallytca', '@DrSarcoma', '@Floridan53:', '@AACONS', '@Shooters_Wife:', '@AG_Conservative', '@Potus', '@patpacer', '@wordpressdotcom', '@nhdogmom', '@shortwave8669', '@CHRISMARTIN', '@CloydRivers', '@peddoc63:', '@TStig822', '@A_Zulvica', '@DHecei', '@bluemagic1985', '@BradThor', '@RickBulow1974', '@FirebaughNorman', '@aonorat', '@JennaVAtion', '@dbat_m', '@Pharrell:', '@AndrewCFollett', '@GinaEPA', '@Bonnieg22', '@jebbush', '@BeachinFree', '@po_st', '@RichardWeaving', '@FLOTUS,', '@BraddJaffy', '@redrivergrl', '@joelmt', '@NolteNC', '@LRbullies', '@8extremes', '@USNATO', '@TexasGOP', '@IngrahamAngle', '@genuinedavid', '@united', '@DLoesch', '@BenzacAcne', '@usembassyjkt!', '@Poisonillusion', '@', '@changeingyou', '@MeghanMcCain', '@remroum', '@GeorgiaDirtRoad', '@KevinHower2', '@S51Bill', '@MonicaCrowley', '@Clever_Dove', '@people', '@DailySignal', '@realDonaldTrump?', '@kin2souls', '@endianstonemas', '@jlrowe', '@MichelleKOrts10', '@cgpb', '@Alexey__Kovalev,', '@jpj1779', '@theblaze', '@CLewandowski_', '@peta', '@ConservaVideos', '@TRUCKITRICH', '@ericbolling', '@ksmcardle22:', '@ChristianInst:', '@ShepNewsTeam', '@FBI:', '@CaptainJDavis', '@JulieBishopMP', '@Joel_Searby', '@BrittPettibone', '@Loriisright', '@TRUNEWS', '@MikeLester', '@lsarsour', '@clairecmc', '@perrystonevoe', '@GeraldoRivera', '@thecombatfarmer', '@atestafyr', '@mmmoonie', '@StephenASmith', \"@JamesRosenFNC's\", '@tony4NY', '@seanhannity)', '@thro_e', '@VicenteFoxQue', '@PoliticalIslam', '@CA4Bernie', '@MomWifeGrammy', '@TheMuslimIssue', '@Linda_Hermoxita', '@AmericanLandsCn', '@lisamurkowski', '@CAForBernie', '@war74786862', '@SFCGrambo', '@TSewBiz', '@Brewers', '@censor_net', '@YellowstoneNPS', '@CRPAFFC', '@CBS', '@afBranco', '@FOXLA', '@KelseyRandolp13', '@JasonDunn67', '@AtlantaFalcons', '@IBDeditorials', '@Republican__Man', '@GStarkeyBooks', '@youngcons', '@christianhlines', '@CPAC', '@TomiLahren', '@luchadora41', '@Reuters', '@Maddow', '@EricHolder,', '@val_hudson', '@gahome1', '@Kohls', '@megynkelly', '@HotNostrilsrFun', '@MiamiDadePD', '@JudgeJeanine', '@MLP_officiel', '@CLichovsky:', \"@DocThompsonShow's\", '@IngrahamAngle:', '@ClassySnobbb', '@tates5a', \"@Everytown's\", '@nickgillespie', '@minihanmary', '@StateDept', '@DesignsonTruth', '@ABC', '@andersoncooper', '@HouseJudiciary', '@WEdwarda', '@CharlieDaniels', '@repjohnlewis', '@MarshallFarts5', '@dogtasha', '@YvetteFelarca', '@LorettaLynch', '@ColoradoGirl2A', '@sassysassyred', '@raaji7', '@zullnero', '@Wild_Phil', '@scrowder', '@DrMartyFox', '@SmartAsset', '@mikiebarb', '@Fox', '@mpidailymag', '@jaketapper?', '@Mary_Hagist', \"@WashingtonPost's\", '@Pieter_Gericke', '@fredtkennedy:', '@Kaepernick7', '@thebloomgroup', '@OSUCoachMeyer:', '@GarySinise', '@jasonsarnold', '@Ber_TheWoods', '@creepingsharia', '@realjpbook', '@HHSGov', '@EricHolder', '@ProudPatriot33', '@LaurenJonesGOP_', '@JamesPaine33248', '@grinnedreaper2', '@maroulakiz', '@MaxineWaters', '@BrosForBernie', '@tedcruz', '@TomFitton', '@MacIverWisc', '@SenatorTimScott', '@jensan1332', '@GeneMcVay', '@SandraLindsey', '@AppMtnClub', '@RealDonaldTrump', '@FaceTheNation', '@maddow!', '@DrZuhdiJasser,', '@GovernorPerry', '@GatestoneInst', '@AOTR_Host', '@theipatriot', '@jeffsessions', '@MrFuckBringer', '@WMATARU', '@SenatorSessions', '@BennettJonah', '@SmallgGay', '@Adjustedwell', '@SpeakerRyan', '@TheView', '@robportman', '@RGanley', '@JamesOKeefeIII', '@TheOTGWisconsin', '@bud_breakfast', '@EricFPhillips', '@KevinHarvick', '@Minorities4Bern', \"@wikileaks'\", '@karindarnell', '@OG_BDN0tail', '@childrenshealth', '@jmegown52302', '@NFL', '@LeahR77', '@SenatorCollins', '@SisConvinceMe', '@BarracudaMama', '@Greta', '@EmilyBestler', '@StephenBannon', '@jessicav_cis:', '@foxandfriends', '@MorningsMaria', '@EvilHillaryPics', '@RepMcSally', '@7295murphy', '@KenIvoryUT', '@ChedzarMurphy', '@Johnson4POTUS', '@RobertCLaity', '@Humoritarian', '@Die__Trying_:', '@Colts', '@TinaCatalone', '@CNNSitRoom', '@PatDollard:', '@FemalesForTrump', '@OCAmericans', '@KlippetyKlop', '@CNN!', '@AP_Politics', '@kitcat_1961', '@Patriot_Drew', '@ProudInfidel33:', '@dcagle:', '@JackPosobiec', '@cnn', \"@ESA_Rosetta's\"}\n",
      "\n",
      "# hashtags: 1481\n"
     ]
    }
   ],
   "source": [
    "print(\"author: \", list(mentions_dic.keys())[0])\n",
    "print(\"\\nhashtags: \", list(mentions_dic.values())[0])\n",
    "print(\"\\n# hashtags:\", len(list(mentions_dic.values())[0]))"
   ]
  },
  {
   "cell_type": "markdown",
   "metadata": {},
   "source": [
    "#### - Creating a list with all unique mentions"
   ]
  },
  {
   "cell_type": "code",
   "execution_count": 191,
   "metadata": {},
   "outputs": [],
   "source": [
    "mentions_list = [item for sublist in list(temp_df['mentions']) for item in sublist]"
   ]
  },
  {
   "cell_type": "code",
   "execution_count": 192,
   "metadata": {},
   "outputs": [
    {
     "name": "stdout",
     "output_type": "stream",
     "text": [
      "416020\n",
      "102973\n"
     ]
    }
   ],
   "source": [
    "print(len(mentions_list))\n",
    "unique_mentions_list = set(mentions_list)\n",
    "print(len(unique_mentions_list))"
   ]
  },
  {
   "cell_type": "markdown",
   "metadata": {},
   "source": [
    "# Contructing U2H and U2M graphs"
   ]
  },
  {
   "cell_type": "code",
   "execution_count": 193,
   "metadata": {},
   "outputs": [],
   "source": [
    "import networkx as nx\n",
    "U2H = nx.Graph()\n",
    "U2M = nx.Graph()"
   ]
  },
  {
   "cell_type": "markdown",
   "metadata": {},
   "source": [
    "### Adding nodes"
   ]
  },
  {
   "cell_type": "markdown",
   "metadata": {},
   "source": [
    "#### -  'author' nodes"
   ]
  },
  {
   "cell_type": "code",
   "execution_count": 194,
   "metadata": {},
   "outputs": [],
   "source": [
    "U2H.add_nodes_from(hashtags_dic.keys())\n",
    "U2M.add_nodes_from(mentions_dic.keys())"
   ]
  },
  {
   "cell_type": "markdown",
   "metadata": {},
   "source": [
    "#### - 'hashtags' and 'mentions' nodes"
   ]
  },
  {
   "cell_type": "code",
   "execution_count": 195,
   "metadata": {},
   "outputs": [],
   "source": [
    "U2H.add_nodes_from(unique_hashtags_list)\n",
    "U2M.add_nodes_from(unique_mentions_list)"
   ]
  },
  {
   "cell_type": "markdown",
   "metadata": {},
   "source": [
    "### Creating edges"
   ]
  },
  {
   "cell_type": "markdown",
   "metadata": {},
   "source": [
    "#### - U2H edges"
   ]
  },
  {
   "cell_type": "code",
   "execution_count": 196,
   "metadata": {},
   "outputs": [],
   "source": [
    "for i, (k, v) in enumerate(hashtags_dic.items()):\n",
    "    for h in v:\n",
    "        U2H.add_edge(k, h)"
   ]
  },
  {
   "cell_type": "markdown",
   "metadata": {},
   "source": [
    "#### - U2M edges"
   ]
  },
  {
   "cell_type": "code",
   "execution_count": 197,
   "metadata": {},
   "outputs": [],
   "source": [
    "for i, (k, v) in enumerate(mentions_dic.items()):\n",
    "    for h in v:\n",
    "        U2M.add_edge(k, h)"
   ]
  },
  {
   "cell_type": "markdown",
   "metadata": {},
   "source": [
    "# Fitting U2H and U2M graphs\n",
    "We give node2vec.Node2Vec a networkx.Graph instance, and after using .fit() (which accepts any parameter accepted by we get a gensim.models.Word2Vec) we get in return a gensim.models.Word2Vec instance."
   ]
  },
  {
   "cell_type": "markdown",
   "metadata": {},
   "source": [
    "## U2H"
   ]
  },
  {
   "cell_type": "markdown",
   "metadata": {},
   "source": [
    "### - Creating node2vec instance"
   ]
  },
  {
   "cell_type": "code",
   "execution_count": 104,
   "metadata": {},
   "outputs": [
    {
     "name": "stderr",
     "output_type": "stream",
     "text": [
      "Computing transition probabilities: 100%|██████████| 52486/52486 [17:53<00:00, 48.87it/s]\n",
      "Generating walks (CPU: 1): 100%|██████████| 10/10 [14:09<00:00, 84.96s/it]\n"
     ]
    }
   ],
   "source": [
    "# Generate walks\n",
    "node2vec = Node2Vec(U2H, dimensions=128, walk_length=10, num_walks=10)"
   ]
  },
  {
   "cell_type": "markdown",
   "metadata": {},
   "source": [
    "### - Fitting the model"
   ]
  },
  {
   "cell_type": "code",
   "execution_count": 110,
   "metadata": {},
   "outputs": [],
   "source": [
    "# Learn embeddings \n",
    "U2H_model = node2vec.fit(window=10, min_count=1)"
   ]
  },
  {
   "cell_type": "code",
   "execution_count": 64,
   "metadata": {},
   "outputs": [],
   "source": [
    "U2H_model.save(\"U2H_model600k/U2H_model600k.model\")"
   ]
  },
  {
   "cell_type": "code",
   "execution_count": 198,
   "metadata": {},
   "outputs": [],
   "source": [
    "U2H_model = gensim.models.Word2Vec.load(\"U2H_model/U2H_model.model\")"
   ]
  },
  {
   "cell_type": "markdown",
   "metadata": {},
   "source": [
    "### - Inspect the similarity"
   ]
  },
  {
   "cell_type": "code",
   "execution_count": 160,
   "metadata": {},
   "outputs": [
    {
     "name": "stdout",
     "output_type": "stream",
     "text": [
      "#Yemen\n",
      "#UK\n",
      "#Aleppo\n",
      "#whitegenocide\n",
      "#gunsense\n",
      "#SanFrancisco\n",
      "#BDS\n",
      "#WearHoodieForTrayvon\n",
      "#UAE\n",
      "#EU\n"
     ]
    },
    {
     "name": "stderr",
     "output_type": "stream",
     "text": [
      "/usr/local/lib/python3.6/dist-packages/ipykernel_launcher.py:1: DeprecationWarning: Call to deprecated `most_similar` (Method will be removed in 4.0.0, use self.wv.most_similar() instead).\n",
      "  \"\"\"Entry point for launching an IPython kernel.\n"
     ]
    }
   ],
   "source": [
    "for node, _ in U2H_model.most_similar('#Saudi'):\n",
    "    print(node)"
   ]
  },
  {
   "cell_type": "markdown",
   "metadata": {},
   "source": [
    "### Creating a dictionary `U2H_dic` {'author':vec}"
   ]
  },
  {
   "cell_type": "code",
   "execution_count": 199,
   "metadata": {},
   "outputs": [],
   "source": [
    "U2H_dic = dict()\n",
    "for i, (k, v) in enumerate(hashtags_dic.items()):\n",
    "    U2H_dic[k] = U2H_model.wv.get_vector(k)"
   ]
  },
  {
   "cell_type": "code",
   "execution_count": 200,
   "metadata": {
    "scrolled": false
   },
   "outputs": [
    {
     "data": {
      "text/html": [
       "<div>\n",
       "<style scoped>\n",
       "    .dataframe tbody tr th:only-of-type {\n",
       "        vertical-align: middle;\n",
       "    }\n",
       "\n",
       "    .dataframe tbody tr th {\n",
       "        vertical-align: top;\n",
       "    }\n",
       "\n",
       "    .dataframe thead th {\n",
       "        text-align: right;\n",
       "    }\n",
       "</style>\n",
       "<table border=\"1\" class=\"dataframe\">\n",
       "  <thead>\n",
       "    <tr style=\"text-align: right;\">\n",
       "      <th></th>\n",
       "      <th>author</th>\n",
       "      <th>account_category</th>\n",
       "      <th>vec</th>\n",
       "    </tr>\n",
       "  </thead>\n",
       "  <tbody>\n",
       "    <tr>\n",
       "      <th>0</th>\n",
       "      <td>HAPPKENDRAHAPPY</td>\n",
       "      <td>RightTroll</td>\n",
       "      <td>[0.92348844, -4.314939, 0.11164494, 1.5373602,...</td>\n",
       "    </tr>\n",
       "    <tr>\n",
       "      <th>67</th>\n",
       "      <td>HARERETRT</td>\n",
       "      <td>RightTroll</td>\n",
       "      <td>[-0.0038229772, 0.00071280595, 0.0023527432, -...</td>\n",
       "    </tr>\n",
       "    <tr>\n",
       "      <th>73</th>\n",
       "      <td>HARRYMAGICIAN_</td>\n",
       "      <td>RightTroll</td>\n",
       "      <td>[-1.2162895, -0.8329594, 0.5094632, -1.6895013...</td>\n",
       "    </tr>\n",
       "    <tr>\n",
       "      <th>123</th>\n",
       "      <td>HARRYTHEFATHER</td>\n",
       "      <td>RightTroll</td>\n",
       "      <td>[-1.0077562, -0.7404025, -0.5766445, -0.384885...</td>\n",
       "    </tr>\n",
       "    <tr>\n",
       "      <th>245</th>\n",
       "      <td>HATTIEB78</td>\n",
       "      <td>RightTroll</td>\n",
       "      <td>[-1.4926754, -1.408123, 0.17445554, -0.5077729...</td>\n",
       "    </tr>\n",
       "    <tr>\n",
       "      <th>...</th>\n",
       "      <td>...</td>\n",
       "      <td>...</td>\n",
       "      <td>...</td>\n",
       "    </tr>\n",
       "    <tr>\n",
       "      <th>1732275</th>\n",
       "      <td>_NICKLUNA_</td>\n",
       "      <td>RightTroll</td>\n",
       "      <td>[1.9208452, -0.21148059, 0.35299873, 0.3450843...</td>\n",
       "    </tr>\n",
       "    <tr>\n",
       "      <th>1736520</th>\n",
       "      <td>_RONBEN</td>\n",
       "      <td>RightTroll</td>\n",
       "      <td>[-0.6838968, -1.1236953, -0.08839527, -0.09788...</td>\n",
       "    </tr>\n",
       "    <tr>\n",
       "      <th>1736590</th>\n",
       "      <td>_RUBY_WILLS_</td>\n",
       "      <td>RightTroll</td>\n",
       "      <td>[-1.8777606, -2.4200456, 1.4245462, -1.8028708...</td>\n",
       "    </tr>\n",
       "    <tr>\n",
       "      <th>1736930</th>\n",
       "      <td>_SHERYLGILBERT</td>\n",
       "      <td>RightTroll</td>\n",
       "      <td>[-0.50279295, -1.172616, -0.48094288, 0.451466...</td>\n",
       "    </tr>\n",
       "    <tr>\n",
       "      <th>1736999</th>\n",
       "      <td>_SOLOMONALBERT_</td>\n",
       "      <td>LeftTroll</td>\n",
       "      <td>[-0.04964109, -0.45510235, 0.28995377, 0.16621...</td>\n",
       "    </tr>\n",
       "  </tbody>\n",
       "</table>\n",
       "<p>917 rows × 3 columns</p>\n",
       "</div>"
      ],
      "text/plain": [
       "                  author account_category  \\\n",
       "0        HAPPKENDRAHAPPY       RightTroll   \n",
       "67             HARERETRT       RightTroll   \n",
       "73        HARRYMAGICIAN_       RightTroll   \n",
       "123       HARRYTHEFATHER       RightTroll   \n",
       "245            HATTIEB78       RightTroll   \n",
       "...                  ...              ...   \n",
       "1732275       _NICKLUNA_       RightTroll   \n",
       "1736520          _RONBEN       RightTroll   \n",
       "1736590     _RUBY_WILLS_       RightTroll   \n",
       "1736930   _SHERYLGILBERT       RightTroll   \n",
       "1736999  _SOLOMONALBERT_        LeftTroll   \n",
       "\n",
       "                                                       vec  \n",
       "0        [0.92348844, -4.314939, 0.11164494, 1.5373602,...  \n",
       "67       [-0.0038229772, 0.00071280595, 0.0023527432, -...  \n",
       "73       [-1.2162895, -0.8329594, 0.5094632, -1.6895013...  \n",
       "123      [-1.0077562, -0.7404025, -0.5766445, -0.384885...  \n",
       "245      [-1.4926754, -1.408123, 0.17445554, -0.5077729...  \n",
       "...                                                    ...  \n",
       "1732275  [1.9208452, -0.21148059, 0.35299873, 0.3450843...  \n",
       "1736520  [-0.6838968, -1.1236953, -0.08839527, -0.09788...  \n",
       "1736590  [-1.8777606, -2.4200456, 1.4245462, -1.8028708...  \n",
       "1736930  [-0.50279295, -1.172616, -0.48094288, 0.451466...  \n",
       "1736999  [-0.04964109, -0.45510235, 0.28995377, 0.16621...  \n",
       "\n",
       "[917 rows x 3 columns]"
      ]
     },
     "execution_count": 200,
     "metadata": {},
     "output_type": "execute_result"
    }
   ],
   "source": [
    "df_unique_U2H = filterd_df[['author', 'account_category']].drop_duplicates()\n",
    "df_unique_U2H['vec'] = list(U2H_dic.values())\n",
    "df_unique_U2H"
   ]
  },
  {
   "cell_type": "markdown",
   "metadata": {},
   "source": [
    "### Logistic regression"
   ]
  },
  {
   "cell_type": "code",
   "execution_count": 201,
   "metadata": {},
   "outputs": [],
   "source": [
    "X_U2H = list(df_unique_U2H['vec'])\n",
    "y = df_unique_U2H['account_category']\n",
    "\n",
    "X_train, X_test, y_train, y_test = train_test_split(X_U2H, y, test_size=0.1, random_state=0)"
   ]
  },
  {
   "cell_type": "code",
   "execution_count": 202,
   "metadata": {},
   "outputs": [],
   "source": [
    "lg = LogisticRegression(max_iter=1000)\n",
    "lg.fit(X_train,y_train)\n",
    "y_pred = lg.predict(X_test)"
   ]
  },
  {
   "cell_type": "code",
   "execution_count": 203,
   "metadata": {},
   "outputs": [
    {
     "name": "stdout",
     "output_type": "stream",
     "text": [
      "              precision    recall  f1-score   support\n",
      "\n",
      "   LeftTroll       0.88      0.85      0.87        27\n",
      "    NewsFeed       0.78      0.78      0.78         9\n",
      "  RightTroll       0.89      0.91      0.90        56\n",
      "\n",
      "    accuracy                           0.88        92\n",
      "   macro avg       0.85      0.85      0.85        92\n",
      "weighted avg       0.88      0.88      0.88        92\n",
      "\n"
     ]
    }
   ],
   "source": [
    "print(classification_report(y_test, y_pred))"
   ]
  },
  {
   "cell_type": "markdown",
   "metadata": {},
   "source": [
    "## U2M"
   ]
  },
  {
   "cell_type": "markdown",
   "metadata": {},
   "source": [
    "### - Creating node2vec instance"
   ]
  },
  {
   "cell_type": "code",
   "execution_count": 117,
   "metadata": {},
   "outputs": [
    {
     "name": "stderr",
     "output_type": "stream",
     "text": [
      "Computing transition probabilities: 100%|██████████| 52962/52962 [15:59<00:00, 55.17it/s]\n",
      "Generating walks (CPU: 1): 100%|██████████| 10/10 [15:31<00:00, 93.19s/it]\n"
     ]
    }
   ],
   "source": [
    "# Generate walks\n",
    "U2M_node2vec = Node2Vec(U2M, dimensions=128, walk_length=10, num_walks=10)"
   ]
  },
  {
   "cell_type": "markdown",
   "metadata": {},
   "source": [
    "### - Fitting the model"
   ]
  },
  {
   "cell_type": "code",
   "execution_count": 118,
   "metadata": {},
   "outputs": [],
   "source": [
    "# Learn embeddings \n",
    "U2M_model = U2M_node2vec.fit(window=10, min_count=1)"
   ]
  },
  {
   "cell_type": "markdown",
   "metadata": {},
   "source": [
    "### - Inspect the similarity"
   ]
  },
  {
   "cell_type": "code",
   "execution_count": 210,
   "metadata": {},
   "outputs": [
    {
     "name": "stdout",
     "output_type": "stream",
     "text": [
      "@HillaryClinton\n",
      "@POTUS\n",
      "@CNN\n",
      "@GOP\n",
      "@nytimes\n",
      "@YouTube\n",
      "@washingtonpost\n",
      "@CBSNews\n",
      "@ABC\n",
      "@BernieSanders\n"
     ]
    },
    {
     "name": "stderr",
     "output_type": "stream",
     "text": [
      "/usr/local/lib/python3.6/dist-packages/ipykernel_launcher.py:1: DeprecationWarning: Call to deprecated `most_similar` (Method will be removed in 4.0.0, use self.wv.most_similar() instead).\n",
      "  \"\"\"Entry point for launching an IPython kernel.\n"
     ]
    }
   ],
   "source": [
    "for node, _ in U2M_model.most_similar('@FoxNews'):\n",
    "    print(node)"
   ]
  },
  {
   "cell_type": "code",
   "execution_count": 63,
   "metadata": {},
   "outputs": [],
   "source": [
    "U2M_model.save(\"U2M_model600k.model\")"
   ]
  },
  {
   "cell_type": "code",
   "execution_count": 204,
   "metadata": {},
   "outputs": [],
   "source": [
    "U2M_model = gensim.models.Word2Vec.load(\"U2M_model/U2M_model.model\")"
   ]
  },
  {
   "cell_type": "markdown",
   "metadata": {},
   "source": [
    "### Creating a dictionary `U2M_dic` {'author':vec}"
   ]
  },
  {
   "cell_type": "code",
   "execution_count": 205,
   "metadata": {},
   "outputs": [],
   "source": [
    "U2M_dic = dict()\n",
    "for i, (k, v) in enumerate(mentions_dic.items()):\n",
    "    U2M_dic[k] = U2M_model.wv.get_vector(k)"
   ]
  },
  {
   "cell_type": "code",
   "execution_count": 206,
   "metadata": {
    "scrolled": false
   },
   "outputs": [
    {
     "data": {
      "text/html": [
       "<div>\n",
       "<style scoped>\n",
       "    .dataframe tbody tr th:only-of-type {\n",
       "        vertical-align: middle;\n",
       "    }\n",
       "\n",
       "    .dataframe tbody tr th {\n",
       "        vertical-align: top;\n",
       "    }\n",
       "\n",
       "    .dataframe thead th {\n",
       "        text-align: right;\n",
       "    }\n",
       "</style>\n",
       "<table border=\"1\" class=\"dataframe\">\n",
       "  <thead>\n",
       "    <tr style=\"text-align: right;\">\n",
       "      <th></th>\n",
       "      <th>author</th>\n",
       "      <th>account_category</th>\n",
       "      <th>vec</th>\n",
       "    </tr>\n",
       "  </thead>\n",
       "  <tbody>\n",
       "    <tr>\n",
       "      <th>0</th>\n",
       "      <td>HAPPKENDRAHAPPY</td>\n",
       "      <td>RightTroll</td>\n",
       "      <td>[0.43625987, -3.4778433, 0.80007875, -0.288606...</td>\n",
       "    </tr>\n",
       "    <tr>\n",
       "      <th>67</th>\n",
       "      <td>HARERETRT</td>\n",
       "      <td>RightTroll</td>\n",
       "      <td>[-0.0038229772, 0.00071280595, 0.0023527432, -...</td>\n",
       "    </tr>\n",
       "    <tr>\n",
       "      <th>73</th>\n",
       "      <td>HARRYMAGICIAN_</td>\n",
       "      <td>RightTroll</td>\n",
       "      <td>[0.5914636, -1.4669645, -0.5887222, 0.5088199,...</td>\n",
       "    </tr>\n",
       "    <tr>\n",
       "      <th>123</th>\n",
       "      <td>HARRYTHEFATHER</td>\n",
       "      <td>RightTroll</td>\n",
       "      <td>[0.49560964, -2.688947, -1.5042355, 1.4916233,...</td>\n",
       "    </tr>\n",
       "    <tr>\n",
       "      <th>245</th>\n",
       "      <td>HATTIEB78</td>\n",
       "      <td>RightTroll</td>\n",
       "      <td>[-0.26410463, -1.5123643, -0.6777114, -0.17407...</td>\n",
       "    </tr>\n",
       "    <tr>\n",
       "      <th>...</th>\n",
       "      <td>...</td>\n",
       "      <td>...</td>\n",
       "      <td>...</td>\n",
       "    </tr>\n",
       "    <tr>\n",
       "      <th>1732275</th>\n",
       "      <td>_NICKLUNA_</td>\n",
       "      <td>RightTroll</td>\n",
       "      <td>[0.95913476, -1.7549795, 0.10077851, -3.674983...</td>\n",
       "    </tr>\n",
       "    <tr>\n",
       "      <th>1736520</th>\n",
       "      <td>_RONBEN</td>\n",
       "      <td>RightTroll</td>\n",
       "      <td>[-0.0055986233, -2.40265, -1.3271798, 1.050968...</td>\n",
       "    </tr>\n",
       "    <tr>\n",
       "      <th>1736590</th>\n",
       "      <td>_RUBY_WILLS_</td>\n",
       "      <td>RightTroll</td>\n",
       "      <td>[-1.3231806, -2.9713647, -5.873148, 2.6422498,...</td>\n",
       "    </tr>\n",
       "    <tr>\n",
       "      <th>1736930</th>\n",
       "      <td>_SHERYLGILBERT</td>\n",
       "      <td>RightTroll</td>\n",
       "      <td>[0.6025622, -0.15346095, -0.57556415, 0.191819...</td>\n",
       "    </tr>\n",
       "    <tr>\n",
       "      <th>1736999</th>\n",
       "      <td>_SOLOMONALBERT_</td>\n",
       "      <td>LeftTroll</td>\n",
       "      <td>[0.3263877, -0.6375444, -0.3420411, 0.37149647...</td>\n",
       "    </tr>\n",
       "  </tbody>\n",
       "</table>\n",
       "<p>917 rows × 3 columns</p>\n",
       "</div>"
      ],
      "text/plain": [
       "                  author account_category  \\\n",
       "0        HAPPKENDRAHAPPY       RightTroll   \n",
       "67             HARERETRT       RightTroll   \n",
       "73        HARRYMAGICIAN_       RightTroll   \n",
       "123       HARRYTHEFATHER       RightTroll   \n",
       "245            HATTIEB78       RightTroll   \n",
       "...                  ...              ...   \n",
       "1732275       _NICKLUNA_       RightTroll   \n",
       "1736520          _RONBEN       RightTroll   \n",
       "1736590     _RUBY_WILLS_       RightTroll   \n",
       "1736930   _SHERYLGILBERT       RightTroll   \n",
       "1736999  _SOLOMONALBERT_        LeftTroll   \n",
       "\n",
       "                                                       vec  \n",
       "0        [0.43625987, -3.4778433, 0.80007875, -0.288606...  \n",
       "67       [-0.0038229772, 0.00071280595, 0.0023527432, -...  \n",
       "73       [0.5914636, -1.4669645, -0.5887222, 0.5088199,...  \n",
       "123      [0.49560964, -2.688947, -1.5042355, 1.4916233,...  \n",
       "245      [-0.26410463, -1.5123643, -0.6777114, -0.17407...  \n",
       "...                                                    ...  \n",
       "1732275  [0.95913476, -1.7549795, 0.10077851, -3.674983...  \n",
       "1736520  [-0.0055986233, -2.40265, -1.3271798, 1.050968...  \n",
       "1736590  [-1.3231806, -2.9713647, -5.873148, 2.6422498,...  \n",
       "1736930  [0.6025622, -0.15346095, -0.57556415, 0.191819...  \n",
       "1736999  [0.3263877, -0.6375444, -0.3420411, 0.37149647...  \n",
       "\n",
       "[917 rows x 3 columns]"
      ]
     },
     "execution_count": 206,
     "metadata": {},
     "output_type": "execute_result"
    }
   ],
   "source": [
    "df_unique_U2M = filterd_df[['author', 'account_category']].drop_duplicates()\n",
    "df_unique_U2M['vec'] = list(U2M_dic.values())\n",
    "df_unique_U2M"
   ]
  },
  {
   "cell_type": "markdown",
   "metadata": {},
   "source": [
    "### Logistic regression"
   ]
  },
  {
   "cell_type": "code",
   "execution_count": 207,
   "metadata": {},
   "outputs": [],
   "source": [
    "X_U2M = list(df_unique_U2M['vec'])\n",
    "y = df_unique_U2M['account_category']\n",
    "\n",
    "X_train, X_test, y_train, y_test = train_test_split(X_U2M, y, test_size=0.1, random_state=0)"
   ]
  },
  {
   "cell_type": "code",
   "execution_count": 208,
   "metadata": {},
   "outputs": [],
   "source": [
    "lg = LogisticRegression(max_iter=1000)\n",
    "lg.fit(X_train,y_train)\n",
    "y_pred = lg.predict(X_test)"
   ]
  },
  {
   "cell_type": "code",
   "execution_count": 209,
   "metadata": {},
   "outputs": [
    {
     "name": "stdout",
     "output_type": "stream",
     "text": [
      "              precision    recall  f1-score   support\n",
      "\n",
      "   LeftTroll       0.86      0.67      0.75        27\n",
      "    NewsFeed       0.80      0.44      0.57         9\n",
      "  RightTroll       0.83      0.98      0.90        56\n",
      "\n",
      "    accuracy                           0.84        92\n",
      "   macro avg       0.83      0.70      0.74        92\n",
      "weighted avg       0.84      0.84      0.82        92\n",
      "\n"
     ]
    }
   ],
   "source": [
    "print(classification_report(y_test, y_pred))"
   ]
  },
  {
   "cell_type": "markdown",
   "metadata": {},
   "source": [
    "# BERT"
   ]
  },
  {
   "cell_type": "code",
   "execution_count": 40,
   "metadata": {},
   "outputs": [],
   "source": [
    "import torch\n",
    "import torch.nn as nn\n",
    "\n",
    "from transformers import AutoModel, AutoTokenizer, AutoConfig"
   ]
  },
  {
   "cell_type": "code",
   "execution_count": 156,
   "metadata": {},
   "outputs": [],
   "source": [
    "MODEL_NAME = \"bert-large-uncased\"\n",
    "config = AutoConfig.from_pretrained(MODEL_NAME)\n",
    "tokenizer = AutoTokenizer.from_pretrained(MODEL_NAME)\n",
    "model = AutoModel.from_pretrained(MODEL_NAME)"
   ]
  },
  {
   "cell_type": "code",
   "execution_count": 157,
   "metadata": {},
   "outputs": [],
   "source": [
    "device = torch.device('cuda')\n",
    "model = model.to(device)"
   ]
  },
  {
   "cell_type": "code",
   "execution_count": 158,
   "metadata": {
    "scrolled": false
   },
   "outputs": [
    {
     "data": {
      "text/html": [
       "<div>\n",
       "<style scoped>\n",
       "    .dataframe tbody tr th:only-of-type {\n",
       "        vertical-align: middle;\n",
       "    }\n",
       "\n",
       "    .dataframe tbody tr th {\n",
       "        vertical-align: top;\n",
       "    }\n",
       "\n",
       "    .dataframe thead th {\n",
       "        text-align: right;\n",
       "    }\n",
       "</style>\n",
       "<table border=\"1\" class=\"dataframe\">\n",
       "  <thead>\n",
       "    <tr style=\"text-align: right;\">\n",
       "      <th></th>\n",
       "      <th>author</th>\n",
       "      <th>content</th>\n",
       "      <th>account_category</th>\n",
       "    </tr>\n",
       "  </thead>\n",
       "  <tbody>\n",
       "    <tr>\n",
       "      <th>0</th>\n",
       "      <td>HAPPKENDRAHAPPY</td>\n",
       "      <td>Bosh situation hasn't changed since Feb. Heat ...</td>\n",
       "      <td>RightTroll</td>\n",
       "    </tr>\n",
       "    <tr>\n",
       "      <th>1</th>\n",
       "      <td>HAPPKENDRAHAPPY</td>\n",
       "      <td>Youre an IDIOT! Now you say 99% when before yo...</td>\n",
       "      <td>RightTroll</td>\n",
       "    </tr>\n",
       "    <tr>\n",
       "      <th>2</th>\n",
       "      <td>HAPPKENDRAHAPPY</td>\n",
       "      <td>Charlotte-Mecklenburg Fraternal Order of Polic...</td>\n",
       "      <td>RightTroll</td>\n",
       "    </tr>\n",
       "    <tr>\n",
       "      <th>3</th>\n",
       "      <td>HAPPKENDRAHAPPY</td>\n",
       "      <td>Theodore Roosevelt's son Quentin and his frien...</td>\n",
       "      <td>RightTroll</td>\n",
       "    </tr>\n",
       "    <tr>\n",
       "      <th>4</th>\n",
       "      <td>HAPPKENDRAHAPPY</td>\n",
       "      <td>.@flashfire451: Are there more cures than term...</td>\n",
       "      <td>RightTroll</td>\n",
       "    </tr>\n",
       "  </tbody>\n",
       "</table>\n",
       "</div>"
      ],
      "text/plain": [
       "            author                                            content  \\\n",
       "0  HAPPKENDRAHAPPY  Bosh situation hasn't changed since Feb. Heat ...   \n",
       "1  HAPPKENDRAHAPPY  Youre an IDIOT! Now you say 99% when before yo...   \n",
       "2  HAPPKENDRAHAPPY  Charlotte-Mecklenburg Fraternal Order of Polic...   \n",
       "3  HAPPKENDRAHAPPY  Theodore Roosevelt's son Quentin and his frien...   \n",
       "4  HAPPKENDRAHAPPY  .@flashfire451: Are there more cures than term...   \n",
       "\n",
       "  account_category  \n",
       "0       RightTroll  \n",
       "1       RightTroll  \n",
       "2       RightTroll  \n",
       "3       RightTroll  \n",
       "4       RightTroll  "
      ]
     },
     "execution_count": 158,
     "metadata": {},
     "output_type": "execute_result"
    }
   ],
   "source": [
    "bert_df = filterd_df.copy()\n",
    "bert_df.head()"
   ]
  },
  {
   "cell_type": "code",
   "execution_count": null,
   "metadata": {},
   "outputs": [],
   "source": [
    "x = []\n",
    "for line in filterd_df['content']:\n",
    "    x.append(len(line.strip().split(' ')))"
   ]
  },
  {
   "cell_type": "code",
   "execution_count": null,
   "metadata": {},
   "outputs": [],
   "source": [
    "import matplotlib.pyplot as plt\n",
    "import numpy as np\n",
    "%matplotlib inline\n",
    "np.random.seed(42)\n",
    "# x = np.random.normal(size=1000)\n",
    "plt.hist(x, density=True, bins=20)  # `density=False` would make counts\n",
    "plt.ylabel('Probability')\n",
    "plt.xlabel('Data');"
   ]
  },
  {
   "cell_type": "markdown",
   "metadata": {},
   "source": [
    "## BERT Pre-Processing\n",
    "`tokenizer.encode(sent, add_special_tokens=True, padding='max_length')`: This turns every sentence into the list of ids with [CLS], [SEP] and [PAD] tokens .\n"
   ]
  },
  {
   "cell_type": "code",
   "execution_count": null,
   "metadata": {},
   "outputs": [],
   "source": [
    "tqdm.pandas()\n",
    "bert_df['content'] = bert_df['content'].progress_apply(\n",
    "    tokenizer.encode,\n",
    "    add_special_tokens=True,\n",
    "    padding=True,\n",
    "    max_length=64,\n",
    "    return_tensors='pt')"
   ]
  },
  {
   "cell_type": "code",
   "execution_count": null,
   "metadata": {
    "scrolled": false
   },
   "outputs": [],
   "source": [
    "bert_df"
   ]
  },
  {
   "cell_type": "code",
   "execution_count": null,
   "metadata": {},
   "outputs": [],
   "source": [
    "input_ids = bert_df['content']"
   ]
  },
  {
   "cell_type": "code",
   "execution_count": null,
   "metadata": {
    "scrolled": false
   },
   "outputs": [],
   "source": [
    "model.eval()\n",
    "pooler_output = [None] * len(input_ids)\n",
    "for i in tqdm(range(len(input_ids))):\n",
    "    tensor_gpu = input_ids[i].to(device) # Moving tensor to the GPU\n",
    "    with torch.no_grad():\n",
    "        pooler_output[i] = model(tensor_gpu)[0][:,0,:].cpu().numpy() # Taking CLS tensors\n",
    "        del tensor_gpu\n",
    "        torch.cuda.empty_cache()"
   ]
  },
  {
   "cell_type": "markdown",
   "metadata": {},
   "source": [
    "## Creating `bert_df_output` with `pooler_output`"
   ]
  },
  {
   "cell_type": "code",
   "execution_count": null,
   "metadata": {},
   "outputs": [],
   "source": [
    "bert_df_output = bert_df.copy()\n",
    "bert_df_output['content'] = pooler_output"
   ]
  },
  {
   "cell_type": "code",
   "execution_count": null,
   "metadata": {},
   "outputs": [],
   "source": [
    "bert_df_output"
   ]
  },
  {
   "cell_type": "markdown",
   "metadata": {},
   "source": [
    "## Faltten all vectors"
   ]
  },
  {
   "cell_type": "code",
   "execution_count": 135,
   "metadata": {},
   "outputs": [],
   "source": [
    "bert_df_output['content'] = list(np.concatenate(bert_df_output['content'].values))"
   ]
  },
  {
   "cell_type": "code",
   "execution_count": 138,
   "metadata": {},
   "outputs": [
    {
     "data": {
      "text/html": [
       "<div>\n",
       "<style scoped>\n",
       "    .dataframe tbody tr th:only-of-type {\n",
       "        vertical-align: middle;\n",
       "    }\n",
       "\n",
       "    .dataframe tbody tr th {\n",
       "        vertical-align: top;\n",
       "    }\n",
       "\n",
       "    .dataframe thead th {\n",
       "        text-align: right;\n",
       "    }\n",
       "</style>\n",
       "<table border=\"1\" class=\"dataframe\">\n",
       "  <thead>\n",
       "    <tr style=\"text-align: right;\">\n",
       "      <th></th>\n",
       "      <th>author</th>\n",
       "      <th>content</th>\n",
       "      <th>account_category</th>\n",
       "    </tr>\n",
       "  </thead>\n",
       "  <tbody>\n",
       "    <tr>\n",
       "      <th>0</th>\n",
       "      <td>HAPPKENDRAHAPPY</td>\n",
       "      <td>[-0.9964574, -0.98038715, 0.9999991, -0.998856...</td>\n",
       "      <td>RightTroll</td>\n",
       "    </tr>\n",
       "    <tr>\n",
       "      <th>1</th>\n",
       "      <td>HAPPKENDRAHAPPY</td>\n",
       "      <td>[-0.9999339, -0.9988255, 0.99999946, -0.996039...</td>\n",
       "      <td>RightTroll</td>\n",
       "    </tr>\n",
       "    <tr>\n",
       "      <th>2</th>\n",
       "      <td>HAPPKENDRAHAPPY</td>\n",
       "      <td>[-0.99954855, -0.9936008, 0.9999993, -0.996664...</td>\n",
       "      <td>RightTroll</td>\n",
       "    </tr>\n",
       "    <tr>\n",
       "      <th>3</th>\n",
       "      <td>HAPPKENDRAHAPPY</td>\n",
       "      <td>[-0.9939619, -0.9375335, 0.9999368, -0.9818017...</td>\n",
       "      <td>RightTroll</td>\n",
       "    </tr>\n",
       "    <tr>\n",
       "      <th>4</th>\n",
       "      <td>HAPPKENDRAHAPPY</td>\n",
       "      <td>[-0.99595755, -0.9802161, 0.9999972, -0.989883...</td>\n",
       "      <td>RightTroll</td>\n",
       "    </tr>\n",
       "    <tr>\n",
       "      <th>...</th>\n",
       "      <td>...</td>\n",
       "      <td>...</td>\n",
       "      <td>...</td>\n",
       "    </tr>\n",
       "    <tr>\n",
       "      <th>299995</th>\n",
       "      <td>TESSYELMORE</td>\n",
       "      <td>[-0.9997602, -0.99756956, 0.9999992, -0.995868...</td>\n",
       "      <td>LeftTroll</td>\n",
       "    </tr>\n",
       "    <tr>\n",
       "      <th>299996</th>\n",
       "      <td>TESSYELMORE</td>\n",
       "      <td>[-0.9988821, -0.9916606, 0.99998736, -0.991392...</td>\n",
       "      <td>LeftTroll</td>\n",
       "    </tr>\n",
       "    <tr>\n",
       "      <th>299997</th>\n",
       "      <td>TESSYELMORE</td>\n",
       "      <td>[-0.9968264, -0.98249024, 0.999998, -0.9969361...</td>\n",
       "      <td>LeftTroll</td>\n",
       "    </tr>\n",
       "    <tr>\n",
       "      <th>299998</th>\n",
       "      <td>TESSYELMORE</td>\n",
       "      <td>[-0.9993973, -0.9954378, 0.99999964, -0.997735...</td>\n",
       "      <td>LeftTroll</td>\n",
       "    </tr>\n",
       "    <tr>\n",
       "      <th>299999</th>\n",
       "      <td>TESSYELMORE</td>\n",
       "      <td>[-0.84112495, -0.7720253, 0.9988869, -0.992356...</td>\n",
       "      <td>LeftTroll</td>\n",
       "    </tr>\n",
       "  </tbody>\n",
       "</table>\n",
       "<p>300000 rows × 3 columns</p>\n",
       "</div>"
      ],
      "text/plain": [
       "                 author                                            content  \\\n",
       "0       HAPPKENDRAHAPPY  [-0.9964574, -0.98038715, 0.9999991, -0.998856...   \n",
       "1       HAPPKENDRAHAPPY  [-0.9999339, -0.9988255, 0.99999946, -0.996039...   \n",
       "2       HAPPKENDRAHAPPY  [-0.99954855, -0.9936008, 0.9999993, -0.996664...   \n",
       "3       HAPPKENDRAHAPPY  [-0.9939619, -0.9375335, 0.9999368, -0.9818017...   \n",
       "4       HAPPKENDRAHAPPY  [-0.99595755, -0.9802161, 0.9999972, -0.989883...   \n",
       "...                 ...                                                ...   \n",
       "299995      TESSYELMORE  [-0.9997602, -0.99756956, 0.9999992, -0.995868...   \n",
       "299996      TESSYELMORE  [-0.9988821, -0.9916606, 0.99998736, -0.991392...   \n",
       "299997      TESSYELMORE  [-0.9968264, -0.98249024, 0.999998, -0.9969361...   \n",
       "299998      TESSYELMORE  [-0.9993973, -0.9954378, 0.99999964, -0.997735...   \n",
       "299999      TESSYELMORE  [-0.84112495, -0.7720253, 0.9988869, -0.992356...   \n",
       "\n",
       "       account_category  \n",
       "0            RightTroll  \n",
       "1            RightTroll  \n",
       "2            RightTroll  \n",
       "3            RightTroll  \n",
       "4            RightTroll  \n",
       "...                 ...  \n",
       "299995        LeftTroll  \n",
       "299996        LeftTroll  \n",
       "299997        LeftTroll  \n",
       "299998        LeftTroll  \n",
       "299999        LeftTroll  \n",
       "\n",
       "[300000 rows x 3 columns]"
      ]
     },
     "execution_count": 138,
     "metadata": {},
     "output_type": "execute_result"
    }
   ],
   "source": [
    "bert_df_output"
   ]
  },
  {
   "cell_type": "markdown",
   "metadata": {},
   "source": [
    "## Averaging the vectors for each \"author\""
   ]
  },
  {
   "cell_type": "code",
   "execution_count": 149,
   "metadata": {},
   "outputs": [
    {
     "data": {
      "text/plain": [
       "[array([-0.96915984, -0.966579  ,  0.99957913, ..., -0.98325324,\n",
       "         0.98141277, -0.97459334], dtype=float32),\n",
       " array([-0.9841698 , -0.9780887 ,  0.9998793 , ..., -0.9982222 ,\n",
       "         0.98733264, -0.98026776], dtype=float32),\n",
       " array([-0.970223  , -0.97818685,  0.9758654 , ..., -0.9602331 ,\n",
       "         0.9623901 , -0.9678385 ], dtype=float32),\n",
       " array([-0.9424479 , -0.9555731 ,  0.9887826 , ..., -0.9670623 ,\n",
       "         0.9559627 , -0.96209824], dtype=float32),\n",
       " array([-0.8873661 , -0.9190177 ,  0.98100406, ..., -0.9815821 ,\n",
       "         0.9598946 , -0.9577198 ], dtype=float32),\n",
       " array([-0.9932415 , -0.98543584,  0.9999909 , ..., -0.9994138 ,\n",
       "         0.99405617, -0.9865648 ], dtype=float32),\n",
       " array([-0.97932005, -0.9460213 ,  0.9995288 , ..., -0.9868992 ,\n",
       "         0.97918844, -0.9614875 ], dtype=float32),\n",
       " array([-0.96266115, -0.95913106,  0.9939148 , ..., -0.9302393 ,\n",
       "         0.96309716, -0.9514768 ], dtype=float32),\n",
       " array([-0.85814905, -0.8985814 ,  0.9621722 , ..., -0.9464916 ,\n",
       "         0.9329097 , -0.93577397], dtype=float32),\n",
       " array([-0.9742459 , -0.9682099 ,  0.99573064, ..., -0.9757858 ,\n",
       "         0.97861606, -0.96792257], dtype=float32),\n",
       " array([-0.9993094 , -0.9931108 ,  0.99999833, ..., -0.9994459 ,\n",
       "         0.9959049 , -0.9922447 ], dtype=float32),\n",
       " array([-0.85848206, -0.91126305,  0.9712428 , ..., -0.9739367 ,\n",
       "         0.9377648 , -0.9421464 ], dtype=float32),\n",
       " array([-0.96543646, -0.96218574,  0.9969587 , ..., -0.98529005,\n",
       "         0.9774084 , -0.97355515], dtype=float32),\n",
       " array([-0.9985197 , -0.9863849 ,  0.9999235 , ..., -0.9848084 ,\n",
       "         0.9916201 , -0.96863717], dtype=float32),\n",
       " array([-0.96360207, -0.95506185,  0.99686205, ..., -0.9733706 ,\n",
       "         0.97490394, -0.96692866], dtype=float32),\n",
       " array([-0.96910137, -0.9652311 ,  0.99508196, ..., -0.9737248 ,\n",
       "         0.9759856 , -0.9661036 ], dtype=float32),\n",
       " array([-0.9629505 , -0.959833  ,  0.9933356 , ..., -0.97738916,\n",
       "         0.973913  , -0.96937627], dtype=float32),\n",
       " array([-0.9665954, -0.9597546,  0.9969676, ..., -0.9568304,  0.9720098,\n",
       "        -0.9596453], dtype=float32),\n",
       " array([-0.99478585, -0.9795474 ,  0.999787  , ..., -0.99782455,\n",
       "         0.99239737, -0.98605704], dtype=float32),\n",
       " array([-0.9938482 , -0.9822598 ,  0.999967  , ..., -0.99763393,\n",
       "         0.9902693 , -0.98745626], dtype=float32),\n",
       " array([-0.9839551 , -0.95045054,  0.9998655 , ..., -0.99652964,\n",
       "         0.9844846 , -0.9764515 ], dtype=float32),\n",
       " array([-0.9410544 , -0.94710404,  0.9915887 , ..., -0.97554463,\n",
       "         0.9662647 , -0.96656936], dtype=float32),\n",
       " array([-0.9760933 , -0.9684881 ,  0.99828774, ..., -0.98557085,\n",
       "         0.98080164, -0.9762739 ], dtype=float32),\n",
       " array([-0.80665064, -0.8532611 ,  0.9425426 , ..., -0.92038053,\n",
       "         0.913916  , -0.9290579 ], dtype=float32),\n",
       " array([-0.91817963, -0.93389696,  0.9867865 , ..., -0.9702279 ,\n",
       "         0.95472157, -0.95803225], dtype=float32),\n",
       " array([-0.99532205, -0.97666895,  0.99982655, ..., -0.9814991 ,\n",
       "         0.9852378 , -0.9651872 ], dtype=float32),\n",
       " array([-0.9624745 , -0.9659231 ,  0.9946384 , ..., -0.97577244,\n",
       "         0.97350913, -0.96891516], dtype=float32),\n",
       " array([-0.9578078 , -0.9594697 ,  0.99408853, ..., -0.9776226 ,\n",
       "         0.9710966 , -0.96966505], dtype=float32),\n",
       " array([-0.9574743 , -0.96166366,  0.99198693, ..., -0.9066678 ,\n",
       "         0.9443741 , -0.9486605 ], dtype=float32),\n",
       " array([-0.93927413, -0.94591254,  0.9932723 , ..., -0.9748608 ,\n",
       "         0.9674508 , -0.9689032 ], dtype=float32),\n",
       " array([-0.9255497 , -0.9416516 ,  0.9916667 , ..., -0.9730531 ,\n",
       "         0.9610658 , -0.96460325], dtype=float32),\n",
       " array([-0.95993465, -0.96143645,  0.99360245, ..., -0.97657174,\n",
       "         0.97454584, -0.96999145], dtype=float32),\n",
       " array([-0.93813473, -0.9460824 ,  0.992156  , ..., -0.97512126,\n",
       "         0.9647408 , -0.9676671 ], dtype=float32),\n",
       " array([-0.9893251 , -0.9701889 ,  0.9899714 , ..., -0.925122  ,\n",
       "         0.9746746 , -0.94748783], dtype=float32),\n",
       " array([-0.9957748 , -0.98854655,  0.9999823 , ..., -0.9976637 ,\n",
       "         0.98903894, -0.9885089 ], dtype=float32),\n",
       " array([-0.97038156, -0.9484258 ,  0.9911405 , ..., -0.9635128 ,\n",
       "         0.97097445, -0.96138406], dtype=float32),\n",
       " array([-0.9876254 , -0.9747836 ,  0.99986124, ..., -0.9967078 ,\n",
       "         0.9848863 , -0.9833245 ], dtype=float32),\n",
       " array([-0.97306955, -0.96366495,  0.99743444, ..., -0.97675174,\n",
       "         0.97668654, -0.9695715 ], dtype=float32),\n",
       " array([-0.99378794, -0.93918043,  0.99994254, ..., -0.99436665,\n",
       "         0.9865094 , -0.968064  ], dtype=float32),\n",
       " array([-0.93771267, -0.971545  ,  0.99726427, ..., -0.9929102 ,\n",
       "         0.9732574 , -0.9799289 ], dtype=float32),\n",
       " array([-0.8739513 , -0.9052745 ,  0.96504533, ..., -0.95373946,\n",
       "         0.9379974 , -0.94576246], dtype=float32),\n",
       " array([-0.9060549 , -0.93416715,  0.97342527, ..., -0.97320884,\n",
       "         0.94423705, -0.9551092 ], dtype=float32),\n",
       " array([-0.9145147 , -0.9206073 ,  0.98505795, ..., -0.9615973 ,\n",
       "         0.9519757 , -0.949074  ], dtype=float32),\n",
       " array([-0.9655649 , -0.946169  ,  0.9989148 , ..., -0.97335714,\n",
       "         0.97063833, -0.9699657 ], dtype=float32),\n",
       " array([-0.99398553, -0.98225653,  0.9998229 , ..., -0.9870625 ,\n",
       "         0.98459417, -0.9752993 ], dtype=float32),\n",
       " array([-0.9682451 , -0.96281064,  0.9994832 , ..., -0.9921562 ,\n",
       "         0.9783067 , -0.9708103 ], dtype=float32),\n",
       " array([-0.97177976, -0.9632127 ,  0.9970407 , ..., -0.9826078 ,\n",
       "         0.9786608 , -0.97304195], dtype=float32),\n",
       " array([-0.9927948 , -0.978629  ,  0.999992  , ..., -0.9995445 ,\n",
       "         0.98983365, -0.9897172 ], dtype=float32),\n",
       " array([-0.99651164, -0.9848652 ,  0.9999888 , ..., -0.9992466 ,\n",
       "         0.99321014, -0.9882362 ], dtype=float32),\n",
       " array([-0.9057592 , -0.9538073 ,  0.9901746 , ..., -0.98080903,\n",
       "         0.9118766 , -0.9658427 ], dtype=float32),\n",
       " array([-0.93005985, -0.9536462 ,  0.9990012 , ..., -0.9944821 ,\n",
       "         0.9716731 , -0.9779728 ], dtype=float32),\n",
       " array([-0.97882074, -0.9718414 ,  0.9968419 , ..., -0.9821296 ,\n",
       "         0.9770011 , -0.9756846 ], dtype=float32),\n",
       " array([-0.97051615, -0.96513474,  0.99643683, ..., -0.98330045,\n",
       "         0.9783531 , -0.97384334], dtype=float32),\n",
       " array([-0.96579164, -0.9633781 ,  0.9960469 , ..., -0.98097676,\n",
       "         0.97568685, -0.97197676], dtype=float32),\n",
       " array([-0.89387167, -0.91447455,  0.9832455 , ..., -0.94707435,\n",
       "         0.94338405, -0.9443404 ], dtype=float32),\n",
       " array([-0.8993    , -0.92350036,  0.9732669 , ..., -0.9770027 ,\n",
       "         0.9574326 , -0.9450868 ], dtype=float32),\n",
       " array([-0.97349256, -0.91511154,  0.9997844 , ..., -0.9771108 ,\n",
       "         0.9748648 , -0.9564622 ], dtype=float32),\n",
       " array([-0.9393116 , -0.94763684,  0.9987579 , ..., -0.9908582 ,\n",
       "         0.9692306 , -0.9785669 ], dtype=float32),\n",
       " array([-0.9494672 , -0.95161784,  0.99160784, ..., -0.99303406,\n",
       "         0.9671601 , -0.9724455 ], dtype=float32),\n",
       " array([-0.9381256 , -0.94463044,  0.9881822 , ..., -0.976983  ,\n",
       "         0.9621402 , -0.96199864], dtype=float32),\n",
       " array([-0.95191187, -0.95090705,  0.9906196 , ..., -0.9651708 ,\n",
       "         0.96484524, -0.96255285], dtype=float32),\n",
       " array([-0.934789  , -0.939632  ,  0.9895246 , ..., -0.9722984 ,\n",
       "         0.96303403, -0.9631887 ], dtype=float32),\n",
       " array([-0.9902251 , -0.98009884,  0.99591607, ..., -0.9451668 ,\n",
       "         0.9781874 , -0.9567761 ], dtype=float32),\n",
       " array([-0.96378225, -0.9628337 ,  0.9953351 , ..., -0.9797411 ,\n",
       "         0.9748802 , -0.97143584], dtype=float32),\n",
       " array([-0.98493344, -0.9726831 ,  0.99977195, ..., -0.97965014,\n",
       "         0.9836675 , -0.9744217 ], dtype=float32),\n",
       " array([-0.9559826 , -0.95768625,  0.9945145 , ..., -0.97825396,\n",
       "         0.9723943 , -0.9711196 ], dtype=float32),\n",
       " array([-0.93330735, -0.9548254 ,  0.9978358 , ..., -0.9775188 ,\n",
       "         0.9656149 , -0.96666235], dtype=float32),\n",
       " array([-0.9764214, -0.9701192,  0.9988124, ..., -0.9894741,  0.9659642,\n",
       "        -0.969373 ], dtype=float32),\n",
       " array([-0.9725373 , -0.97305983,  0.99980825, ..., -0.9962157 ,\n",
       "         0.98219687, -0.9807248 ], dtype=float32),\n",
       " array([-0.96677864, -0.9643924 ,  0.9957064 , ..., -0.9794642 ,\n",
       "         0.9756553 , -0.97228795], dtype=float32),\n",
       " array([-0.8852625 , -0.92426103,  0.96264327, ..., -0.98138165,\n",
       "         0.94510406, -0.9521028 ], dtype=float32),\n",
       " array([-0.9745883 , -0.9635982 ,  0.9964324 , ..., -0.97605133,\n",
       "         0.97655874, -0.9684392 ], dtype=float32),\n",
       " array([-0.96489954, -0.9635256 ,  0.9952995 , ..., -0.98175025,\n",
       "         0.9754532 , -0.9726871 ], dtype=float32),\n",
       " array([-0.9832891 , -0.96484953,  0.9997387 , ..., -0.99687576,\n",
       "         0.98249316, -0.9825664 ], dtype=float32),\n",
       " array([-0.9786916, -0.9672173,  0.9987055, ..., -0.9839087,  0.9822903,\n",
       "        -0.9744244], dtype=float32),\n",
       " array([-0.95304054, -0.9638344 ,  0.98674244, ..., -0.99328655,\n",
       "         0.98001367, -0.97314364], dtype=float32),\n",
       " array([-0.9876974 , -0.9785513 ,  0.9999311 , ..., -0.9971338 ,\n",
       "         0.98878825, -0.98524535], dtype=float32),\n",
       " array([-0.9734922 , -0.9677897 ,  0.99920416, ..., -0.9909258 ,\n",
       "         0.98127735, -0.9806835 ], dtype=float32),\n",
       " array([-0.931544 , -0.9094301,  0.9758726, ..., -0.9002134,  0.9293571,\n",
       "        -0.922948 ], dtype=float32),\n",
       " array([-0.8787436 , -0.8909296 ,  0.9842402 , ..., -0.9044864 ,\n",
       "         0.90911674, -0.9195597 ], dtype=float32),\n",
       " array([-0.95764756, -0.95995694,  0.9948688 , ..., -0.9816586 ,\n",
       "         0.97332877, -0.97121614], dtype=float32),\n",
       " array([-0.9358559 , -0.94375974,  0.99129367, ..., -0.9716816 ,\n",
       "         0.96467483, -0.9657103 ], dtype=float32),\n",
       " array([-0.96426207, -0.96157   ,  0.99480385, ..., -0.9796642 ,\n",
       "         0.97452474, -0.9720839 ], dtype=float32),\n",
       " array([-0.9389034 , -0.9167108 ,  0.98484457, ..., -0.93416864,\n",
       "         0.94400537, -0.9345084 ], dtype=float32),\n",
       " array([-0.99239916, -0.97408175,  0.9999782 , ..., -0.9984868 ,\n",
       "         0.99071574, -0.9848549 ], dtype=float32),\n",
       " array([-0.9963913 , -0.9920495 ,  0.999992  , ..., -0.99882114,\n",
       "         0.99168915, -0.98917097], dtype=float32),\n",
       " array([-0.97720706, -0.9726177 ,  0.9974854 , ..., -0.98791754,\n",
       "         0.9784081 , -0.97466725], dtype=float32),\n",
       " array([-0.9975412 , -0.98902804,  0.9999196 , ..., -0.9900987 ,\n",
       "         0.99024934, -0.979895  ], dtype=float32),\n",
       " array([-0.9869115 , -0.974817  ,  0.9980713 , ..., -0.9569475 ,\n",
       "         0.98117965, -0.9637409 ], dtype=float32),\n",
       " array([-0.9913754 , -0.97623277,  0.99934745, ..., -0.9750347 ,\n",
       "         0.9798783 , -0.950829  ], dtype=float32),\n",
       " array([-0.99467826, -0.9776094 ,  0.9999175 , ..., -0.99494946,\n",
       "         0.9900013 , -0.97778094], dtype=float32),\n",
       " array([-0.83236754, -0.8813332 ,  0.9366748 , ..., -0.94976383,\n",
       "         0.9253724 , -0.93454874], dtype=float32),\n",
       " array([-0.8674391 , -0.9118708 ,  0.98253256, ..., -0.96897113,\n",
       "         0.94813395, -0.9433465 ], dtype=float32),\n",
       " array([-0.9150317, -0.9334141,  0.9845402, ..., -0.9703687,  0.9592149,\n",
       "        -0.9498218], dtype=float32),\n",
       " array([-0.9537149 , -0.9774703 ,  0.999912  , ..., -0.99737775,\n",
       "         0.9842888 , -0.9792581 ], dtype=float32),\n",
       " array([-0.98564637, -0.9781669 ,  0.9991993 , ..., -0.9855654 ,\n",
       "         0.9815349 , -0.976617  ], dtype=float32),\n",
       " array([-0.95820737, -0.9610064 ,  0.9939509 , ..., -0.974029  ,\n",
       "         0.97287613, -0.9708574 ], dtype=float32),\n",
       " array([-0.9401854 , -0.947854  ,  0.9901358 , ..., -0.97187483,\n",
       "         0.96294415, -0.96366775], dtype=float32),\n",
       " array([-0.99629146, -0.9864401 ,  0.9994571 , ..., -0.9950696 ,\n",
       "         0.9906877 , -0.9855411 ], dtype=float32),\n",
       " array([-0.9870705 , -0.9761674 ,  0.99999714, ..., -0.9998782 ,\n",
       "         0.99415874, -0.9932652 ], dtype=float32),\n",
       " array([-0.95915246, -0.953912  ,  0.9850095 , ..., -0.94359934,\n",
       "         0.9573054 , -0.95522237], dtype=float32),\n",
       " array([-0.8960038 , -0.9166114 ,  0.9864281 , ..., -0.99535215,\n",
       "         0.96825755, -0.9762961 ], dtype=float32),\n",
       " array([-0.92313284, -0.8966685 ,  0.98469514, ..., -0.9247875 ,\n",
       "         0.95877886, -0.91429925], dtype=float32),\n",
       " array([-0.9949962 , -0.9816842 ,  0.9999937 , ..., -0.9989664 ,\n",
       "         0.99273586, -0.985637  ], dtype=float32),\n",
       " array([-0.96859235, -0.95834947,  0.9947918 , ..., -0.9668359 ,\n",
       "         0.97348696, -0.96811736], dtype=float32),\n",
       " array([-0.9815142, -0.9764684,  0.9999645, ..., -0.9986563,  0.9897682,\n",
       "        -0.9883332], dtype=float32),\n",
       " array([-0.9886299 , -0.9838376 ,  0.99945486, ..., -0.998567  ,\n",
       "         0.990479  , -0.9887419 ], dtype=float32),\n",
       " array([-0.9945569 , -0.97346175,  0.99998367, ..., -0.99936914,\n",
       "         0.99200016, -0.9844182 ], dtype=float32),\n",
       " array([-0.903016  , -0.9190435 ,  0.98929995, ..., -0.9848652 ,\n",
       "         0.9674216 , -0.9603976 ], dtype=float32),\n",
       " array([-0.8903808 , -0.9081233 ,  0.9851226 , ..., -0.97147286,\n",
       "         0.9459013 , -0.94902885], dtype=float32),\n",
       " array([-0.93170315, -0.9428043 ,  0.9933453 , ..., -0.97493416,\n",
       "         0.96402675, -0.96713895], dtype=float32),\n",
       " array([-0.95872366, -0.9536253 ,  0.9949429 , ..., -0.9769316 ,\n",
       "         0.9732342 , -0.9636753 ], dtype=float32),\n",
       " array([-0.9983947 , -0.9867983 ,  0.9998595 , ..., -0.9791055 ,\n",
       "         0.98986095, -0.96701664], dtype=float32),\n",
       " array([-0.9460455 , -0.9495875 ,  0.99293983, ..., -0.9761823 ,\n",
       "         0.96899015, -0.96911556], dtype=float32),\n",
       " array([-0.9829873 , -0.9790463 ,  0.99987876, ..., -0.9967698 ,\n",
       "         0.98632556, -0.98239636], dtype=float32),\n",
       " array([-0.9597328 , -0.9513064 ,  0.99861866, ..., -0.97714347,\n",
       "         0.9765187 , -0.96576196], dtype=float32),\n",
       " array([-0.9996877, -0.9934577,  0.9999769, ..., -0.9973816,  0.9921656,\n",
       "        -0.9738594], dtype=float32),\n",
       " array([-0.8480745 , -0.89867353,  0.98257774, ..., -0.9828813 ,\n",
       "         0.95092404, -0.9567537 ], dtype=float32),\n",
       " array([-0.98100334, -0.9714953 ,  0.997737  , ..., -0.99193484,\n",
       "         0.9812172 , -0.9795218 ], dtype=float32),\n",
       " array([-0.9942675 , -0.97998327,  0.9999006 , ..., -0.9949759 ,\n",
       "         0.9910999 , -0.98320866], dtype=float32),\n",
       " array([-0.9525382 , -0.9537006 ,  0.994133  , ..., -0.97752076,\n",
       "         0.9701051 , -0.96890986], dtype=float32),\n",
       " array([-0.9496754 , -0.97414166,  0.9950507 , ..., -0.9960061 ,\n",
       "         0.96924925, -0.9821086 ], dtype=float32),\n",
       " array([-0.91978407, -0.9266589 ,  0.9970633 , ..., -0.9718774 ,\n",
       "         0.9740809 , -0.9506999 ], dtype=float32),\n",
       " array([-0.91572255, -0.93705904,  0.98164046, ..., -0.98846567,\n",
       "         0.95894104, -0.96667683], dtype=float32),\n",
       " array([-0.98521453, -0.97612387,  0.9999044 , ..., -0.98709756,\n",
       "         0.9879074 , -0.98072326], dtype=float32),\n",
       " array([-0.9684725 , -0.9599756 ,  0.98995644, ..., -0.9626322 ,\n",
       "         0.9696148 , -0.97084934], dtype=float32),\n",
       " array([-0.96342486, -0.95977455,  0.9948365 , ..., -0.9902167 ,\n",
       "         0.9770232 , -0.97528297], dtype=float32),\n",
       " array([-0.99704814, -0.9889832 ,  0.9999933 , ..., -0.999554  ,\n",
       "         0.9941041 , -0.9870799 ], dtype=float32),\n",
       " array([-0.96269023, -0.94804615,  0.9923115 , ..., -0.9604309 ,\n",
       "         0.9677018 , -0.9598521 ], dtype=float32),\n",
       " array([-0.95470303, -0.9629888 ,  0.9914583 , ..., -0.9276919 ,\n",
       "         0.9602395 , -0.9566005 ], dtype=float32),\n",
       " array([-0.95198995, -0.94963425,  0.9952838 , ..., -0.9771611 ,\n",
       "         0.9707286 , -0.9667549 ], dtype=float32),\n",
       " array([-0.98660153, -0.98030144,  0.99962807, ..., -0.9956254 ,\n",
       "         0.9851969 , -0.9831615 ], dtype=float32),\n",
       " array([-0.9907551 , -0.97725195,  0.9992564 , ..., -0.9936501 ,\n",
       "         0.98790663, -0.9814646 ], dtype=float32),\n",
       " array([-0.9777245 , -0.9713919 ,  0.99812317, ..., -0.9932455 ,\n",
       "         0.9793956 , -0.9819868 ], dtype=float32)]"
      ]
     },
     "execution_count": 149,
     "metadata": {},
     "output_type": "execute_result"
    }
   ],
   "source": [
    "list(bert_df_output.groupby('author')['content'].apply(np.mean))"
   ]
  },
  {
   "cell_type": "markdown",
   "metadata": {},
   "source": [
    "## Logistic regression"
   ]
  },
  {
   "cell_type": "code",
   "execution_count": 151,
   "metadata": {},
   "outputs": [],
   "source": [
    "X_BERT = list(bert_df_output.groupby('author')['content'].apply(np.mean))\n",
    "y = bert_df.drop_duplicates(subset=['author'])['account_category']"
   ]
  },
  {
   "cell_type": "code",
   "execution_count": 152,
   "metadata": {},
   "outputs": [],
   "source": [
    "X_train, X_test, y_train, y_test = train_test_split(X_BERT, y, test_size=0.1, random_state=0, stratify=y)"
   ]
  },
  {
   "cell_type": "code",
   "execution_count": 153,
   "metadata": {},
   "outputs": [],
   "source": [
    "lg = LogisticRegression(max_iter=1000)\n",
    "lg.fit(X_train,y_train)\n",
    "y_pred = lg.predict(X_test)"
   ]
  },
  {
   "cell_type": "code",
   "execution_count": 154,
   "metadata": {},
   "outputs": [
    {
     "name": "stdout",
     "output_type": "stream",
     "text": [
      "              precision    recall  f1-score   support\n",
      "\n",
      "   LeftTroll       0.33      0.07      0.12        14\n",
      "    NewsFeed       0.00      0.00      0.00         2\n",
      "  RightTroll       0.63      0.96      0.76        25\n",
      "\n",
      "    accuracy                           0.61        41\n",
      "   macro avg       0.32      0.34      0.29        41\n",
      "weighted avg       0.50      0.61      0.50        41\n",
      "\n"
     ]
    },
    {
     "name": "stderr",
     "output_type": "stream",
     "text": [
      "/usr/local/lib/python3.6/dist-packages/sklearn/metrics/_classification.py:1221: UndefinedMetricWarning: Precision and F-score are ill-defined and being set to 0.0 in labels with no predicted samples. Use `zero_division` parameter to control this behavior.\n",
      "  _warn_prf(average, modifier, msg_start, len(result))\n"
     ]
    }
   ],
   "source": [
    "print(classification_report(y_test, y_pred))"
   ]
  },
  {
   "cell_type": "markdown",
   "metadata": {},
   "source": [
    "# Concatenating U2H and U2M"
   ]
  },
  {
   "cell_type": "code",
   "execution_count": 105,
   "metadata": {},
   "outputs": [],
   "source": [
    "X = [None] * 917\n",
    "for i in range(len(X_U2H)):\n",
    "    X[i] = np.concatenate((X_U2H[i], X_U2M[i]))"
   ]
  },
  {
   "cell_type": "code",
   "execution_count": 106,
   "metadata": {},
   "outputs": [],
   "source": [
    "X_train, X_test, y_train, y_test = train_test_split(X, y, test_size=0.3, random_state=0)"
   ]
  },
  {
   "cell_type": "code",
   "execution_count": 107,
   "metadata": {},
   "outputs": [],
   "source": [
    "lg = LogisticRegression(penalty='l2', max_iter=10000)\n",
    "lg.fit(X_train,y_train)\n",
    "y_pred = lg.predict(X_test)"
   ]
  },
  {
   "cell_type": "code",
   "execution_count": 108,
   "metadata": {},
   "outputs": [
    {
     "name": "stdout",
     "output_type": "stream",
     "text": [
      "              precision    recall  f1-score   support\n",
      "\n",
      "   LeftTroll       0.81      0.73      0.77        66\n",
      "    NewsFeed       0.76      0.76      0.76        21\n",
      "  RightTroll       0.90      0.93      0.91       189\n",
      "\n",
      "    accuracy                           0.87       276\n",
      "   macro avg       0.82      0.81      0.81       276\n",
      "weighted avg       0.87      0.87      0.87       276\n",
      "\n"
     ]
    }
   ],
   "source": [
    "print(classification_report(y_test, y_pred))"
   ]
  },
  {
   "cell_type": "code",
   "execution_count": null,
   "metadata": {},
   "outputs": [],
   "source": []
  }
 ],
 "metadata": {
  "kernelspec": {
   "display_name": "Python 3",
   "language": "python",
   "name": "python3"
  },
  "language_info": {
   "codemirror_mode": {
    "name": "ipython",
    "version": 3
   },
   "file_extension": ".py",
   "mimetype": "text/x-python",
   "name": "python",
   "nbconvert_exporter": "python",
   "pygments_lexer": "ipython3",
   "version": "3.6.9"
  }
 },
 "nbformat": 4,
 "nbformat_minor": 4
}
