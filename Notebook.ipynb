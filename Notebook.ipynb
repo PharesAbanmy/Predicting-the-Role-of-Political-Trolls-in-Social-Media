{
 "cells": [
  {
   "cell_type": "code",
   "execution_count": 4,
   "metadata": {},
   "outputs": [],
   "source": [
    "import pandas as pd\n",
    "import numpy as np\n",
    "import glob\n",
    "\n",
    "from matplotlib import pyplot as plt\n",
    "import seaborn as sns\n",
    "\n",
    "import re\n",
    "import string\n",
    "\n",
    "from tqdm import tqdm\n",
    "\n",
    "import transformers\n",
    "# from transformers import BertModel, BertConfig, BertTokenizer, AdamW, get_linear_schedule_with_warmup\n",
    "import torch\n",
    "\n",
    "import networkx as nx\n",
    "from node2vec import Node2Vec"
   ]
  },
  {
   "cell_type": "markdown",
   "metadata": {},
   "source": [
    "## Merging all csv files"
   ]
  },
  {
   "cell_type": "code",
   "execution_count": 5,
   "metadata": {},
   "outputs": [
    {
     "name": "stderr",
     "output_type": "stream",
     "text": [
      "C:\\Users\\User\\anaconda3\\lib\\site-packages\\IPython\\core\\interactiveshell.py:3063: DtypeWarning: Columns (20) have mixed types.Specify dtype option on import or set low_memory=False.\n",
      "  interactivity=interactivity, compiler=compiler, result=result)\n",
      "C:\\Users\\User\\anaconda3\\lib\\site-packages\\IPython\\core\\interactiveshell.py:3063: DtypeWarning: Columns (10,20) have mixed types.Specify dtype option on import or set low_memory=False.\n",
      "  interactivity=interactivity, compiler=compiler, result=result)\n",
      "C:\\Users\\User\\anaconda3\\lib\\site-packages\\IPython\\core\\interactiveshell.py:3063: DtypeWarning: Columns (0,15,20) have mixed types.Specify dtype option on import or set low_memory=False.\n",
      "  interactivity=interactivity, compiler=compiler, result=result)\n"
     ]
    }
   ],
   "source": [
    "filenames = glob.glob(\"russian-troll-tweets/*.csv\")\n",
    "\n",
    "li = []\n",
    "for filename in filenames:\n",
    "    df = pd.read_csv(filename, index_col=None, header=0)\n",
    "    li.append(df)\n",
    "    \n",
    "dfs = pd.concat(li, axis=0, ignore_index=True)"
   ]
  },
  {
   "cell_type": "code",
   "execution_count": 6,
   "metadata": {},
   "outputs": [
    {
     "data": {
      "text/html": [
       "<div>\n",
       "<style scoped>\n",
       "    .dataframe tbody tr th:only-of-type {\n",
       "        vertical-align: middle;\n",
       "    }\n",
       "\n",
       "    .dataframe tbody tr th {\n",
       "        vertical-align: top;\n",
       "    }\n",
       "\n",
       "    .dataframe thead th {\n",
       "        text-align: right;\n",
       "    }\n",
       "</style>\n",
       "<table border=\"1\" class=\"dataframe\">\n",
       "  <thead>\n",
       "    <tr style=\"text-align: right;\">\n",
       "      <th></th>\n",
       "      <th>external_author_id</th>\n",
       "      <th>author</th>\n",
       "      <th>content</th>\n",
       "      <th>region</th>\n",
       "      <th>language</th>\n",
       "      <th>publish_date</th>\n",
       "      <th>harvested_date</th>\n",
       "      <th>following</th>\n",
       "      <th>followers</th>\n",
       "      <th>updates</th>\n",
       "      <th>...</th>\n",
       "      <th>account_type</th>\n",
       "      <th>retweet</th>\n",
       "      <th>account_category</th>\n",
       "      <th>new_june_2018</th>\n",
       "      <th>alt_external_id</th>\n",
       "      <th>tweet_id</th>\n",
       "      <th>article_url</th>\n",
       "      <th>tco1_step1</th>\n",
       "      <th>tco2_step1</th>\n",
       "      <th>tco3_step1</th>\n",
       "    </tr>\n",
       "  </thead>\n",
       "  <tbody>\n",
       "    <tr>\n",
       "      <th>0</th>\n",
       "      <td>906000000000000000</td>\n",
       "      <td>10_GOP</td>\n",
       "      <td>\"We have a sitting Democrat US Senator on tria...</td>\n",
       "      <td>Unknown</td>\n",
       "      <td>English</td>\n",
       "      <td>10/1/2017 19:58</td>\n",
       "      <td>10/1/2017 19:59</td>\n",
       "      <td>1052</td>\n",
       "      <td>9636</td>\n",
       "      <td>253</td>\n",
       "      <td>...</td>\n",
       "      <td>Right</td>\n",
       "      <td>0</td>\n",
       "      <td>RightTroll</td>\n",
       "      <td>0</td>\n",
       "      <td>905874659358453760</td>\n",
       "      <td>914580356430536707</td>\n",
       "      <td>http://twitter.com/905874659358453760/statuses...</td>\n",
       "      <td>https://twitter.com/10_gop/status/914580356430...</td>\n",
       "      <td>NaN</td>\n",
       "      <td>NaN</td>\n",
       "    </tr>\n",
       "    <tr>\n",
       "      <th>1</th>\n",
       "      <td>906000000000000000</td>\n",
       "      <td>10_GOP</td>\n",
       "      <td>Marshawn Lynch arrives to game in anti-Trump s...</td>\n",
       "      <td>Unknown</td>\n",
       "      <td>English</td>\n",
       "      <td>10/1/2017 22:43</td>\n",
       "      <td>10/1/2017 22:43</td>\n",
       "      <td>1054</td>\n",
       "      <td>9637</td>\n",
       "      <td>254</td>\n",
       "      <td>...</td>\n",
       "      <td>Right</td>\n",
       "      <td>0</td>\n",
       "      <td>RightTroll</td>\n",
       "      <td>0</td>\n",
       "      <td>905874659358453760</td>\n",
       "      <td>914621840496189440</td>\n",
       "      <td>http://twitter.com/905874659358453760/statuses...</td>\n",
       "      <td>https://twitter.com/damienwoody/status/9145685...</td>\n",
       "      <td>NaN</td>\n",
       "      <td>NaN</td>\n",
       "    </tr>\n",
       "    <tr>\n",
       "      <th>2</th>\n",
       "      <td>906000000000000000</td>\n",
       "      <td>10_GOP</td>\n",
       "      <td>Daughter of fallen Navy Sailor delivers powerf...</td>\n",
       "      <td>Unknown</td>\n",
       "      <td>English</td>\n",
       "      <td>10/1/2017 22:50</td>\n",
       "      <td>10/1/2017 22:51</td>\n",
       "      <td>1054</td>\n",
       "      <td>9637</td>\n",
       "      <td>255</td>\n",
       "      <td>...</td>\n",
       "      <td>Right</td>\n",
       "      <td>1</td>\n",
       "      <td>RightTroll</td>\n",
       "      <td>0</td>\n",
       "      <td>905874659358453760</td>\n",
       "      <td>914623490375979008</td>\n",
       "      <td>http://twitter.com/905874659358453760/statuses...</td>\n",
       "      <td>https://twitter.com/10_gop/status/913231923715...</td>\n",
       "      <td>NaN</td>\n",
       "      <td>NaN</td>\n",
       "    </tr>\n",
       "    <tr>\n",
       "      <th>3</th>\n",
       "      <td>906000000000000000</td>\n",
       "      <td>10_GOP</td>\n",
       "      <td>JUST IN: President Trump dedicates Presidents ...</td>\n",
       "      <td>Unknown</td>\n",
       "      <td>English</td>\n",
       "      <td>10/1/2017 23:52</td>\n",
       "      <td>10/1/2017 23:52</td>\n",
       "      <td>1062</td>\n",
       "      <td>9642</td>\n",
       "      <td>256</td>\n",
       "      <td>...</td>\n",
       "      <td>Right</td>\n",
       "      <td>0</td>\n",
       "      <td>RightTroll</td>\n",
       "      <td>0</td>\n",
       "      <td>905874659358453760</td>\n",
       "      <td>914639143690555392</td>\n",
       "      <td>http://twitter.com/905874659358453760/statuses...</td>\n",
       "      <td>https://twitter.com/10_gop/status/914639143690...</td>\n",
       "      <td>NaN</td>\n",
       "      <td>NaN</td>\n",
       "    </tr>\n",
       "    <tr>\n",
       "      <th>4</th>\n",
       "      <td>906000000000000000</td>\n",
       "      <td>10_GOP</td>\n",
       "      <td>19,000 RESPECTING our National Anthem! #StandF...</td>\n",
       "      <td>Unknown</td>\n",
       "      <td>English</td>\n",
       "      <td>10/1/2017 2:13</td>\n",
       "      <td>10/1/2017 2:13</td>\n",
       "      <td>1050</td>\n",
       "      <td>9645</td>\n",
       "      <td>246</td>\n",
       "      <td>...</td>\n",
       "      <td>Right</td>\n",
       "      <td>1</td>\n",
       "      <td>RightTroll</td>\n",
       "      <td>0</td>\n",
       "      <td>905874659358453760</td>\n",
       "      <td>914312219952861184</td>\n",
       "      <td>http://twitter.com/905874659358453760/statuses...</td>\n",
       "      <td>https://twitter.com/realDonaldTrump/status/914...</td>\n",
       "      <td>NaN</td>\n",
       "      <td>NaN</td>\n",
       "    </tr>\n",
       "  </tbody>\n",
       "</table>\n",
       "<p>5 rows × 21 columns</p>\n",
       "</div>"
      ],
      "text/plain": [
       "   external_author_id  author  \\\n",
       "0  906000000000000000  10_GOP   \n",
       "1  906000000000000000  10_GOP   \n",
       "2  906000000000000000  10_GOP   \n",
       "3  906000000000000000  10_GOP   \n",
       "4  906000000000000000  10_GOP   \n",
       "\n",
       "                                             content   region language  \\\n",
       "0  \"We have a sitting Democrat US Senator on tria...  Unknown  English   \n",
       "1  Marshawn Lynch arrives to game in anti-Trump s...  Unknown  English   \n",
       "2  Daughter of fallen Navy Sailor delivers powerf...  Unknown  English   \n",
       "3  JUST IN: President Trump dedicates Presidents ...  Unknown  English   \n",
       "4  19,000 RESPECTING our National Anthem! #StandF...  Unknown  English   \n",
       "\n",
       "      publish_date   harvested_date  following  followers  updates  ...  \\\n",
       "0  10/1/2017 19:58  10/1/2017 19:59       1052       9636      253  ...   \n",
       "1  10/1/2017 22:43  10/1/2017 22:43       1054       9637      254  ...   \n",
       "2  10/1/2017 22:50  10/1/2017 22:51       1054       9637      255  ...   \n",
       "3  10/1/2017 23:52  10/1/2017 23:52       1062       9642      256  ...   \n",
       "4   10/1/2017 2:13   10/1/2017 2:13       1050       9645      246  ...   \n",
       "\n",
       "  account_type retweet  account_category new_june_2018     alt_external_id  \\\n",
       "0        Right       0        RightTroll             0  905874659358453760   \n",
       "1        Right       0        RightTroll             0  905874659358453760   \n",
       "2        Right       1        RightTroll             0  905874659358453760   \n",
       "3        Right       0        RightTroll             0  905874659358453760   \n",
       "4        Right       1        RightTroll             0  905874659358453760   \n",
       "\n",
       "             tweet_id                                        article_url  \\\n",
       "0  914580356430536707  http://twitter.com/905874659358453760/statuses...   \n",
       "1  914621840496189440  http://twitter.com/905874659358453760/statuses...   \n",
       "2  914623490375979008  http://twitter.com/905874659358453760/statuses...   \n",
       "3  914639143690555392  http://twitter.com/905874659358453760/statuses...   \n",
       "4  914312219952861184  http://twitter.com/905874659358453760/statuses...   \n",
       "\n",
       "                                          tco1_step1 tco2_step1 tco3_step1  \n",
       "0  https://twitter.com/10_gop/status/914580356430...        NaN        NaN  \n",
       "1  https://twitter.com/damienwoody/status/9145685...        NaN        NaN  \n",
       "2  https://twitter.com/10_gop/status/913231923715...        NaN        NaN  \n",
       "3  https://twitter.com/10_gop/status/914639143690...        NaN        NaN  \n",
       "4  https://twitter.com/realDonaldTrump/status/914...        NaN        NaN  \n",
       "\n",
       "[5 rows x 21 columns]"
      ]
     },
     "execution_count": 6,
     "metadata": {},
     "output_type": "execute_result"
    }
   ],
   "source": [
    "dfs.head()"
   ]
  },
  {
   "cell_type": "code",
   "execution_count": 7,
   "metadata": {},
   "outputs": [
    {
     "name": "stdout",
     "output_type": "stream",
     "text": [
      "<class 'pandas.core.frame.DataFrame'>\n",
      "RangeIndex: 2946207 entries, 0 to 2946206\n",
      "Data columns (total 21 columns):\n",
      " #   Column              Dtype \n",
      "---  ------              ----- \n",
      " 0   external_author_id  object\n",
      " 1   author              object\n",
      " 2   content             object\n",
      " 3   region              object\n",
      " 4   language            object\n",
      " 5   publish_date        object\n",
      " 6   harvested_date      object\n",
      " 7   following           int64 \n",
      " 8   followers           int64 \n",
      " 9   updates             int64 \n",
      " 10  post_type           object\n",
      " 11  account_type        object\n",
      " 12  retweet             int64 \n",
      " 13  account_category    object\n",
      " 14  new_june_2018       int64 \n",
      " 15  alt_external_id     object\n",
      " 16  tweet_id            int64 \n",
      " 17  article_url         object\n",
      " 18  tco1_step1          object\n",
      " 19  tco2_step1          object\n",
      " 20  tco3_step1          object\n",
      "dtypes: int64(6), object(15)\n",
      "memory usage: 472.0+ MB\n"
     ]
    }
   ],
   "source": [
    "dfs.info()"
   ]
  },
  {
   "cell_type": "markdown",
   "metadata": {},
   "source": [
    "## Keeping English tweets"
   ]
  },
  {
   "cell_type": "code",
   "execution_count": 8,
   "metadata": {},
   "outputs": [
    {
     "name": "stdout",
     "output_type": "stream",
     "text": [
      "<class 'pandas.core.frame.DataFrame'>\n",
      "Int64Index: 2116867 entries, 0 to 2946181\n",
      "Data columns (total 21 columns):\n",
      " #   Column              Dtype \n",
      "---  ------              ----- \n",
      " 0   external_author_id  object\n",
      " 1   author              object\n",
      " 2   content             object\n",
      " 3   region              object\n",
      " 4   language            object\n",
      " 5   publish_date        object\n",
      " 6   harvested_date      object\n",
      " 7   following           int64 \n",
      " 8   followers           int64 \n",
      " 9   updates             int64 \n",
      " 10  post_type           object\n",
      " 11  account_type        object\n",
      " 12  retweet             int64 \n",
      " 13  account_category    object\n",
      " 14  new_june_2018       int64 \n",
      " 15  alt_external_id     object\n",
      " 16  tweet_id            int64 \n",
      " 17  article_url         object\n",
      " 18  tco1_step1          object\n",
      " 19  tco2_step1          object\n",
      " 20  tco3_step1          object\n",
      "dtypes: int64(6), object(15)\n",
      "memory usage: 355.3+ MB\n"
     ]
    }
   ],
   "source": [
    "dfs = dfs[dfs['language'] == 'English']\n",
    "dfs.info()"
   ]
  },
  {
   "cell_type": "code",
   "execution_count": 9,
   "metadata": {},
   "outputs": [
    {
     "data": {
      "text/plain": [
       "Right         704953\n",
       "local         458012\n",
       "Left          422141\n",
       "Hashtager     236092\n",
       "news          138581\n",
       "Commercial    112580\n",
       "Russian        20015\n",
       "Koch           10759\n",
       "?               6945\n",
       "German          3567\n",
       "Italian         1799\n",
       "Arabic          1030\n",
       "ZAPOROSHIA       172\n",
       "Spanish           79\n",
       "Ebola             70\n",
       "French            70\n",
       "Portuguese         2\n",
       "Name: account_type, dtype: int64"
      ]
     },
     "execution_count": 9,
     "metadata": {},
     "output_type": "execute_result"
    }
   ],
   "source": [
    "dfs['account_type'].value_counts()"
   ]
  },
  {
   "cell_type": "code",
   "execution_count": 10,
   "metadata": {},
   "outputs": [
    {
     "data": {
      "text/plain": [
       "RightTroll      704953\n",
       "NewsFeed        596593\n",
       "LeftTroll       422141\n",
       "HashtagGamer    236092\n",
       "Commercial      112580\n",
       "NonEnglish       26562\n",
       "Fearmonger       11001\n",
       "Unknown           6945\n",
       "Name: account_category, dtype: int64"
      ]
     },
     "execution_count": 10,
     "metadata": {},
     "output_type": "execute_result"
    }
   ],
   "source": [
    "dfs['account_category'].value_counts()"
   ]
  },
  {
   "cell_type": "markdown",
   "metadata": {},
   "source": [
    "# Creating 'hashtags' and 'mentions'  columns"
   ]
  },
  {
   "cell_type": "markdown",
   "metadata": {},
   "source": [
    "### temp_df with 'author' and 'content'"
   ]
  },
  {
   "cell_type": "code",
   "execution_count": 11,
   "metadata": {},
   "outputs": [
    {
     "data": {
      "text/html": [
       "<div>\n",
       "<style scoped>\n",
       "    .dataframe tbody tr th:only-of-type {\n",
       "        vertical-align: middle;\n",
       "    }\n",
       "\n",
       "    .dataframe tbody tr th {\n",
       "        vertical-align: top;\n",
       "    }\n",
       "\n",
       "    .dataframe thead th {\n",
       "        text-align: right;\n",
       "    }\n",
       "</style>\n",
       "<table border=\"1\" class=\"dataframe\">\n",
       "  <thead>\n",
       "    <tr style=\"text-align: right;\">\n",
       "      <th></th>\n",
       "      <th>author</th>\n",
       "      <th>content</th>\n",
       "    </tr>\n",
       "  </thead>\n",
       "  <tbody>\n",
       "    <tr>\n",
       "      <th>0</th>\n",
       "      <td>10_GOP</td>\n",
       "      <td>\"We have a sitting Democrat US Senator on tria...</td>\n",
       "    </tr>\n",
       "    <tr>\n",
       "      <th>1</th>\n",
       "      <td>10_GOP</td>\n",
       "      <td>Marshawn Lynch arrives to game in anti-Trump s...</td>\n",
       "    </tr>\n",
       "    <tr>\n",
       "      <th>2</th>\n",
       "      <td>10_GOP</td>\n",
       "      <td>Daughter of fallen Navy Sailor delivers powerf...</td>\n",
       "    </tr>\n",
       "    <tr>\n",
       "      <th>3</th>\n",
       "      <td>10_GOP</td>\n",
       "      <td>JUST IN: President Trump dedicates Presidents ...</td>\n",
       "    </tr>\n",
       "    <tr>\n",
       "      <th>4</th>\n",
       "      <td>10_GOP</td>\n",
       "      <td>19,000 RESPECTING our National Anthem! #StandF...</td>\n",
       "    </tr>\n",
       "  </tbody>\n",
       "</table>\n",
       "</div>"
      ],
      "text/plain": [
       "   author                                            content\n",
       "0  10_GOP  \"We have a sitting Democrat US Senator on tria...\n",
       "1  10_GOP  Marshawn Lynch arrives to game in anti-Trump s...\n",
       "2  10_GOP  Daughter of fallen Navy Sailor delivers powerf...\n",
       "3  10_GOP  JUST IN: President Trump dedicates Presidents ...\n",
       "4  10_GOP  19,000 RESPECTING our National Anthem! #StandF..."
      ]
     },
     "execution_count": 11,
     "metadata": {},
     "output_type": "execute_result"
    }
   ],
   "source": [
    "temp_df = dfs[['author', 'content']]\n",
    "temp_df.head()"
   ]
  },
  {
   "cell_type": "markdown",
   "metadata": {},
   "source": [
    "### Drop NaN"
   ]
  },
  {
   "cell_type": "code",
   "execution_count": 12,
   "metadata": {},
   "outputs": [
    {
     "name": "stdout",
     "output_type": "stream",
     "text": [
      "(2116866, 2)\n"
     ]
    },
    {
     "name": "stderr",
     "output_type": "stream",
     "text": [
      "C:\\Users\\User\\anaconda3\\lib\\site-packages\\ipykernel_launcher.py:1: SettingWithCopyWarning: \n",
      "A value is trying to be set on a copy of a slice from a DataFrame\n",
      "\n",
      "See the caveats in the documentation: https://pandas.pydata.org/pandas-docs/stable/user_guide/indexing.html#returning-a-view-versus-a-copy\n",
      "  \"\"\"Entry point for launching an IPython kernel.\n"
     ]
    }
   ],
   "source": [
    "temp_df.dropna(how='any', inplace=True)\n",
    "print(temp_df.shape)"
   ]
  },
  {
   "cell_type": "markdown",
   "metadata": {},
   "source": [
    "## 'hashtags' column"
   ]
  },
  {
   "cell_type": "markdown",
   "metadata": {},
   "source": [
    "- #### Collecting hashtags from content"
   ]
  },
  {
   "cell_type": "code",
   "execution_count": 13,
   "metadata": {},
   "outputs": [
    {
     "name": "stderr",
     "output_type": "stream",
     "text": [
      "C:\\Users\\User\\anaconda3\\lib\\site-packages\\ipykernel_launcher.py:1: SettingWithCopyWarning: \n",
      "A value is trying to be set on a copy of a slice from a DataFrame.\n",
      "Try using .loc[row_indexer,col_indexer] = value instead\n",
      "\n",
      "See the caveats in the documentation: https://pandas.pydata.org/pandas-docs/stable/user_guide/indexing.html#returning-a-view-versus-a-copy\n",
      "  \"\"\"Entry point for launching an IPython kernel.\n"
     ]
    },
    {
     "data": {
      "text/html": [
       "<div>\n",
       "<style scoped>\n",
       "    .dataframe tbody tr th:only-of-type {\n",
       "        vertical-align: middle;\n",
       "    }\n",
       "\n",
       "    .dataframe tbody tr th {\n",
       "        vertical-align: top;\n",
       "    }\n",
       "\n",
       "    .dataframe thead th {\n",
       "        text-align: right;\n",
       "    }\n",
       "</style>\n",
       "<table border=\"1\" class=\"dataframe\">\n",
       "  <thead>\n",
       "    <tr style=\"text-align: right;\">\n",
       "      <th></th>\n",
       "      <th>author</th>\n",
       "      <th>content</th>\n",
       "      <th>hashtags</th>\n",
       "    </tr>\n",
       "  </thead>\n",
       "  <tbody>\n",
       "    <tr>\n",
       "      <th>0</th>\n",
       "      <td>10_GOP</td>\n",
       "      <td>\"We have a sitting Democrat US Senator on tria...</td>\n",
       "      <td>[]</td>\n",
       "    </tr>\n",
       "    <tr>\n",
       "      <th>1</th>\n",
       "      <td>10_GOP</td>\n",
       "      <td>Marshawn Lynch arrives to game in anti-Trump s...</td>\n",
       "      <td>[]</td>\n",
       "    </tr>\n",
       "    <tr>\n",
       "      <th>2</th>\n",
       "      <td>10_GOP</td>\n",
       "      <td>Daughter of fallen Navy Sailor delivers powerf...</td>\n",
       "      <td>[#BoycottNFL]</td>\n",
       "    </tr>\n",
       "    <tr>\n",
       "      <th>3</th>\n",
       "      <td>10_GOP</td>\n",
       "      <td>JUST IN: President Trump dedicates Presidents ...</td>\n",
       "      <td>[]</td>\n",
       "    </tr>\n",
       "    <tr>\n",
       "      <th>4</th>\n",
       "      <td>10_GOP</td>\n",
       "      <td>19,000 RESPECTING our National Anthem! #StandF...</td>\n",
       "      <td>[#StandForOurAnthem🇺🇸]</td>\n",
       "    </tr>\n",
       "  </tbody>\n",
       "</table>\n",
       "</div>"
      ],
      "text/plain": [
       "   author                                            content  \\\n",
       "0  10_GOP  \"We have a sitting Democrat US Senator on tria...   \n",
       "1  10_GOP  Marshawn Lynch arrives to game in anti-Trump s...   \n",
       "2  10_GOP  Daughter of fallen Navy Sailor delivers powerf...   \n",
       "3  10_GOP  JUST IN: President Trump dedicates Presidents ...   \n",
       "4  10_GOP  19,000 RESPECTING our National Anthem! #StandF...   \n",
       "\n",
       "                 hashtags  \n",
       "0                      []  \n",
       "1                      []  \n",
       "2           [#BoycottNFL]  \n",
       "3                      []  \n",
       "4  [#StandForOurAnthem🇺🇸]  "
      ]
     },
     "execution_count": 13,
     "metadata": {},
     "output_type": "execute_result"
    }
   ],
   "source": [
    "temp_df['hashtags'] = dfs['content'].str.findall(r'#.*?(?=\\s|$)')\n",
    "temp_df.head()"
   ]
  },
  {
   "cell_type": "markdown",
   "metadata": {},
   "source": [
    "## 'mentions' column"
   ]
  },
  {
   "cell_type": "markdown",
   "metadata": {},
   "source": [
    "- #### Collecting mentions from content"
   ]
  },
  {
   "cell_type": "code",
   "execution_count": 14,
   "metadata": {},
   "outputs": [
    {
     "name": "stderr",
     "output_type": "stream",
     "text": [
      "C:\\Users\\User\\anaconda3\\lib\\site-packages\\ipykernel_launcher.py:1: SettingWithCopyWarning: \n",
      "A value is trying to be set on a copy of a slice from a DataFrame.\n",
      "Try using .loc[row_indexer,col_indexer] = value instead\n",
      "\n",
      "See the caveats in the documentation: https://pandas.pydata.org/pandas-docs/stable/user_guide/indexing.html#returning-a-view-versus-a-copy\n",
      "  \"\"\"Entry point for launching an IPython kernel.\n"
     ]
    },
    {
     "data": {
      "text/html": [
       "<div>\n",
       "<style scoped>\n",
       "    .dataframe tbody tr th:only-of-type {\n",
       "        vertical-align: middle;\n",
       "    }\n",
       "\n",
       "    .dataframe tbody tr th {\n",
       "        vertical-align: top;\n",
       "    }\n",
       "\n",
       "    .dataframe thead th {\n",
       "        text-align: right;\n",
       "    }\n",
       "</style>\n",
       "<table border=\"1\" class=\"dataframe\">\n",
       "  <thead>\n",
       "    <tr style=\"text-align: right;\">\n",
       "      <th></th>\n",
       "      <th>author</th>\n",
       "      <th>content</th>\n",
       "      <th>hashtags</th>\n",
       "      <th>mentions</th>\n",
       "    </tr>\n",
       "  </thead>\n",
       "  <tbody>\n",
       "    <tr>\n",
       "      <th>0</th>\n",
       "      <td>10_GOP</td>\n",
       "      <td>\"We have a sitting Democrat US Senator on tria...</td>\n",
       "      <td>[]</td>\n",
       "      <td>[@nedryun]</td>\n",
       "    </tr>\n",
       "    <tr>\n",
       "      <th>1</th>\n",
       "      <td>10_GOP</td>\n",
       "      <td>Marshawn Lynch arrives to game in anti-Trump s...</td>\n",
       "      <td>[]</td>\n",
       "      <td>[]</td>\n",
       "    </tr>\n",
       "    <tr>\n",
       "      <th>2</th>\n",
       "      <td>10_GOP</td>\n",
       "      <td>Daughter of fallen Navy Sailor delivers powerf...</td>\n",
       "      <td>[#BoycottNFL]</td>\n",
       "      <td>[]</td>\n",
       "    </tr>\n",
       "    <tr>\n",
       "      <th>3</th>\n",
       "      <td>10_GOP</td>\n",
       "      <td>JUST IN: President Trump dedicates Presidents ...</td>\n",
       "      <td>[]</td>\n",
       "      <td>[]</td>\n",
       "    </tr>\n",
       "    <tr>\n",
       "      <th>4</th>\n",
       "      <td>10_GOP</td>\n",
       "      <td>19,000 RESPECTING our National Anthem! #StandF...</td>\n",
       "      <td>[#StandForOurAnthem🇺🇸]</td>\n",
       "      <td>[]</td>\n",
       "    </tr>\n",
       "  </tbody>\n",
       "</table>\n",
       "</div>"
      ],
      "text/plain": [
       "   author                                            content  \\\n",
       "0  10_GOP  \"We have a sitting Democrat US Senator on tria...   \n",
       "1  10_GOP  Marshawn Lynch arrives to game in anti-Trump s...   \n",
       "2  10_GOP  Daughter of fallen Navy Sailor delivers powerf...   \n",
       "3  10_GOP  JUST IN: President Trump dedicates Presidents ...   \n",
       "4  10_GOP  19,000 RESPECTING our National Anthem! #StandF...   \n",
       "\n",
       "                 hashtags    mentions  \n",
       "0                      []  [@nedryun]  \n",
       "1                      []          []  \n",
       "2           [#BoycottNFL]          []  \n",
       "3                      []          []  \n",
       "4  [#StandForOurAnthem🇺🇸]          []  "
      ]
     },
     "execution_count": 14,
     "metadata": {},
     "output_type": "execute_result"
    }
   ],
   "source": [
    "temp_df['mentions'] = dfs['content'].str.findall(r'@.*?(?=\\s|$)')\n",
    "temp_df.head()"
   ]
  },
  {
   "cell_type": "markdown",
   "metadata": {},
   "source": [
    "# Graph requirements\n",
    "\n",
    "- U2H\n",
    " + dictionary contains {'author' : list of all his unique hashtags}\n",
    " + List of unique authors\n",
    " + List of unique hashtags\n",
    " \n",
    "- U2M\n",
    " + dictionary contains {'author' : list of all his unique mentions}\n",
    " + List of unique authors\n",
    " + List of unique mentions"
   ]
  },
  {
   "cell_type": "markdown",
   "metadata": {},
   "source": [
    "## U2H"
   ]
  },
  {
   "cell_type": "markdown",
   "metadata": {},
   "source": [
    "#### - Creating dictionary contains {'author' : list of all his unique hashtags}"
   ]
  },
  {
   "cell_type": "code",
   "execution_count": 15,
   "metadata": {},
   "outputs": [
    {
     "name": "stderr",
     "output_type": "stream",
     "text": [
      "100%|█████████████████████████████████████████████████████████████████████| 2116866/2116866 [00:27<00:00, 77516.46it/s]\n"
     ]
    }
   ],
   "source": [
    "hashtags_dic = dict()\n",
    "for i in tqdm(range(temp_df.shape[0]), position=0):\n",
    "    hashtags_dic.setdefault(temp_df.iloc[i, 0], []).append(temp_df.iloc[i, 2])"
   ]
  },
  {
   "cell_type": "code",
   "execution_count": 16,
   "metadata": {},
   "outputs": [
    {
     "name": "stdout",
     "output_type": "stream",
     "text": [
      "author:  10_GOP\n",
      "\n",
      "hashtags:  [[], [], ['#BoycottNFL'], [], ['#StandForOurAnthem🇺🇸'], [], [], [], [], [], [], [], [], [], [], [], [], [], [], [], [], [], [], [], ['#HipHopAwards'], [], [], [], [], [], [], [], [], [], [], [], [], [], [], [], [], [], [], ['#Iran'], [], [], ['#MAGA'], [], [], [], ['#WomenBoycottTwitter'], [], [], [], [], [], [], [], [], [], [], ['#FakeNews'], [], [], [], [], ['#LasVegas'], ['#LasVegas.'], [], ['#LasVegasShooting'], [], ['#LasVegasStrong🇺🇸'], ['#LasVegasShooting'], [], [], ['#VegasStrong'], [], ['#VegasStrong'], ['#BoycottNFL'], ['#SanJuan', '#TakeAKnee'], [], ['#FakeNews'], [], [], [], [], ['#PRStrong'], [], [], [], [], [], [], [], [], [], [], [], [], [], [], [], ['#NFLBoycott', '#MAGA'], [], [], [], [], [], [], [], [], ['#IrmaHurricane2017'], ['#HurrcaneIrma'], [], ['#FightCensorship', '#FreeSpeech', '#LiberalAttack'], ['#HurricaneIrma', '#Irma', '#TampaReady', '#FLORIDAHURRICANE'], ['#Irma', '#IrmaHurricane2017'], [], ['#HurricaneIrma', '#HurrcaneIrma'], ['#FreeTennessee'], ['#FreeTennessee'], ['#60Minutes'], [], [], [], ['#IRMA'], ['#Irma', '#AfterIrma', '#TropicalStormIrma'], ['#AfterIrma', '#TropicalStormIrma'], [], [], [], ['#60Minutes'], ['#NeverForget', '#NeverForget911', '#September11th'], [], [], [], [], [], ['#FreeTennessee'], [], ['#WhatHappened'], [], [], [], [], [], [], [], [], [], [], [], ['#DACADeal'], [], [], [], ['#Berkeley'], ['#BenAtBerkeley'], ['#BenAtBerkeley'], ['#BenAtBerkeley'], [], [], [], [], [], [], [], [], [], [], [], [], ['#Maddow'], [], [], [], [], ['#MOAR.'], ['#STLVerdict'], ['#STLVerdict'], [], ['#MOAR'], ['#MOAR.'], [], ['#STLVerdict'], ['#STLVerdict'], [], ['#STLVerdict'], ['#STLVerdict'], ['#STLVerdict'], [], [], [], ['#ConstitutionDay'], ['#ConstitutionDay'], [], [], [], ['#CrookedHillary'], [], ['#EMMY2017'], [], [], [], [], [], [], [], [], ['#Manafort'], [], [], [], [], ['#Manafort'], [], [], [], [], ['#Manafort'], [], [], ['#PrayForMexico'], ['#PrayForMexico'], [], ['#PrayForMexico'], [], [], [], [], [], [], [], [], [], [], ['#Manafort'], [], [], [], [], [], [], [], [], [], [], [], [\"#AmericaFirst'\"], [], [], [], [], [], [], [\"#MAGA'\"], [], [], [], [], [], [], [], [], [], [], [], [], [], ['#Manafort'], ['#TuesdayThoughts', '#dogs', '#JJNonPoliticalTweet'], [], [], [], [], [], [], [], [], [], [], [], [], [], [], ['#dotard'], [], [], [], [], [], [], [], [], ['#HerpesHillary'], [], [], [], ['#ColinKaepernick:'], [], [], [], [], [], ['#WeStand', '#NRA'], ['#FakeNews'], [], [], [], ['#CNNisFakeNews'], [], [\"#MAGA'\"], ['#TaxReform.'], [], [], ['#BoycottNFL'], [], [], [], [], [], [], [], [], [], ['#TeamScalise'], [], [], [], [], [], [], [], [], [], [], [], [], ['#FakeNews'], ['#FakeNews'], [], [], ['#FreeTennessee'], [], [], ['#FreeSpeech'], [], ['#FEMA'], ['#FreeSpeech', '#FreeTennessee'], [], [], [], [], [], [], ['#1A'], ['#1A'], [], [], ['#FreeTennessee'], [], [], ['#TrumpTrain'], [], [], ['#FreeSpeech'], ['#1A'], ['#IfIWerePresidentForOneDay', '#FreeTennessee'], ['#IfIWerePresidentForOneDay'], ['#IfIWerePresidentForOneDay'], [], ['#FreeTennessee']]\n",
      "\n",
      "# hashtags: 372\n"
     ]
    }
   ],
   "source": [
    "print(\"author: \", list(hashtags_dic.keys())[0])\n",
    "print(\"\\nhashtags: \", list(hashtags_dic.values())[0])\n",
    "print(\"\\n# hashtags:\", len(list(hashtags_dic.values())[0]))"
   ]
  },
  {
   "cell_type": "markdown",
   "metadata": {},
   "source": [
    "#### - Flatting the hashtags lists for each author"
   ]
  },
  {
   "cell_type": "code",
   "execution_count": 17,
   "metadata": {},
   "outputs": [],
   "source": [
    "for i, (k, v) in enumerate(hashtags_dic.items()):\n",
    "    hashtags_dic[k] = set([item for sublist in list(hashtags_dic.values())[i] for item in sublist])"
   ]
  },
  {
   "cell_type": "code",
   "execution_count": 18,
   "metadata": {},
   "outputs": [
    {
     "name": "stdout",
     "output_type": "stream",
     "text": [
      "author:  10_GOP\n",
      "\n",
      "hashtags:  {'#DACADeal', '#HurrcaneIrma', '#LasVegas', \"#MAGA'\", '#Irma', '#dotard', '#1A', '#Manafort', '#ConstitutionDay', '#IRMA', '#FakeNews', '#NeverForget911', '#FightCensorship', '#MOAR.', '#EMMY2017', '#NeverForget', '#60Minutes', '#ColinKaepernick:', '#FLORIDAHURRICANE', '#Maddow', '#BoycottNFL', '#PrayForMexico', '#JJNonPoliticalTweet', '#WeStand', '#September11th', '#dogs', '#HerpesHillary', '#VegasStrong', '#TaxReform.', \"#AmericaFirst'\", '#TeamScalise', '#SanJuan', '#Iran', '#NFLBoycott', '#CNNisFakeNews', '#TampaReady', '#NRA', '#FreeSpeech', '#Berkeley', '#WomenBoycottTwitter', '#AfterIrma', '#MOAR', '#TrumpTrain', '#TuesdayThoughts', '#WhatHappened', '#BenAtBerkeley', '#MAGA', '#HurricaneIrma', '#IrmaHurricane2017', '#LasVegas.', '#TropicalStormIrma', '#StandForOurAnthem🇺🇸', '#LasVegasStrong🇺🇸', '#PRStrong', '#LiberalAttack', '#FEMA', '#CrookedHillary', '#TakeAKnee', '#HipHopAwards', '#LasVegasShooting', '#IfIWerePresidentForOneDay', '#STLVerdict', '#FreeTennessee'}\n",
      "\n",
      "# hashtags: 63\n"
     ]
    }
   ],
   "source": [
    "print(\"author: \", list(hashtags_dic.keys())[0])\n",
    "print(\"\\nhashtags: \", list(hashtags_dic.values())[0])\n",
    "print(\"\\n# hashtags:\", len(list(hashtags_dic.values())[0]))"
   ]
  },
  {
   "cell_type": "markdown",
   "metadata": {},
   "source": [
    "#### - Creating a list with all unique hashtags"
   ]
  },
  {
   "cell_type": "code",
   "execution_count": 19,
   "metadata": {},
   "outputs": [],
   "source": [
    "hashtags_list = [item for sublist in list(temp_df['hashtags']) for item in sublist]"
   ]
  },
  {
   "cell_type": "code",
   "execution_count": 20,
   "metadata": {},
   "outputs": [
    {
     "name": "stdout",
     "output_type": "stream",
     "text": [
      "1457604\n",
      "110097\n"
     ]
    }
   ],
   "source": [
    "print(len(hashtags_list))\n",
    "unique_hashtags_list = set(hashtags_list)\n",
    "print(len(unique_hashtags_list))"
   ]
  },
  {
   "cell_type": "markdown",
   "metadata": {},
   "source": [
    "## U2M"
   ]
  },
  {
   "cell_type": "markdown",
   "metadata": {},
   "source": [
    "#### - Creating dictionary contains {'author' : list of all his unique mentions}"
   ]
  },
  {
   "cell_type": "code",
   "execution_count": 21,
   "metadata": {
    "scrolled": true
   },
   "outputs": [
    {
     "name": "stderr",
     "output_type": "stream",
     "text": [
      "100%|█████████████████████████████████████████████████████████████████████| 2116866/2116866 [00:28<00:00, 75414.76it/s]\n"
     ]
    }
   ],
   "source": [
    "mentions_dic = dict()\n",
    "for i in tqdm(range(temp_df.shape[0]), position=0):\n",
    "    mentions_dic.setdefault(temp_df.iloc[i, 0], []).append(temp_df.iloc[i, 3])"
   ]
  },
  {
   "cell_type": "code",
   "execution_count": 22,
   "metadata": {},
   "outputs": [
    {
     "name": "stdout",
     "output_type": "stream",
     "text": [
      "author:  10_GOP\n",
      "\n",
      "hashtags:  [['@nedryun'], [], [], [], [], [], [], ['@SenatorMenendez', '@CarmenYulinCruz'], [], ['@CNN'], ['@CNN'], ['@thehill'], [], ['@MichelleObama,'], ['@MichelleObama,'], [], ['@FLOTUS!'], [], ['@Breaking911'], [], [], [], [], [], [], [], [], [], [], [], [], ['@realDonaldTrump'], ['@realDonaldTrump', '@POTUS'], [], [], [], [], [], [], [], [], [], [], [], ['@Joy_Villa'], [], [], [], [], ['@Joy_Villa:'], [], [], [], ['@realDonaldTrump'], ['@realDonaldTrump'], ['@realDonaldTrump'], ['@realDonaldTrump'], ['@realDonaldTrump'], ['@realDonaldTrump'], ['@realDonaldTrump'], [], [], [], [], [], [], [], [], [], [], [], [], [], [], ['@Cernovich', '@KFILE'], [], [], [], [], [], [], [], [], ['@CNN'], [], ['@AP_Politics'], ['@POTUS', '@FLOTUS'], [], [], [], [], [], ['@PrisonPlanet'], ['@PrisonPlanet', '@GrrrGraphics,one'], [], [], [], [], [], [], [], [], [], [], ['@YouTube', '@TeamYouTube,'], ['@SteveScalise'], [], [], [], [], [], [], [], [], ['@10_gop'], [], [], ['@10_gop'], [], [], [], [], [], [], ['@10_gop'], [], [], [], [], ['@10_gop'], [], [], [], [], [], [], ['@SebGorka'], [], [], ['@LauraLoomer', '@HillaryClinton'], [], [], [], [], ['@SebGorka'], [], [], [], [], ['@JackPosobiec'], [], ['@realDonaldTrump'], [], [], [], [], ['@benshapiro'], [], [], [], [], [], ['@FoxNews', '@FLOTUS'], ['@NaeguNugu', '@TEN_GOP'], ['@jojoh888'], [], [], [], ['@5sahandful', '@TEN_GOP'], ['@realDonaldTrump'], ['@realDonaldTrump'], ['@realDonaldTrump'], [], [], [], [], [], [], [], [], ['@realDonaldTrump'], [], [], [], [], [], ['@SLMPD'], [], [], [], ['@Breaking911'], [], ['@exposes_racism'], [], [], [], ['@thehill'], [], ['@realDonaldTrump'], [], [], [], ['@JackPosobiec'], [], [], [], [], [], [], [], ['@ChaVonZee16'], ['@ChaVonZee16'], [], [], ['@brianstelter,'], [], [], [], [], [], [], [], [], [], [], [], [], [], [], [], [], [], [], [], [], [], [], ['@netanyahu'], [], ['@realDonaldTrump', '@UN'], ['@realDonaldTrump', '@UN'], ['@realDonaldTrump', '@UN'], [], ['@realDonaldTrump'], [], [], ['@realDonaldTrump'], ['@realDonaldTrump'], ['@realDonaldTrump'], ['@realDonaldTrump'], [], [], [], ['@realDonaldTrump'], ['@realDonaldTrump'], ['@realDonaldTrump'], ['@realDonaldTrump'], ['@realDonaldTrump'], ['@realDonaldTrump'], ['@realDonaldTrump'], [], [], [], ['@10_gop', '@realDonaldTrump'], ['@10_gop', '@realDonaldTrump'], ['@realDonaldTrump'], [], [], [], ['@brianstelter,'], [], ['@larryelder'], [], ['@Breaking911'], ['@realDonaldTrump'], [], [], [], [], [], [], [], [], [], [], [], [], [], [], ['@wahrbear'], [], [], [], [], [], [], [], [], [], [], [], [], [], [], ['@realDonaldTrump'], [], [], [], [], [], ['@realDonaldTrump'], ['@realDonaldTrump'], ['@realDonaldTrump'], [], ['@realDonaldTrump'], [], [], [], [], [], [], [], [], [], [], ['@SteveScalise!'], [], ['@realDonaldTrump', '@ShopFloorNAM'], [], [], [], [], ['@realDonaldTrump'], [], [], [], ['@RedPillBlack:'], ['@realDonaldTrump'], [], [], [], [], [], ['@10_gop.'], [], [], ['@10_gop'], [], [], [], ['@Marines4MAGA'], ['@Thewall77515902', '@TEN_GOP', '@ELEVEN_GOP', '@realTEN_GOP'], ['@umknicken'], [], [], [], [], [], ['@Roni_K_Patriot'], [], [], [], ['@10_gop', '@GIT_ER_DONE_USA', '@DonnaShelley2'], ['@tamaraleighllc', '@TEN_GOP', '@ELEVEN_GOP', '@realTEN_GOP'], [], [], [], [], [], [], [], []]\n",
      "\n",
      "# hashtags: 372\n"
     ]
    }
   ],
   "source": [
    "print(\"author: \", list(mentions_dic.keys())[0])\n",
    "print(\"\\nhashtags: \", list(mentions_dic.values())[0])\n",
    "print(\"\\n# hashtags:\", len(list(mentions_dic.values())[0]))"
   ]
  },
  {
   "cell_type": "markdown",
   "metadata": {},
   "source": [
    "#### - Flatting the mentions lists for each author"
   ]
  },
  {
   "cell_type": "code",
   "execution_count": 23,
   "metadata": {},
   "outputs": [],
   "source": [
    "for i, (k, v) in enumerate(mentions_dic.items()):\n",
    "    mentions_dic[k] = set([item for sublist in list(mentions_dic.values())[i] for item in sublist])"
   ]
  },
  {
   "cell_type": "code",
   "execution_count": 24,
   "metadata": {
    "scrolled": true
   },
   "outputs": [
    {
     "name": "stdout",
     "output_type": "stream",
     "text": [
      "author:  10_GOP\n",
      "\n",
      "hashtags:  {'@realTEN_GOP', '@KFILE', '@10_gop.', '@Joy_Villa:', '@FLOTUS', '@CNN', '@umknicken', '@tamaraleighllc', '@brianstelter,', '@realDonaldTrump', '@GrrrGraphics,one', '@nedryun', '@POTUS', '@SenatorMenendez', '@DonnaShelley2', '@FoxNews', '@RedPillBlack:', '@LauraLoomer', '@thehill', '@PrisonPlanet', '@Marines4MAGA', '@TEN_GOP', '@ShopFloorNAM', '@UN', '@JackPosobiec', '@5sahandful', '@Breaking911', '@Cernovich', '@MichelleObama,', '@10_gop', '@HillaryClinton', '@ChaVonZee16', '@netanyahu', '@SLMPD', '@CarmenYulinCruz', '@Thewall77515902', '@jojoh888', '@TeamYouTube,', '@SteveScalise!', '@FLOTUS!', '@Roni_K_Patriot', '@SebGorka', '@exposes_racism', '@benshapiro', '@Joy_Villa', '@SteveScalise', '@NaeguNugu', '@larryelder', '@YouTube', '@ELEVEN_GOP', '@AP_Politics', '@GIT_ER_DONE_USA', '@wahrbear'}\n",
      "\n",
      "# hashtags: 53\n"
     ]
    }
   ],
   "source": [
    "print(\"author: \", list(mentions_dic.keys())[0])\n",
    "print(\"\\nhashtags: \", list(mentions_dic.values())[0])\n",
    "print(\"\\n# hashtags:\", len(list(mentions_dic.values())[0]))"
   ]
  },
  {
   "cell_type": "markdown",
   "metadata": {},
   "source": [
    "#### - Creating a list with all unique mentions"
   ]
  },
  {
   "cell_type": "code",
   "execution_count": 25,
   "metadata": {},
   "outputs": [],
   "source": [
    "mentions_list = [item for sublist in list(temp_df['mentions']) for item in sublist]"
   ]
  },
  {
   "cell_type": "code",
   "execution_count": 26,
   "metadata": {},
   "outputs": [
    {
     "name": "stdout",
     "output_type": "stream",
     "text": [
      "1043278\n",
      "566628\n"
     ]
    }
   ],
   "source": [
    "print(len(mentions_list))\n",
    "unique_mentions_list = set(mentions_list)\n",
    "print(len(unique_mentions_list))"
   ]
  },
  {
   "cell_type": "markdown",
   "metadata": {},
   "source": [
    "# Contructing U2H and U2M graphs"
   ]
  },
  {
   "cell_type": "code",
   "execution_count": 27,
   "metadata": {},
   "outputs": [],
   "source": [
    "import networkx as nx\n",
    "U2H = nx.Graph()\n",
    "U2M = nx.Graph()"
   ]
  },
  {
   "cell_type": "markdown",
   "metadata": {},
   "source": [
    "### Adding nodes"
   ]
  },
  {
   "cell_type": "markdown",
   "metadata": {},
   "source": [
    "#### -  'author' nodes"
   ]
  },
  {
   "cell_type": "code",
   "execution_count": 28,
   "metadata": {},
   "outputs": [
    {
     "ename": "NameError",
     "evalue": "name 'dic' is not defined",
     "output_type": "error",
     "traceback": [
      "\u001b[1;31m---------------------------------------------------------------------------\u001b[0m",
      "\u001b[1;31mNameError\u001b[0m                                 Traceback (most recent call last)",
      "\u001b[1;32m<ipython-input-28-e7f4981e4c56>\u001b[0m in \u001b[0;36m<module>\u001b[1;34m\u001b[0m\n\u001b[1;32m----> 1\u001b[1;33m \u001b[0mU2H\u001b[0m\u001b[1;33m.\u001b[0m\u001b[0madd_nodes_from\u001b[0m\u001b[1;33m(\u001b[0m\u001b[0mdic\u001b[0m\u001b[1;33m.\u001b[0m\u001b[0mkeys\u001b[0m\u001b[1;33m(\u001b[0m\u001b[1;33m)\u001b[0m\u001b[1;33m)\u001b[0m\u001b[1;33m\u001b[0m\u001b[1;33m\u001b[0m\u001b[0m\n\u001b[0m\u001b[0;32m      2\u001b[0m \u001b[0mU2M\u001b[0m\u001b[1;33m.\u001b[0m\u001b[0madd_nodes_from\u001b[0m\u001b[1;33m(\u001b[0m\u001b[0mdic\u001b[0m\u001b[1;33m.\u001b[0m\u001b[0mkeys\u001b[0m\u001b[1;33m(\u001b[0m\u001b[1;33m)\u001b[0m\u001b[1;33m)\u001b[0m\u001b[1;33m\u001b[0m\u001b[1;33m\u001b[0m\u001b[0m\n",
      "\u001b[1;31mNameError\u001b[0m: name 'dic' is not defined"
     ]
    }
   ],
   "source": [
    "U2H.add_nodes_from(dic.keys())\n",
    "U2M.add_nodes_from(dic.keys())"
   ]
  },
  {
   "cell_type": "markdown",
   "metadata": {},
   "source": [
    "#### - 'hashtags' and 'mentions' nodes"
   ]
  },
  {
   "cell_type": "code",
   "execution_count": null,
   "metadata": {},
   "outputs": [],
   "source": [
    "U2H.add_nodes_from(unique_hashtags_list)\n",
    "U2M.add_nodes_from(unique_hashtags_list)"
   ]
  },
  {
   "cell_type": "markdown",
   "metadata": {},
   "source": [
    "### Creating edges"
   ]
  },
  {
   "cell_type": "markdown",
   "metadata": {},
   "source": [
    "#### - U2H edges"
   ]
  },
  {
   "cell_type": "code",
   "execution_count": null,
   "metadata": {},
   "outputs": [],
   "source": [
    "for i, (k, v) in enumerate(dic.items()):\n",
    "    for h in v:\n",
    "        U2H.add_edge(k, h)"
   ]
  },
  {
   "cell_type": "markdown",
   "metadata": {},
   "source": [
    "#### - U2M edges"
   ]
  },
  {
   "cell_type": "code",
   "execution_count": null,
   "metadata": {},
   "outputs": [],
   "source": [
    "for i, (k, v) in enumerate(mentions_dic.items()):\n",
    "    for h in v:\n",
    "        U2M.add_edge(k, h)"
   ]
  },
  {
   "cell_type": "markdown",
   "metadata": {},
   "source": [
    "# Fitting U2H and U2M graphs\n",
    "We give node2vec.Node2Vec a networkx.Graph instance, and after using .fit() (which accepts any parameter accepted by we get a gensim.models.Word2Vec) we get in return a gensim.models.Word2Vec instance."
   ]
  },
  {
   "cell_type": "markdown",
   "metadata": {},
   "source": [
    "## U2H"
   ]
  },
  {
   "cell_type": "markdown",
   "metadata": {},
   "source": [
    "### - Creating node2vec instance"
   ]
  },
  {
   "cell_type": "code",
   "execution_count": null,
   "metadata": {},
   "outputs": [],
   "source": [
    "# Generate walks\n",
    "node2vec = Node2Vec(G, dimensions=128, walk_length=10, num_walks=10)"
   ]
  },
  {
   "cell_type": "markdown",
   "metadata": {},
   "source": [
    "### - Fitting the model"
   ]
  },
  {
   "cell_type": "code",
   "execution_count": null,
   "metadata": {},
   "outputs": [],
   "source": [
    "# Learn embeddings \n",
    "model = node2vec.fit(window=10, min_count=1)"
   ]
  },
  {
   "cell_type": "markdown",
   "metadata": {},
   "source": [
    "### - Inspect the similarity"
   ]
  },
  {
   "cell_type": "code",
   "execution_count": null,
   "metadata": {},
   "outputs": [],
   "source": [
    "for node, _ in model.most_similar('#Palestinians'):\n",
    "    print(node)"
   ]
  },
  {
   "cell_type": "markdown",
   "metadata": {},
   "source": [
    "## U2M"
   ]
  },
  {
   "cell_type": "markdown",
   "metadata": {},
   "source": [
    "### - Creating node2vec instance"
   ]
  },
  {
   "cell_type": "code",
   "execution_count": null,
   "metadata": {},
   "outputs": [],
   "source": [
    "# Generate walks\n",
    "U2M_node2vec = Node2Vec(U2M, dimensions=128, walk_length=10, num_walks=10)"
   ]
  },
  {
   "cell_type": "markdown",
   "metadata": {},
   "source": [
    "### - Fitting the model"
   ]
  },
  {
   "cell_type": "code",
   "execution_count": null,
   "metadata": {},
   "outputs": [],
   "source": [
    "# Learn embeddings \n",
    "U2M_model = U2M_node2vec.fit(window=10, min_count=1)"
   ]
  },
  {
   "cell_type": "markdown",
   "metadata": {},
   "source": [
    "### - Inspect the similarity"
   ]
  },
  {
   "cell_type": "code",
   "execution_count": null,
   "metadata": {},
   "outputs": [],
   "source": [
    "for node, _ in U2M_model.most_similar('@TeamYouTube'):\n",
    "    print(node)"
   ]
  }
 ],
 "metadata": {
  "kernelspec": {
   "display_name": "Python 3",
   "language": "python",
   "name": "python3"
  },
  "language_info": {
   "codemirror_mode": {
    "name": "ipython",
    "version": 3
   },
   "file_extension": ".py",
   "mimetype": "text/x-python",
   "name": "python",
   "nbconvert_exporter": "python",
   "pygments_lexer": "ipython3",
   "version": "3.7.6"
  }
 },
 "nbformat": 4,
 "nbformat_minor": 4
}
